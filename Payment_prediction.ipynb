{
 "cells": [
  {
   "cell_type": "markdown",
   "id": "wcq6dWzy1ZR0",
   "metadata": {
    "id": "wcq6dWzy1ZR0"
   },
   "source": [
    "# Payment Date Prediction "
   ]
  },
  {
   "cell_type": "markdown",
   "id": "2778654e",
   "metadata": {
    "id": "2778654e"
   },
   "source": [
    "\n",
    "### Importing related Libraries "
   ]
  },
  {
   "cell_type": "code",
   "execution_count": 1,
   "id": "304c9e38",
   "metadata": {
    "id": "304c9e38"
   },
   "outputs": [],
   "source": [
    "import gc\n",
    "import math\n",
    "import PIL\n",
    "import seaborn as sns\n",
    "import xgboost as xgb\n",
    "import numpy as np\n",
    "import pandas as pd\n",
    "import datetime\n",
    "import random\n",
    "import warnings\n",
    "from scipy import stats\n",
    "from sklearn.linear_model import LinearRegression, Ridge, Lasso\n",
    "from sklearn.ensemble import RandomForestRegressor\n",
    "from sklearn.neighbors import KNeighborsRegressor\n",
    "from sklearn.tree import DecisionTreeRegressor\n",
    "import matplotlib.pyplot as plt\n",
    "%matplotlib inline \n",
    "from sklearn.utils import shuffle\n",
    "from sklearn.model_selection import train_test_split,GridSearchCV,cross_val_score,cross_val_predict,cross_validate,RandomizedSearchCV\n",
    "from sklearn.metrics import mean_squared_error,mean_absolute_error,explained_variance_score,max_error,r2_score,median_absolute_error,mean_squared_log_error\n",
    "from sklearn.feature_selection import VarianceThreshold,SelectKBest,f_regression\n",
    "from sklearn.preprocessing import MinMaxScaler,normalize,StandardScaler,RobustScaler\n",
    "from sklearn.preprocessing import OneHotEncoder,LabelEncoder\n",
    "from sklearn.decomposition import PCA\n",
    "import featuretools as ft\n",
    "from sklearn.svm import SVR\n",
    "from mlxtend.feature_selection import SequentialFeatureSelector, ExhaustiveFeatureSelector"
   ]
  },
  {
   "cell_type": "markdown",
   "id": "8724f5ee",
   "metadata": {
    "id": "8724f5ee"
   },
   "source": [
    "### Store the dataset into the Dataframe\n"
   ]
  },
  {
   "cell_type": "code",
   "execution_count": 2,
   "id": "415db50a",
   "metadata": {
    "id": "415db50a"
   },
   "outputs": [],
   "source": [
    "df=pd.read_csv('dataset.csv')"
   ]
  },
  {
   "cell_type": "markdown",
   "id": "42e37f05",
   "metadata": {
    "id": "42e37f05"
   },
   "source": [
    "### Check the shape of the dataframe\n"
   ]
  },
  {
   "cell_type": "code",
   "execution_count": 3,
   "id": "27cc0907",
   "metadata": {
    "id": "27cc0907"
   },
   "outputs": [
    {
     "data": {
      "text/plain": [
       "(50000, 19)"
      ]
     },
     "execution_count": 3,
     "metadata": {},
     "output_type": "execute_result"
    }
   ],
   "source": [
    "df.shape"
   ]
  },
  {
   "cell_type": "markdown",
   "id": "b68c955d",
   "metadata": {
    "id": "b68c955d"
   },
   "source": [
    "### Check the Detail information of the dataframe"
   ]
  },
  {
   "cell_type": "code",
   "execution_count": 4,
   "id": "e092ec9e",
   "metadata": {
    "id": "e092ec9e"
   },
   "outputs": [
    {
     "name": "stdout",
     "output_type": "stream",
     "text": [
      "<class 'pandas.core.frame.DataFrame'>\n",
      "RangeIndex: 50000 entries, 0 to 49999\n",
      "Data columns (total 19 columns):\n",
      " #   Column                  Non-Null Count  Dtype  \n",
      "---  ------                  --------------  -----  \n",
      " 0   business_code           50000 non-null  object \n",
      " 1   cust_number             50000 non-null  object \n",
      " 2   name_customer           50000 non-null  object \n",
      " 3   clear_date              40000 non-null  object \n",
      " 4   buisness_year           50000 non-null  float64\n",
      " 5   doc_id                  50000 non-null  float64\n",
      " 6   posting_date            50000 non-null  object \n",
      " 7   document_create_date    50000 non-null  int64  \n",
      " 8   document_create_date.1  50000 non-null  int64  \n",
      " 9   due_in_date             50000 non-null  float64\n",
      " 10  invoice_currency        50000 non-null  object \n",
      " 11  document type           50000 non-null  object \n",
      " 12  posting_id              50000 non-null  float64\n",
      " 13  area_business           0 non-null      float64\n",
      " 14  total_open_amount       50000 non-null  float64\n",
      " 15  baseline_create_date    50000 non-null  float64\n",
      " 16  cust_payment_terms      50000 non-null  object \n",
      " 17  invoice_id              49994 non-null  float64\n",
      " 18  isOpen                  50000 non-null  int64  \n",
      "dtypes: float64(8), int64(3), object(8)\n",
      "memory usage: 7.2+ MB\n"
     ]
    }
   ],
   "source": [
    "df.info()"
   ]
  },
  {
   "cell_type": "markdown",
   "id": "112f2d0e",
   "metadata": {
    "id": "112f2d0e"
   },
   "source": [
    "### Display All the column names"
   ]
  },
  {
   "cell_type": "code",
   "execution_count": 5,
   "id": "1416e2fd",
   "metadata": {
    "id": "1416e2fd"
   },
   "outputs": [
    {
     "data": {
      "text/plain": [
       "['business_code',\n",
       " 'cust_number',\n",
       " 'name_customer',\n",
       " 'clear_date',\n",
       " 'buisness_year',\n",
       " 'doc_id',\n",
       " 'posting_date',\n",
       " 'document_create_date',\n",
       " 'document_create_date.1',\n",
       " 'due_in_date',\n",
       " 'invoice_currency',\n",
       " 'document type',\n",
       " 'posting_id',\n",
       " 'area_business',\n",
       " 'total_open_amount',\n",
       " 'baseline_create_date',\n",
       " 'cust_payment_terms',\n",
       " 'invoice_id',\n",
       " 'isOpen']"
      ]
     },
     "execution_count": 5,
     "metadata": {},
     "output_type": "execute_result"
    }
   ],
   "source": [
    "list(df.columns)"
   ]
  },
  {
   "cell_type": "markdown",
   "id": "d465ed7a",
   "metadata": {
    "id": "d465ed7a"
   },
   "source": [
    "### Describe the entire dataset"
   ]
  },
  {
   "cell_type": "code",
   "execution_count": 6,
   "id": "25f65e1b",
   "metadata": {
    "id": "25f65e1b"
   },
   "outputs": [
    {
     "data": {
      "text/html": [
       "<div>\n",
       "<style scoped>\n",
       "    .dataframe tbody tr th:only-of-type {\n",
       "        vertical-align: middle;\n",
       "    }\n",
       "\n",
       "    .dataframe tbody tr th {\n",
       "        vertical-align: top;\n",
       "    }\n",
       "\n",
       "    .dataframe thead th {\n",
       "        text-align: right;\n",
       "    }\n",
       "</style>\n",
       "<table border=\"1\" class=\"dataframe\">\n",
       "  <thead>\n",
       "    <tr style=\"text-align: right;\">\n",
       "      <th></th>\n",
       "      <th>buisness_year</th>\n",
       "      <th>doc_id</th>\n",
       "      <th>document_create_date</th>\n",
       "      <th>document_create_date.1</th>\n",
       "      <th>due_in_date</th>\n",
       "      <th>posting_id</th>\n",
       "      <th>area_business</th>\n",
       "      <th>total_open_amount</th>\n",
       "      <th>baseline_create_date</th>\n",
       "      <th>invoice_id</th>\n",
       "      <th>isOpen</th>\n",
       "    </tr>\n",
       "  </thead>\n",
       "  <tbody>\n",
       "    <tr>\n",
       "      <th>count</th>\n",
       "      <td>50000.000000</td>\n",
       "      <td>5.000000e+04</td>\n",
       "      <td>5.000000e+04</td>\n",
       "      <td>5.000000e+04</td>\n",
       "      <td>5.000000e+04</td>\n",
       "      <td>50000.0</td>\n",
       "      <td>0.0</td>\n",
       "      <td>50000.000000</td>\n",
       "      <td>5.000000e+04</td>\n",
       "      <td>4.999400e+04</td>\n",
       "      <td>50000.000000</td>\n",
       "    </tr>\n",
       "    <tr>\n",
       "      <th>mean</th>\n",
       "      <td>2019.305700</td>\n",
       "      <td>2.012238e+09</td>\n",
       "      <td>2.019351e+07</td>\n",
       "      <td>2.019354e+07</td>\n",
       "      <td>2.019368e+07</td>\n",
       "      <td>1.0</td>\n",
       "      <td>NaN</td>\n",
       "      <td>32337.021651</td>\n",
       "      <td>2.019354e+07</td>\n",
       "      <td>2.011340e+09</td>\n",
       "      <td>0.200000</td>\n",
       "    </tr>\n",
       "    <tr>\n",
       "      <th>std</th>\n",
       "      <td>0.460708</td>\n",
       "      <td>2.885235e+08</td>\n",
       "      <td>4.496041e+03</td>\n",
       "      <td>4.482134e+03</td>\n",
       "      <td>4.470614e+03</td>\n",
       "      <td>0.0</td>\n",
       "      <td>NaN</td>\n",
       "      <td>39205.975231</td>\n",
       "      <td>4.482701e+03</td>\n",
       "      <td>2.766335e+08</td>\n",
       "      <td>0.400004</td>\n",
       "    </tr>\n",
       "    <tr>\n",
       "      <th>min</th>\n",
       "      <td>2019.000000</td>\n",
       "      <td>1.928502e+09</td>\n",
       "      <td>2.018123e+07</td>\n",
       "      <td>2.018123e+07</td>\n",
       "      <td>2.018122e+07</td>\n",
       "      <td>1.0</td>\n",
       "      <td>NaN</td>\n",
       "      <td>0.720000</td>\n",
       "      <td>2.018121e+07</td>\n",
       "      <td>1.928502e+09</td>\n",
       "      <td>0.000000</td>\n",
       "    </tr>\n",
       "    <tr>\n",
       "      <th>25%</th>\n",
       "      <td>2019.000000</td>\n",
       "      <td>1.929342e+09</td>\n",
       "      <td>2.019050e+07</td>\n",
       "      <td>2.019051e+07</td>\n",
       "      <td>2.019052e+07</td>\n",
       "      <td>1.0</td>\n",
       "      <td>NaN</td>\n",
       "      <td>4928.312500</td>\n",
       "      <td>2.019050e+07</td>\n",
       "      <td>1.929342e+09</td>\n",
       "      <td>0.000000</td>\n",
       "    </tr>\n",
       "    <tr>\n",
       "      <th>50%</th>\n",
       "      <td>2019.000000</td>\n",
       "      <td>1.929964e+09</td>\n",
       "      <td>2.019091e+07</td>\n",
       "      <td>2.019091e+07</td>\n",
       "      <td>2.019093e+07</td>\n",
       "      <td>1.0</td>\n",
       "      <td>NaN</td>\n",
       "      <td>17609.010000</td>\n",
       "      <td>2.019091e+07</td>\n",
       "      <td>1.929964e+09</td>\n",
       "      <td>0.000000</td>\n",
       "    </tr>\n",
       "    <tr>\n",
       "      <th>75%</th>\n",
       "      <td>2020.000000</td>\n",
       "      <td>1.930619e+09</td>\n",
       "      <td>2.020013e+07</td>\n",
       "      <td>2.020013e+07</td>\n",
       "      <td>2.020022e+07</td>\n",
       "      <td>1.0</td>\n",
       "      <td>NaN</td>\n",
       "      <td>47133.635000</td>\n",
       "      <td>2.020013e+07</td>\n",
       "      <td>1.930619e+09</td>\n",
       "      <td>0.000000</td>\n",
       "    </tr>\n",
       "    <tr>\n",
       "      <th>max</th>\n",
       "      <td>2020.000000</td>\n",
       "      <td>9.500000e+09</td>\n",
       "      <td>2.020052e+07</td>\n",
       "      <td>2.020052e+07</td>\n",
       "      <td>2.020071e+07</td>\n",
       "      <td>1.0</td>\n",
       "      <td>NaN</td>\n",
       "      <td>668593.360000</td>\n",
       "      <td>2.020052e+07</td>\n",
       "      <td>2.960636e+09</td>\n",
       "      <td>1.000000</td>\n",
       "    </tr>\n",
       "  </tbody>\n",
       "</table>\n",
       "</div>"
      ],
      "text/plain": [
       "       buisness_year        doc_id  document_create_date  \\\n",
       "count   50000.000000  5.000000e+04          5.000000e+04   \n",
       "mean     2019.305700  2.012238e+09          2.019351e+07   \n",
       "std         0.460708  2.885235e+08          4.496041e+03   \n",
       "min      2019.000000  1.928502e+09          2.018123e+07   \n",
       "25%      2019.000000  1.929342e+09          2.019050e+07   \n",
       "50%      2019.000000  1.929964e+09          2.019091e+07   \n",
       "75%      2020.000000  1.930619e+09          2.020013e+07   \n",
       "max      2020.000000  9.500000e+09          2.020052e+07   \n",
       "\n",
       "       document_create_date.1   due_in_date  posting_id  area_business  \\\n",
       "count            5.000000e+04  5.000000e+04     50000.0            0.0   \n",
       "mean             2.019354e+07  2.019368e+07         1.0            NaN   \n",
       "std              4.482134e+03  4.470614e+03         0.0            NaN   \n",
       "min              2.018123e+07  2.018122e+07         1.0            NaN   \n",
       "25%              2.019051e+07  2.019052e+07         1.0            NaN   \n",
       "50%              2.019091e+07  2.019093e+07         1.0            NaN   \n",
       "75%              2.020013e+07  2.020022e+07         1.0            NaN   \n",
       "max              2.020052e+07  2.020071e+07         1.0            NaN   \n",
       "\n",
       "       total_open_amount  baseline_create_date    invoice_id        isOpen  \n",
       "count       50000.000000          5.000000e+04  4.999400e+04  50000.000000  \n",
       "mean        32337.021651          2.019354e+07  2.011340e+09      0.200000  \n",
       "std         39205.975231          4.482701e+03  2.766335e+08      0.400004  \n",
       "min             0.720000          2.018121e+07  1.928502e+09      0.000000  \n",
       "25%          4928.312500          2.019050e+07  1.929342e+09      0.000000  \n",
       "50%         17609.010000          2.019091e+07  1.929964e+09      0.000000  \n",
       "75%         47133.635000          2.020013e+07  1.930619e+09      0.000000  \n",
       "max        668593.360000          2.020052e+07  2.960636e+09      1.000000  "
      ]
     },
     "execution_count": 6,
     "metadata": {},
     "output_type": "execute_result"
    }
   ],
   "source": [
    "df.describe()"
   ]
  },
  {
   "cell_type": "markdown",
   "id": "0f2c8d02",
   "metadata": {
    "id": "0f2c8d02"
   },
   "source": [
    "# Data Cleaning\n",
    "\n",
    "- Show top 5 records from the dataset"
   ]
  },
  {
   "cell_type": "code",
   "execution_count": 7,
   "id": "8f876212",
   "metadata": {
    "id": "8f876212"
   },
   "outputs": [
    {
     "data": {
      "text/html": [
       "<div>\n",
       "<style scoped>\n",
       "    .dataframe tbody tr th:only-of-type {\n",
       "        vertical-align: middle;\n",
       "    }\n",
       "\n",
       "    .dataframe tbody tr th {\n",
       "        vertical-align: top;\n",
       "    }\n",
       "\n",
       "    .dataframe thead th {\n",
       "        text-align: right;\n",
       "    }\n",
       "</style>\n",
       "<table border=\"1\" class=\"dataframe\">\n",
       "  <thead>\n",
       "    <tr style=\"text-align: right;\">\n",
       "      <th></th>\n",
       "      <th>business_code</th>\n",
       "      <th>cust_number</th>\n",
       "      <th>name_customer</th>\n",
       "      <th>clear_date</th>\n",
       "      <th>buisness_year</th>\n",
       "      <th>doc_id</th>\n",
       "      <th>posting_date</th>\n",
       "      <th>document_create_date</th>\n",
       "      <th>document_create_date.1</th>\n",
       "      <th>due_in_date</th>\n",
       "      <th>invoice_currency</th>\n",
       "      <th>document type</th>\n",
       "      <th>posting_id</th>\n",
       "      <th>area_business</th>\n",
       "      <th>total_open_amount</th>\n",
       "      <th>baseline_create_date</th>\n",
       "      <th>cust_payment_terms</th>\n",
       "      <th>invoice_id</th>\n",
       "      <th>isOpen</th>\n",
       "    </tr>\n",
       "  </thead>\n",
       "  <tbody>\n",
       "    <tr>\n",
       "      <th>0</th>\n",
       "      <td>U001</td>\n",
       "      <td>0200769623</td>\n",
       "      <td>WAL-MAR corp</td>\n",
       "      <td>2020-02-11 00:00:00</td>\n",
       "      <td>2020.0</td>\n",
       "      <td>1.930438e+09</td>\n",
       "      <td>2020-01-26</td>\n",
       "      <td>20200125</td>\n",
       "      <td>20200126</td>\n",
       "      <td>20200210.0</td>\n",
       "      <td>USD</td>\n",
       "      <td>RV</td>\n",
       "      <td>1.0</td>\n",
       "      <td>NaN</td>\n",
       "      <td>54273.28</td>\n",
       "      <td>20200126.0</td>\n",
       "      <td>NAH4</td>\n",
       "      <td>1.930438e+09</td>\n",
       "      <td>0</td>\n",
       "    </tr>\n",
       "    <tr>\n",
       "      <th>1</th>\n",
       "      <td>U001</td>\n",
       "      <td>0200980828</td>\n",
       "      <td>BEN E</td>\n",
       "      <td>2019-08-08 00:00:00</td>\n",
       "      <td>2019.0</td>\n",
       "      <td>1.929646e+09</td>\n",
       "      <td>2019-07-22</td>\n",
       "      <td>20190722</td>\n",
       "      <td>20190722</td>\n",
       "      <td>20190811.0</td>\n",
       "      <td>USD</td>\n",
       "      <td>RV</td>\n",
       "      <td>1.0</td>\n",
       "      <td>NaN</td>\n",
       "      <td>79656.60</td>\n",
       "      <td>20190722.0</td>\n",
       "      <td>NAD1</td>\n",
       "      <td>1.929646e+09</td>\n",
       "      <td>0</td>\n",
       "    </tr>\n",
       "    <tr>\n",
       "      <th>2</th>\n",
       "      <td>U001</td>\n",
       "      <td>0200792734</td>\n",
       "      <td>MDV/ trust</td>\n",
       "      <td>2019-12-30 00:00:00</td>\n",
       "      <td>2019.0</td>\n",
       "      <td>1.929874e+09</td>\n",
       "      <td>2019-09-14</td>\n",
       "      <td>20190914</td>\n",
       "      <td>20190914</td>\n",
       "      <td>20190929.0</td>\n",
       "      <td>USD</td>\n",
       "      <td>RV</td>\n",
       "      <td>1.0</td>\n",
       "      <td>NaN</td>\n",
       "      <td>2253.86</td>\n",
       "      <td>20190914.0</td>\n",
       "      <td>NAA8</td>\n",
       "      <td>1.929874e+09</td>\n",
       "      <td>0</td>\n",
       "    </tr>\n",
       "    <tr>\n",
       "      <th>3</th>\n",
       "      <td>CA02</td>\n",
       "      <td>0140105686</td>\n",
       "      <td>SYSC llc</td>\n",
       "      <td>NaN</td>\n",
       "      <td>2020.0</td>\n",
       "      <td>2.960623e+09</td>\n",
       "      <td>2020-03-30</td>\n",
       "      <td>20200330</td>\n",
       "      <td>20200330</td>\n",
       "      <td>20200410.0</td>\n",
       "      <td>CAD</td>\n",
       "      <td>RV</td>\n",
       "      <td>1.0</td>\n",
       "      <td>NaN</td>\n",
       "      <td>3299.70</td>\n",
       "      <td>20200331.0</td>\n",
       "      <td>CA10</td>\n",
       "      <td>2.960623e+09</td>\n",
       "      <td>1</td>\n",
       "    </tr>\n",
       "    <tr>\n",
       "      <th>4</th>\n",
       "      <td>U001</td>\n",
       "      <td>0200769623</td>\n",
       "      <td>WAL-MAR foundation</td>\n",
       "      <td>2019-11-25 00:00:00</td>\n",
       "      <td>2019.0</td>\n",
       "      <td>1.930148e+09</td>\n",
       "      <td>2019-11-13</td>\n",
       "      <td>20191113</td>\n",
       "      <td>20191113</td>\n",
       "      <td>20191128.0</td>\n",
       "      <td>USD</td>\n",
       "      <td>RV</td>\n",
       "      <td>1.0</td>\n",
       "      <td>NaN</td>\n",
       "      <td>33133.29</td>\n",
       "      <td>20191113.0</td>\n",
       "      <td>NAH4</td>\n",
       "      <td>1.930148e+09</td>\n",
       "      <td>0</td>\n",
       "    </tr>\n",
       "  </tbody>\n",
       "</table>\n",
       "</div>"
      ],
      "text/plain": [
       "  business_code cust_number       name_customer           clear_date  \\\n",
       "0          U001  0200769623        WAL-MAR corp  2020-02-11 00:00:00   \n",
       "1          U001  0200980828              BEN E   2019-08-08 00:00:00   \n",
       "2          U001  0200792734          MDV/ trust  2019-12-30 00:00:00   \n",
       "3          CA02  0140105686            SYSC llc                  NaN   \n",
       "4          U001  0200769623  WAL-MAR foundation  2019-11-25 00:00:00   \n",
       "\n",
       "   buisness_year        doc_id posting_date  document_create_date  \\\n",
       "0         2020.0  1.930438e+09   2020-01-26              20200125   \n",
       "1         2019.0  1.929646e+09   2019-07-22              20190722   \n",
       "2         2019.0  1.929874e+09   2019-09-14              20190914   \n",
       "3         2020.0  2.960623e+09   2020-03-30              20200330   \n",
       "4         2019.0  1.930148e+09   2019-11-13              20191113   \n",
       "\n",
       "   document_create_date.1  due_in_date invoice_currency document type  \\\n",
       "0                20200126   20200210.0              USD            RV   \n",
       "1                20190722   20190811.0              USD            RV   \n",
       "2                20190914   20190929.0              USD            RV   \n",
       "3                20200330   20200410.0              CAD            RV   \n",
       "4                20191113   20191128.0              USD            RV   \n",
       "\n",
       "   posting_id  area_business  total_open_amount  baseline_create_date  \\\n",
       "0         1.0            NaN           54273.28            20200126.0   \n",
       "1         1.0            NaN           79656.60            20190722.0   \n",
       "2         1.0            NaN            2253.86            20190914.0   \n",
       "3         1.0            NaN            3299.70            20200331.0   \n",
       "4         1.0            NaN           33133.29            20191113.0   \n",
       "\n",
       "  cust_payment_terms    invoice_id  isOpen  \n",
       "0               NAH4  1.930438e+09       0  \n",
       "1               NAD1  1.929646e+09       0  \n",
       "2               NAA8  1.929874e+09       0  \n",
       "3               CA10  2.960623e+09       1  \n",
       "4               NAH4  1.930148e+09       0  "
      ]
     },
     "execution_count": 7,
     "metadata": {},
     "output_type": "execute_result"
    }
   ],
   "source": [
    "df.head(5)"
   ]
  },
  {
   "cell_type": "markdown",
   "id": "92b044e4",
   "metadata": {
    "id": "92b044e4"
   },
   "source": [
    "### Display the Null values percentage against every columns (compare to the total number of records)\n",
    "\n",
    "- Output expected : area_business - 100% null, clear_data = 20% null, invoice_id = 0.12% null"
   ]
  },
  {
   "cell_type": "code",
   "execution_count": 8,
   "id": "24c7b13d",
   "metadata": {
    "id": "24c7b13d"
   },
   "outputs": [
    {
     "data": {
      "text/html": [
       "<div>\n",
       "<style scoped>\n",
       "    .dataframe tbody tr th:only-of-type {\n",
       "        vertical-align: middle;\n",
       "    }\n",
       "\n",
       "    .dataframe tbody tr th {\n",
       "        vertical-align: top;\n",
       "    }\n",
       "\n",
       "    .dataframe thead th {\n",
       "        text-align: right;\n",
       "    }\n",
       "</style>\n",
       "<table border=\"1\" class=\"dataframe\">\n",
       "  <thead>\n",
       "    <tr style=\"text-align: right;\">\n",
       "      <th></th>\n",
       "      <th>Total</th>\n",
       "      <th>Percent</th>\n",
       "    </tr>\n",
       "  </thead>\n",
       "  <tbody>\n",
       "    <tr>\n",
       "      <th>area_business</th>\n",
       "      <td>50000</td>\n",
       "      <td>1.00000</td>\n",
       "    </tr>\n",
       "    <tr>\n",
       "      <th>clear_date</th>\n",
       "      <td>10000</td>\n",
       "      <td>0.20000</td>\n",
       "    </tr>\n",
       "    <tr>\n",
       "      <th>invoice_id</th>\n",
       "      <td>6</td>\n",
       "      <td>0.00012</td>\n",
       "    </tr>\n",
       "    <tr>\n",
       "      <th>business_code</th>\n",
       "      <td>0</td>\n",
       "      <td>0.00000</td>\n",
       "    </tr>\n",
       "    <tr>\n",
       "      <th>invoice_currency</th>\n",
       "      <td>0</td>\n",
       "      <td>0.00000</td>\n",
       "    </tr>\n",
       "    <tr>\n",
       "      <th>cust_payment_terms</th>\n",
       "      <td>0</td>\n",
       "      <td>0.00000</td>\n",
       "    </tr>\n",
       "    <tr>\n",
       "      <th>baseline_create_date</th>\n",
       "      <td>0</td>\n",
       "      <td>0.00000</td>\n",
       "    </tr>\n",
       "    <tr>\n",
       "      <th>total_open_amount</th>\n",
       "      <td>0</td>\n",
       "      <td>0.00000</td>\n",
       "    </tr>\n",
       "    <tr>\n",
       "      <th>posting_id</th>\n",
       "      <td>0</td>\n",
       "      <td>0.00000</td>\n",
       "    </tr>\n",
       "    <tr>\n",
       "      <th>document type</th>\n",
       "      <td>0</td>\n",
       "      <td>0.00000</td>\n",
       "    </tr>\n",
       "    <tr>\n",
       "      <th>due_in_date</th>\n",
       "      <td>0</td>\n",
       "      <td>0.00000</td>\n",
       "    </tr>\n",
       "    <tr>\n",
       "      <th>cust_number</th>\n",
       "      <td>0</td>\n",
       "      <td>0.00000</td>\n",
       "    </tr>\n",
       "    <tr>\n",
       "      <th>document_create_date.1</th>\n",
       "      <td>0</td>\n",
       "      <td>0.00000</td>\n",
       "    </tr>\n",
       "    <tr>\n",
       "      <th>document_create_date</th>\n",
       "      <td>0</td>\n",
       "      <td>0.00000</td>\n",
       "    </tr>\n",
       "    <tr>\n",
       "      <th>posting_date</th>\n",
       "      <td>0</td>\n",
       "      <td>0.00000</td>\n",
       "    </tr>\n",
       "    <tr>\n",
       "      <th>doc_id</th>\n",
       "      <td>0</td>\n",
       "      <td>0.00000</td>\n",
       "    </tr>\n",
       "    <tr>\n",
       "      <th>buisness_year</th>\n",
       "      <td>0</td>\n",
       "      <td>0.00000</td>\n",
       "    </tr>\n",
       "    <tr>\n",
       "      <th>name_customer</th>\n",
       "      <td>0</td>\n",
       "      <td>0.00000</td>\n",
       "    </tr>\n",
       "    <tr>\n",
       "      <th>isOpen</th>\n",
       "      <td>0</td>\n",
       "      <td>0.00000</td>\n",
       "    </tr>\n",
       "  </tbody>\n",
       "</table>\n",
       "</div>"
      ],
      "text/plain": [
       "                        Total  Percent\n",
       "area_business           50000  1.00000\n",
       "clear_date              10000  0.20000\n",
       "invoice_id                  6  0.00012\n",
       "business_code               0  0.00000\n",
       "invoice_currency            0  0.00000\n",
       "cust_payment_terms          0  0.00000\n",
       "baseline_create_date        0  0.00000\n",
       "total_open_amount           0  0.00000\n",
       "posting_id                  0  0.00000\n",
       "document type               0  0.00000\n",
       "due_in_date                 0  0.00000\n",
       "cust_number                 0  0.00000\n",
       "document_create_date.1      0  0.00000\n",
       "document_create_date        0  0.00000\n",
       "posting_date                0  0.00000\n",
       "doc_id                      0  0.00000\n",
       "buisness_year               0  0.00000\n",
       "name_customer               0  0.00000\n",
       "isOpen                      0  0.00000"
      ]
     },
     "execution_count": 8,
     "metadata": {},
     "output_type": "execute_result"
    }
   ],
   "source": [
    "total = df.isnull().sum().sort_values(ascending=False)\n",
    "percent = (df.isnull().sum()/df['isOpen'].count()).sort_values(ascending=False)\n",
    "missing_data = pd.concat([total, percent], axis=1, keys=['Total', 'Percent'])\n",
    "missing_data.head(20)"
   ]
  },
  {
   "cell_type": "markdown",
   "id": "2c46a98b",
   "metadata": {
    "id": "2c46a98b"
   },
   "source": [
    "### Display Invoice_id and Doc_Id\n",
    "\n",
    "- Note - Many of the would have same invoice_id and doc_id\n"
   ]
  },
  {
   "cell_type": "code",
   "execution_count": 9,
   "id": "038f24bb",
   "metadata": {
    "id": "038f24bb",
    "scrolled": true
   },
   "outputs": [
    {
     "data": {
      "text/html": [
       "<div>\n",
       "<style scoped>\n",
       "    .dataframe tbody tr th:only-of-type {\n",
       "        vertical-align: middle;\n",
       "    }\n",
       "\n",
       "    .dataframe tbody tr th {\n",
       "        vertical-align: top;\n",
       "    }\n",
       "\n",
       "    .dataframe thead th {\n",
       "        text-align: right;\n",
       "    }\n",
       "</style>\n",
       "<table border=\"1\" class=\"dataframe\">\n",
       "  <thead>\n",
       "    <tr style=\"text-align: right;\">\n",
       "      <th></th>\n",
       "      <th>invoice_id</th>\n",
       "      <th>doc_id</th>\n",
       "    </tr>\n",
       "  </thead>\n",
       "  <tbody>\n",
       "    <tr>\n",
       "      <th>0</th>\n",
       "      <td>1.930438e+09</td>\n",
       "      <td>1.930438e+09</td>\n",
       "    </tr>\n",
       "    <tr>\n",
       "      <th>1</th>\n",
       "      <td>1.929646e+09</td>\n",
       "      <td>1.929646e+09</td>\n",
       "    </tr>\n",
       "    <tr>\n",
       "      <th>2</th>\n",
       "      <td>1.929874e+09</td>\n",
       "      <td>1.929874e+09</td>\n",
       "    </tr>\n",
       "    <tr>\n",
       "      <th>3</th>\n",
       "      <td>2.960623e+09</td>\n",
       "      <td>2.960623e+09</td>\n",
       "    </tr>\n",
       "    <tr>\n",
       "      <th>4</th>\n",
       "      <td>1.930148e+09</td>\n",
       "      <td>1.930148e+09</td>\n",
       "    </tr>\n",
       "    <tr>\n",
       "      <th>5</th>\n",
       "      <td>2.960581e+09</td>\n",
       "      <td>2.960581e+09</td>\n",
       "    </tr>\n",
       "    <tr>\n",
       "      <th>6</th>\n",
       "      <td>1.930083e+09</td>\n",
       "      <td>1.930083e+09</td>\n",
       "    </tr>\n",
       "    <tr>\n",
       "      <th>7</th>\n",
       "      <td>1.930659e+09</td>\n",
       "      <td>1.930659e+09</td>\n",
       "    </tr>\n",
       "    <tr>\n",
       "      <th>8</th>\n",
       "      <td>1.929440e+09</td>\n",
       "      <td>1.929440e+09</td>\n",
       "    </tr>\n",
       "    <tr>\n",
       "      <th>9</th>\n",
       "      <td>1.928819e+09</td>\n",
       "      <td>1.928819e+09</td>\n",
       "    </tr>\n",
       "    <tr>\n",
       "      <th>10</th>\n",
       "      <td>1.930611e+09</td>\n",
       "      <td>1.930611e+09</td>\n",
       "    </tr>\n",
       "    <tr>\n",
       "      <th>11</th>\n",
       "      <td>1.928551e+09</td>\n",
       "      <td>1.928551e+09</td>\n",
       "    </tr>\n",
       "    <tr>\n",
       "      <th>12</th>\n",
       "      <td>1.929152e+09</td>\n",
       "      <td>1.929152e+09</td>\n",
       "    </tr>\n",
       "    <tr>\n",
       "      <th>13</th>\n",
       "      <td>1.930022e+09</td>\n",
       "      <td>1.930022e+09</td>\n",
       "    </tr>\n",
       "    <tr>\n",
       "      <th>14</th>\n",
       "      <td>1.930788e+09</td>\n",
       "      <td>1.930788e+09</td>\n",
       "    </tr>\n",
       "    <tr>\n",
       "      <th>15</th>\n",
       "      <td>1.930817e+09</td>\n",
       "      <td>1.930817e+09</td>\n",
       "    </tr>\n",
       "    <tr>\n",
       "      <th>16</th>\n",
       "      <td>1.930053e+09</td>\n",
       "      <td>1.930053e+09</td>\n",
       "    </tr>\n",
       "    <tr>\n",
       "      <th>17</th>\n",
       "      <td>1.930209e+09</td>\n",
       "      <td>1.930209e+09</td>\n",
       "    </tr>\n",
       "    <tr>\n",
       "      <th>18</th>\n",
       "      <td>1.930154e+09</td>\n",
       "      <td>1.930154e+09</td>\n",
       "    </tr>\n",
       "    <tr>\n",
       "      <th>19</th>\n",
       "      <td>1.930438e+09</td>\n",
       "      <td>1.930438e+09</td>\n",
       "    </tr>\n",
       "    <tr>\n",
       "      <th>20</th>\n",
       "      <td>1.991838e+09</td>\n",
       "      <td>1.991838e+09</td>\n",
       "    </tr>\n",
       "    <tr>\n",
       "      <th>21</th>\n",
       "      <td>1.929773e+09</td>\n",
       "      <td>1.929773e+09</td>\n",
       "    </tr>\n",
       "    <tr>\n",
       "      <th>22</th>\n",
       "      <td>1.930676e+09</td>\n",
       "      <td>1.930676e+09</td>\n",
       "    </tr>\n",
       "    <tr>\n",
       "      <th>23</th>\n",
       "      <td>1.929627e+09</td>\n",
       "      <td>1.929627e+09</td>\n",
       "    </tr>\n",
       "    <tr>\n",
       "      <th>24</th>\n",
       "      <td>1.930431e+09</td>\n",
       "      <td>1.930431e+09</td>\n",
       "    </tr>\n",
       "    <tr>\n",
       "      <th>25</th>\n",
       "      <td>2.960619e+09</td>\n",
       "      <td>2.960619e+09</td>\n",
       "    </tr>\n",
       "    <tr>\n",
       "      <th>26</th>\n",
       "      <td>1.928620e+09</td>\n",
       "      <td>1.928620e+09</td>\n",
       "    </tr>\n",
       "    <tr>\n",
       "      <th>27</th>\n",
       "      <td>1.930592e+09</td>\n",
       "      <td>1.930592e+09</td>\n",
       "    </tr>\n",
       "    <tr>\n",
       "      <th>28</th>\n",
       "      <td>1.929195e+09</td>\n",
       "      <td>1.929195e+09</td>\n",
       "    </tr>\n",
       "    <tr>\n",
       "      <th>29</th>\n",
       "      <td>2.960542e+09</td>\n",
       "      <td>2.960542e+09</td>\n",
       "    </tr>\n",
       "    <tr>\n",
       "      <th>30</th>\n",
       "      <td>1.929171e+09</td>\n",
       "      <td>1.929171e+09</td>\n",
       "    </tr>\n",
       "    <tr>\n",
       "      <th>31</th>\n",
       "      <td>1.929908e+09</td>\n",
       "      <td>1.929908e+09</td>\n",
       "    </tr>\n",
       "    <tr>\n",
       "      <th>32</th>\n",
       "      <td>1.929848e+09</td>\n",
       "      <td>1.929848e+09</td>\n",
       "    </tr>\n",
       "    <tr>\n",
       "      <th>33</th>\n",
       "      <td>1.929541e+09</td>\n",
       "      <td>1.929541e+09</td>\n",
       "    </tr>\n",
       "    <tr>\n",
       "      <th>34</th>\n",
       "      <td>1.929536e+09</td>\n",
       "      <td>1.929536e+09</td>\n",
       "    </tr>\n",
       "    <tr>\n",
       "      <th>35</th>\n",
       "      <td>1.930731e+09</td>\n",
       "      <td>1.930731e+09</td>\n",
       "    </tr>\n",
       "    <tr>\n",
       "      <th>36</th>\n",
       "      <td>1.928657e+09</td>\n",
       "      <td>1.928657e+09</td>\n",
       "    </tr>\n",
       "    <tr>\n",
       "      <th>37</th>\n",
       "      <td>1.930804e+09</td>\n",
       "      <td>1.930804e+09</td>\n",
       "    </tr>\n",
       "    <tr>\n",
       "      <th>38</th>\n",
       "      <td>1.929497e+09</td>\n",
       "      <td>1.929497e+09</td>\n",
       "    </tr>\n",
       "    <tr>\n",
       "      <th>39</th>\n",
       "      <td>1.929434e+09</td>\n",
       "      <td>1.929434e+09</td>\n",
       "    </tr>\n",
       "    <tr>\n",
       "      <th>40</th>\n",
       "      <td>1.930130e+09</td>\n",
       "      <td>1.930130e+09</td>\n",
       "    </tr>\n",
       "    <tr>\n",
       "      <th>41</th>\n",
       "      <td>1.930353e+09</td>\n",
       "      <td>1.930353e+09</td>\n",
       "    </tr>\n",
       "    <tr>\n",
       "      <th>42</th>\n",
       "      <td>1.930415e+09</td>\n",
       "      <td>1.930415e+09</td>\n",
       "    </tr>\n",
       "    <tr>\n",
       "      <th>43</th>\n",
       "      <td>1.930555e+09</td>\n",
       "      <td>1.930555e+09</td>\n",
       "    </tr>\n",
       "    <tr>\n",
       "      <th>44</th>\n",
       "      <td>2.960542e+09</td>\n",
       "      <td>2.960542e+09</td>\n",
       "    </tr>\n",
       "    <tr>\n",
       "      <th>45</th>\n",
       "      <td>1.930698e+09</td>\n",
       "      <td>1.930698e+09</td>\n",
       "    </tr>\n",
       "    <tr>\n",
       "      <th>46</th>\n",
       "      <td>1.929141e+09</td>\n",
       "      <td>1.929141e+09</td>\n",
       "    </tr>\n",
       "    <tr>\n",
       "      <th>47</th>\n",
       "      <td>1.929722e+09</td>\n",
       "      <td>1.929722e+09</td>\n",
       "    </tr>\n",
       "    <tr>\n",
       "      <th>48</th>\n",
       "      <td>1.930533e+09</td>\n",
       "      <td>1.930533e+09</td>\n",
       "    </tr>\n",
       "    <tr>\n",
       "      <th>49</th>\n",
       "      <td>1.928639e+09</td>\n",
       "      <td>1.928639e+09</td>\n",
       "    </tr>\n",
       "  </tbody>\n",
       "</table>\n",
       "</div>"
      ],
      "text/plain": [
       "      invoice_id        doc_id\n",
       "0   1.930438e+09  1.930438e+09\n",
       "1   1.929646e+09  1.929646e+09\n",
       "2   1.929874e+09  1.929874e+09\n",
       "3   2.960623e+09  2.960623e+09\n",
       "4   1.930148e+09  1.930148e+09\n",
       "5   2.960581e+09  2.960581e+09\n",
       "6   1.930083e+09  1.930083e+09\n",
       "7   1.930659e+09  1.930659e+09\n",
       "8   1.929440e+09  1.929440e+09\n",
       "9   1.928819e+09  1.928819e+09\n",
       "10  1.930611e+09  1.930611e+09\n",
       "11  1.928551e+09  1.928551e+09\n",
       "12  1.929152e+09  1.929152e+09\n",
       "13  1.930022e+09  1.930022e+09\n",
       "14  1.930788e+09  1.930788e+09\n",
       "15  1.930817e+09  1.930817e+09\n",
       "16  1.930053e+09  1.930053e+09\n",
       "17  1.930209e+09  1.930209e+09\n",
       "18  1.930154e+09  1.930154e+09\n",
       "19  1.930438e+09  1.930438e+09\n",
       "20  1.991838e+09  1.991838e+09\n",
       "21  1.929773e+09  1.929773e+09\n",
       "22  1.930676e+09  1.930676e+09\n",
       "23  1.929627e+09  1.929627e+09\n",
       "24  1.930431e+09  1.930431e+09\n",
       "25  2.960619e+09  2.960619e+09\n",
       "26  1.928620e+09  1.928620e+09\n",
       "27  1.930592e+09  1.930592e+09\n",
       "28  1.929195e+09  1.929195e+09\n",
       "29  2.960542e+09  2.960542e+09\n",
       "30  1.929171e+09  1.929171e+09\n",
       "31  1.929908e+09  1.929908e+09\n",
       "32  1.929848e+09  1.929848e+09\n",
       "33  1.929541e+09  1.929541e+09\n",
       "34  1.929536e+09  1.929536e+09\n",
       "35  1.930731e+09  1.930731e+09\n",
       "36  1.928657e+09  1.928657e+09\n",
       "37  1.930804e+09  1.930804e+09\n",
       "38  1.929497e+09  1.929497e+09\n",
       "39  1.929434e+09  1.929434e+09\n",
       "40  1.930130e+09  1.930130e+09\n",
       "41  1.930353e+09  1.930353e+09\n",
       "42  1.930415e+09  1.930415e+09\n",
       "43  1.930555e+09  1.930555e+09\n",
       "44  2.960542e+09  2.960542e+09\n",
       "45  1.930698e+09  1.930698e+09\n",
       "46  1.929141e+09  1.929141e+09\n",
       "47  1.929722e+09  1.929722e+09\n",
       "48  1.930533e+09  1.930533e+09\n",
       "49  1.928639e+09  1.928639e+09"
      ]
     },
     "execution_count": 9,
     "metadata": {},
     "output_type": "execute_result"
    }
   ],
   "source": [
    "df[['invoice_id','doc_id']].head(50)"
   ]
  },
  {
   "cell_type": "markdown",
   "id": "18cfe10a",
   "metadata": {
    "id": "18cfe10a"
   },
   "source": [
    "#### Write a code to check - 'baseline_create_date',\"document_create_date\",'document_create_date.1' - these columns are almost same.\n",
    "\n",
    "- Please note, if they are same, we need to drop them later\n",
    "\n"
   ]
  },
  {
   "cell_type": "code",
   "execution_count": 10,
   "id": "cf5b40ff",
   "metadata": {
    "id": "cf5b40ff"
   },
   "outputs": [
    {
     "data": {
      "text/html": [
       "<div>\n",
       "<style scoped>\n",
       "    .dataframe tbody tr th:only-of-type {\n",
       "        vertical-align: middle;\n",
       "    }\n",
       "\n",
       "    .dataframe tbody tr th {\n",
       "        vertical-align: top;\n",
       "    }\n",
       "\n",
       "    .dataframe thead th {\n",
       "        text-align: right;\n",
       "    }\n",
       "</style>\n",
       "<table border=\"1\" class=\"dataframe\">\n",
       "  <thead>\n",
       "    <tr style=\"text-align: right;\">\n",
       "      <th></th>\n",
       "      <th>business_code</th>\n",
       "      <th>cust_number</th>\n",
       "      <th>name_customer</th>\n",
       "      <th>clear_date</th>\n",
       "      <th>buisness_year</th>\n",
       "      <th>doc_id</th>\n",
       "      <th>posting_date</th>\n",
       "      <th>document_create_date</th>\n",
       "      <th>document_create_date.1</th>\n",
       "      <th>due_in_date</th>\n",
       "      <th>invoice_currency</th>\n",
       "      <th>document type</th>\n",
       "      <th>posting_id</th>\n",
       "      <th>area_business</th>\n",
       "      <th>total_open_amount</th>\n",
       "      <th>baseline_create_date</th>\n",
       "      <th>cust_payment_terms</th>\n",
       "      <th>invoice_id</th>\n",
       "      <th>isOpen</th>\n",
       "    </tr>\n",
       "  </thead>\n",
       "  <tbody>\n",
       "    <tr>\n",
       "      <th>1</th>\n",
       "      <td>U001</td>\n",
       "      <td>0200980828</td>\n",
       "      <td>BEN E</td>\n",
       "      <td>2019-08-08 00:00:00</td>\n",
       "      <td>2019.0</td>\n",
       "      <td>1.929646e+09</td>\n",
       "      <td>2019-07-22</td>\n",
       "      <td>20190722</td>\n",
       "      <td>20190722</td>\n",
       "      <td>20190811.0</td>\n",
       "      <td>USD</td>\n",
       "      <td>RV</td>\n",
       "      <td>1.0</td>\n",
       "      <td>NaN</td>\n",
       "      <td>79656.60</td>\n",
       "      <td>20190722.0</td>\n",
       "      <td>NAD1</td>\n",
       "      <td>1.929646e+09</td>\n",
       "      <td>0</td>\n",
       "    </tr>\n",
       "    <tr>\n",
       "      <th>2</th>\n",
       "      <td>U001</td>\n",
       "      <td>0200792734</td>\n",
       "      <td>MDV/ trust</td>\n",
       "      <td>2019-12-30 00:00:00</td>\n",
       "      <td>2019.0</td>\n",
       "      <td>1.929874e+09</td>\n",
       "      <td>2019-09-14</td>\n",
       "      <td>20190914</td>\n",
       "      <td>20190914</td>\n",
       "      <td>20190929.0</td>\n",
       "      <td>USD</td>\n",
       "      <td>RV</td>\n",
       "      <td>1.0</td>\n",
       "      <td>NaN</td>\n",
       "      <td>2253.86</td>\n",
       "      <td>20190914.0</td>\n",
       "      <td>NAA8</td>\n",
       "      <td>1.929874e+09</td>\n",
       "      <td>0</td>\n",
       "    </tr>\n",
       "    <tr>\n",
       "      <th>4</th>\n",
       "      <td>U001</td>\n",
       "      <td>0200769623</td>\n",
       "      <td>WAL-MAR foundation</td>\n",
       "      <td>2019-11-25 00:00:00</td>\n",
       "      <td>2019.0</td>\n",
       "      <td>1.930148e+09</td>\n",
       "      <td>2019-11-13</td>\n",
       "      <td>20191113</td>\n",
       "      <td>20191113</td>\n",
       "      <td>20191128.0</td>\n",
       "      <td>USD</td>\n",
       "      <td>RV</td>\n",
       "      <td>1.0</td>\n",
       "      <td>NaN</td>\n",
       "      <td>33133.29</td>\n",
       "      <td>20191113.0</td>\n",
       "      <td>NAH4</td>\n",
       "      <td>1.930148e+09</td>\n",
       "      <td>0</td>\n",
       "    </tr>\n",
       "    <tr>\n",
       "      <th>11</th>\n",
       "      <td>U001</td>\n",
       "      <td>0200743129</td>\n",
       "      <td>BROOKS co</td>\n",
       "      <td>2019-01-22 00:00:00</td>\n",
       "      <td>2019.0</td>\n",
       "      <td>1.928551e+09</td>\n",
       "      <td>2019-01-02</td>\n",
       "      <td>20190102</td>\n",
       "      <td>20190102</td>\n",
       "      <td>20190117.0</td>\n",
       "      <td>USD</td>\n",
       "      <td>RV</td>\n",
       "      <td>1.0</td>\n",
       "      <td>NaN</td>\n",
       "      <td>103147.37</td>\n",
       "      <td>20190102.0</td>\n",
       "      <td>NAA8</td>\n",
       "      <td>1.928551e+09</td>\n",
       "      <td>0</td>\n",
       "    </tr>\n",
       "    <tr>\n",
       "      <th>12</th>\n",
       "      <td>U001</td>\n",
       "      <td>0200186937</td>\n",
       "      <td>SYSC corporation</td>\n",
       "      <td>2019-05-06 00:00:00</td>\n",
       "      <td>2019.0</td>\n",
       "      <td>1.929152e+09</td>\n",
       "      <td>2019-04-15</td>\n",
       "      <td>20190415</td>\n",
       "      <td>20190415</td>\n",
       "      <td>20190430.0</td>\n",
       "      <td>USD</td>\n",
       "      <td>RV</td>\n",
       "      <td>1.0</td>\n",
       "      <td>NaN</td>\n",
       "      <td>16381.45</td>\n",
       "      <td>20190415.0</td>\n",
       "      <td>NAA8</td>\n",
       "      <td>1.929152e+09</td>\n",
       "      <td>0</td>\n",
       "    </tr>\n",
       "    <tr>\n",
       "      <th>...</th>\n",
       "      <td>...</td>\n",
       "      <td>...</td>\n",
       "      <td>...</td>\n",
       "      <td>...</td>\n",
       "      <td>...</td>\n",
       "      <td>...</td>\n",
       "      <td>...</td>\n",
       "      <td>...</td>\n",
       "      <td>...</td>\n",
       "      <td>...</td>\n",
       "      <td>...</td>\n",
       "      <td>...</td>\n",
       "      <td>...</td>\n",
       "      <td>...</td>\n",
       "      <td>...</td>\n",
       "      <td>...</td>\n",
       "      <td>...</td>\n",
       "      <td>...</td>\n",
       "      <td>...</td>\n",
       "    </tr>\n",
       "    <tr>\n",
       "      <th>49982</th>\n",
       "      <td>U001</td>\n",
       "      <td>0200148860</td>\n",
       "      <td>DOLLA co</td>\n",
       "      <td>NaN</td>\n",
       "      <td>2020.0</td>\n",
       "      <td>1.930638e+09</td>\n",
       "      <td>2020-03-11</td>\n",
       "      <td>20200311</td>\n",
       "      <td>20200311</td>\n",
       "      <td>20200326.0</td>\n",
       "      <td>USD</td>\n",
       "      <td>RV</td>\n",
       "      <td>1.0</td>\n",
       "      <td>NaN</td>\n",
       "      <td>4967.06</td>\n",
       "      <td>20200311.0</td>\n",
       "      <td>NAA8</td>\n",
       "      <td>1.930638e+09</td>\n",
       "      <td>1</td>\n",
       "    </tr>\n",
       "    <tr>\n",
       "      <th>49983</th>\n",
       "      <td>U001</td>\n",
       "      <td>0200793513</td>\n",
       "      <td>KROGER associates</td>\n",
       "      <td>2019-07-17 00:00:00</td>\n",
       "      <td>2019.0</td>\n",
       "      <td>1.929565e+09</td>\n",
       "      <td>2019-07-02</td>\n",
       "      <td>20190702</td>\n",
       "      <td>20190702</td>\n",
       "      <td>20190717.0</td>\n",
       "      <td>USD</td>\n",
       "      <td>RV</td>\n",
       "      <td>1.0</td>\n",
       "      <td>NaN</td>\n",
       "      <td>66128.25</td>\n",
       "      <td>20190702.0</td>\n",
       "      <td>NAA8</td>\n",
       "      <td>1.929565e+09</td>\n",
       "      <td>0</td>\n",
       "    </tr>\n",
       "    <tr>\n",
       "      <th>49990</th>\n",
       "      <td>U001</td>\n",
       "      <td>0200765011</td>\n",
       "      <td>MAINES llc</td>\n",
       "      <td>2019-06-06 00:00:00</td>\n",
       "      <td>2019.0</td>\n",
       "      <td>1.929365e+09</td>\n",
       "      <td>2019-05-22</td>\n",
       "      <td>20190522</td>\n",
       "      <td>20190522</td>\n",
       "      <td>20190606.0</td>\n",
       "      <td>USD</td>\n",
       "      <td>RV</td>\n",
       "      <td>1.0</td>\n",
       "      <td>NaN</td>\n",
       "      <td>4008.05</td>\n",
       "      <td>20190522.0</td>\n",
       "      <td>NAA8</td>\n",
       "      <td>1.929365e+09</td>\n",
       "      <td>0</td>\n",
       "    </tr>\n",
       "    <tr>\n",
       "      <th>49992</th>\n",
       "      <td>U001</td>\n",
       "      <td>0200900909</td>\n",
       "      <td>SYSCO co</td>\n",
       "      <td>NaN</td>\n",
       "      <td>2020.0</td>\n",
       "      <td>1.930702e+09</td>\n",
       "      <td>2020-03-25</td>\n",
       "      <td>20200325</td>\n",
       "      <td>20200325</td>\n",
       "      <td>20200409.0</td>\n",
       "      <td>USD</td>\n",
       "      <td>RV</td>\n",
       "      <td>1.0</td>\n",
       "      <td>NaN</td>\n",
       "      <td>1998.64</td>\n",
       "      <td>20200325.0</td>\n",
       "      <td>NAA8</td>\n",
       "      <td>1.930702e+09</td>\n",
       "      <td>1</td>\n",
       "    </tr>\n",
       "    <tr>\n",
       "      <th>49993</th>\n",
       "      <td>U001</td>\n",
       "      <td>0200726979</td>\n",
       "      <td>BJ'S</td>\n",
       "      <td>2020-03-25 00:00:00</td>\n",
       "      <td>2020.0</td>\n",
       "      <td>1.930378e+09</td>\n",
       "      <td>2020-01-08</td>\n",
       "      <td>20200108</td>\n",
       "      <td>20200108</td>\n",
       "      <td>20200123.0</td>\n",
       "      <td>USD</td>\n",
       "      <td>RV</td>\n",
       "      <td>1.0</td>\n",
       "      <td>NaN</td>\n",
       "      <td>31.62</td>\n",
       "      <td>20200108.0</td>\n",
       "      <td>NAA8</td>\n",
       "      <td>1.930378e+09</td>\n",
       "      <td>0</td>\n",
       "    </tr>\n",
       "  </tbody>\n",
       "</table>\n",
       "<p>15963 rows × 19 columns</p>\n",
       "</div>"
      ],
      "text/plain": [
       "      business_code cust_number       name_customer           clear_date  \\\n",
       "1              U001  0200980828              BEN E   2019-08-08 00:00:00   \n",
       "2              U001  0200792734          MDV/ trust  2019-12-30 00:00:00   \n",
       "4              U001  0200769623  WAL-MAR foundation  2019-11-25 00:00:00   \n",
       "11             U001  0200743129           BROOKS co  2019-01-22 00:00:00   \n",
       "12             U001  0200186937    SYSC corporation  2019-05-06 00:00:00   \n",
       "...             ...         ...                 ...                  ...   \n",
       "49982          U001  0200148860            DOLLA co                  NaN   \n",
       "49983          U001  0200793513   KROGER associates  2019-07-17 00:00:00   \n",
       "49990          U001  0200765011          MAINES llc  2019-06-06 00:00:00   \n",
       "49992          U001  0200900909            SYSCO co                  NaN   \n",
       "49993          U001  0200726979              BJ'S    2020-03-25 00:00:00   \n",
       "\n",
       "       buisness_year        doc_id posting_date  document_create_date  \\\n",
       "1             2019.0  1.929646e+09   2019-07-22              20190722   \n",
       "2             2019.0  1.929874e+09   2019-09-14              20190914   \n",
       "4             2019.0  1.930148e+09   2019-11-13              20191113   \n",
       "11            2019.0  1.928551e+09   2019-01-02              20190102   \n",
       "12            2019.0  1.929152e+09   2019-04-15              20190415   \n",
       "...              ...           ...          ...                   ...   \n",
       "49982         2020.0  1.930638e+09   2020-03-11              20200311   \n",
       "49983         2019.0  1.929565e+09   2019-07-02              20190702   \n",
       "49990         2019.0  1.929365e+09   2019-05-22              20190522   \n",
       "49992         2020.0  1.930702e+09   2020-03-25              20200325   \n",
       "49993         2020.0  1.930378e+09   2020-01-08              20200108   \n",
       "\n",
       "       document_create_date.1  due_in_date invoice_currency document type  \\\n",
       "1                    20190722   20190811.0              USD            RV   \n",
       "2                    20190914   20190929.0              USD            RV   \n",
       "4                    20191113   20191128.0              USD            RV   \n",
       "11                   20190102   20190117.0              USD            RV   \n",
       "12                   20190415   20190430.0              USD            RV   \n",
       "...                       ...          ...              ...           ...   \n",
       "49982                20200311   20200326.0              USD            RV   \n",
       "49983                20190702   20190717.0              USD            RV   \n",
       "49990                20190522   20190606.0              USD            RV   \n",
       "49992                20200325   20200409.0              USD            RV   \n",
       "49993                20200108   20200123.0              USD            RV   \n",
       "\n",
       "       posting_id  area_business  total_open_amount  baseline_create_date  \\\n",
       "1             1.0            NaN           79656.60            20190722.0   \n",
       "2             1.0            NaN            2253.86            20190914.0   \n",
       "4             1.0            NaN           33133.29            20191113.0   \n",
       "11            1.0            NaN          103147.37            20190102.0   \n",
       "12            1.0            NaN           16381.45            20190415.0   \n",
       "...           ...            ...                ...                   ...   \n",
       "49982         1.0            NaN            4967.06            20200311.0   \n",
       "49983         1.0            NaN           66128.25            20190702.0   \n",
       "49990         1.0            NaN            4008.05            20190522.0   \n",
       "49992         1.0            NaN            1998.64            20200325.0   \n",
       "49993         1.0            NaN              31.62            20200108.0   \n",
       "\n",
       "      cust_payment_terms    invoice_id  isOpen  \n",
       "1                   NAD1  1.929646e+09       0  \n",
       "2                   NAA8  1.929874e+09       0  \n",
       "4                   NAH4  1.930148e+09       0  \n",
       "11                  NAA8  1.928551e+09       0  \n",
       "12                  NAA8  1.929152e+09       0  \n",
       "...                  ...           ...     ...  \n",
       "49982               NAA8  1.930638e+09       1  \n",
       "49983               NAA8  1.929565e+09       0  \n",
       "49990               NAA8  1.929365e+09       0  \n",
       "49992               NAA8  1.930702e+09       1  \n",
       "49993               NAA8  1.930378e+09       0  \n",
       "\n",
       "[15963 rows x 19 columns]"
      ]
     },
     "execution_count": 10,
     "metadata": {},
     "output_type": "execute_result"
    }
   ],
   "source": [
    "df[df['baseline_create_date']==df['document_create_date']]"
   ]
  },
  {
   "cell_type": "code",
   "execution_count": 11,
   "id": "343d9294",
   "metadata": {},
   "outputs": [
    {
     "data": {
      "text/html": [
       "<div>\n",
       "<style scoped>\n",
       "    .dataframe tbody tr th:only-of-type {\n",
       "        vertical-align: middle;\n",
       "    }\n",
       "\n",
       "    .dataframe tbody tr th {\n",
       "        vertical-align: top;\n",
       "    }\n",
       "\n",
       "    .dataframe thead th {\n",
       "        text-align: right;\n",
       "    }\n",
       "</style>\n",
       "<table border=\"1\" class=\"dataframe\">\n",
       "  <thead>\n",
       "    <tr style=\"text-align: right;\">\n",
       "      <th></th>\n",
       "      <th>business_code</th>\n",
       "      <th>cust_number</th>\n",
       "      <th>name_customer</th>\n",
       "      <th>clear_date</th>\n",
       "      <th>buisness_year</th>\n",
       "      <th>doc_id</th>\n",
       "      <th>posting_date</th>\n",
       "      <th>document_create_date</th>\n",
       "      <th>document_create_date.1</th>\n",
       "      <th>due_in_date</th>\n",
       "      <th>invoice_currency</th>\n",
       "      <th>document type</th>\n",
       "      <th>posting_id</th>\n",
       "      <th>area_business</th>\n",
       "      <th>total_open_amount</th>\n",
       "      <th>baseline_create_date</th>\n",
       "      <th>cust_payment_terms</th>\n",
       "      <th>invoice_id</th>\n",
       "      <th>isOpen</th>\n",
       "    </tr>\n",
       "  </thead>\n",
       "  <tbody>\n",
       "    <tr>\n",
       "      <th>1</th>\n",
       "      <td>U001</td>\n",
       "      <td>0200980828</td>\n",
       "      <td>BEN E</td>\n",
       "      <td>2019-08-08 00:00:00</td>\n",
       "      <td>2019.0</td>\n",
       "      <td>1.929646e+09</td>\n",
       "      <td>2019-07-22</td>\n",
       "      <td>20190722</td>\n",
       "      <td>20190722</td>\n",
       "      <td>20190811.0</td>\n",
       "      <td>USD</td>\n",
       "      <td>RV</td>\n",
       "      <td>1.0</td>\n",
       "      <td>NaN</td>\n",
       "      <td>79656.60</td>\n",
       "      <td>20190722.0</td>\n",
       "      <td>NAD1</td>\n",
       "      <td>1.929646e+09</td>\n",
       "      <td>0</td>\n",
       "    </tr>\n",
       "    <tr>\n",
       "      <th>2</th>\n",
       "      <td>U001</td>\n",
       "      <td>0200792734</td>\n",
       "      <td>MDV/ trust</td>\n",
       "      <td>2019-12-30 00:00:00</td>\n",
       "      <td>2019.0</td>\n",
       "      <td>1.929874e+09</td>\n",
       "      <td>2019-09-14</td>\n",
       "      <td>20190914</td>\n",
       "      <td>20190914</td>\n",
       "      <td>20190929.0</td>\n",
       "      <td>USD</td>\n",
       "      <td>RV</td>\n",
       "      <td>1.0</td>\n",
       "      <td>NaN</td>\n",
       "      <td>2253.86</td>\n",
       "      <td>20190914.0</td>\n",
       "      <td>NAA8</td>\n",
       "      <td>1.929874e+09</td>\n",
       "      <td>0</td>\n",
       "    </tr>\n",
       "    <tr>\n",
       "      <th>3</th>\n",
       "      <td>CA02</td>\n",
       "      <td>0140105686</td>\n",
       "      <td>SYSC llc</td>\n",
       "      <td>NaN</td>\n",
       "      <td>2020.0</td>\n",
       "      <td>2.960623e+09</td>\n",
       "      <td>2020-03-30</td>\n",
       "      <td>20200330</td>\n",
       "      <td>20200330</td>\n",
       "      <td>20200410.0</td>\n",
       "      <td>CAD</td>\n",
       "      <td>RV</td>\n",
       "      <td>1.0</td>\n",
       "      <td>NaN</td>\n",
       "      <td>3299.70</td>\n",
       "      <td>20200331.0</td>\n",
       "      <td>CA10</td>\n",
       "      <td>2.960623e+09</td>\n",
       "      <td>1</td>\n",
       "    </tr>\n",
       "    <tr>\n",
       "      <th>4</th>\n",
       "      <td>U001</td>\n",
       "      <td>0200769623</td>\n",
       "      <td>WAL-MAR foundation</td>\n",
       "      <td>2019-11-25 00:00:00</td>\n",
       "      <td>2019.0</td>\n",
       "      <td>1.930148e+09</td>\n",
       "      <td>2019-11-13</td>\n",
       "      <td>20191113</td>\n",
       "      <td>20191113</td>\n",
       "      <td>20191128.0</td>\n",
       "      <td>USD</td>\n",
       "      <td>RV</td>\n",
       "      <td>1.0</td>\n",
       "      <td>NaN</td>\n",
       "      <td>33133.29</td>\n",
       "      <td>20191113.0</td>\n",
       "      <td>NAH4</td>\n",
       "      <td>1.930148e+09</td>\n",
       "      <td>0</td>\n",
       "    </tr>\n",
       "    <tr>\n",
       "      <th>5</th>\n",
       "      <td>CA02</td>\n",
       "      <td>0140106181</td>\n",
       "      <td>THE  corporation</td>\n",
       "      <td>2019-12-04 00:00:00</td>\n",
       "      <td>2019.0</td>\n",
       "      <td>2.960581e+09</td>\n",
       "      <td>2019-09-20</td>\n",
       "      <td>20190920</td>\n",
       "      <td>20190920</td>\n",
       "      <td>20191004.0</td>\n",
       "      <td>CAD</td>\n",
       "      <td>RV</td>\n",
       "      <td>1.0</td>\n",
       "      <td>NaN</td>\n",
       "      <td>22225.84</td>\n",
       "      <td>20190924.0</td>\n",
       "      <td>CA10</td>\n",
       "      <td>2.960581e+09</td>\n",
       "      <td>0</td>\n",
       "    </tr>\n",
       "    <tr>\n",
       "      <th>...</th>\n",
       "      <td>...</td>\n",
       "      <td>...</td>\n",
       "      <td>...</td>\n",
       "      <td>...</td>\n",
       "      <td>...</td>\n",
       "      <td>...</td>\n",
       "      <td>...</td>\n",
       "      <td>...</td>\n",
       "      <td>...</td>\n",
       "      <td>...</td>\n",
       "      <td>...</td>\n",
       "      <td>...</td>\n",
       "      <td>...</td>\n",
       "      <td>...</td>\n",
       "      <td>...</td>\n",
       "      <td>...</td>\n",
       "      <td>...</td>\n",
       "      <td>...</td>\n",
       "      <td>...</td>\n",
       "    </tr>\n",
       "    <tr>\n",
       "      <th>49983</th>\n",
       "      <td>U001</td>\n",
       "      <td>0200793513</td>\n",
       "      <td>KROGER associates</td>\n",
       "      <td>2019-07-17 00:00:00</td>\n",
       "      <td>2019.0</td>\n",
       "      <td>1.929565e+09</td>\n",
       "      <td>2019-07-02</td>\n",
       "      <td>20190702</td>\n",
       "      <td>20190702</td>\n",
       "      <td>20190717.0</td>\n",
       "      <td>USD</td>\n",
       "      <td>RV</td>\n",
       "      <td>1.0</td>\n",
       "      <td>NaN</td>\n",
       "      <td>66128.25</td>\n",
       "      <td>20190702.0</td>\n",
       "      <td>NAA8</td>\n",
       "      <td>1.929565e+09</td>\n",
       "      <td>0</td>\n",
       "    </tr>\n",
       "    <tr>\n",
       "      <th>49990</th>\n",
       "      <td>U001</td>\n",
       "      <td>0200765011</td>\n",
       "      <td>MAINES llc</td>\n",
       "      <td>2019-06-06 00:00:00</td>\n",
       "      <td>2019.0</td>\n",
       "      <td>1.929365e+09</td>\n",
       "      <td>2019-05-22</td>\n",
       "      <td>20190522</td>\n",
       "      <td>20190522</td>\n",
       "      <td>20190606.0</td>\n",
       "      <td>USD</td>\n",
       "      <td>RV</td>\n",
       "      <td>1.0</td>\n",
       "      <td>NaN</td>\n",
       "      <td>4008.05</td>\n",
       "      <td>20190522.0</td>\n",
       "      <td>NAA8</td>\n",
       "      <td>1.929365e+09</td>\n",
       "      <td>0</td>\n",
       "    </tr>\n",
       "    <tr>\n",
       "      <th>49992</th>\n",
       "      <td>U001</td>\n",
       "      <td>0200900909</td>\n",
       "      <td>SYSCO co</td>\n",
       "      <td>NaN</td>\n",
       "      <td>2020.0</td>\n",
       "      <td>1.930702e+09</td>\n",
       "      <td>2020-03-25</td>\n",
       "      <td>20200325</td>\n",
       "      <td>20200325</td>\n",
       "      <td>20200409.0</td>\n",
       "      <td>USD</td>\n",
       "      <td>RV</td>\n",
       "      <td>1.0</td>\n",
       "      <td>NaN</td>\n",
       "      <td>1998.64</td>\n",
       "      <td>20200325.0</td>\n",
       "      <td>NAA8</td>\n",
       "      <td>1.930702e+09</td>\n",
       "      <td>1</td>\n",
       "    </tr>\n",
       "    <tr>\n",
       "      <th>49993</th>\n",
       "      <td>U001</td>\n",
       "      <td>0200726979</td>\n",
       "      <td>BJ'S</td>\n",
       "      <td>2020-03-25 00:00:00</td>\n",
       "      <td>2020.0</td>\n",
       "      <td>1.930378e+09</td>\n",
       "      <td>2020-01-08</td>\n",
       "      <td>20200108</td>\n",
       "      <td>20200108</td>\n",
       "      <td>20200123.0</td>\n",
       "      <td>USD</td>\n",
       "      <td>RV</td>\n",
       "      <td>1.0</td>\n",
       "      <td>NaN</td>\n",
       "      <td>31.62</td>\n",
       "      <td>20200108.0</td>\n",
       "      <td>NAA8</td>\n",
       "      <td>1.930378e+09</td>\n",
       "      <td>0</td>\n",
       "    </tr>\n",
       "    <tr>\n",
       "      <th>49999</th>\n",
       "      <td>U001</td>\n",
       "      <td>0200020431</td>\n",
       "      <td>DEC corp</td>\n",
       "      <td>2019-01-15 00:00:00</td>\n",
       "      <td>2019.0</td>\n",
       "      <td>1.928576e+09</td>\n",
       "      <td>2019-01-05</td>\n",
       "      <td>20190105</td>\n",
       "      <td>20190105</td>\n",
       "      <td>20190124.0</td>\n",
       "      <td>USD</td>\n",
       "      <td>RV</td>\n",
       "      <td>1.0</td>\n",
       "      <td>NaN</td>\n",
       "      <td>1790.30</td>\n",
       "      <td>20190101.0</td>\n",
       "      <td>NAM4</td>\n",
       "      <td>1.928576e+09</td>\n",
       "      <td>0</td>\n",
       "    </tr>\n",
       "  </tbody>\n",
       "</table>\n",
       "<p>21232 rows × 19 columns</p>\n",
       "</div>"
      ],
      "text/plain": [
       "      business_code cust_number       name_customer           clear_date  \\\n",
       "1              U001  0200980828              BEN E   2019-08-08 00:00:00   \n",
       "2              U001  0200792734          MDV/ trust  2019-12-30 00:00:00   \n",
       "3              CA02  0140105686            SYSC llc                  NaN   \n",
       "4              U001  0200769623  WAL-MAR foundation  2019-11-25 00:00:00   \n",
       "5              CA02  0140106181    THE  corporation  2019-12-04 00:00:00   \n",
       "...             ...         ...                 ...                  ...   \n",
       "49983          U001  0200793513   KROGER associates  2019-07-17 00:00:00   \n",
       "49990          U001  0200765011          MAINES llc  2019-06-06 00:00:00   \n",
       "49992          U001  0200900909            SYSCO co                  NaN   \n",
       "49993          U001  0200726979              BJ'S    2020-03-25 00:00:00   \n",
       "49999          U001  0200020431            DEC corp  2019-01-15 00:00:00   \n",
       "\n",
       "       buisness_year        doc_id posting_date  document_create_date  \\\n",
       "1             2019.0  1.929646e+09   2019-07-22              20190722   \n",
       "2             2019.0  1.929874e+09   2019-09-14              20190914   \n",
       "3             2020.0  2.960623e+09   2020-03-30              20200330   \n",
       "4             2019.0  1.930148e+09   2019-11-13              20191113   \n",
       "5             2019.0  2.960581e+09   2019-09-20              20190920   \n",
       "...              ...           ...          ...                   ...   \n",
       "49983         2019.0  1.929565e+09   2019-07-02              20190702   \n",
       "49990         2019.0  1.929365e+09   2019-05-22              20190522   \n",
       "49992         2020.0  1.930702e+09   2020-03-25              20200325   \n",
       "49993         2020.0  1.930378e+09   2020-01-08              20200108   \n",
       "49999         2019.0  1.928576e+09   2019-01-05              20190105   \n",
       "\n",
       "       document_create_date.1  due_in_date invoice_currency document type  \\\n",
       "1                    20190722   20190811.0              USD            RV   \n",
       "2                    20190914   20190929.0              USD            RV   \n",
       "3                    20200330   20200410.0              CAD            RV   \n",
       "4                    20191113   20191128.0              USD            RV   \n",
       "5                    20190920   20191004.0              CAD            RV   \n",
       "...                       ...          ...              ...           ...   \n",
       "49983                20190702   20190717.0              USD            RV   \n",
       "49990                20190522   20190606.0              USD            RV   \n",
       "49992                20200325   20200409.0              USD            RV   \n",
       "49993                20200108   20200123.0              USD            RV   \n",
       "49999                20190105   20190124.0              USD            RV   \n",
       "\n",
       "       posting_id  area_business  total_open_amount  baseline_create_date  \\\n",
       "1             1.0            NaN           79656.60            20190722.0   \n",
       "2             1.0            NaN            2253.86            20190914.0   \n",
       "3             1.0            NaN            3299.70            20200331.0   \n",
       "4             1.0            NaN           33133.29            20191113.0   \n",
       "5             1.0            NaN           22225.84            20190924.0   \n",
       "...           ...            ...                ...                   ...   \n",
       "49983         1.0            NaN           66128.25            20190702.0   \n",
       "49990         1.0            NaN            4008.05            20190522.0   \n",
       "49992         1.0            NaN            1998.64            20200325.0   \n",
       "49993         1.0            NaN              31.62            20200108.0   \n",
       "49999         1.0            NaN            1790.30            20190101.0   \n",
       "\n",
       "      cust_payment_terms    invoice_id  isOpen  \n",
       "1                   NAD1  1.929646e+09       0  \n",
       "2                   NAA8  1.929874e+09       0  \n",
       "3                   CA10  2.960623e+09       1  \n",
       "4                   NAH4  1.930148e+09       0  \n",
       "5                   CA10  2.960581e+09       0  \n",
       "...                  ...           ...     ...  \n",
       "49983               NAA8  1.929565e+09       0  \n",
       "49990               NAA8  1.929365e+09       0  \n",
       "49992               NAA8  1.930702e+09       1  \n",
       "49993               NAA8  1.930378e+09       0  \n",
       "49999               NAM4  1.928576e+09       0  \n",
       "\n",
       "[21232 rows x 19 columns]"
      ]
     },
     "execution_count": 11,
     "metadata": {},
     "output_type": "execute_result"
    }
   ],
   "source": [
    "df[df['document_create_date.1']==df['document_create_date']]"
   ]
  },
  {
   "cell_type": "code",
   "execution_count": 12,
   "id": "b28c025d",
   "metadata": {},
   "outputs": [
    {
     "data": {
      "text/html": [
       "<div>\n",
       "<style scoped>\n",
       "    .dataframe tbody tr th:only-of-type {\n",
       "        vertical-align: middle;\n",
       "    }\n",
       "\n",
       "    .dataframe tbody tr th {\n",
       "        vertical-align: top;\n",
       "    }\n",
       "\n",
       "    .dataframe thead th {\n",
       "        text-align: right;\n",
       "    }\n",
       "</style>\n",
       "<table border=\"1\" class=\"dataframe\">\n",
       "  <thead>\n",
       "    <tr style=\"text-align: right;\">\n",
       "      <th></th>\n",
       "      <th>business_code</th>\n",
       "      <th>cust_number</th>\n",
       "      <th>name_customer</th>\n",
       "      <th>clear_date</th>\n",
       "      <th>buisness_year</th>\n",
       "      <th>doc_id</th>\n",
       "      <th>posting_date</th>\n",
       "      <th>document_create_date</th>\n",
       "      <th>document_create_date.1</th>\n",
       "      <th>due_in_date</th>\n",
       "      <th>invoice_currency</th>\n",
       "      <th>document type</th>\n",
       "      <th>posting_id</th>\n",
       "      <th>area_business</th>\n",
       "      <th>total_open_amount</th>\n",
       "      <th>baseline_create_date</th>\n",
       "      <th>cust_payment_terms</th>\n",
       "      <th>invoice_id</th>\n",
       "      <th>isOpen</th>\n",
       "    </tr>\n",
       "  </thead>\n",
       "  <tbody>\n",
       "    <tr>\n",
       "      <th>0</th>\n",
       "      <td>U001</td>\n",
       "      <td>0200769623</td>\n",
       "      <td>WAL-MAR corp</td>\n",
       "      <td>2020-02-11 00:00:00</td>\n",
       "      <td>2020.0</td>\n",
       "      <td>1.930438e+09</td>\n",
       "      <td>2020-01-26</td>\n",
       "      <td>20200125</td>\n",
       "      <td>20200126</td>\n",
       "      <td>20200210.0</td>\n",
       "      <td>USD</td>\n",
       "      <td>RV</td>\n",
       "      <td>1.0</td>\n",
       "      <td>NaN</td>\n",
       "      <td>54273.28</td>\n",
       "      <td>20200126.0</td>\n",
       "      <td>NAH4</td>\n",
       "      <td>1.930438e+09</td>\n",
       "      <td>0</td>\n",
       "    </tr>\n",
       "    <tr>\n",
       "      <th>1</th>\n",
       "      <td>U001</td>\n",
       "      <td>0200980828</td>\n",
       "      <td>BEN E</td>\n",
       "      <td>2019-08-08 00:00:00</td>\n",
       "      <td>2019.0</td>\n",
       "      <td>1.929646e+09</td>\n",
       "      <td>2019-07-22</td>\n",
       "      <td>20190722</td>\n",
       "      <td>20190722</td>\n",
       "      <td>20190811.0</td>\n",
       "      <td>USD</td>\n",
       "      <td>RV</td>\n",
       "      <td>1.0</td>\n",
       "      <td>NaN</td>\n",
       "      <td>79656.60</td>\n",
       "      <td>20190722.0</td>\n",
       "      <td>NAD1</td>\n",
       "      <td>1.929646e+09</td>\n",
       "      <td>0</td>\n",
       "    </tr>\n",
       "    <tr>\n",
       "      <th>2</th>\n",
       "      <td>U001</td>\n",
       "      <td>0200792734</td>\n",
       "      <td>MDV/ trust</td>\n",
       "      <td>2019-12-30 00:00:00</td>\n",
       "      <td>2019.0</td>\n",
       "      <td>1.929874e+09</td>\n",
       "      <td>2019-09-14</td>\n",
       "      <td>20190914</td>\n",
       "      <td>20190914</td>\n",
       "      <td>20190929.0</td>\n",
       "      <td>USD</td>\n",
       "      <td>RV</td>\n",
       "      <td>1.0</td>\n",
       "      <td>NaN</td>\n",
       "      <td>2253.86</td>\n",
       "      <td>20190914.0</td>\n",
       "      <td>NAA8</td>\n",
       "      <td>1.929874e+09</td>\n",
       "      <td>0</td>\n",
       "    </tr>\n",
       "    <tr>\n",
       "      <th>4</th>\n",
       "      <td>U001</td>\n",
       "      <td>0200769623</td>\n",
       "      <td>WAL-MAR foundation</td>\n",
       "      <td>2019-11-25 00:00:00</td>\n",
       "      <td>2019.0</td>\n",
       "      <td>1.930148e+09</td>\n",
       "      <td>2019-11-13</td>\n",
       "      <td>20191113</td>\n",
       "      <td>20191113</td>\n",
       "      <td>20191128.0</td>\n",
       "      <td>USD</td>\n",
       "      <td>RV</td>\n",
       "      <td>1.0</td>\n",
       "      <td>NaN</td>\n",
       "      <td>33133.29</td>\n",
       "      <td>20191113.0</td>\n",
       "      <td>NAH4</td>\n",
       "      <td>1.930148e+09</td>\n",
       "      <td>0</td>\n",
       "    </tr>\n",
       "    <tr>\n",
       "      <th>6</th>\n",
       "      <td>U001</td>\n",
       "      <td>0200769623</td>\n",
       "      <td>WAL-MAR in</td>\n",
       "      <td>2019-11-12 00:00:00</td>\n",
       "      <td>2019.0</td>\n",
       "      <td>1.930083e+09</td>\n",
       "      <td>2019-11-01</td>\n",
       "      <td>20191031</td>\n",
       "      <td>20191101</td>\n",
       "      <td>20191116.0</td>\n",
       "      <td>USD</td>\n",
       "      <td>RV</td>\n",
       "      <td>1.0</td>\n",
       "      <td>NaN</td>\n",
       "      <td>7358.49</td>\n",
       "      <td>20191101.0</td>\n",
       "      <td>NAH4</td>\n",
       "      <td>1.930083e+09</td>\n",
       "      <td>0</td>\n",
       "    </tr>\n",
       "    <tr>\n",
       "      <th>...</th>\n",
       "      <td>...</td>\n",
       "      <td>...</td>\n",
       "      <td>...</td>\n",
       "      <td>...</td>\n",
       "      <td>...</td>\n",
       "      <td>...</td>\n",
       "      <td>...</td>\n",
       "      <td>...</td>\n",
       "      <td>...</td>\n",
       "      <td>...</td>\n",
       "      <td>...</td>\n",
       "      <td>...</td>\n",
       "      <td>...</td>\n",
       "      <td>...</td>\n",
       "      <td>...</td>\n",
       "      <td>...</td>\n",
       "      <td>...</td>\n",
       "      <td>...</td>\n",
       "      <td>...</td>\n",
       "    </tr>\n",
       "    <tr>\n",
       "      <th>49994</th>\n",
       "      <td>U001</td>\n",
       "      <td>0200762301</td>\n",
       "      <td>C&amp;S WH trust</td>\n",
       "      <td>2019-07-25 00:00:00</td>\n",
       "      <td>2019.0</td>\n",
       "      <td>1.929601e+09</td>\n",
       "      <td>2019-07-10</td>\n",
       "      <td>20190709</td>\n",
       "      <td>20190710</td>\n",
       "      <td>20190725.0</td>\n",
       "      <td>USD</td>\n",
       "      <td>RV</td>\n",
       "      <td>1.0</td>\n",
       "      <td>NaN</td>\n",
       "      <td>84780.40</td>\n",
       "      <td>20190710.0</td>\n",
       "      <td>NAC6</td>\n",
       "      <td>1.929601e+09</td>\n",
       "      <td>0</td>\n",
       "    </tr>\n",
       "    <tr>\n",
       "      <th>49995</th>\n",
       "      <td>U001</td>\n",
       "      <td>0200561861</td>\n",
       "      <td>CO corporation</td>\n",
       "      <td>NaN</td>\n",
       "      <td>2020.0</td>\n",
       "      <td>1.930797e+09</td>\n",
       "      <td>2020-04-21</td>\n",
       "      <td>20200417</td>\n",
       "      <td>20200421</td>\n",
       "      <td>20200506.0</td>\n",
       "      <td>USD</td>\n",
       "      <td>RV</td>\n",
       "      <td>1.0</td>\n",
       "      <td>NaN</td>\n",
       "      <td>3187.86</td>\n",
       "      <td>20200421.0</td>\n",
       "      <td>NAA8</td>\n",
       "      <td>1.930797e+09</td>\n",
       "      <td>1</td>\n",
       "    </tr>\n",
       "    <tr>\n",
       "      <th>49996</th>\n",
       "      <td>U001</td>\n",
       "      <td>0200769623</td>\n",
       "      <td>WAL-MAR co</td>\n",
       "      <td>2019-09-03 00:00:00</td>\n",
       "      <td>2019.0</td>\n",
       "      <td>1.929744e+09</td>\n",
       "      <td>2019-08-15</td>\n",
       "      <td>20190814</td>\n",
       "      <td>20190815</td>\n",
       "      <td>20190830.0</td>\n",
       "      <td>USD</td>\n",
       "      <td>RV</td>\n",
       "      <td>1.0</td>\n",
       "      <td>NaN</td>\n",
       "      <td>6766.54</td>\n",
       "      <td>20190815.0</td>\n",
       "      <td>NAH4</td>\n",
       "      <td>1.929744e+09</td>\n",
       "      <td>0</td>\n",
       "    </tr>\n",
       "    <tr>\n",
       "      <th>49997</th>\n",
       "      <td>U001</td>\n",
       "      <td>0200772595</td>\n",
       "      <td>SAFEW associates</td>\n",
       "      <td>2020-03-05 00:00:00</td>\n",
       "      <td>2020.0</td>\n",
       "      <td>1.930537e+09</td>\n",
       "      <td>2020-02-19</td>\n",
       "      <td>20200218</td>\n",
       "      <td>20200219</td>\n",
       "      <td>20200305.0</td>\n",
       "      <td>USD</td>\n",
       "      <td>RV</td>\n",
       "      <td>1.0</td>\n",
       "      <td>NaN</td>\n",
       "      <td>6120.86</td>\n",
       "      <td>20200219.0</td>\n",
       "      <td>NAA8</td>\n",
       "      <td>1.930537e+09</td>\n",
       "      <td>0</td>\n",
       "    </tr>\n",
       "    <tr>\n",
       "      <th>49998</th>\n",
       "      <td>U001</td>\n",
       "      <td>0200726979</td>\n",
       "      <td>BJ'S  llc</td>\n",
       "      <td>2019-12-12 00:00:00</td>\n",
       "      <td>2019.0</td>\n",
       "      <td>1.930199e+09</td>\n",
       "      <td>2019-11-27</td>\n",
       "      <td>20191126</td>\n",
       "      <td>20191127</td>\n",
       "      <td>20191212.0</td>\n",
       "      <td>USD</td>\n",
       "      <td>RV</td>\n",
       "      <td>1.0</td>\n",
       "      <td>NaN</td>\n",
       "      <td>63.48</td>\n",
       "      <td>20191127.0</td>\n",
       "      <td>NAA8</td>\n",
       "      <td>1.930199e+09</td>\n",
       "      <td>0</td>\n",
       "    </tr>\n",
       "  </tbody>\n",
       "</table>\n",
       "<p>44452 rows × 19 columns</p>\n",
       "</div>"
      ],
      "text/plain": [
       "      business_code cust_number       name_customer           clear_date  \\\n",
       "0              U001  0200769623        WAL-MAR corp  2020-02-11 00:00:00   \n",
       "1              U001  0200980828              BEN E   2019-08-08 00:00:00   \n",
       "2              U001  0200792734          MDV/ trust  2019-12-30 00:00:00   \n",
       "4              U001  0200769623  WAL-MAR foundation  2019-11-25 00:00:00   \n",
       "6              U001  0200769623          WAL-MAR in  2019-11-12 00:00:00   \n",
       "...             ...         ...                 ...                  ...   \n",
       "49994          U001  0200762301        C&S WH trust  2019-07-25 00:00:00   \n",
       "49995          U001  0200561861      CO corporation                  NaN   \n",
       "49996          U001  0200769623          WAL-MAR co  2019-09-03 00:00:00   \n",
       "49997          U001  0200772595    SAFEW associates  2020-03-05 00:00:00   \n",
       "49998          U001  0200726979           BJ'S  llc  2019-12-12 00:00:00   \n",
       "\n",
       "       buisness_year        doc_id posting_date  document_create_date  \\\n",
       "0             2020.0  1.930438e+09   2020-01-26              20200125   \n",
       "1             2019.0  1.929646e+09   2019-07-22              20190722   \n",
       "2             2019.0  1.929874e+09   2019-09-14              20190914   \n",
       "4             2019.0  1.930148e+09   2019-11-13              20191113   \n",
       "6             2019.0  1.930083e+09   2019-11-01              20191031   \n",
       "...              ...           ...          ...                   ...   \n",
       "49994         2019.0  1.929601e+09   2019-07-10              20190709   \n",
       "49995         2020.0  1.930797e+09   2020-04-21              20200417   \n",
       "49996         2019.0  1.929744e+09   2019-08-15              20190814   \n",
       "49997         2020.0  1.930537e+09   2020-02-19              20200218   \n",
       "49998         2019.0  1.930199e+09   2019-11-27              20191126   \n",
       "\n",
       "       document_create_date.1  due_in_date invoice_currency document type  \\\n",
       "0                    20200126   20200210.0              USD            RV   \n",
       "1                    20190722   20190811.0              USD            RV   \n",
       "2                    20190914   20190929.0              USD            RV   \n",
       "4                    20191113   20191128.0              USD            RV   \n",
       "6                    20191101   20191116.0              USD            RV   \n",
       "...                       ...          ...              ...           ...   \n",
       "49994                20190710   20190725.0              USD            RV   \n",
       "49995                20200421   20200506.0              USD            RV   \n",
       "49996                20190815   20190830.0              USD            RV   \n",
       "49997                20200219   20200305.0              USD            RV   \n",
       "49998                20191127   20191212.0              USD            RV   \n",
       "\n",
       "       posting_id  area_business  total_open_amount  baseline_create_date  \\\n",
       "0             1.0            NaN           54273.28            20200126.0   \n",
       "1             1.0            NaN           79656.60            20190722.0   \n",
       "2             1.0            NaN            2253.86            20190914.0   \n",
       "4             1.0            NaN           33133.29            20191113.0   \n",
       "6             1.0            NaN            7358.49            20191101.0   \n",
       "...           ...            ...                ...                   ...   \n",
       "49994         1.0            NaN           84780.40            20190710.0   \n",
       "49995         1.0            NaN            3187.86            20200421.0   \n",
       "49996         1.0            NaN            6766.54            20190815.0   \n",
       "49997         1.0            NaN            6120.86            20200219.0   \n",
       "49998         1.0            NaN              63.48            20191127.0   \n",
       "\n",
       "      cust_payment_terms    invoice_id  isOpen  \n",
       "0                   NAH4  1.930438e+09       0  \n",
       "1                   NAD1  1.929646e+09       0  \n",
       "2                   NAA8  1.929874e+09       0  \n",
       "4                   NAH4  1.930148e+09       0  \n",
       "6                   NAH4  1.930083e+09       0  \n",
       "...                  ...           ...     ...  \n",
       "49994               NAC6  1.929601e+09       0  \n",
       "49995               NAA8  1.930797e+09       1  \n",
       "49996               NAH4  1.929744e+09       0  \n",
       "49997               NAA8  1.930537e+09       0  \n",
       "49998               NAA8  1.930199e+09       0  \n",
       "\n",
       "[44452 rows x 19 columns]"
      ]
     },
     "execution_count": 12,
     "metadata": {},
     "output_type": "execute_result"
    }
   ],
   "source": [
    "df[df['document_create_date.1']==df['baseline_create_date']]"
   ]
  },
  {
   "cell_type": "markdown",
   "id": "33110576",
   "metadata": {
    "id": "33110576"
   },
   "source": [
    "#### Please check, Column 'posting_id' is constant columns or not\n"
   ]
  },
  {
   "cell_type": "code",
   "execution_count": 13,
   "id": "ecce2664",
   "metadata": {
    "id": "ecce2664"
   },
   "outputs": [
    {
     "data": {
      "text/plain": [
       "[1.0]"
      ]
     },
     "execution_count": 13,
     "metadata": {},
     "output_type": "execute_result"
    }
   ],
   "source": [
    "list(df['posting_id'].unique())"
   ]
  },
  {
   "cell_type": "markdown",
   "id": "e5fb8daf",
   "metadata": {
    "id": "e5fb8daf"
   },
   "source": [
    "#### Please check 'isOpen' is a constant column and relevant column for this project or not"
   ]
  },
  {
   "cell_type": "code",
   "execution_count": 14,
   "id": "8db9956b",
   "metadata": {
    "id": "8db9956b"
   },
   "outputs": [
    {
     "data": {
      "text/plain": [
       "[0, 1]"
      ]
     },
     "execution_count": 14,
     "metadata": {},
     "output_type": "execute_result"
    }
   ],
   "source": [
    "list(df['isOpen'].unique())"
   ]
  },
  {
   "cell_type": "markdown",
   "id": "45a11a62",
   "metadata": {
    "id": "45a11a62"
   },
   "source": [
    "### Write the code to drop all the following columns from the dataframe\n",
    "\n",
    "- 'area_business'\n",
    "- \"posting_id\"\n",
    "- \"invoice_id\"\n",
    "- \"document_create_date\"\n",
    "- \"isOpen\"\n",
    "- 'document type' \n",
    "- 'document_create_date.1"
   ]
  },
  {
   "cell_type": "code",
   "execution_count": 15,
   "id": "270d85d1",
   "metadata": {
    "id": "270d85d1"
   },
   "outputs": [],
   "source": [
    "\n",
    "df=df.drop(columns=['area_business',\"posting_id\",\"invoice_id\",\"document_create_date\",\"isOpen\",'document type','document_create_date.1'])"
   ]
  },
  {
   "cell_type": "markdown",
   "id": "K5LHAM2XVGnk",
   "metadata": {
    "id": "K5LHAM2XVGnk"
   },
   "source": [
    "### Please check from the dataframe whether all the columns are removed or not "
   ]
  },
  {
   "cell_type": "code",
   "execution_count": 16,
   "id": "ef3f7d2b",
   "metadata": {
    "id": "ef3f7d2b"
   },
   "outputs": [
    {
     "data": {
      "text/plain": [
       "['business_code',\n",
       " 'cust_number',\n",
       " 'name_customer',\n",
       " 'clear_date',\n",
       " 'buisness_year',\n",
       " 'doc_id',\n",
       " 'posting_date',\n",
       " 'due_in_date',\n",
       " 'invoice_currency',\n",
       " 'total_open_amount',\n",
       " 'baseline_create_date',\n",
       " 'cust_payment_terms']"
      ]
     },
     "execution_count": 16,
     "metadata": {},
     "output_type": "execute_result"
    }
   ],
   "source": [
    "list(df.columns)\n"
   ]
  },
  {
   "cell_type": "markdown",
   "id": "6bc052c7",
   "metadata": {
    "id": "6bc052c7"
   },
   "source": [
    "### Show all the Duplicate rows from the dataframe"
   ]
  },
  {
   "cell_type": "code",
   "execution_count": 17,
   "id": "1ae3c7e4",
   "metadata": {
    "id": "1ae3c7e4"
   },
   "outputs": [
    {
     "data": {
      "text/html": [
       "<div>\n",
       "<style scoped>\n",
       "    .dataframe tbody tr th:only-of-type {\n",
       "        vertical-align: middle;\n",
       "    }\n",
       "\n",
       "    .dataframe tbody tr th {\n",
       "        vertical-align: top;\n",
       "    }\n",
       "\n",
       "    .dataframe thead th {\n",
       "        text-align: right;\n",
       "    }\n",
       "</style>\n",
       "<table border=\"1\" class=\"dataframe\">\n",
       "  <thead>\n",
       "    <tr style=\"text-align: right;\">\n",
       "      <th></th>\n",
       "      <th>business_code</th>\n",
       "      <th>cust_number</th>\n",
       "      <th>name_customer</th>\n",
       "      <th>clear_date</th>\n",
       "      <th>buisness_year</th>\n",
       "      <th>doc_id</th>\n",
       "      <th>posting_date</th>\n",
       "      <th>due_in_date</th>\n",
       "      <th>invoice_currency</th>\n",
       "      <th>total_open_amount</th>\n",
       "      <th>baseline_create_date</th>\n",
       "      <th>cust_payment_terms</th>\n",
       "    </tr>\n",
       "  </thead>\n",
       "  <tbody>\n",
       "    <tr>\n",
       "      <th>1041</th>\n",
       "      <td>U001</td>\n",
       "      <td>0200769623</td>\n",
       "      <td>WAL-MAR in</td>\n",
       "      <td>2019-03-12 00:00:00</td>\n",
       "      <td>2019.0</td>\n",
       "      <td>1.928870e+09</td>\n",
       "      <td>2019-02-28</td>\n",
       "      <td>20190315.0</td>\n",
       "      <td>USD</td>\n",
       "      <td>19557.41</td>\n",
       "      <td>20190228.0</td>\n",
       "      <td>NAH4</td>\n",
       "    </tr>\n",
       "    <tr>\n",
       "      <th>2400</th>\n",
       "      <td>U001</td>\n",
       "      <td>0200769623</td>\n",
       "      <td>WAL-MAR trust</td>\n",
       "      <td>2019-08-28 00:00:00</td>\n",
       "      <td>2019.0</td>\n",
       "      <td>1.929758e+09</td>\n",
       "      <td>2019-08-18</td>\n",
       "      <td>20190902.0</td>\n",
       "      <td>USD</td>\n",
       "      <td>5600.41</td>\n",
       "      <td>20190818.0</td>\n",
       "      <td>NAH4</td>\n",
       "    </tr>\n",
       "    <tr>\n",
       "      <th>2584</th>\n",
       "      <td>U001</td>\n",
       "      <td>0200769623</td>\n",
       "      <td>WAL-MAR corporation</td>\n",
       "      <td>2019-12-16 00:00:00</td>\n",
       "      <td>2019.0</td>\n",
       "      <td>1.930217e+09</td>\n",
       "      <td>2019-12-04</td>\n",
       "      <td>20191219.0</td>\n",
       "      <td>USD</td>\n",
       "      <td>35352.17</td>\n",
       "      <td>20191204.0</td>\n",
       "      <td>NAH4</td>\n",
       "    </tr>\n",
       "    <tr>\n",
       "      <th>3755</th>\n",
       "      <td>U001</td>\n",
       "      <td>0200769623</td>\n",
       "      <td>WAL-MAR</td>\n",
       "      <td>2019-11-22 00:00:00</td>\n",
       "      <td>2019.0</td>\n",
       "      <td>1.930137e+09</td>\n",
       "      <td>2019-11-12</td>\n",
       "      <td>20191127.0</td>\n",
       "      <td>USD</td>\n",
       "      <td>2982.64</td>\n",
       "      <td>20191112.0</td>\n",
       "      <td>NAH4</td>\n",
       "    </tr>\n",
       "    <tr>\n",
       "      <th>3873</th>\n",
       "      <td>CA02</td>\n",
       "      <td>0140104409</td>\n",
       "      <td>LOB associates</td>\n",
       "      <td>NaN</td>\n",
       "      <td>2020.0</td>\n",
       "      <td>2.960629e+09</td>\n",
       "      <td>2020-04-14</td>\n",
       "      <td>20200425.0</td>\n",
       "      <td>CAD</td>\n",
       "      <td>82975.82</td>\n",
       "      <td>20200415.0</td>\n",
       "      <td>CA10</td>\n",
       "    </tr>\n",
       "    <tr>\n",
       "      <th>...</th>\n",
       "      <td>...</td>\n",
       "      <td>...</td>\n",
       "      <td>...</td>\n",
       "      <td>...</td>\n",
       "      <td>...</td>\n",
       "      <td>...</td>\n",
       "      <td>...</td>\n",
       "      <td>...</td>\n",
       "      <td>...</td>\n",
       "      <td>...</td>\n",
       "      <td>...</td>\n",
       "      <td>...</td>\n",
       "    </tr>\n",
       "    <tr>\n",
       "      <th>49928</th>\n",
       "      <td>U001</td>\n",
       "      <td>0200915438</td>\n",
       "      <td>GROC trust</td>\n",
       "      <td>2019-08-15 00:00:00</td>\n",
       "      <td>2019.0</td>\n",
       "      <td>1.929646e+09</td>\n",
       "      <td>2019-07-25</td>\n",
       "      <td>20190809.0</td>\n",
       "      <td>USD</td>\n",
       "      <td>6969.00</td>\n",
       "      <td>20190725.0</td>\n",
       "      <td>NAA8</td>\n",
       "    </tr>\n",
       "    <tr>\n",
       "      <th>49963</th>\n",
       "      <td>U001</td>\n",
       "      <td>0200759878</td>\n",
       "      <td>SA us</td>\n",
       "      <td>2019-01-29 00:00:00</td>\n",
       "      <td>2019.0</td>\n",
       "      <td>1.928614e+09</td>\n",
       "      <td>2019-01-13</td>\n",
       "      <td>20190128.0</td>\n",
       "      <td>USD</td>\n",
       "      <td>10968.24</td>\n",
       "      <td>20190113.0</td>\n",
       "      <td>NAH4</td>\n",
       "    </tr>\n",
       "    <tr>\n",
       "      <th>49986</th>\n",
       "      <td>U001</td>\n",
       "      <td>0200772670</td>\n",
       "      <td>ASSOCIAT foundation</td>\n",
       "      <td>2019-06-12 00:00:00</td>\n",
       "      <td>2019.0</td>\n",
       "      <td>1.929403e+09</td>\n",
       "      <td>2019-05-29</td>\n",
       "      <td>20190613.0</td>\n",
       "      <td>USD</td>\n",
       "      <td>155837.53</td>\n",
       "      <td>20190529.0</td>\n",
       "      <td>NAU5</td>\n",
       "    </tr>\n",
       "    <tr>\n",
       "      <th>49990</th>\n",
       "      <td>U001</td>\n",
       "      <td>0200765011</td>\n",
       "      <td>MAINES llc</td>\n",
       "      <td>2019-06-06 00:00:00</td>\n",
       "      <td>2019.0</td>\n",
       "      <td>1.929365e+09</td>\n",
       "      <td>2019-05-22</td>\n",
       "      <td>20190606.0</td>\n",
       "      <td>USD</td>\n",
       "      <td>4008.05</td>\n",
       "      <td>20190522.0</td>\n",
       "      <td>NAA8</td>\n",
       "    </tr>\n",
       "    <tr>\n",
       "      <th>49991</th>\n",
       "      <td>U001</td>\n",
       "      <td>0200704045</td>\n",
       "      <td>RA trust</td>\n",
       "      <td>2019-10-25 00:00:00</td>\n",
       "      <td>2019.0</td>\n",
       "      <td>1.930001e+09</td>\n",
       "      <td>2019-10-10</td>\n",
       "      <td>20191025.0</td>\n",
       "      <td>USD</td>\n",
       "      <td>73002.24</td>\n",
       "      <td>20191010.0</td>\n",
       "      <td>NAA8</td>\n",
       "    </tr>\n",
       "  </tbody>\n",
       "</table>\n",
       "<p>1161 rows × 12 columns</p>\n",
       "</div>"
      ],
      "text/plain": [
       "      business_code cust_number        name_customer           clear_date  \\\n",
       "1041           U001  0200769623           WAL-MAR in  2019-03-12 00:00:00   \n",
       "2400           U001  0200769623        WAL-MAR trust  2019-08-28 00:00:00   \n",
       "2584           U001  0200769623  WAL-MAR corporation  2019-12-16 00:00:00   \n",
       "3755           U001  0200769623             WAL-MAR   2019-11-22 00:00:00   \n",
       "3873           CA02  0140104409       LOB associates                  NaN   \n",
       "...             ...         ...                  ...                  ...   \n",
       "49928          U001  0200915438           GROC trust  2019-08-15 00:00:00   \n",
       "49963          U001  0200759878                SA us  2019-01-29 00:00:00   \n",
       "49986          U001  0200772670  ASSOCIAT foundation  2019-06-12 00:00:00   \n",
       "49990          U001  0200765011           MAINES llc  2019-06-06 00:00:00   \n",
       "49991          U001  0200704045             RA trust  2019-10-25 00:00:00   \n",
       "\n",
       "       buisness_year        doc_id posting_date  due_in_date invoice_currency  \\\n",
       "1041          2019.0  1.928870e+09   2019-02-28   20190315.0              USD   \n",
       "2400          2019.0  1.929758e+09   2019-08-18   20190902.0              USD   \n",
       "2584          2019.0  1.930217e+09   2019-12-04   20191219.0              USD   \n",
       "3755          2019.0  1.930137e+09   2019-11-12   20191127.0              USD   \n",
       "3873          2020.0  2.960629e+09   2020-04-14   20200425.0              CAD   \n",
       "...              ...           ...          ...          ...              ...   \n",
       "49928         2019.0  1.929646e+09   2019-07-25   20190809.0              USD   \n",
       "49963         2019.0  1.928614e+09   2019-01-13   20190128.0              USD   \n",
       "49986         2019.0  1.929403e+09   2019-05-29   20190613.0              USD   \n",
       "49990         2019.0  1.929365e+09   2019-05-22   20190606.0              USD   \n",
       "49991         2019.0  1.930001e+09   2019-10-10   20191025.0              USD   \n",
       "\n",
       "       total_open_amount  baseline_create_date cust_payment_terms  \n",
       "1041            19557.41            20190228.0               NAH4  \n",
       "2400             5600.41            20190818.0               NAH4  \n",
       "2584            35352.17            20191204.0               NAH4  \n",
       "3755             2982.64            20191112.0               NAH4  \n",
       "3873            82975.82            20200415.0               CA10  \n",
       "...                  ...                   ...                ...  \n",
       "49928            6969.00            20190725.0               NAA8  \n",
       "49963           10968.24            20190113.0               NAH4  \n",
       "49986          155837.53            20190529.0               NAU5  \n",
       "49990            4008.05            20190522.0               NAA8  \n",
       "49991           73002.24            20191010.0               NAA8  \n",
       "\n",
       "[1161 rows x 12 columns]"
      ]
     },
     "execution_count": 17,
     "metadata": {},
     "output_type": "execute_result"
    }
   ],
   "source": [
    "duplicate=df.duplicated()\n",
    "df[duplicate]"
   ]
  },
  {
   "cell_type": "markdown",
   "id": "464fab09",
   "metadata": {
    "id": "464fab09"
   },
   "source": [
    "### Display the Number of Duplicate Rows"
   ]
  },
  {
   "cell_type": "code",
   "execution_count": 18,
   "id": "b1ea2397",
   "metadata": {
    "id": "b1ea2397"
   },
   "outputs": [
    {
     "name": "stdout",
     "output_type": "stream",
     "text": [
      "1161\n"
     ]
    }
   ],
   "source": [
    "print(duplicate.sum())"
   ]
  },
  {
   "cell_type": "markdown",
   "id": "827a6718",
   "metadata": {
    "id": "827a6718"
   },
   "source": [
    "### Drop all the Duplicate Rows"
   ]
  },
  {
   "cell_type": "code",
   "execution_count": 19,
   "id": "5d10151c",
   "metadata": {
    "id": "5d10151c"
   },
   "outputs": [],
   "source": [
    "df.drop_duplicates(inplace=True)"
   ]
  },
  {
   "cell_type": "markdown",
   "id": "7e5d1f9b",
   "metadata": {
    "id": "7e5d1f9b"
   },
   "source": [
    "#### Now check for all duplicate rows now\n",
    "\n",
    "- Note - It must be 0 by now"
   ]
  },
  {
   "cell_type": "code",
   "execution_count": 20,
   "id": "9accc9fc",
   "metadata": {
    "id": "9accc9fc"
   },
   "outputs": [
    {
     "data": {
      "text/plain": [
       "0"
      ]
     },
     "execution_count": 20,
     "metadata": {},
     "output_type": "execute_result"
    }
   ],
   "source": [
    "dp1=df.duplicated()\n",
    "dp1.sum()"
   ]
  },
  {
   "cell_type": "markdown",
   "id": "d0704898",
   "metadata": {
    "id": "d0704898"
   },
   "source": [
    "### Check for the number of Rows and Columns in your dataset"
   ]
  },
  {
   "cell_type": "code",
   "execution_count": 21,
   "id": "582748a8",
   "metadata": {
    "id": "582748a8"
   },
   "outputs": [
    {
     "data": {
      "text/plain": [
       "(48839, 12)"
      ]
     },
     "execution_count": 21,
     "metadata": {},
     "output_type": "execute_result"
    }
   ],
   "source": [
    "df.shape"
   ]
  },
  {
   "cell_type": "markdown",
   "id": "4o9c5UodWRtl",
   "metadata": {
    "id": "4o9c5UodWRtl"
   },
   "source": [
    "### Find out the total count of null values in each columns"
   ]
  },
  {
   "cell_type": "code",
   "execution_count": 22,
   "id": "b0612cb5",
   "metadata": {
    "id": "b0612cb5"
   },
   "outputs": [
    {
     "data": {
      "text/plain": [
       "business_code              0\n",
       "cust_number                0\n",
       "name_customer              0\n",
       "clear_date              9681\n",
       "buisness_year              0\n",
       "doc_id                     0\n",
       "posting_date               0\n",
       "due_in_date                0\n",
       "invoice_currency           0\n",
       "total_open_amount          0\n",
       "baseline_create_date       0\n",
       "cust_payment_terms         0\n",
       "dtype: int64"
      ]
     },
     "execution_count": 22,
     "metadata": {},
     "output_type": "execute_result"
    }
   ],
   "source": [
    "df.isnull().sum()"
   ]
  },
  {
   "cell_type": "markdown",
   "id": "7abdb98b",
   "metadata": {
    "id": "7abdb98b"
   },
   "source": [
    "#Data type Conversion "
   ]
  },
  {
   "cell_type": "markdown",
   "id": "LPfSUSp-WpPj",
   "metadata": {
    "id": "LPfSUSp-WpPj"
   },
   "source": [
    "### Please check the data type of each column of the dataframe"
   ]
  },
  {
   "cell_type": "code",
   "execution_count": 23,
   "id": "689c8592",
   "metadata": {
    "id": "689c8592"
   },
   "outputs": [
    {
     "name": "stdout",
     "output_type": "stream",
     "text": [
      "<class 'pandas.core.frame.DataFrame'>\n",
      "Int64Index: 48839 entries, 0 to 49999\n",
      "Data columns (total 12 columns):\n",
      " #   Column                Non-Null Count  Dtype  \n",
      "---  ------                --------------  -----  \n",
      " 0   business_code         48839 non-null  object \n",
      " 1   cust_number           48839 non-null  object \n",
      " 2   name_customer         48839 non-null  object \n",
      " 3   clear_date            39158 non-null  object \n",
      " 4   buisness_year         48839 non-null  float64\n",
      " 5   doc_id                48839 non-null  float64\n",
      " 6   posting_date          48839 non-null  object \n",
      " 7   due_in_date           48839 non-null  float64\n",
      " 8   invoice_currency      48839 non-null  object \n",
      " 9   total_open_amount     48839 non-null  float64\n",
      " 10  baseline_create_date  48839 non-null  float64\n",
      " 11  cust_payment_terms    48839 non-null  object \n",
      "dtypes: float64(5), object(7)\n",
      "memory usage: 4.8+ MB\n"
     ]
    }
   ],
   "source": [
    "df.info()"
   ]
  },
  {
   "cell_type": "markdown",
   "id": "0nsem0_3XzOt",
   "metadata": {
    "id": "0nsem0_3XzOt"
   },
   "source": [
    "### Check the datatype format of below columns\n",
    "\n",
    "- clear_date  \n",
    "- posting_date\n",
    "- due_in_date \n",
    "- baseline_create_date"
   ]
  },
  {
   "cell_type": "code",
   "execution_count": 24,
   "id": "-yyODyW3X6pL",
   "metadata": {
    "id": "-yyODyW3X6pL"
   },
   "outputs": [
    {
     "name": "stdout",
     "output_type": "stream",
     "text": [
      "<class 'pandas.core.frame.DataFrame'>\n",
      "Int64Index: 48839 entries, 0 to 49999\n",
      "Data columns (total 4 columns):\n",
      " #   Column                Non-Null Count  Dtype  \n",
      "---  ------                --------------  -----  \n",
      " 0   clear_date            39158 non-null  object \n",
      " 1   posting_date          48839 non-null  object \n",
      " 2   due_in_date           48839 non-null  float64\n",
      " 3   baseline_create_date  48839 non-null  float64\n",
      "dtypes: float64(2), object(2)\n",
      "memory usage: 1.9+ MB\n"
     ]
    }
   ],
   "source": [
    "df[['clear_date','posting_date','due_in_date','baseline_create_date']].info()"
   ]
  },
  {
   "cell_type": "markdown",
   "id": "11cf9478",
   "metadata": {
    "id": "11cf9478"
   },
   "source": [
    "### converting date columns into date time formats\n",
    "\n",
    "- clear_date  \n",
    "- posting_date\n",
    "- due_in_date \n",
    "- baseline_create_date\n",
    "\n",
    "\n",
    "- **Note - You have to convert all these above columns into \"%Y%m%d\" format**"
   ]
  },
  {
   "cell_type": "code",
   "execution_count": 25,
   "id": "9a8c6c71",
   "metadata": {
    "id": "9a8c6c71"
   },
   "outputs": [],
   "source": [
    "df['clear_date'] = pd.to_datetime(df['clear_date'])\n",
    "df['posting_date'] = pd.to_datetime(df['posting_date'])\n",
    "df['due_in_date'] = pd.to_datetime(df['due_in_date'], format='%Y%m%d',errors='coerce')\n",
    "df['baseline_create_date'] = pd.to_datetime(df['baseline_create_date'], format='%Y%m%d',errors='coerce')"
   ]
  },
  {
   "cell_type": "markdown",
   "id": "7adq0wSIYSCS",
   "metadata": {
    "id": "7adq0wSIYSCS"
   },
   "source": [
    "### Please check the datatype of all the columns after conversion of the above 4 columns"
   ]
  },
  {
   "cell_type": "code",
   "execution_count": 26,
   "id": "fd028c61",
   "metadata": {
    "id": "fd028c61"
   },
   "outputs": [
    {
     "name": "stdout",
     "output_type": "stream",
     "text": [
      "<class 'pandas.core.frame.DataFrame'>\n",
      "Int64Index: 48839 entries, 0 to 49999\n",
      "Data columns (total 4 columns):\n",
      " #   Column                Non-Null Count  Dtype         \n",
      "---  ------                --------------  -----         \n",
      " 0   clear_date            39158 non-null  datetime64[ns]\n",
      " 1   posting_date          48839 non-null  datetime64[ns]\n",
      " 2   due_in_date           48839 non-null  datetime64[ns]\n",
      " 3   baseline_create_date  48839 non-null  datetime64[ns]\n",
      "dtypes: datetime64[ns](4)\n",
      "memory usage: 1.9 MB\n"
     ]
    }
   ],
   "source": [
    "df[['clear_date','posting_date','due_in_date','baseline_create_date']].info()"
   ]
  },
  {
   "cell_type": "markdown",
   "id": "8c9882fa",
   "metadata": {
    "id": "8c9882fa"
   },
   "source": [
    "#### the invoice_currency column contains two different categories, USD and CAD\n",
    "\n",
    "- Please do a count of each currency "
   ]
  },
  {
   "cell_type": "code",
   "execution_count": 27,
   "id": "72085397",
   "metadata": {
    "id": "72085397"
   },
   "outputs": [
    {
     "data": {
      "text/plain": [
       "USD    45011\n",
       "CAD     3828\n",
       "Name: invoice_currency, dtype: int64"
      ]
     },
     "execution_count": 27,
     "metadata": {},
     "output_type": "execute_result"
    }
   ],
   "source": [
    "df['invoice_currency'].value_counts()"
   ]
  },
  {
   "cell_type": "markdown",
   "id": "6cbe26ee",
   "metadata": {
    "id": "6cbe26ee"
   },
   "source": [
    "#### display the \"total_open_amount\" column value"
   ]
  },
  {
   "cell_type": "code",
   "execution_count": 28,
   "id": "6c49f2ab",
   "metadata": {
    "id": "6c49f2ab",
    "scrolled": true
   },
   "outputs": [
    {
     "data": {
      "text/plain": [
       "0        54273.28\n",
       "1        79656.60\n",
       "2         2253.86\n",
       "3         3299.70\n",
       "4        33133.29\n",
       "           ...   \n",
       "49995     3187.86\n",
       "49996     6766.54\n",
       "49997     6120.86\n",
       "49998       63.48\n",
       "49999     1790.30\n",
       "Name: total_open_amount, Length: 48839, dtype: float64"
      ]
     },
     "execution_count": 28,
     "metadata": {},
     "output_type": "execute_result"
    }
   ],
   "source": [
    "df['total_open_amount']"
   ]
  },
  {
   "cell_type": "markdown",
   "id": "df899966",
   "metadata": {
    "id": "df899966"
   },
   "source": [
    "### Convert all CAD into USD currency of \"total_open_amount\" column\n",
    "\n",
    "- 1 CAD = 0.7 USD\n",
    "- Create a new column i.e \"converted_usd\" and store USD and convered CAD to USD"
   ]
  },
  {
   "cell_type": "code",
   "execution_count": 29,
   "id": "8eb2f1c5",
   "metadata": {
    "id": "8eb2f1c5"
   },
   "outputs": [
    {
     "data": {
      "text/plain": [
       "(3828, 12)"
      ]
     },
     "execution_count": 29,
     "metadata": {},
     "output_type": "execute_result"
    }
   ],
   "source": [
    "df_CAD=df[df['invoice_currency']=='CAD']\n",
    "df_CAD.shape"
   ]
  },
  {
   "cell_type": "code",
   "execution_count": 30,
   "id": "93e48b1c",
   "metadata": {},
   "outputs": [
    {
     "data": {
      "text/plain": [
       "(45011, 12)"
      ]
     },
     "execution_count": 30,
     "metadata": {},
     "output_type": "execute_result"
    }
   ],
   "source": [
    "df_USD=df[df['invoice_currency']=='USD']\n",
    "df_USD.shape"
   ]
  },
  {
   "cell_type": "code",
   "execution_count": 31,
   "id": "0eb4e334",
   "metadata": {},
   "outputs": [],
   "source": [
    "def updateTotal(total_open_amount):\n",
    "    return total_open_amount*0.79\n",
    "def updateCurrency(invoice_currency):\n",
    "    return 'USD'\n",
    "df_CAD['total_open_amount']=df_CAD['total_open_amount'].apply(updateTotal)\n",
    "df_CAD['invoice_currency']=df_CAD['invoice_currency'].apply(updateCurrency)"
   ]
  },
  {
   "cell_type": "code",
   "execution_count": 32,
   "id": "0833cb92",
   "metadata": {},
   "outputs": [],
   "source": [
    "df=pd.concat([df_USD,df_CAD],ignore_index=True)"
   ]
  },
  {
   "cell_type": "code",
   "execution_count": 33,
   "id": "63aacd0a",
   "metadata": {},
   "outputs": [],
   "source": [
    "df['converted_usd']=df['total_open_amount']"
   ]
  },
  {
   "cell_type": "markdown",
   "id": "f9f6ef1d",
   "metadata": {
    "id": "f9f6ef1d"
   },
   "source": [
    "### Display the new \"converted_usd\" column values"
   ]
  },
  {
   "cell_type": "code",
   "execution_count": 34,
   "id": "1fc1a178",
   "metadata": {
    "id": "1fc1a178"
   },
   "outputs": [
    {
     "data": {
      "text/html": [
       "<div>\n",
       "<style scoped>\n",
       "    .dataframe tbody tr th:only-of-type {\n",
       "        vertical-align: middle;\n",
       "    }\n",
       "\n",
       "    .dataframe tbody tr th {\n",
       "        vertical-align: top;\n",
       "    }\n",
       "\n",
       "    .dataframe thead th {\n",
       "        text-align: right;\n",
       "    }\n",
       "</style>\n",
       "<table border=\"1\" class=\"dataframe\">\n",
       "  <thead>\n",
       "    <tr style=\"text-align: right;\">\n",
       "      <th></th>\n",
       "      <th>converted_usd</th>\n",
       "    </tr>\n",
       "  </thead>\n",
       "  <tbody>\n",
       "    <tr>\n",
       "      <th>0</th>\n",
       "      <td>54273.28</td>\n",
       "    </tr>\n",
       "    <tr>\n",
       "      <th>1</th>\n",
       "      <td>79656.60</td>\n",
       "    </tr>\n",
       "    <tr>\n",
       "      <th>2</th>\n",
       "      <td>2253.86</td>\n",
       "    </tr>\n",
       "    <tr>\n",
       "      <th>3</th>\n",
       "      <td>33133.29</td>\n",
       "    </tr>\n",
       "    <tr>\n",
       "      <th>4</th>\n",
       "      <td>7358.49</td>\n",
       "    </tr>\n",
       "    <tr>\n",
       "      <th>5</th>\n",
       "      <td>11173.02</td>\n",
       "    </tr>\n",
       "    <tr>\n",
       "      <th>6</th>\n",
       "      <td>15995.04</td>\n",
       "    </tr>\n",
       "    <tr>\n",
       "      <th>7</th>\n",
       "      <td>28.63</td>\n",
       "    </tr>\n",
       "    <tr>\n",
       "      <th>8</th>\n",
       "      <td>3525.59</td>\n",
       "    </tr>\n",
       "    <tr>\n",
       "      <th>9</th>\n",
       "      <td>103147.37</td>\n",
       "    </tr>\n",
       "  </tbody>\n",
       "</table>\n",
       "</div>"
      ],
      "text/plain": [
       "   converted_usd\n",
       "0       54273.28\n",
       "1       79656.60\n",
       "2        2253.86\n",
       "3       33133.29\n",
       "4        7358.49\n",
       "5       11173.02\n",
       "6       15995.04\n",
       "7          28.63\n",
       "8        3525.59\n",
       "9      103147.37"
      ]
     },
     "execution_count": 34,
     "metadata": {},
     "output_type": "execute_result"
    }
   ],
   "source": [
    "df[['converted_usd']].head(10)"
   ]
  },
  {
   "cell_type": "markdown",
   "id": "6XLXX17kayuy",
   "metadata": {
    "id": "6XLXX17kayuy"
   },
   "source": [
    "### Display year wise total number of record \n",
    "\n",
    "- Note -  use \"buisness_year\" column for this "
   ]
  },
  {
   "cell_type": "code",
   "execution_count": 35,
   "id": "00c9f6ee",
   "metadata": {
    "id": "00c9f6ee"
   },
   "outputs": [
    {
     "data": {
      "text/plain": [
       "2019.0    33975\n",
       "2020.0    14864\n",
       "Name: buisness_year, dtype: int64"
      ]
     },
     "execution_count": 35,
     "metadata": {},
     "output_type": "execute_result"
    }
   ],
   "source": [
    "df['buisness_year'].value_counts()"
   ]
  },
  {
   "cell_type": "markdown",
   "id": "05c35904",
   "metadata": {
    "id": "05c35904"
   },
   "source": [
    "### Write the code to delete the following columns \n",
    "\n",
    "- 'invoice_currency'\n",
    "- 'total_open_amount', "
   ]
  },
  {
   "cell_type": "code",
   "execution_count": 36,
   "id": "4ac28aa5",
   "metadata": {
    "id": "4ac28aa5"
   },
   "outputs": [],
   "source": [
    "df.drop(columns=['invoice_currency','total_open_amount'],inplace=True)"
   ]
  },
  {
   "cell_type": "markdown",
   "id": "bDBJ_Kvwc086",
   "metadata": {
    "id": "bDBJ_Kvwc086"
   },
   "source": [
    "### Write a code to check the number of columns in dataframe"
   ]
  },
  {
   "cell_type": "code",
   "execution_count": 37,
   "id": "ea360a8c",
   "metadata": {
    "id": "ea360a8c"
   },
   "outputs": [
    {
     "data": {
      "text/plain": [
       "['business_code',\n",
       " 'cust_number',\n",
       " 'name_customer',\n",
       " 'clear_date',\n",
       " 'buisness_year',\n",
       " 'doc_id',\n",
       " 'posting_date',\n",
       " 'due_in_date',\n",
       " 'baseline_create_date',\n",
       " 'cust_payment_terms',\n",
       " 'converted_usd']"
      ]
     },
     "execution_count": 37,
     "metadata": {},
     "output_type": "execute_result"
    }
   ],
   "source": [
    "list(df.columns)"
   ]
  },
  {
   "cell_type": "markdown",
   "id": "b8f63655",
   "metadata": {
    "id": "b8f63655"
   },
   "source": [
    "# Splitting the Dataset "
   ]
  },
  {
   "cell_type": "markdown",
   "id": "a00f749d",
   "metadata": {
    "id": "a00f749d"
   },
   "source": [
    "### Look for all columns containing null value\n",
    "\n",
    "- Note - Output expected is only one column "
   ]
  },
  {
   "cell_type": "code",
   "execution_count": 38,
   "id": "148c801e",
   "metadata": {
    "id": "148c801e"
   },
   "outputs": [
    {
     "data": {
      "text/plain": [
       "['clear_date']"
      ]
     },
     "execution_count": 38,
     "metadata": {},
     "output_type": "execute_result"
    }
   ],
   "source": [
    " df.columns[df.isna().any()].tolist()"
   ]
  },
  {
   "cell_type": "markdown",
   "id": "a094a290",
   "metadata": {
    "id": "a094a290"
   },
   "source": [
    "#### Find out the number of null values from the column that you got from the above code"
   ]
  },
  {
   "cell_type": "code",
   "execution_count": 39,
   "id": "30bfb113",
   "metadata": {
    "id": "30bfb113"
   },
   "outputs": [
    {
     "data": {
      "text/plain": [
       "9681"
      ]
     },
     "execution_count": 39,
     "metadata": {},
     "output_type": "execute_result"
    }
   ],
   "source": [
    "df['clear_date'].isnull().sum()\n"
   ]
  },
  {
   "cell_type": "markdown",
   "id": "7f6d939b",
   "metadata": {
    "id": "7f6d939b"
   },
   "source": [
    "### On basis of the above column we are spliting data into dataset\n",
    "\n",
    "- First dataframe (refer that as maindata) only containing the rows, that have NO NULL data in that column ( This is going to be our train dataset ) \n",
    "- Second dataframe (refer that as nulldata) that contains the columns, that have Null data in that column ( This is going to be our test dataset ) "
   ]
  },
  {
   "cell_type": "code",
   "execution_count": 40,
   "id": "c8764c33",
   "metadata": {
    "id": "c8764c33"
   },
   "outputs": [],
   "source": [
    "nulldata=df[df['clear_date'].isnull()==True]\n",
    "trainData=df.dropna()"
   ]
  },
  {
   "cell_type": "code",
   "execution_count": null,
   "id": "5fef1b68",
   "metadata": {},
   "outputs": [],
   "source": []
  },
  {
   "cell_type": "markdown",
   "id": "3P8riRBHd_r6",
   "metadata": {
    "id": "3P8riRBHd_r6"
   },
   "source": [
    "### Check the number of Rows and Columns for both the dataframes "
   ]
  },
  {
   "cell_type": "code",
   "execution_count": 41,
   "id": "0693a464",
   "metadata": {
    "id": "0693a464"
   },
   "outputs": [
    {
     "data": {
      "text/plain": [
       "(9681, 11)"
      ]
     },
     "execution_count": 41,
     "metadata": {},
     "output_type": "execute_result"
    }
   ],
   "source": [
    "nulldata.shape"
   ]
  },
  {
   "cell_type": "code",
   "execution_count": 42,
   "id": "7f86bc74",
   "metadata": {
    "id": "7f86bc74"
   },
   "outputs": [
    {
     "data": {
      "text/plain": [
       "(39158, 11)"
      ]
     },
     "execution_count": 42,
     "metadata": {},
     "output_type": "execute_result"
    }
   ],
   "source": [
    "trainData.shape"
   ]
  },
  {
   "cell_type": "markdown",
   "id": "0747165d",
   "metadata": {
    "id": "0747165d"
   },
   "source": [
    "### Display the 5 records from maindata and nulldata dataframes"
   ]
  },
  {
   "cell_type": "code",
   "execution_count": 43,
   "id": "dec2ec36",
   "metadata": {
    "id": "dec2ec36"
   },
   "outputs": [
    {
     "data": {
      "text/html": [
       "<div>\n",
       "<style scoped>\n",
       "    .dataframe tbody tr th:only-of-type {\n",
       "        vertical-align: middle;\n",
       "    }\n",
       "\n",
       "    .dataframe tbody tr th {\n",
       "        vertical-align: top;\n",
       "    }\n",
       "\n",
       "    .dataframe thead th {\n",
       "        text-align: right;\n",
       "    }\n",
       "</style>\n",
       "<table border=\"1\" class=\"dataframe\">\n",
       "  <thead>\n",
       "    <tr style=\"text-align: right;\">\n",
       "      <th></th>\n",
       "      <th>business_code</th>\n",
       "      <th>cust_number</th>\n",
       "      <th>name_customer</th>\n",
       "      <th>clear_date</th>\n",
       "      <th>buisness_year</th>\n",
       "      <th>doc_id</th>\n",
       "      <th>posting_date</th>\n",
       "      <th>due_in_date</th>\n",
       "      <th>baseline_create_date</th>\n",
       "      <th>cust_payment_terms</th>\n",
       "      <th>converted_usd</th>\n",
       "    </tr>\n",
       "  </thead>\n",
       "  <tbody>\n",
       "    <tr>\n",
       "      <th>5</th>\n",
       "      <td>U001</td>\n",
       "      <td>0200744019</td>\n",
       "      <td>TARG us</td>\n",
       "      <td>NaT</td>\n",
       "      <td>2020.0</td>\n",
       "      <td>1.930659e+09</td>\n",
       "      <td>2020-03-19</td>\n",
       "      <td>2020-04-03</td>\n",
       "      <td>2020-03-19</td>\n",
       "      <td>NAA8</td>\n",
       "      <td>11173.02</td>\n",
       "    </tr>\n",
       "    <tr>\n",
       "      <th>8</th>\n",
       "      <td>U001</td>\n",
       "      <td>0200418007</td>\n",
       "      <td>AM</td>\n",
       "      <td>NaT</td>\n",
       "      <td>2020.0</td>\n",
       "      <td>1.930611e+09</td>\n",
       "      <td>2020-03-11</td>\n",
       "      <td>2020-03-26</td>\n",
       "      <td>2020-03-11</td>\n",
       "      <td>NAA8</td>\n",
       "      <td>3525.59</td>\n",
       "    </tr>\n",
       "    <tr>\n",
       "      <th>12</th>\n",
       "      <td>U001</td>\n",
       "      <td>0200739534</td>\n",
       "      <td>OK systems</td>\n",
       "      <td>NaT</td>\n",
       "      <td>2020.0</td>\n",
       "      <td>1.930788e+09</td>\n",
       "      <td>2020-04-15</td>\n",
       "      <td>2020-04-30</td>\n",
       "      <td>2020-04-15</td>\n",
       "      <td>NAA8</td>\n",
       "      <td>121105.65</td>\n",
       "    </tr>\n",
       "    <tr>\n",
       "      <th>13</th>\n",
       "      <td>U001</td>\n",
       "      <td>0200353024</td>\n",
       "      <td>DECA corporation</td>\n",
       "      <td>NaT</td>\n",
       "      <td>2020.0</td>\n",
       "      <td>1.930817e+09</td>\n",
       "      <td>2020-04-23</td>\n",
       "      <td>2020-04-26</td>\n",
       "      <td>2020-04-16</td>\n",
       "      <td>NAM2</td>\n",
       "      <td>3726.06</td>\n",
       "    </tr>\n",
       "    <tr>\n",
       "      <th>20</th>\n",
       "      <td>U001</td>\n",
       "      <td>0200744019</td>\n",
       "      <td>TARG associates</td>\n",
       "      <td>NaT</td>\n",
       "      <td>2020.0</td>\n",
       "      <td>1.930676e+09</td>\n",
       "      <td>2020-03-21</td>\n",
       "      <td>2020-04-05</td>\n",
       "      <td>2020-03-21</td>\n",
       "      <td>NAA8</td>\n",
       "      <td>5893.01</td>\n",
       "    </tr>\n",
       "  </tbody>\n",
       "</table>\n",
       "</div>"
      ],
      "text/plain": [
       "   business_code cust_number     name_customer clear_date  buisness_year  \\\n",
       "5           U001  0200744019           TARG us        NaT         2020.0   \n",
       "8           U001  0200418007               AM         NaT         2020.0   \n",
       "12          U001  0200739534        OK systems        NaT         2020.0   \n",
       "13          U001  0200353024  DECA corporation        NaT         2020.0   \n",
       "20          U001  0200744019   TARG associates        NaT         2020.0   \n",
       "\n",
       "          doc_id posting_date due_in_date baseline_create_date  \\\n",
       "5   1.930659e+09   2020-03-19  2020-04-03           2020-03-19   \n",
       "8   1.930611e+09   2020-03-11  2020-03-26           2020-03-11   \n",
       "12  1.930788e+09   2020-04-15  2020-04-30           2020-04-15   \n",
       "13  1.930817e+09   2020-04-23  2020-04-26           2020-04-16   \n",
       "20  1.930676e+09   2020-03-21  2020-04-05           2020-03-21   \n",
       "\n",
       "   cust_payment_terms  converted_usd  \n",
       "5                NAA8       11173.02  \n",
       "8                NAA8        3525.59  \n",
       "12               NAA8      121105.65  \n",
       "13               NAM2        3726.06  \n",
       "20               NAA8        5893.01  "
      ]
     },
     "execution_count": 43,
     "metadata": {},
     "output_type": "execute_result"
    }
   ],
   "source": [
    "nulldata.head(5)"
   ]
  },
  {
   "cell_type": "code",
   "execution_count": 44,
   "id": "eee2d68a",
   "metadata": {
    "id": "eee2d68a"
   },
   "outputs": [
    {
     "data": {
      "text/html": [
       "<div>\n",
       "<style scoped>\n",
       "    .dataframe tbody tr th:only-of-type {\n",
       "        vertical-align: middle;\n",
       "    }\n",
       "\n",
       "    .dataframe tbody tr th {\n",
       "        vertical-align: top;\n",
       "    }\n",
       "\n",
       "    .dataframe thead th {\n",
       "        text-align: right;\n",
       "    }\n",
       "</style>\n",
       "<table border=\"1\" class=\"dataframe\">\n",
       "  <thead>\n",
       "    <tr style=\"text-align: right;\">\n",
       "      <th></th>\n",
       "      <th>business_code</th>\n",
       "      <th>cust_number</th>\n",
       "      <th>name_customer</th>\n",
       "      <th>clear_date</th>\n",
       "      <th>buisness_year</th>\n",
       "      <th>doc_id</th>\n",
       "      <th>posting_date</th>\n",
       "      <th>due_in_date</th>\n",
       "      <th>baseline_create_date</th>\n",
       "      <th>cust_payment_terms</th>\n",
       "      <th>converted_usd</th>\n",
       "    </tr>\n",
       "  </thead>\n",
       "  <tbody>\n",
       "    <tr>\n",
       "      <th>0</th>\n",
       "      <td>U001</td>\n",
       "      <td>0200769623</td>\n",
       "      <td>WAL-MAR corp</td>\n",
       "      <td>2020-02-11</td>\n",
       "      <td>2020.0</td>\n",
       "      <td>1.930438e+09</td>\n",
       "      <td>2020-01-26</td>\n",
       "      <td>2020-02-10</td>\n",
       "      <td>2020-01-26</td>\n",
       "      <td>NAH4</td>\n",
       "      <td>54273.28</td>\n",
       "    </tr>\n",
       "    <tr>\n",
       "      <th>1</th>\n",
       "      <td>U001</td>\n",
       "      <td>0200980828</td>\n",
       "      <td>BEN E</td>\n",
       "      <td>2019-08-08</td>\n",
       "      <td>2019.0</td>\n",
       "      <td>1.929646e+09</td>\n",
       "      <td>2019-07-22</td>\n",
       "      <td>2019-08-11</td>\n",
       "      <td>2019-07-22</td>\n",
       "      <td>NAD1</td>\n",
       "      <td>79656.60</td>\n",
       "    </tr>\n",
       "    <tr>\n",
       "      <th>2</th>\n",
       "      <td>U001</td>\n",
       "      <td>0200792734</td>\n",
       "      <td>MDV/ trust</td>\n",
       "      <td>2019-12-30</td>\n",
       "      <td>2019.0</td>\n",
       "      <td>1.929874e+09</td>\n",
       "      <td>2019-09-14</td>\n",
       "      <td>2019-09-29</td>\n",
       "      <td>2019-09-14</td>\n",
       "      <td>NAA8</td>\n",
       "      <td>2253.86</td>\n",
       "    </tr>\n",
       "    <tr>\n",
       "      <th>3</th>\n",
       "      <td>U001</td>\n",
       "      <td>0200769623</td>\n",
       "      <td>WAL-MAR foundation</td>\n",
       "      <td>2019-11-25</td>\n",
       "      <td>2019.0</td>\n",
       "      <td>1.930148e+09</td>\n",
       "      <td>2019-11-13</td>\n",
       "      <td>2019-11-28</td>\n",
       "      <td>2019-11-13</td>\n",
       "      <td>NAH4</td>\n",
       "      <td>33133.29</td>\n",
       "    </tr>\n",
       "    <tr>\n",
       "      <th>4</th>\n",
       "      <td>U001</td>\n",
       "      <td>0200769623</td>\n",
       "      <td>WAL-MAR in</td>\n",
       "      <td>2019-11-12</td>\n",
       "      <td>2019.0</td>\n",
       "      <td>1.930083e+09</td>\n",
       "      <td>2019-11-01</td>\n",
       "      <td>2019-11-16</td>\n",
       "      <td>2019-11-01</td>\n",
       "      <td>NAH4</td>\n",
       "      <td>7358.49</td>\n",
       "    </tr>\n",
       "  </tbody>\n",
       "</table>\n",
       "</div>"
      ],
      "text/plain": [
       "  business_code cust_number       name_customer clear_date  buisness_year  \\\n",
       "0          U001  0200769623        WAL-MAR corp 2020-02-11         2020.0   \n",
       "1          U001  0200980828              BEN E  2019-08-08         2019.0   \n",
       "2          U001  0200792734          MDV/ trust 2019-12-30         2019.0   \n",
       "3          U001  0200769623  WAL-MAR foundation 2019-11-25         2019.0   \n",
       "4          U001  0200769623          WAL-MAR in 2019-11-12         2019.0   \n",
       "\n",
       "         doc_id posting_date due_in_date baseline_create_date  \\\n",
       "0  1.930438e+09   2020-01-26  2020-02-10           2020-01-26   \n",
       "1  1.929646e+09   2019-07-22  2019-08-11           2019-07-22   \n",
       "2  1.929874e+09   2019-09-14  2019-09-29           2019-09-14   \n",
       "3  1.930148e+09   2019-11-13  2019-11-28           2019-11-13   \n",
       "4  1.930083e+09   2019-11-01  2019-11-16           2019-11-01   \n",
       "\n",
       "  cust_payment_terms  converted_usd  \n",
       "0               NAH4       54273.28  \n",
       "1               NAD1       79656.60  \n",
       "2               NAA8        2253.86  \n",
       "3               NAH4       33133.29  \n",
       "4               NAH4        7358.49  "
      ]
     },
     "execution_count": 44,
     "metadata": {},
     "output_type": "execute_result"
    }
   ],
   "source": [
    "trainData.head(5)"
   ]
  },
  {
   "cell_type": "markdown",
   "id": "24aa6746",
   "metadata": {
    "id": "24aa6746"
   },
   "source": [
    "## Considering the **maindata**"
   ]
  },
  {
   "cell_type": "markdown",
   "id": "f92c4aa7",
   "metadata": {
    "id": "f92c4aa7"
   },
   "source": [
    "#### Generate a new column \"Delay\" from the existing columns\n",
    "\n",
    "- Note - You are expected to create a new column 'Delay' from two existing columns, \"clear_date\" and \"due_in_date\" \n",
    "- Formula - Delay = clear_date - due_in_date"
   ]
  },
  {
   "cell_type": "code",
   "execution_count": 45,
   "id": "8eeceb9c",
   "metadata": {
    "id": "8eeceb9c"
   },
   "outputs": [],
   "source": [
    "trainData['Delay']=trainData['clear_date']-trainData['due_in_date']"
   ]
  },
  {
   "cell_type": "code",
   "execution_count": 46,
   "id": "a9ebaf3a",
   "metadata": {},
   "outputs": [
    {
     "data": {
      "text/plain": [
       "(39158, 12)"
      ]
     },
     "execution_count": 46,
     "metadata": {},
     "output_type": "execute_result"
    }
   ],
   "source": [
    "trainData.shape"
   ]
  },
  {
   "cell_type": "code",
   "execution_count": 47,
   "id": "0168c014",
   "metadata": {},
   "outputs": [
    {
     "data": {
      "text/plain": [
       "(9681, 11)"
      ]
     },
     "execution_count": 47,
     "metadata": {},
     "output_type": "execute_result"
    }
   ],
   "source": [
    "nulldata.shape"
   ]
  },
  {
   "cell_type": "markdown",
   "id": "f482144e",
   "metadata": {
    "id": "f482144e"
   },
   "source": [
    "### Generate a new column \"avgdelay\" from the existing columns\n",
    "\n",
    "- Note - You are expected to make a new column \"avgdelay\" by grouping \"name_customer\" column with reapect to mean of the \"Delay\" column.\n",
    "- This new column \"avg_delay\" is meant to store \"customer_name\" wise delay\n",
    "- groupby('name_customer')['Delay'].mean(numeric_only=False)\n",
    "- Display the new \"avg_delay\" column"
   ]
  },
  {
   "cell_type": "code",
   "execution_count": 48,
   "id": "d18d2f8d",
   "metadata": {
    "id": "d18d2f8d"
   },
   "outputs": [],
   "source": [
    "df1=trainData.groupby('name_customer')['Delay'].mean(numeric_only=False).reset_index().rename(columns={'Delay':'avg_delay'})"
   ]
  },
  {
   "cell_type": "code",
   "execution_count": 49,
   "id": "5f92ff8f",
   "metadata": {},
   "outputs": [
    {
     "data": {
      "text/html": [
       "<div>\n",
       "<style scoped>\n",
       "    .dataframe tbody tr th:only-of-type {\n",
       "        vertical-align: middle;\n",
       "    }\n",
       "\n",
       "    .dataframe tbody tr th {\n",
       "        vertical-align: top;\n",
       "    }\n",
       "\n",
       "    .dataframe thead th {\n",
       "        text-align: right;\n",
       "    }\n",
       "</style>\n",
       "<table border=\"1\" class=\"dataframe\">\n",
       "  <thead>\n",
       "    <tr style=\"text-align: right;\">\n",
       "      <th></th>\n",
       "      <th>name_customer</th>\n",
       "      <th>avg_delay</th>\n",
       "    </tr>\n",
       "  </thead>\n",
       "  <tbody>\n",
       "    <tr>\n",
       "      <th>0</th>\n",
       "      <td>11078 us</td>\n",
       "      <td>17 days 00:00:00</td>\n",
       "    </tr>\n",
       "    <tr>\n",
       "      <th>1</th>\n",
       "      <td>17135 associates</td>\n",
       "      <td>-10 days +00:00:00</td>\n",
       "    </tr>\n",
       "    <tr>\n",
       "      <th>2</th>\n",
       "      <td>17135 llc</td>\n",
       "      <td>-3 days +00:00:00</td>\n",
       "    </tr>\n",
       "    <tr>\n",
       "      <th>3</th>\n",
       "      <td>236008 associates</td>\n",
       "      <td>-3 days +00:00:00</td>\n",
       "    </tr>\n",
       "    <tr>\n",
       "      <th>4</th>\n",
       "      <td>99 CE</td>\n",
       "      <td>2 days 00:00:00</td>\n",
       "    </tr>\n",
       "    <tr>\n",
       "      <th>...</th>\n",
       "      <td>...</td>\n",
       "      <td>...</td>\n",
       "    </tr>\n",
       "    <tr>\n",
       "      <th>3884</th>\n",
       "      <td>YEN BROS corp</td>\n",
       "      <td>0 days 00:00:00</td>\n",
       "    </tr>\n",
       "    <tr>\n",
       "      <th>3885</th>\n",
       "      <td>YEN BROS corporation</td>\n",
       "      <td>-1 days +12:00:00</td>\n",
       "    </tr>\n",
       "    <tr>\n",
       "      <th>3886</th>\n",
       "      <td>YEN BROS llc</td>\n",
       "      <td>-2 days +00:00:00</td>\n",
       "    </tr>\n",
       "    <tr>\n",
       "      <th>3887</th>\n",
       "      <td>ZARCO co</td>\n",
       "      <td>-1 days +00:00:00</td>\n",
       "    </tr>\n",
       "    <tr>\n",
       "      <th>3888</th>\n",
       "      <td>ZIYAD  us</td>\n",
       "      <td>6 days 00:00:00</td>\n",
       "    </tr>\n",
       "  </tbody>\n",
       "</table>\n",
       "<p>3889 rows × 2 columns</p>\n",
       "</div>"
      ],
      "text/plain": [
       "             name_customer          avg_delay\n",
       "0                 11078 us   17 days 00:00:00\n",
       "1         17135 associates -10 days +00:00:00\n",
       "2                17135 llc  -3 days +00:00:00\n",
       "3        236008 associates  -3 days +00:00:00\n",
       "4                   99 CE     2 days 00:00:00\n",
       "...                    ...                ...\n",
       "3884         YEN BROS corp    0 days 00:00:00\n",
       "3885  YEN BROS corporation  -1 days +12:00:00\n",
       "3886          YEN BROS llc  -2 days +00:00:00\n",
       "3887              ZARCO co  -1 days +00:00:00\n",
       "3888             ZIYAD  us    6 days 00:00:00\n",
       "\n",
       "[3889 rows x 2 columns]"
      ]
     },
     "execution_count": 49,
     "metadata": {},
     "output_type": "execute_result"
    }
   ],
   "source": [
    "df1"
   ]
  },
  {
   "cell_type": "markdown",
   "id": "a72da011",
   "metadata": {},
   "source": [
    "## "
   ]
  },
  {
   "cell_type": "code",
   "execution_count": 50,
   "id": "306e87ab",
   "metadata": {},
   "outputs": [],
   "source": [
    "trainData=pd.merge(df1,trainData,on='name_customer')"
   ]
  },
  {
   "cell_type": "code",
   "execution_count": 51,
   "id": "5f30e825",
   "metadata": {},
   "outputs": [
    {
     "data": {
      "text/html": [
       "<div>\n",
       "<style scoped>\n",
       "    .dataframe tbody tr th:only-of-type {\n",
       "        vertical-align: middle;\n",
       "    }\n",
       "\n",
       "    .dataframe tbody tr th {\n",
       "        vertical-align: top;\n",
       "    }\n",
       "\n",
       "    .dataframe thead th {\n",
       "        text-align: right;\n",
       "    }\n",
       "</style>\n",
       "<table border=\"1\" class=\"dataframe\">\n",
       "  <thead>\n",
       "    <tr style=\"text-align: right;\">\n",
       "      <th></th>\n",
       "      <th>name_customer</th>\n",
       "      <th>avg_delay</th>\n",
       "      <th>business_code</th>\n",
       "      <th>cust_number</th>\n",
       "      <th>clear_date</th>\n",
       "      <th>buisness_year</th>\n",
       "      <th>doc_id</th>\n",
       "      <th>posting_date</th>\n",
       "      <th>due_in_date</th>\n",
       "      <th>baseline_create_date</th>\n",
       "      <th>cust_payment_terms</th>\n",
       "      <th>converted_usd</th>\n",
       "      <th>Delay</th>\n",
       "    </tr>\n",
       "  </thead>\n",
       "  <tbody>\n",
       "    <tr>\n",
       "      <th>0</th>\n",
       "      <td>11078 us</td>\n",
       "      <td>17 days 00:00:00</td>\n",
       "      <td>CA02</td>\n",
       "      <td>0100054234</td>\n",
       "      <td>2019-05-02</td>\n",
       "      <td>2019.0</td>\n",
       "      <td>2.960539e+09</td>\n",
       "      <td>2019-04-04</td>\n",
       "      <td>2019-04-15</td>\n",
       "      <td>2019-04-05</td>\n",
       "      <td>CA10</td>\n",
       "      <td>8104.2150</td>\n",
       "      <td>17 days</td>\n",
       "    </tr>\n",
       "    <tr>\n",
       "      <th>1</th>\n",
       "      <td>17135 associates</td>\n",
       "      <td>-10 days +00:00:00</td>\n",
       "      <td>CA02</td>\n",
       "      <td>0100034821</td>\n",
       "      <td>2019-10-22</td>\n",
       "      <td>2019.0</td>\n",
       "      <td>2.960588e+09</td>\n",
       "      <td>2019-10-21</td>\n",
       "      <td>2019-11-01</td>\n",
       "      <td>2019-10-22</td>\n",
       "      <td>CA10</td>\n",
       "      <td>62977.2200</td>\n",
       "      <td>-10 days</td>\n",
       "    </tr>\n",
       "    <tr>\n",
       "      <th>2</th>\n",
       "      <td>17135 llc</td>\n",
       "      <td>-3 days +00:00:00</td>\n",
       "      <td>CA02</td>\n",
       "      <td>0100034821</td>\n",
       "      <td>2020-02-20</td>\n",
       "      <td>2020.0</td>\n",
       "      <td>2.960609e+09</td>\n",
       "      <td>2020-02-11</td>\n",
       "      <td>2020-02-23</td>\n",
       "      <td>2020-02-13</td>\n",
       "      <td>CA10</td>\n",
       "      <td>891.1200</td>\n",
       "      <td>-3 days</td>\n",
       "    </tr>\n",
       "    <tr>\n",
       "      <th>3</th>\n",
       "      <td>236008 associates</td>\n",
       "      <td>-3 days +00:00:00</td>\n",
       "      <td>CA02</td>\n",
       "      <td>0100027281</td>\n",
       "      <td>2019-11-25</td>\n",
       "      <td>2019.0</td>\n",
       "      <td>2.960594e+09</td>\n",
       "      <td>2019-11-15</td>\n",
       "      <td>2019-11-28</td>\n",
       "      <td>2019-11-18</td>\n",
       "      <td>CA10</td>\n",
       "      <td>28567.7114</td>\n",
       "      <td>-3 days</td>\n",
       "    </tr>\n",
       "    <tr>\n",
       "      <th>4</th>\n",
       "      <td>99 CE</td>\n",
       "      <td>2 days 00:00:00</td>\n",
       "      <td>U001</td>\n",
       "      <td>0100012638</td>\n",
       "      <td>2020-02-03</td>\n",
       "      <td>2020.0</td>\n",
       "      <td>1.930410e+09</td>\n",
       "      <td>2020-01-17</td>\n",
       "      <td>2020-02-01</td>\n",
       "      <td>2020-01-17</td>\n",
       "      <td>NAA8</td>\n",
       "      <td>38092.5300</td>\n",
       "      <td>2 days</td>\n",
       "    </tr>\n",
       "    <tr>\n",
       "      <th>5</th>\n",
       "      <td>99 CE</td>\n",
       "      <td>2 days 00:00:00</td>\n",
       "      <td>U001</td>\n",
       "      <td>0100012638</td>\n",
       "      <td>2020-02-24</td>\n",
       "      <td>2020.0</td>\n",
       "      <td>1.930500e+09</td>\n",
       "      <td>2020-02-07</td>\n",
       "      <td>2020-02-22</td>\n",
       "      <td>2020-02-07</td>\n",
       "      <td>NAA8</td>\n",
       "      <td>14029.4600</td>\n",
       "      <td>2 days</td>\n",
       "    </tr>\n",
       "    <tr>\n",
       "      <th>6</th>\n",
       "      <td>99 CE associates</td>\n",
       "      <td>2 days 00:00:00</td>\n",
       "      <td>U001</td>\n",
       "      <td>100012638</td>\n",
       "      <td>2019-06-24</td>\n",
       "      <td>2019.0</td>\n",
       "      <td>1.929446e+09</td>\n",
       "      <td>2019-06-07</td>\n",
       "      <td>2019-06-22</td>\n",
       "      <td>2019-06-07</td>\n",
       "      <td>NAA8</td>\n",
       "      <td>56129.0500</td>\n",
       "      <td>2 days</td>\n",
       "    </tr>\n",
       "    <tr>\n",
       "      <th>7</th>\n",
       "      <td>99 CE associates</td>\n",
       "      <td>2 days 00:00:00</td>\n",
       "      <td>U001</td>\n",
       "      <td>0100012638</td>\n",
       "      <td>2019-08-12</td>\n",
       "      <td>2019.0</td>\n",
       "      <td>1.929665e+09</td>\n",
       "      <td>2019-07-26</td>\n",
       "      <td>2019-08-10</td>\n",
       "      <td>2019-07-26</td>\n",
       "      <td>NAA8</td>\n",
       "      <td>9661.1400</td>\n",
       "      <td>2 days</td>\n",
       "    </tr>\n",
       "    <tr>\n",
       "      <th>8</th>\n",
       "      <td>99 CE co</td>\n",
       "      <td>3 days 00:00:00</td>\n",
       "      <td>U001</td>\n",
       "      <td>0100012638</td>\n",
       "      <td>2019-04-29</td>\n",
       "      <td>2019.0</td>\n",
       "      <td>1.929116e+09</td>\n",
       "      <td>2019-04-11</td>\n",
       "      <td>2019-04-26</td>\n",
       "      <td>2019-04-11</td>\n",
       "      <td>NAA8</td>\n",
       "      <td>33076.5100</td>\n",
       "      <td>3 days</td>\n",
       "    </tr>\n",
       "    <tr>\n",
       "      <th>9</th>\n",
       "      <td>99 CE corporation</td>\n",
       "      <td>1 days 00:00:00</td>\n",
       "      <td>U001</td>\n",
       "      <td>0100012638</td>\n",
       "      <td>2019-04-22</td>\n",
       "      <td>2019.0</td>\n",
       "      <td>1.929073e+09</td>\n",
       "      <td>2019-04-06</td>\n",
       "      <td>2019-04-21</td>\n",
       "      <td>2019-04-06</td>\n",
       "      <td>NAA8</td>\n",
       "      <td>2575.9500</td>\n",
       "      <td>1 days</td>\n",
       "    </tr>\n",
       "    <tr>\n",
       "      <th>10</th>\n",
       "      <td>99 CE corporation</td>\n",
       "      <td>1 days 00:00:00</td>\n",
       "      <td>U001</td>\n",
       "      <td>0100012638</td>\n",
       "      <td>2019-10-30</td>\n",
       "      <td>2019.0</td>\n",
       "      <td>1.930012e+09</td>\n",
       "      <td>2019-10-14</td>\n",
       "      <td>2019-10-29</td>\n",
       "      <td>2019-10-14</td>\n",
       "      <td>NAA8</td>\n",
       "      <td>41391.1900</td>\n",
       "      <td>1 days</td>\n",
       "    </tr>\n",
       "    <tr>\n",
       "      <th>11</th>\n",
       "      <td>99 CE foundation</td>\n",
       "      <td>9 days 00:00:00</td>\n",
       "      <td>U001</td>\n",
       "      <td>0100012638</td>\n",
       "      <td>2019-02-07</td>\n",
       "      <td>2019.0</td>\n",
       "      <td>1.928552e+09</td>\n",
       "      <td>2019-01-03</td>\n",
       "      <td>2019-01-18</td>\n",
       "      <td>2019-01-03</td>\n",
       "      <td>NAA8</td>\n",
       "      <td>33673.0400</td>\n",
       "      <td>20 days</td>\n",
       "    </tr>\n",
       "    <tr>\n",
       "      <th>12</th>\n",
       "      <td>99 CE foundation</td>\n",
       "      <td>9 days 00:00:00</td>\n",
       "      <td>U001</td>\n",
       "      <td>0100012638</td>\n",
       "      <td>2019-12-03</td>\n",
       "      <td>2019.0</td>\n",
       "      <td>1.930143e+09</td>\n",
       "      <td>2019-11-12</td>\n",
       "      <td>2019-11-27</td>\n",
       "      <td>2019-11-12</td>\n",
       "      <td>NAA8</td>\n",
       "      <td>54779.9200</td>\n",
       "      <td>6 days</td>\n",
       "    </tr>\n",
       "    <tr>\n",
       "      <th>13</th>\n",
       "      <td>99 CE foundation</td>\n",
       "      <td>9 days 00:00:00</td>\n",
       "      <td>U001</td>\n",
       "      <td>0100012638</td>\n",
       "      <td>2019-10-31</td>\n",
       "      <td>2019.0</td>\n",
       "      <td>1.930010e+09</td>\n",
       "      <td>2019-10-15</td>\n",
       "      <td>2019-10-30</td>\n",
       "      <td>2019-10-15</td>\n",
       "      <td>NAA8</td>\n",
       "      <td>39723.0900</td>\n",
       "      <td>1 days</td>\n",
       "    </tr>\n",
       "    <tr>\n",
       "      <th>14</th>\n",
       "      <td>99 CE in</td>\n",
       "      <td>2 days 00:00:00</td>\n",
       "      <td>U001</td>\n",
       "      <td>100012638</td>\n",
       "      <td>2019-04-08</td>\n",
       "      <td>2019.0</td>\n",
       "      <td>1.928986e+09</td>\n",
       "      <td>2019-03-22</td>\n",
       "      <td>2019-04-06</td>\n",
       "      <td>2019-03-22</td>\n",
       "      <td>NAA8</td>\n",
       "      <td>14597.4900</td>\n",
       "      <td>2 days</td>\n",
       "    </tr>\n",
       "    <tr>\n",
       "      <th>15</th>\n",
       "      <td>99 CE in</td>\n",
       "      <td>2 days 00:00:00</td>\n",
       "      <td>U001</td>\n",
       "      <td>0100012638</td>\n",
       "      <td>2019-07-15</td>\n",
       "      <td>2019.0</td>\n",
       "      <td>1.929550e+09</td>\n",
       "      <td>2019-06-28</td>\n",
       "      <td>2019-07-13</td>\n",
       "      <td>2019-06-28</td>\n",
       "      <td>NAA8</td>\n",
       "      <td>58703.2200</td>\n",
       "      <td>2 days</td>\n",
       "    </tr>\n",
       "    <tr>\n",
       "      <th>16</th>\n",
       "      <td>99 CE llc</td>\n",
       "      <td>3 days 00:00:00</td>\n",
       "      <td>U001</td>\n",
       "      <td>0100012638</td>\n",
       "      <td>2019-11-25</td>\n",
       "      <td>2019.0</td>\n",
       "      <td>1.930115e+09</td>\n",
       "      <td>2019-11-07</td>\n",
       "      <td>2019-11-22</td>\n",
       "      <td>2019-11-07</td>\n",
       "      <td>NAA8</td>\n",
       "      <td>55028.4800</td>\n",
       "      <td>3 days</td>\n",
       "    </tr>\n",
       "    <tr>\n",
       "      <th>17</th>\n",
       "      <td>99 CE llc</td>\n",
       "      <td>3 days 00:00:00</td>\n",
       "      <td>U001</td>\n",
       "      <td>0100012638</td>\n",
       "      <td>2019-07-05</td>\n",
       "      <td>2019.0</td>\n",
       "      <td>1.929497e+09</td>\n",
       "      <td>2019-06-17</td>\n",
       "      <td>2019-07-02</td>\n",
       "      <td>2019-06-17</td>\n",
       "      <td>NAA8</td>\n",
       "      <td>59547.9600</td>\n",
       "      <td>3 days</td>\n",
       "    </tr>\n",
       "    <tr>\n",
       "      <th>18</th>\n",
       "      <td>99 CE systems</td>\n",
       "      <td>2 days 14:24:00</td>\n",
       "      <td>U001</td>\n",
       "      <td>100012638</td>\n",
       "      <td>2019-06-24</td>\n",
       "      <td>2019.0</td>\n",
       "      <td>1.929426e+09</td>\n",
       "      <td>2019-06-08</td>\n",
       "      <td>2019-06-23</td>\n",
       "      <td>2019-06-08</td>\n",
       "      <td>NAA8</td>\n",
       "      <td>23244.7200</td>\n",
       "      <td>1 days</td>\n",
       "    </tr>\n",
       "    <tr>\n",
       "      <th>19</th>\n",
       "      <td>99 CE systems</td>\n",
       "      <td>2 days 14:24:00</td>\n",
       "      <td>U001</td>\n",
       "      <td>0100012638</td>\n",
       "      <td>2019-06-12</td>\n",
       "      <td>2019.0</td>\n",
       "      <td>1.929386e+09</td>\n",
       "      <td>2019-05-27</td>\n",
       "      <td>2019-06-11</td>\n",
       "      <td>2019-05-27</td>\n",
       "      <td>NAA8</td>\n",
       "      <td>35508.3200</td>\n",
       "      <td>1 days</td>\n",
       "    </tr>\n",
       "    <tr>\n",
       "      <th>20</th>\n",
       "      <td>99 CE systems</td>\n",
       "      <td>2 days 14:24:00</td>\n",
       "      <td>U001</td>\n",
       "      <td>0100012638</td>\n",
       "      <td>2019-11-18</td>\n",
       "      <td>2019.0</td>\n",
       "      <td>1.930056e+09</td>\n",
       "      <td>2019-10-31</td>\n",
       "      <td>2019-11-15</td>\n",
       "      <td>2019-10-31</td>\n",
       "      <td>NAA8</td>\n",
       "      <td>12658.3000</td>\n",
       "      <td>3 days</td>\n",
       "    </tr>\n",
       "    <tr>\n",
       "      <th>21</th>\n",
       "      <td>99 CE systems</td>\n",
       "      <td>2 days 14:24:00</td>\n",
       "      <td>U001</td>\n",
       "      <td>0100012638</td>\n",
       "      <td>2019-07-11</td>\n",
       "      <td>2019.0</td>\n",
       "      <td>1.929511e+09</td>\n",
       "      <td>2019-06-19</td>\n",
       "      <td>2019-07-04</td>\n",
       "      <td>2019-06-19</td>\n",
       "      <td>NAA8</td>\n",
       "      <td>36325.1300</td>\n",
       "      <td>7 days</td>\n",
       "    </tr>\n",
       "    <tr>\n",
       "      <th>22</th>\n",
       "      <td>99 CE systems</td>\n",
       "      <td>2 days 14:24:00</td>\n",
       "      <td>U001</td>\n",
       "      <td>0100012638</td>\n",
       "      <td>2020-03-04</td>\n",
       "      <td>2020.0</td>\n",
       "      <td>1.930532e+09</td>\n",
       "      <td>2020-02-17</td>\n",
       "      <td>2020-03-03</td>\n",
       "      <td>2020-02-17</td>\n",
       "      <td>NAA8</td>\n",
       "      <td>56129.0500</td>\n",
       "      <td>1 days</td>\n",
       "    </tr>\n",
       "    <tr>\n",
       "      <th>23</th>\n",
       "      <td>99 CE trust</td>\n",
       "      <td>1 days 00:00:00</td>\n",
       "      <td>U001</td>\n",
       "      <td>0100012638</td>\n",
       "      <td>2019-04-01</td>\n",
       "      <td>2019.0</td>\n",
       "      <td>1.928970e+09</td>\n",
       "      <td>2019-03-16</td>\n",
       "      <td>2019-03-31</td>\n",
       "      <td>2019-03-16</td>\n",
       "      <td>NAA8</td>\n",
       "      <td>9994.2800</td>\n",
       "      <td>1 days</td>\n",
       "    </tr>\n",
       "    <tr>\n",
       "      <th>24</th>\n",
       "      <td>99 CE trust</td>\n",
       "      <td>1 days 00:00:00</td>\n",
       "      <td>U001</td>\n",
       "      <td>0100012638</td>\n",
       "      <td>2019-03-21</td>\n",
       "      <td>2019.0</td>\n",
       "      <td>1.928871e+09</td>\n",
       "      <td>2019-03-05</td>\n",
       "      <td>2019-03-20</td>\n",
       "      <td>2019-03-05</td>\n",
       "      <td>NAA8</td>\n",
       "      <td>3962.6400</td>\n",
       "      <td>1 days</td>\n",
       "    </tr>\n",
       "    <tr>\n",
       "      <th>25</th>\n",
       "      <td>99 CE us</td>\n",
       "      <td>1 days 00:00:00</td>\n",
       "      <td>U001</td>\n",
       "      <td>0100012638</td>\n",
       "      <td>2019-04-22</td>\n",
       "      <td>2019.0</td>\n",
       "      <td>1.929064e+09</td>\n",
       "      <td>2019-04-06</td>\n",
       "      <td>2019-04-21</td>\n",
       "      <td>2019-04-06</td>\n",
       "      <td>NAA8</td>\n",
       "      <td>6667.0500</td>\n",
       "      <td>1 days</td>\n",
       "    </tr>\n",
       "    <tr>\n",
       "      <th>26</th>\n",
       "      <td>99 CE us</td>\n",
       "      <td>1 days 00:00:00</td>\n",
       "      <td>U001</td>\n",
       "      <td>0100012638</td>\n",
       "      <td>2019-09-13</td>\n",
       "      <td>2019.0</td>\n",
       "      <td>1.929808e+09</td>\n",
       "      <td>2019-08-28</td>\n",
       "      <td>2019-09-12</td>\n",
       "      <td>2019-08-28</td>\n",
       "      <td>NAA8</td>\n",
       "      <td>14185.1400</td>\n",
       "      <td>1 days</td>\n",
       "    </tr>\n",
       "    <tr>\n",
       "      <th>27</th>\n",
       "      <td>A &amp; W F</td>\n",
       "      <td>2 days 00:00:00</td>\n",
       "      <td>CA02</td>\n",
       "      <td>0140104229</td>\n",
       "      <td>2019-03-18</td>\n",
       "      <td>2019.0</td>\n",
       "      <td>2.960532e+09</td>\n",
       "      <td>2019-03-05</td>\n",
       "      <td>2019-03-16</td>\n",
       "      <td>2019-03-06</td>\n",
       "      <td>CA10</td>\n",
       "      <td>2429.4870</td>\n",
       "      <td>2 days</td>\n",
       "    </tr>\n",
       "    <tr>\n",
       "      <th>28</th>\n",
       "      <td>A &amp; W F</td>\n",
       "      <td>2 days 00:00:00</td>\n",
       "      <td>CA02</td>\n",
       "      <td>0140104229</td>\n",
       "      <td>2020-02-21</td>\n",
       "      <td>2020.0</td>\n",
       "      <td>2.960613e+09</td>\n",
       "      <td>2020-02-07</td>\n",
       "      <td>2020-02-22</td>\n",
       "      <td>2020-02-12</td>\n",
       "      <td>CA10</td>\n",
       "      <td>1214.7435</td>\n",
       "      <td>-1 days</td>\n",
       "    </tr>\n",
       "    <tr>\n",
       "      <th>29</th>\n",
       "      <td>A &amp; W F</td>\n",
       "      <td>2 days 00:00:00</td>\n",
       "      <td>CA02</td>\n",
       "      <td>0140104229</td>\n",
       "      <td>2020-03-13</td>\n",
       "      <td>2020.0</td>\n",
       "      <td>2.960616e+09</td>\n",
       "      <td>2020-02-25</td>\n",
       "      <td>2020-03-06</td>\n",
       "      <td>2020-02-25</td>\n",
       "      <td>CA10</td>\n",
       "      <td>1457.6922</td>\n",
       "      <td>7 days</td>\n",
       "    </tr>\n",
       "    <tr>\n",
       "      <th>30</th>\n",
       "      <td>A &amp; W F</td>\n",
       "      <td>2 days 00:00:00</td>\n",
       "      <td>CA02</td>\n",
       "      <td>0140104229</td>\n",
       "      <td>2019-09-13</td>\n",
       "      <td>2019.0</td>\n",
       "      <td>2.960578e+09</td>\n",
       "      <td>2019-09-03</td>\n",
       "      <td>2019-09-13</td>\n",
       "      <td>2019-09-03</td>\n",
       "      <td>CA10</td>\n",
       "      <td>1214.7435</td>\n",
       "      <td>0 days</td>\n",
       "    </tr>\n",
       "    <tr>\n",
       "      <th>31</th>\n",
       "      <td>A &amp; W F associates</td>\n",
       "      <td>1 days 12:00:00</td>\n",
       "      <td>CA02</td>\n",
       "      <td>0140104229</td>\n",
       "      <td>2019-11-22</td>\n",
       "      <td>2019.0</td>\n",
       "      <td>2.960592e+09</td>\n",
       "      <td>2019-11-07</td>\n",
       "      <td>2019-11-18</td>\n",
       "      <td>2019-11-08</td>\n",
       "      <td>CA10</td>\n",
       "      <td>1457.6922</td>\n",
       "      <td>4 days</td>\n",
       "    </tr>\n",
       "    <tr>\n",
       "      <th>32</th>\n",
       "      <td>A &amp; W F associates</td>\n",
       "      <td>1 days 12:00:00</td>\n",
       "      <td>CA02</td>\n",
       "      <td>0140104229</td>\n",
       "      <td>2019-05-03</td>\n",
       "      <td>2019.0</td>\n",
       "      <td>2.960542e+09</td>\n",
       "      <td>2019-04-19</td>\n",
       "      <td>2019-05-04</td>\n",
       "      <td>2019-04-24</td>\n",
       "      <td>CA10</td>\n",
       "      <td>2429.4870</td>\n",
       "      <td>-1 days</td>\n",
       "    </tr>\n",
       "    <tr>\n",
       "      <th>33</th>\n",
       "      <td>A &amp; W F co</td>\n",
       "      <td>-5 days +12:00:00</td>\n",
       "      <td>CA02</td>\n",
       "      <td>0140104229</td>\n",
       "      <td>2019-03-06</td>\n",
       "      <td>2019.0</td>\n",
       "      <td>2.960529e+09</td>\n",
       "      <td>2019-03-04</td>\n",
       "      <td>2019-03-14</td>\n",
       "      <td>2019-03-04</td>\n",
       "      <td>CA10</td>\n",
       "      <td>3644.2305</td>\n",
       "      <td>-8 days</td>\n",
       "    </tr>\n",
       "    <tr>\n",
       "      <th>34</th>\n",
       "      <td>A &amp; W F co</td>\n",
       "      <td>-5 days +12:00:00</td>\n",
       "      <td>CA02</td>\n",
       "      <td>0140104229</td>\n",
       "      <td>2019-10-18</td>\n",
       "      <td>2019.0</td>\n",
       "      <td>2.960584e+09</td>\n",
       "      <td>2019-10-02</td>\n",
       "      <td>2019-10-19</td>\n",
       "      <td>2019-10-09</td>\n",
       "      <td>CA10</td>\n",
       "      <td>2429.4870</td>\n",
       "      <td>-1 days</td>\n",
       "    </tr>\n",
       "    <tr>\n",
       "      <th>35</th>\n",
       "      <td>A &amp; W F corp</td>\n",
       "      <td>0 days 00:00:00</td>\n",
       "      <td>CA02</td>\n",
       "      <td>0140104229</td>\n",
       "      <td>2019-02-01</td>\n",
       "      <td>2019.0</td>\n",
       "      <td>2.960523e+09</td>\n",
       "      <td>2019-01-15</td>\n",
       "      <td>2019-02-01</td>\n",
       "      <td>2019-01-22</td>\n",
       "      <td>CA10</td>\n",
       "      <td>2429.4870</td>\n",
       "      <td>0 days</td>\n",
       "    </tr>\n",
       "    <tr>\n",
       "      <th>36</th>\n",
       "      <td>A &amp; W F corporation</td>\n",
       "      <td>-1 days +09:36:00</td>\n",
       "      <td>CA02</td>\n",
       "      <td>0140104229</td>\n",
       "      <td>2019-01-25</td>\n",
       "      <td>2019.0</td>\n",
       "      <td>2.960522e+09</td>\n",
       "      <td>2019-01-10</td>\n",
       "      <td>2019-01-28</td>\n",
       "      <td>2019-01-18</td>\n",
       "      <td>CA10</td>\n",
       "      <td>1943.5896</td>\n",
       "      <td>-3 days</td>\n",
       "    </tr>\n",
       "    <tr>\n",
       "      <th>37</th>\n",
       "      <td>A &amp; W F corporation</td>\n",
       "      <td>-1 days +09:36:00</td>\n",
       "      <td>CA02</td>\n",
       "      <td>0140104229</td>\n",
       "      <td>2019-04-24</td>\n",
       "      <td>2019.0</td>\n",
       "      <td>2.960541e+09</td>\n",
       "      <td>2019-04-10</td>\n",
       "      <td>2019-04-21</td>\n",
       "      <td>2019-04-11</td>\n",
       "      <td>CA10</td>\n",
       "      <td>2429.4870</td>\n",
       "      <td>3 days</td>\n",
       "    </tr>\n",
       "    <tr>\n",
       "      <th>38</th>\n",
       "      <td>A &amp; W F corporation</td>\n",
       "      <td>-1 days +09:36:00</td>\n",
       "      <td>CA02</td>\n",
       "      <td>0140104229</td>\n",
       "      <td>2019-10-25</td>\n",
       "      <td>2019.0</td>\n",
       "      <td>2.960586e+09</td>\n",
       "      <td>2019-10-13</td>\n",
       "      <td>2019-10-26</td>\n",
       "      <td>2019-10-16</td>\n",
       "      <td>CA10</td>\n",
       "      <td>2186.5383</td>\n",
       "      <td>-1 days</td>\n",
       "    </tr>\n",
       "    <tr>\n",
       "      <th>39</th>\n",
       "      <td>A &amp; W F corporation</td>\n",
       "      <td>-1 days +09:36:00</td>\n",
       "      <td>CA02</td>\n",
       "      <td>0140104229</td>\n",
       "      <td>2020-02-14</td>\n",
       "      <td>2020.0</td>\n",
       "      <td>2.960611e+09</td>\n",
       "      <td>2020-02-04</td>\n",
       "      <td>2020-02-15</td>\n",
       "      <td>2020-02-05</td>\n",
       "      <td>CA10</td>\n",
       "      <td>3644.2305</td>\n",
       "      <td>-1 days</td>\n",
       "    </tr>\n",
       "    <tr>\n",
       "      <th>40</th>\n",
       "      <td>A &amp; W F corporation</td>\n",
       "      <td>-1 days +09:36:00</td>\n",
       "      <td>CA02</td>\n",
       "      <td>0140104229</td>\n",
       "      <td>2019-10-18</td>\n",
       "      <td>2019.0</td>\n",
       "      <td>2.960585e+09</td>\n",
       "      <td>2019-10-04</td>\n",
       "      <td>2019-10-19</td>\n",
       "      <td>2019-10-09</td>\n",
       "      <td>CA10</td>\n",
       "      <td>1214.7435</td>\n",
       "      <td>-1 days</td>\n",
       "    </tr>\n",
       "    <tr>\n",
       "      <th>41</th>\n",
       "      <td>A &amp; W F foundation</td>\n",
       "      <td>1 days 08:00:00</td>\n",
       "      <td>CA02</td>\n",
       "      <td>0140104229</td>\n",
       "      <td>2019-09-13</td>\n",
       "      <td>2019.0</td>\n",
       "      <td>2.960576e+09</td>\n",
       "      <td>2019-08-30</td>\n",
       "      <td>2019-09-09</td>\n",
       "      <td>2019-08-30</td>\n",
       "      <td>CA10</td>\n",
       "      <td>8503.2045</td>\n",
       "      <td>4 days</td>\n",
       "    </tr>\n",
       "    <tr>\n",
       "      <th>42</th>\n",
       "      <td>A &amp; W F foundation</td>\n",
       "      <td>1 days 08:00:00</td>\n",
       "      <td>CA02</td>\n",
       "      <td>0140104229</td>\n",
       "      <td>2019-02-18</td>\n",
       "      <td>2019.0</td>\n",
       "      <td>2.960525e+09</td>\n",
       "      <td>2019-02-02</td>\n",
       "      <td>2019-02-18</td>\n",
       "      <td>2019-02-08</td>\n",
       "      <td>CA10</td>\n",
       "      <td>3644.2305</td>\n",
       "      <td>0 days</td>\n",
       "    </tr>\n",
       "    <tr>\n",
       "      <th>43</th>\n",
       "      <td>A &amp; W F foundation</td>\n",
       "      <td>1 days 08:00:00</td>\n",
       "      <td>CA02</td>\n",
       "      <td>0140104229</td>\n",
       "      <td>2019-05-03</td>\n",
       "      <td>2019.0</td>\n",
       "      <td>2.960544e+09</td>\n",
       "      <td>2019-04-23</td>\n",
       "      <td>2019-05-03</td>\n",
       "      <td>2019-04-23</td>\n",
       "      <td>CA10</td>\n",
       "      <td>1214.7435</td>\n",
       "      <td>0 days</td>\n",
       "    </tr>\n",
       "    <tr>\n",
       "      <th>44</th>\n",
       "      <td>A &amp; W F llc</td>\n",
       "      <td>1 days 12:00:00</td>\n",
       "      <td>CA02</td>\n",
       "      <td>0140104229</td>\n",
       "      <td>2019-11-01</td>\n",
       "      <td>2019.0</td>\n",
       "      <td>2.960587e+09</td>\n",
       "      <td>2019-10-18</td>\n",
       "      <td>2019-10-28</td>\n",
       "      <td>2019-10-18</td>\n",
       "      <td>CA10</td>\n",
       "      <td>1457.6922</td>\n",
       "      <td>4 days</td>\n",
       "    </tr>\n",
       "    <tr>\n",
       "      <th>45</th>\n",
       "      <td>A &amp; W F llc</td>\n",
       "      <td>1 days 12:00:00</td>\n",
       "      <td>CA02</td>\n",
       "      <td>0140104229</td>\n",
       "      <td>2019-06-14</td>\n",
       "      <td>2019.0</td>\n",
       "      <td>2.960552e+09</td>\n",
       "      <td>2019-05-29</td>\n",
       "      <td>2019-06-09</td>\n",
       "      <td>2019-05-30</td>\n",
       "      <td>CA10</td>\n",
       "      <td>2429.4870</td>\n",
       "      <td>5 days</td>\n",
       "    </tr>\n",
       "    <tr>\n",
       "      <th>46</th>\n",
       "      <td>A &amp; W F llc</td>\n",
       "      <td>1 days 12:00:00</td>\n",
       "      <td>CA02</td>\n",
       "      <td>0140104229</td>\n",
       "      <td>2019-07-12</td>\n",
       "      <td>2019.0</td>\n",
       "      <td>2.960557e+09</td>\n",
       "      <td>2019-06-28</td>\n",
       "      <td>2019-07-08</td>\n",
       "      <td>2019-06-28</td>\n",
       "      <td>CA10</td>\n",
       "      <td>2429.4870</td>\n",
       "      <td>4 days</td>\n",
       "    </tr>\n",
       "    <tr>\n",
       "      <th>47</th>\n",
       "      <td>A &amp; W F llc</td>\n",
       "      <td>1 days 12:00:00</td>\n",
       "      <td>CA02</td>\n",
       "      <td>0140104229</td>\n",
       "      <td>2019-04-12</td>\n",
       "      <td>2019.0</td>\n",
       "      <td>2.960539e+09</td>\n",
       "      <td>2019-04-02</td>\n",
       "      <td>2019-04-19</td>\n",
       "      <td>2019-04-09</td>\n",
       "      <td>CA10</td>\n",
       "      <td>1214.7435</td>\n",
       "      <td>-7 days</td>\n",
       "    </tr>\n",
       "    <tr>\n",
       "      <th>48</th>\n",
       "      <td>A &amp; W F systems</td>\n",
       "      <td>6 days 00:00:00</td>\n",
       "      <td>CA02</td>\n",
       "      <td>0140104229</td>\n",
       "      <td>2019-03-18</td>\n",
       "      <td>2019.0</td>\n",
       "      <td>2.960532e+09</td>\n",
       "      <td>2019-03-02</td>\n",
       "      <td>2019-03-12</td>\n",
       "      <td>2019-03-02</td>\n",
       "      <td>CA10</td>\n",
       "      <td>4373.0766</td>\n",
       "      <td>6 days</td>\n",
       "    </tr>\n",
       "    <tr>\n",
       "      <th>49</th>\n",
       "      <td>A &amp; W F trust</td>\n",
       "      <td>3 days 00:00:00</td>\n",
       "      <td>CA02</td>\n",
       "      <td>0140104229</td>\n",
       "      <td>2019-09-20</td>\n",
       "      <td>2019.0</td>\n",
       "      <td>2.960578e+09</td>\n",
       "      <td>2019-09-06</td>\n",
       "      <td>2019-09-17</td>\n",
       "      <td>2019-09-07</td>\n",
       "      <td>CA10</td>\n",
       "      <td>4373.0766</td>\n",
       "      <td>3 days</td>\n",
       "    </tr>\n",
       "  </tbody>\n",
       "</table>\n",
       "</div>"
      ],
      "text/plain": [
       "          name_customer          avg_delay business_code cust_number  \\\n",
       "0              11078 us   17 days 00:00:00          CA02  0100054234   \n",
       "1      17135 associates -10 days +00:00:00          CA02  0100034821   \n",
       "2             17135 llc  -3 days +00:00:00          CA02  0100034821   \n",
       "3     236008 associates  -3 days +00:00:00          CA02  0100027281   \n",
       "4                99 CE     2 days 00:00:00          U001  0100012638   \n",
       "5                99 CE     2 days 00:00:00          U001  0100012638   \n",
       "6      99 CE associates    2 days 00:00:00          U001   100012638   \n",
       "7      99 CE associates    2 days 00:00:00          U001  0100012638   \n",
       "8              99 CE co    3 days 00:00:00          U001  0100012638   \n",
       "9     99 CE corporation    1 days 00:00:00          U001  0100012638   \n",
       "10    99 CE corporation    1 days 00:00:00          U001  0100012638   \n",
       "11     99 CE foundation    9 days 00:00:00          U001  0100012638   \n",
       "12     99 CE foundation    9 days 00:00:00          U001  0100012638   \n",
       "13     99 CE foundation    9 days 00:00:00          U001  0100012638   \n",
       "14             99 CE in    2 days 00:00:00          U001   100012638   \n",
       "15             99 CE in    2 days 00:00:00          U001  0100012638   \n",
       "16            99 CE llc    3 days 00:00:00          U001  0100012638   \n",
       "17            99 CE llc    3 days 00:00:00          U001  0100012638   \n",
       "18        99 CE systems    2 days 14:24:00          U001   100012638   \n",
       "19        99 CE systems    2 days 14:24:00          U001  0100012638   \n",
       "20        99 CE systems    2 days 14:24:00          U001  0100012638   \n",
       "21        99 CE systems    2 days 14:24:00          U001  0100012638   \n",
       "22        99 CE systems    2 days 14:24:00          U001  0100012638   \n",
       "23          99 CE trust    1 days 00:00:00          U001  0100012638   \n",
       "24          99 CE trust    1 days 00:00:00          U001  0100012638   \n",
       "25             99 CE us    1 days 00:00:00          U001  0100012638   \n",
       "26             99 CE us    1 days 00:00:00          U001  0100012638   \n",
       "27             A & W F     2 days 00:00:00          CA02  0140104229   \n",
       "28             A & W F     2 days 00:00:00          CA02  0140104229   \n",
       "29             A & W F     2 days 00:00:00          CA02  0140104229   \n",
       "30             A & W F     2 days 00:00:00          CA02  0140104229   \n",
       "31   A & W F associates    1 days 12:00:00          CA02  0140104229   \n",
       "32   A & W F associates    1 days 12:00:00          CA02  0140104229   \n",
       "33           A & W F co  -5 days +12:00:00          CA02  0140104229   \n",
       "34           A & W F co  -5 days +12:00:00          CA02  0140104229   \n",
       "35         A & W F corp    0 days 00:00:00          CA02  0140104229   \n",
       "36  A & W F corporation  -1 days +09:36:00          CA02  0140104229   \n",
       "37  A & W F corporation  -1 days +09:36:00          CA02  0140104229   \n",
       "38  A & W F corporation  -1 days +09:36:00          CA02  0140104229   \n",
       "39  A & W F corporation  -1 days +09:36:00          CA02  0140104229   \n",
       "40  A & W F corporation  -1 days +09:36:00          CA02  0140104229   \n",
       "41   A & W F foundation    1 days 08:00:00          CA02  0140104229   \n",
       "42   A & W F foundation    1 days 08:00:00          CA02  0140104229   \n",
       "43   A & W F foundation    1 days 08:00:00          CA02  0140104229   \n",
       "44          A & W F llc    1 days 12:00:00          CA02  0140104229   \n",
       "45          A & W F llc    1 days 12:00:00          CA02  0140104229   \n",
       "46          A & W F llc    1 days 12:00:00          CA02  0140104229   \n",
       "47          A & W F llc    1 days 12:00:00          CA02  0140104229   \n",
       "48      A & W F systems    6 days 00:00:00          CA02  0140104229   \n",
       "49        A & W F trust    3 days 00:00:00          CA02  0140104229   \n",
       "\n",
       "   clear_date  buisness_year        doc_id posting_date due_in_date  \\\n",
       "0  2019-05-02         2019.0  2.960539e+09   2019-04-04  2019-04-15   \n",
       "1  2019-10-22         2019.0  2.960588e+09   2019-10-21  2019-11-01   \n",
       "2  2020-02-20         2020.0  2.960609e+09   2020-02-11  2020-02-23   \n",
       "3  2019-11-25         2019.0  2.960594e+09   2019-11-15  2019-11-28   \n",
       "4  2020-02-03         2020.0  1.930410e+09   2020-01-17  2020-02-01   \n",
       "5  2020-02-24         2020.0  1.930500e+09   2020-02-07  2020-02-22   \n",
       "6  2019-06-24         2019.0  1.929446e+09   2019-06-07  2019-06-22   \n",
       "7  2019-08-12         2019.0  1.929665e+09   2019-07-26  2019-08-10   \n",
       "8  2019-04-29         2019.0  1.929116e+09   2019-04-11  2019-04-26   \n",
       "9  2019-04-22         2019.0  1.929073e+09   2019-04-06  2019-04-21   \n",
       "10 2019-10-30         2019.0  1.930012e+09   2019-10-14  2019-10-29   \n",
       "11 2019-02-07         2019.0  1.928552e+09   2019-01-03  2019-01-18   \n",
       "12 2019-12-03         2019.0  1.930143e+09   2019-11-12  2019-11-27   \n",
       "13 2019-10-31         2019.0  1.930010e+09   2019-10-15  2019-10-30   \n",
       "14 2019-04-08         2019.0  1.928986e+09   2019-03-22  2019-04-06   \n",
       "15 2019-07-15         2019.0  1.929550e+09   2019-06-28  2019-07-13   \n",
       "16 2019-11-25         2019.0  1.930115e+09   2019-11-07  2019-11-22   \n",
       "17 2019-07-05         2019.0  1.929497e+09   2019-06-17  2019-07-02   \n",
       "18 2019-06-24         2019.0  1.929426e+09   2019-06-08  2019-06-23   \n",
       "19 2019-06-12         2019.0  1.929386e+09   2019-05-27  2019-06-11   \n",
       "20 2019-11-18         2019.0  1.930056e+09   2019-10-31  2019-11-15   \n",
       "21 2019-07-11         2019.0  1.929511e+09   2019-06-19  2019-07-04   \n",
       "22 2020-03-04         2020.0  1.930532e+09   2020-02-17  2020-03-03   \n",
       "23 2019-04-01         2019.0  1.928970e+09   2019-03-16  2019-03-31   \n",
       "24 2019-03-21         2019.0  1.928871e+09   2019-03-05  2019-03-20   \n",
       "25 2019-04-22         2019.0  1.929064e+09   2019-04-06  2019-04-21   \n",
       "26 2019-09-13         2019.0  1.929808e+09   2019-08-28  2019-09-12   \n",
       "27 2019-03-18         2019.0  2.960532e+09   2019-03-05  2019-03-16   \n",
       "28 2020-02-21         2020.0  2.960613e+09   2020-02-07  2020-02-22   \n",
       "29 2020-03-13         2020.0  2.960616e+09   2020-02-25  2020-03-06   \n",
       "30 2019-09-13         2019.0  2.960578e+09   2019-09-03  2019-09-13   \n",
       "31 2019-11-22         2019.0  2.960592e+09   2019-11-07  2019-11-18   \n",
       "32 2019-05-03         2019.0  2.960542e+09   2019-04-19  2019-05-04   \n",
       "33 2019-03-06         2019.0  2.960529e+09   2019-03-04  2019-03-14   \n",
       "34 2019-10-18         2019.0  2.960584e+09   2019-10-02  2019-10-19   \n",
       "35 2019-02-01         2019.0  2.960523e+09   2019-01-15  2019-02-01   \n",
       "36 2019-01-25         2019.0  2.960522e+09   2019-01-10  2019-01-28   \n",
       "37 2019-04-24         2019.0  2.960541e+09   2019-04-10  2019-04-21   \n",
       "38 2019-10-25         2019.0  2.960586e+09   2019-10-13  2019-10-26   \n",
       "39 2020-02-14         2020.0  2.960611e+09   2020-02-04  2020-02-15   \n",
       "40 2019-10-18         2019.0  2.960585e+09   2019-10-04  2019-10-19   \n",
       "41 2019-09-13         2019.0  2.960576e+09   2019-08-30  2019-09-09   \n",
       "42 2019-02-18         2019.0  2.960525e+09   2019-02-02  2019-02-18   \n",
       "43 2019-05-03         2019.0  2.960544e+09   2019-04-23  2019-05-03   \n",
       "44 2019-11-01         2019.0  2.960587e+09   2019-10-18  2019-10-28   \n",
       "45 2019-06-14         2019.0  2.960552e+09   2019-05-29  2019-06-09   \n",
       "46 2019-07-12         2019.0  2.960557e+09   2019-06-28  2019-07-08   \n",
       "47 2019-04-12         2019.0  2.960539e+09   2019-04-02  2019-04-19   \n",
       "48 2019-03-18         2019.0  2.960532e+09   2019-03-02  2019-03-12   \n",
       "49 2019-09-20         2019.0  2.960578e+09   2019-09-06  2019-09-17   \n",
       "\n",
       "   baseline_create_date cust_payment_terms  converted_usd    Delay  \n",
       "0            2019-04-05               CA10      8104.2150  17 days  \n",
       "1            2019-10-22               CA10     62977.2200 -10 days  \n",
       "2            2020-02-13               CA10       891.1200  -3 days  \n",
       "3            2019-11-18               CA10     28567.7114  -3 days  \n",
       "4            2020-01-17               NAA8     38092.5300   2 days  \n",
       "5            2020-02-07               NAA8     14029.4600   2 days  \n",
       "6            2019-06-07               NAA8     56129.0500   2 days  \n",
       "7            2019-07-26               NAA8      9661.1400   2 days  \n",
       "8            2019-04-11               NAA8     33076.5100   3 days  \n",
       "9            2019-04-06               NAA8      2575.9500   1 days  \n",
       "10           2019-10-14               NAA8     41391.1900   1 days  \n",
       "11           2019-01-03               NAA8     33673.0400  20 days  \n",
       "12           2019-11-12               NAA8     54779.9200   6 days  \n",
       "13           2019-10-15               NAA8     39723.0900   1 days  \n",
       "14           2019-03-22               NAA8     14597.4900   2 days  \n",
       "15           2019-06-28               NAA8     58703.2200   2 days  \n",
       "16           2019-11-07               NAA8     55028.4800   3 days  \n",
       "17           2019-06-17               NAA8     59547.9600   3 days  \n",
       "18           2019-06-08               NAA8     23244.7200   1 days  \n",
       "19           2019-05-27               NAA8     35508.3200   1 days  \n",
       "20           2019-10-31               NAA8     12658.3000   3 days  \n",
       "21           2019-06-19               NAA8     36325.1300   7 days  \n",
       "22           2020-02-17               NAA8     56129.0500   1 days  \n",
       "23           2019-03-16               NAA8      9994.2800   1 days  \n",
       "24           2019-03-05               NAA8      3962.6400   1 days  \n",
       "25           2019-04-06               NAA8      6667.0500   1 days  \n",
       "26           2019-08-28               NAA8     14185.1400   1 days  \n",
       "27           2019-03-06               CA10      2429.4870   2 days  \n",
       "28           2020-02-12               CA10      1214.7435  -1 days  \n",
       "29           2020-02-25               CA10      1457.6922   7 days  \n",
       "30           2019-09-03               CA10      1214.7435   0 days  \n",
       "31           2019-11-08               CA10      1457.6922   4 days  \n",
       "32           2019-04-24               CA10      2429.4870  -1 days  \n",
       "33           2019-03-04               CA10      3644.2305  -8 days  \n",
       "34           2019-10-09               CA10      2429.4870  -1 days  \n",
       "35           2019-01-22               CA10      2429.4870   0 days  \n",
       "36           2019-01-18               CA10      1943.5896  -3 days  \n",
       "37           2019-04-11               CA10      2429.4870   3 days  \n",
       "38           2019-10-16               CA10      2186.5383  -1 days  \n",
       "39           2020-02-05               CA10      3644.2305  -1 days  \n",
       "40           2019-10-09               CA10      1214.7435  -1 days  \n",
       "41           2019-08-30               CA10      8503.2045   4 days  \n",
       "42           2019-02-08               CA10      3644.2305   0 days  \n",
       "43           2019-04-23               CA10      1214.7435   0 days  \n",
       "44           2019-10-18               CA10      1457.6922   4 days  \n",
       "45           2019-05-30               CA10      2429.4870   5 days  \n",
       "46           2019-06-28               CA10      2429.4870   4 days  \n",
       "47           2019-04-09               CA10      1214.7435  -7 days  \n",
       "48           2019-03-02               CA10      4373.0766   6 days  \n",
       "49           2019-09-07               CA10      4373.0766   3 days  "
      ]
     },
     "execution_count": 51,
     "metadata": {},
     "output_type": "execute_result"
    }
   ],
   "source": [
    "trainData.head(50)"
   ]
  },
  {
   "cell_type": "markdown",
   "id": "64b995e8",
   "metadata": {
    "id": "64b995e8"
   },
   "source": [
    "You need to add the \"avg_delay\" column with the maindata, mapped with \"name_customer\" column\n",
    "\n",
    " - Note - You need to use map function to map the avgdelay with respect to \"name_customer\" column"
   ]
  },
  {
   "cell_type": "markdown",
   "id": "1d332525",
   "metadata": {
    "id": "1d332525"
   },
   "source": [
    "### Observe that the \"avg_delay\" column is in days format. You need to change the format into seconds\n",
    "\n",
    "- Days_format :  17 days 00:00:00\n",
    "- Format in seconds : 1641600.0"
   ]
  },
  {
   "cell_type": "code",
   "execution_count": 52,
   "id": "d5f1041e",
   "metadata": {
    "id": "d5f1041e"
   },
   "outputs": [],
   "source": [
    "trainData['avg_delay']=trainData['avg_delay'].dt.total_seconds()\n"
   ]
  },
  {
   "cell_type": "markdown",
   "id": "OvgtHSsx_O-n",
   "metadata": {
    "id": "OvgtHSsx_O-n"
   },
   "source": [
    "### Display the maindata dataframe "
   ]
  },
  {
   "cell_type": "code",
   "execution_count": 53,
   "id": "97ca9c45",
   "metadata": {
    "id": "97ca9c45"
   },
   "outputs": [
    {
     "data": {
      "text/html": [
       "<div>\n",
       "<style scoped>\n",
       "    .dataframe tbody tr th:only-of-type {\n",
       "        vertical-align: middle;\n",
       "    }\n",
       "\n",
       "    .dataframe tbody tr th {\n",
       "        vertical-align: top;\n",
       "    }\n",
       "\n",
       "    .dataframe thead th {\n",
       "        text-align: right;\n",
       "    }\n",
       "</style>\n",
       "<table border=\"1\" class=\"dataframe\">\n",
       "  <thead>\n",
       "    <tr style=\"text-align: right;\">\n",
       "      <th></th>\n",
       "      <th>name_customer</th>\n",
       "      <th>avg_delay</th>\n",
       "      <th>business_code</th>\n",
       "      <th>cust_number</th>\n",
       "      <th>clear_date</th>\n",
       "      <th>buisness_year</th>\n",
       "      <th>doc_id</th>\n",
       "      <th>posting_date</th>\n",
       "      <th>due_in_date</th>\n",
       "      <th>baseline_create_date</th>\n",
       "      <th>cust_payment_terms</th>\n",
       "      <th>converted_usd</th>\n",
       "      <th>Delay</th>\n",
       "    </tr>\n",
       "  </thead>\n",
       "  <tbody>\n",
       "    <tr>\n",
       "      <th>0</th>\n",
       "      <td>11078 us</td>\n",
       "      <td>1468800.0</td>\n",
       "      <td>CA02</td>\n",
       "      <td>0100054234</td>\n",
       "      <td>2019-05-02</td>\n",
       "      <td>2019.0</td>\n",
       "      <td>2.960539e+09</td>\n",
       "      <td>2019-04-04</td>\n",
       "      <td>2019-04-15</td>\n",
       "      <td>2019-04-05</td>\n",
       "      <td>CA10</td>\n",
       "      <td>8104.2150</td>\n",
       "      <td>17 days</td>\n",
       "    </tr>\n",
       "    <tr>\n",
       "      <th>1</th>\n",
       "      <td>17135 associates</td>\n",
       "      <td>-864000.0</td>\n",
       "      <td>CA02</td>\n",
       "      <td>0100034821</td>\n",
       "      <td>2019-10-22</td>\n",
       "      <td>2019.0</td>\n",
       "      <td>2.960588e+09</td>\n",
       "      <td>2019-10-21</td>\n",
       "      <td>2019-11-01</td>\n",
       "      <td>2019-10-22</td>\n",
       "      <td>CA10</td>\n",
       "      <td>62977.2200</td>\n",
       "      <td>-10 days</td>\n",
       "    </tr>\n",
       "    <tr>\n",
       "      <th>2</th>\n",
       "      <td>17135 llc</td>\n",
       "      <td>-259200.0</td>\n",
       "      <td>CA02</td>\n",
       "      <td>0100034821</td>\n",
       "      <td>2020-02-20</td>\n",
       "      <td>2020.0</td>\n",
       "      <td>2.960609e+09</td>\n",
       "      <td>2020-02-11</td>\n",
       "      <td>2020-02-23</td>\n",
       "      <td>2020-02-13</td>\n",
       "      <td>CA10</td>\n",
       "      <td>891.1200</td>\n",
       "      <td>-3 days</td>\n",
       "    </tr>\n",
       "    <tr>\n",
       "      <th>3</th>\n",
       "      <td>236008 associates</td>\n",
       "      <td>-259200.0</td>\n",
       "      <td>CA02</td>\n",
       "      <td>0100027281</td>\n",
       "      <td>2019-11-25</td>\n",
       "      <td>2019.0</td>\n",
       "      <td>2.960594e+09</td>\n",
       "      <td>2019-11-15</td>\n",
       "      <td>2019-11-28</td>\n",
       "      <td>2019-11-18</td>\n",
       "      <td>CA10</td>\n",
       "      <td>28567.7114</td>\n",
       "      <td>-3 days</td>\n",
       "    </tr>\n",
       "    <tr>\n",
       "      <th>4</th>\n",
       "      <td>99 CE</td>\n",
       "      <td>172800.0</td>\n",
       "      <td>U001</td>\n",
       "      <td>0100012638</td>\n",
       "      <td>2020-02-03</td>\n",
       "      <td>2020.0</td>\n",
       "      <td>1.930410e+09</td>\n",
       "      <td>2020-01-17</td>\n",
       "      <td>2020-02-01</td>\n",
       "      <td>2020-01-17</td>\n",
       "      <td>NAA8</td>\n",
       "      <td>38092.5300</td>\n",
       "      <td>2 days</td>\n",
       "    </tr>\n",
       "    <tr>\n",
       "      <th>...</th>\n",
       "      <td>...</td>\n",
       "      <td>...</td>\n",
       "      <td>...</td>\n",
       "      <td>...</td>\n",
       "      <td>...</td>\n",
       "      <td>...</td>\n",
       "      <td>...</td>\n",
       "      <td>...</td>\n",
       "      <td>...</td>\n",
       "      <td>...</td>\n",
       "      <td>...</td>\n",
       "      <td>...</td>\n",
       "      <td>...</td>\n",
       "    </tr>\n",
       "    <tr>\n",
       "      <th>39153</th>\n",
       "      <td>YEN BROS corporation</td>\n",
       "      <td>-43200.0</td>\n",
       "      <td>CA02</td>\n",
       "      <td>0140106212</td>\n",
       "      <td>2019-06-28</td>\n",
       "      <td>2019.0</td>\n",
       "      <td>2.960553e+09</td>\n",
       "      <td>2019-06-08</td>\n",
       "      <td>2019-06-28</td>\n",
       "      <td>2019-06-18</td>\n",
       "      <td>CA10</td>\n",
       "      <td>18677.1800</td>\n",
       "      <td>0 days</td>\n",
       "    </tr>\n",
       "    <tr>\n",
       "      <th>39154</th>\n",
       "      <td>YEN BROS corporation</td>\n",
       "      <td>-43200.0</td>\n",
       "      <td>CA02</td>\n",
       "      <td>0140106212</td>\n",
       "      <td>2019-11-29</td>\n",
       "      <td>2019.0</td>\n",
       "      <td>2.960593e+09</td>\n",
       "      <td>2019-11-11</td>\n",
       "      <td>2019-11-30</td>\n",
       "      <td>2019-11-20</td>\n",
       "      <td>CA10</td>\n",
       "      <td>25417.2388</td>\n",
       "      <td>-1 days</td>\n",
       "    </tr>\n",
       "    <tr>\n",
       "      <th>39155</th>\n",
       "      <td>YEN BROS llc</td>\n",
       "      <td>-172800.0</td>\n",
       "      <td>CA02</td>\n",
       "      <td>0140106212</td>\n",
       "      <td>2019-09-26</td>\n",
       "      <td>2019.0</td>\n",
       "      <td>2.960579e+09</td>\n",
       "      <td>2019-09-09</td>\n",
       "      <td>2019-09-28</td>\n",
       "      <td>2019-09-18</td>\n",
       "      <td>CA10</td>\n",
       "      <td>2837.5141</td>\n",
       "      <td>-2 days</td>\n",
       "    </tr>\n",
       "    <tr>\n",
       "      <th>39156</th>\n",
       "      <td>ZARCO co</td>\n",
       "      <td>-86400.0</td>\n",
       "      <td>CA02</td>\n",
       "      <td>0100034823</td>\n",
       "      <td>2019-05-22</td>\n",
       "      <td>2019.0</td>\n",
       "      <td>2.960548e+09</td>\n",
       "      <td>2019-05-10</td>\n",
       "      <td>2019-05-23</td>\n",
       "      <td>2019-05-13</td>\n",
       "      <td>CA10</td>\n",
       "      <td>25601.7433</td>\n",
       "      <td>-1 days</td>\n",
       "    </tr>\n",
       "    <tr>\n",
       "      <th>39157</th>\n",
       "      <td>ZIYAD  us</td>\n",
       "      <td>518400.0</td>\n",
       "      <td>U013</td>\n",
       "      <td>0100017600</td>\n",
       "      <td>2019-08-05</td>\n",
       "      <td>2019.0</td>\n",
       "      <td>1.991825e+09</td>\n",
       "      <td>2019-05-01</td>\n",
       "      <td>2019-07-30</td>\n",
       "      <td>2019-05-01</td>\n",
       "      <td>NAUY</td>\n",
       "      <td>106067.5000</td>\n",
       "      <td>6 days</td>\n",
       "    </tr>\n",
       "  </tbody>\n",
       "</table>\n",
       "<p>39158 rows × 13 columns</p>\n",
       "</div>"
      ],
      "text/plain": [
       "              name_customer  avg_delay business_code cust_number clear_date  \\\n",
       "0                  11078 us  1468800.0          CA02  0100054234 2019-05-02   \n",
       "1          17135 associates  -864000.0          CA02  0100034821 2019-10-22   \n",
       "2                 17135 llc  -259200.0          CA02  0100034821 2020-02-20   \n",
       "3         236008 associates  -259200.0          CA02  0100027281 2019-11-25   \n",
       "4                    99 CE    172800.0          U001  0100012638 2020-02-03   \n",
       "...                     ...        ...           ...         ...        ...   \n",
       "39153  YEN BROS corporation   -43200.0          CA02  0140106212 2019-06-28   \n",
       "39154  YEN BROS corporation   -43200.0          CA02  0140106212 2019-11-29   \n",
       "39155          YEN BROS llc  -172800.0          CA02  0140106212 2019-09-26   \n",
       "39156              ZARCO co   -86400.0          CA02  0100034823 2019-05-22   \n",
       "39157             ZIYAD  us   518400.0          U013  0100017600 2019-08-05   \n",
       "\n",
       "       buisness_year        doc_id posting_date due_in_date  \\\n",
       "0             2019.0  2.960539e+09   2019-04-04  2019-04-15   \n",
       "1             2019.0  2.960588e+09   2019-10-21  2019-11-01   \n",
       "2             2020.0  2.960609e+09   2020-02-11  2020-02-23   \n",
       "3             2019.0  2.960594e+09   2019-11-15  2019-11-28   \n",
       "4             2020.0  1.930410e+09   2020-01-17  2020-02-01   \n",
       "...              ...           ...          ...         ...   \n",
       "39153         2019.0  2.960553e+09   2019-06-08  2019-06-28   \n",
       "39154         2019.0  2.960593e+09   2019-11-11  2019-11-30   \n",
       "39155         2019.0  2.960579e+09   2019-09-09  2019-09-28   \n",
       "39156         2019.0  2.960548e+09   2019-05-10  2019-05-23   \n",
       "39157         2019.0  1.991825e+09   2019-05-01  2019-07-30   \n",
       "\n",
       "      baseline_create_date cust_payment_terms  converted_usd    Delay  \n",
       "0               2019-04-05               CA10      8104.2150  17 days  \n",
       "1               2019-10-22               CA10     62977.2200 -10 days  \n",
       "2               2020-02-13               CA10       891.1200  -3 days  \n",
       "3               2019-11-18               CA10     28567.7114  -3 days  \n",
       "4               2020-01-17               NAA8     38092.5300   2 days  \n",
       "...                    ...                ...            ...      ...  \n",
       "39153           2019-06-18               CA10     18677.1800   0 days  \n",
       "39154           2019-11-20               CA10     25417.2388  -1 days  \n",
       "39155           2019-09-18               CA10      2837.5141  -2 days  \n",
       "39156           2019-05-13               CA10     25601.7433  -1 days  \n",
       "39157           2019-05-01               NAUY    106067.5000   6 days  \n",
       "\n",
       "[39158 rows x 13 columns]"
      ]
     },
     "execution_count": 53,
     "metadata": {},
     "output_type": "execute_result"
    }
   ],
   "source": [
    "trainData"
   ]
  },
  {
   "cell_type": "markdown",
   "id": "ae24c7bb",
   "metadata": {
    "id": "ae24c7bb"
   },
   "source": [
    "### Since you have created the \"avg_delay\" column from \"Delay\" and \"clear_date\" column, there is no need of these two columns anymore \n",
    "\n",
    "- You are expected to drop \"Delay\" and \"clear_date\" columns from maindata dataframe "
   ]
  },
  {
   "cell_type": "code",
   "execution_count": 54,
   "id": "78a61ab9",
   "metadata": {
    "id": "78a61ab9"
   },
   "outputs": [],
   "source": [
    "trainData.drop(columns=['Delay','clear_date'],inplace=True)"
   ]
  },
  {
   "cell_type": "code",
   "execution_count": null,
   "id": "148c2675",
   "metadata": {},
   "outputs": [],
   "source": []
  },
  {
   "cell_type": "markdown",
   "id": "ae724bfc",
   "metadata": {
    "id": "ae724bfc"
   },
   "source": [
    "# Splitting of Train and the Test Data"
   ]
  },
  {
   "cell_type": "markdown",
   "id": "cb6f0264",
   "metadata": {
    "id": "cb6f0264"
   },
   "source": [
    "### You need to split the \"maindata\" columns into X and y dataframe\n",
    "\n",
    "- Note - y should have the target column i.e. \"avg_delay\" and the other column should be in X\n",
    "\n",
    "- X is going to hold the source fields and y will be going to hold the target fields"
   ]
  },
  {
   "cell_type": "code",
   "execution_count": 55,
   "id": "75ab29ab",
   "metadata": {
    "id": "75ab29ab"
   },
   "outputs": [],
   "source": [
    "X_train, X_loc_test, y_train, y_loc_test = train_test_split(\n",
    "    trainData.drop(labels=['avg_delay'],axis=1),\n",
    "    trainData['avg_delay'],\n",
    "    test_size=0.4,\n",
    "    random_state=0)"
   ]
  },
  {
   "cell_type": "code",
   "execution_count": null,
   "id": "6412c62b",
   "metadata": {
    "id": "6412c62b"
   },
   "outputs": [],
   "source": []
  },
  {
   "cell_type": "markdown",
   "id": "1c2942bf",
   "metadata": {
    "id": "1c2942bf"
   },
   "source": [
    "#### You are expected to split both the dataframes into train and test format in 60:40 ratio \n",
    "\n",
    "- Note - The expected output should be in \"X_train\", \"X_loc_test\", \"y_train\", \"y_loc_test\" format "
   ]
  },
  {
   "cell_type": "code",
   "execution_count": 56,
   "id": "d92160a5",
   "metadata": {
    "id": "d92160a5"
   },
   "outputs": [
    {
     "name": "stdout",
     "output_type": "stream",
     "text": [
      "(23494, 10) (15664, 10) (23494,) (15664,)\n"
     ]
    }
   ],
   "source": [
    "print(X_train.shape, X_loc_test.shape, y_train.shape, y_loc_test.shape )"
   ]
  },
  {
   "cell_type": "markdown",
   "id": "p4OME62pDufR",
   "metadata": {
    "id": "p4OME62pDufR"
   },
   "source": [
    "### Please check for the number of rows and columns of all the new dataframes (all 4)"
   ]
  },
  {
   "cell_type": "code",
   "execution_count": 57,
   "id": "48328d0a",
   "metadata": {
    "id": "48328d0a"
   },
   "outputs": [
    {
     "name": "stdout",
     "output_type": "stream",
     "text": [
      "(23494, 10) (15664, 10) (23494,) (15664,)\n"
     ]
    }
   ],
   "source": [
    "print(X_train.shape, X_loc_test.shape, y_train.shape, y_loc_test.shape )"
   ]
  },
  {
   "cell_type": "markdown",
   "id": "4a68ed71",
   "metadata": {
    "id": "4a68ed71"
   },
   "source": [
    "### Now you are expected to split the \"X_loc_test\" and \"y_loc_test\" dataset into \"Test\" and \"Validation\" (as the names given below) dataframe with 50:50 format \n",
    "\n",
    "- Note - The expected output should be in \"X_val\", \"X_test\", \"y_val\", \"y_test\" format"
   ]
  },
  {
   "cell_type": "code",
   "execution_count": 58,
   "id": "b56c62f2",
   "metadata": {
    "id": "b56c62f2"
   },
   "outputs": [],
   "source": [
    "X_val,X_test,y_val,y_test=train_test_split(X_loc_test,y_loc_test,test_size=0.5,random_state=0)"
   ]
  },
  {
   "cell_type": "markdown",
   "id": "bJTSAskvERH1",
   "metadata": {
    "id": "bJTSAskvERH1"
   },
   "source": [
    "### Please check for the number of rows and columns of all the 4 dataframes "
   ]
  },
  {
   "cell_type": "code",
   "execution_count": 59,
   "id": "845d7564",
   "metadata": {
    "id": "845d7564"
   },
   "outputs": [
    {
     "name": "stdout",
     "output_type": "stream",
     "text": [
      "(7832, 10) (7832, 10) (7832,) (7832,)\n"
     ]
    }
   ],
   "source": [
    "print(X_val.shape,X_test.shape,y_val.shape,y_test.shape)"
   ]
  },
  {
   "cell_type": "code",
   "execution_count": null,
   "id": "5b3d9648",
   "metadata": {},
   "outputs": [],
   "source": []
  },
  {
   "cell_type": "markdown",
   "id": "110fa872",
   "metadata": {
    "id": "110fa872"
   },
   "source": [
    "# Exploratory Data Analysis (EDA) "
   ]
  },
  {
   "cell_type": "markdown",
   "id": "ffc8fe0f",
   "metadata": {
    "id": "ffc8fe0f"
   },
   "source": [
    "### Distribution Plot of the target variable (use the dataframe which contains the target field)\n",
    "\n",
    "- Note - You are expected to make a distribution plot for the target variable "
   ]
  },
  {
   "cell_type": "code",
   "execution_count": 60,
   "id": "ba2bf8ed",
   "metadata": {
    "id": "ba2bf8ed"
   },
   "outputs": [
    {
     "name": "stderr",
     "output_type": "stream",
     "text": [
      "C:\\Users\\yeeme\\anaconda3\\lib\\site-packages\\seaborn\\distributions.py:2557: FutureWarning: `distplot` is a deprecated function and will be removed in a future version. Please adapt your code to use either `displot` (a figure-level function with similar flexibility) or `histplot` (an axes-level function for histograms).\n",
      "  warnings.warn(msg, FutureWarning)\n"
     ]
    },
    {
     "data": {
      "text/plain": [
       "<AxesSubplot:xlabel='avg_delay', ylabel='Density'>"
      ]
     },
     "execution_count": 60,
     "metadata": {},
     "output_type": "execute_result"
    },
    {
     "data": {
      "image/png": "[encoded data removed]",
      "text/plain": [
       "<Figure size 1080x720 with 1 Axes>"
      ]
     },
     "metadata": {
      "needs_background": "light"
     },
     "output_type": "display_data"
    }
   ],
   "source": [
    "fig, ax = plt.subplots()\n",
    "fig.set_size_inches(15, 10)\n",
    "sns.distplot(y_train,color='maroon')"
   ]
  },
  {
   "cell_type": "markdown",
   "id": "d0e323a3",
   "metadata": {
    "id": "d0e323a3"
   },
   "source": [
    "### You are expected to group the X_train dataset on 'name_customer' column with 'doc_id' in the x_train set\n",
    "\n",
    "### Need to store the outcome into a new dataframe \n",
    "\n",
    "- Note code given for groupby statement- X_train.groupby(by=['name_customer'], as_index=False)['doc_id'].count()"
   ]
  },
  {
   "cell_type": "code",
   "execution_count": 61,
   "id": "f7acf0ee",
   "metadata": {
    "id": "f7acf0ee"
   },
   "outputs": [],
   "source": [
    "x_train=X_train.groupby(by=['name_customer'], as_index=False)['doc_id'].count()"
   ]
  },
  {
   "cell_type": "code",
   "execution_count": 62,
   "id": "74d54388",
   "metadata": {},
   "outputs": [
    {
     "data": {
      "text/html": [
       "<div>\n",
       "<style scoped>\n",
       "    .dataframe tbody tr th:only-of-type {\n",
       "        vertical-align: middle;\n",
       "    }\n",
       "\n",
       "    .dataframe tbody tr th {\n",
       "        vertical-align: top;\n",
       "    }\n",
       "\n",
       "    .dataframe thead th {\n",
       "        text-align: right;\n",
       "    }\n",
       "</style>\n",
       "<table border=\"1\" class=\"dataframe\">\n",
       "  <thead>\n",
       "    <tr style=\"text-align: right;\">\n",
       "      <th></th>\n",
       "      <th>name_customer</th>\n",
       "      <th>doc_id</th>\n",
       "    </tr>\n",
       "  </thead>\n",
       "  <tbody>\n",
       "    <tr>\n",
       "      <th>0</th>\n",
       "      <td>11078 us</td>\n",
       "      <td>1</td>\n",
       "    </tr>\n",
       "    <tr>\n",
       "      <th>1</th>\n",
       "      <td>17135 associates</td>\n",
       "      <td>1</td>\n",
       "    </tr>\n",
       "    <tr>\n",
       "      <th>2</th>\n",
       "      <td>17135 llc</td>\n",
       "      <td>1</td>\n",
       "    </tr>\n",
       "    <tr>\n",
       "      <th>3</th>\n",
       "      <td>99 CE</td>\n",
       "      <td>1</td>\n",
       "    </tr>\n",
       "    <tr>\n",
       "      <th>4</th>\n",
       "      <td>99 CE co</td>\n",
       "      <td>1</td>\n",
       "    </tr>\n",
       "    <tr>\n",
       "      <th>...</th>\n",
       "      <td>...</td>\n",
       "      <td>...</td>\n",
       "    </tr>\n",
       "    <tr>\n",
       "      <th>3068</th>\n",
       "      <td>Y H trust</td>\n",
       "      <td>2</td>\n",
       "    </tr>\n",
       "    <tr>\n",
       "      <th>3069</th>\n",
       "      <td>YAEGER corp</td>\n",
       "      <td>1</td>\n",
       "    </tr>\n",
       "    <tr>\n",
       "      <th>3070</th>\n",
       "      <td>YEN BROS corp</td>\n",
       "      <td>1</td>\n",
       "    </tr>\n",
       "    <tr>\n",
       "      <th>3071</th>\n",
       "      <td>YEN BROS corporation</td>\n",
       "      <td>1</td>\n",
       "    </tr>\n",
       "    <tr>\n",
       "      <th>3072</th>\n",
       "      <td>YEN BROS llc</td>\n",
       "      <td>1</td>\n",
       "    </tr>\n",
       "  </tbody>\n",
       "</table>\n",
       "<p>3073 rows × 2 columns</p>\n",
       "</div>"
      ],
      "text/plain": [
       "             name_customer  doc_id\n",
       "0                 11078 us       1\n",
       "1         17135 associates       1\n",
       "2                17135 llc       1\n",
       "3                   99 CE        1\n",
       "4                 99 CE co       1\n",
       "...                    ...     ...\n",
       "3068             Y H trust       2\n",
       "3069           YAEGER corp       1\n",
       "3070         YEN BROS corp       1\n",
       "3071  YEN BROS corporation       1\n",
       "3072          YEN BROS llc       1\n",
       "\n",
       "[3073 rows x 2 columns]"
      ]
     },
     "execution_count": 62,
     "metadata": {},
     "output_type": "execute_result"
    }
   ],
   "source": [
    "x_train"
   ]
  },
  {
   "cell_type": "markdown",
   "id": "cA43bFffFt6i",
   "metadata": {
    "id": "cA43bFffFt6i"
   },
   "source": [
    "### You can make another distribution plot of the \"doc_id\" column from x_train"
   ]
  },
  {
   "cell_type": "code",
   "execution_count": 63,
   "id": "9576bf33",
   "metadata": {
    "id": "9576bf33"
   },
   "outputs": [
    {
     "name": "stderr",
     "output_type": "stream",
     "text": [
      "C:\\Users\\yeeme\\anaconda3\\lib\\site-packages\\seaborn\\distributions.py:2557: FutureWarning: `distplot` is a deprecated function and will be removed in a future version. Please adapt your code to use either `displot` (a figure-level function with similar flexibility) or `histplot` (an axes-level function for histograms).\n",
      "  warnings.warn(msg, FutureWarning)\n"
     ]
    },
    {
     "data": {
      "text/plain": [
       "<AxesSubplot:xlabel='doc_id', ylabel='Density'>"
      ]
     },
     "execution_count": 63,
     "metadata": {},
     "output_type": "execute_result"
    },
    {
     "data": {
      "image/png": "[encoded data removed]",
      "text/plain": [
       "<Figure size 1080x720 with 1 Axes>"
      ]
     },
     "metadata": {
      "needs_background": "light"
     },
     "output_type": "display_data"
    }
   ],
   "source": [
    "fig, ax = plt.subplots()\n",
    "fig.set_size_inches(15, 10)\n",
    "\n",
    "sns.distplot(x_train['doc_id'])"
   ]
  },
  {
   "cell_type": "markdown",
   "id": "fba2c44f",
   "metadata": {
    "id": "fba2c44f"
   },
   "source": [
    "#### Create a Distribution plot only for business_year and a seperate distribution plot of \"business_year\" column along with the doc_id\" column\n"
   ]
  },
  {
   "cell_type": "code",
   "execution_count": 64,
   "id": "4fecec77",
   "metadata": {
    "id": "4fecec77"
   },
   "outputs": [
    {
     "name": "stderr",
     "output_type": "stream",
     "text": [
      "C:\\Users\\yeeme\\anaconda3\\lib\\site-packages\\seaborn\\distributions.py:2557: FutureWarning: `distplot` is a deprecated function and will be removed in a future version. Please adapt your code to use either `displot` (a figure-level function with similar flexibility) or `histplot` (an axes-level function for histograms).\n",
      "  warnings.warn(msg, FutureWarning)\n"
     ]
    },
    {
     "data": {
      "text/plain": [
       "<AxesSubplot:xlabel='buisness_year', ylabel='Density'>"
      ]
     },
     "execution_count": 64,
     "metadata": {},
     "output_type": "execute_result"
    },
    {
     "data": {
      "image/png": "[encoded data removed]",
      "text/plain": [
       "<Figure size 1080x720 with 1 Axes>"
      ]
     },
     "metadata": {
      "needs_background": "light"
     },
     "output_type": "display_data"
    }
   ],
   "source": [
    "fig, ax = plt.subplots()\n",
    "fig.set_size_inches(15, 10)\n",
    "sns.distplot(X_train['buisness_year'])"
   ]
  },
  {
   "cell_type": "code",
   "execution_count": 65,
   "id": "qr1jGhfOKjnw",
   "metadata": {
    "id": "qr1jGhfOKjnw"
   },
   "outputs": [
    {
     "name": "stderr",
     "output_type": "stream",
     "text": [
      "C:\\Users\\yeeme\\anaconda3\\lib\\site-packages\\seaborn\\distributions.py:2557: FutureWarning: `distplot` is a deprecated function and will be removed in a future version. Please adapt your code to use either `displot` (a figure-level function with similar flexibility) or `kdeplot` (an axes-level function for kernel density plots).\n",
      "  warnings.warn(msg, FutureWarning)\n",
      "C:\\Users\\yeeme\\anaconda3\\lib\\site-packages\\seaborn\\distributions.py:2056: FutureWarning: The `axis` variable is no longer used and will be removed. Instead, assign variables directly to `x` or `y`.\n",
      "  warnings.warn(msg, FutureWarning)\n",
      "C:\\Users\\yeeme\\anaconda3\\lib\\site-packages\\seaborn\\distributions.py:2557: FutureWarning: `distplot` is a deprecated function and will be removed in a future version. Please adapt your code to use either `displot` (a figure-level function with similar flexibility) or `kdeplot` (an axes-level function for kernel density plots).\n",
      "  warnings.warn(msg, FutureWarning)\n",
      "C:\\Users\\yeeme\\anaconda3\\lib\\site-packages\\seaborn\\distributions.py:2056: FutureWarning: The `axis` variable is no longer used and will be removed. Instead, assign variables directly to `x` or `y`.\n",
      "  warnings.warn(msg, FutureWarning)\n"
     ]
    },
    {
     "data": {
      "text/plain": [
       "<AxesSubplot:xlabel='doc_id', ylabel='Density'>"
      ]
     },
     "execution_count": 65,
     "metadata": {},
     "output_type": "execute_result"
    },
    {
     "data": {
      "image/png": "[encoded data removed]",
      "text/plain": [
       "<Figure size 1080x720 with 1 Axes>"
      ]
     },
     "metadata": {
      "needs_background": "light"
     },
     "output_type": "display_data"
    }
   ],
   "source": [
    "fig, ax = plt.subplots()\n",
    "fig.set_size_inches(15, 10)\n",
    "sns.distplot(X_train['buisness_year'], hist=False, rug=True)\n",
    "sns.distplot(x_train['doc_id'], hist=False, rug=True)"
   ]
  },
  {
   "cell_type": "markdown",
   "id": "968fbcc9",
   "metadata": {
    "id": "968fbcc9"
   },
   "source": [
    "# Feature Engineering "
   ]
  },
  {
   "cell_type": "markdown",
   "id": "jbh6CyGqH3XE",
   "metadata": {
    "id": "jbh6CyGqH3XE"
   },
   "source": [
    "### Display and describe the X_train dataframe "
   ]
  },
  {
   "cell_type": "code",
   "execution_count": 66,
   "id": "e6bcf307",
   "metadata": {
    "id": "e6bcf307",
    "scrolled": true
   },
   "outputs": [
    {
     "data": {
      "text/html": [
       "<div>\n",
       "<style scoped>\n",
       "    .dataframe tbody tr th:only-of-type {\n",
       "        vertical-align: middle;\n",
       "    }\n",
       "\n",
       "    .dataframe tbody tr th {\n",
       "        vertical-align: top;\n",
       "    }\n",
       "\n",
       "    .dataframe thead th {\n",
       "        text-align: right;\n",
       "    }\n",
       "</style>\n",
       "<table border=\"1\" class=\"dataframe\">\n",
       "  <thead>\n",
       "    <tr style=\"text-align: right;\">\n",
       "      <th></th>\n",
       "      <th>name_customer</th>\n",
       "      <th>business_code</th>\n",
       "      <th>cust_number</th>\n",
       "      <th>buisness_year</th>\n",
       "      <th>doc_id</th>\n",
       "      <th>posting_date</th>\n",
       "      <th>due_in_date</th>\n",
       "      <th>baseline_create_date</th>\n",
       "      <th>cust_payment_terms</th>\n",
       "      <th>converted_usd</th>\n",
       "    </tr>\n",
       "  </thead>\n",
       "  <tbody>\n",
       "    <tr>\n",
       "      <th>35886</th>\n",
       "      <td>WAL-MAR llc</td>\n",
       "      <td>U001</td>\n",
       "      <td>0200769623</td>\n",
       "      <td>2020.0</td>\n",
       "      <td>1.930437e+09</td>\n",
       "      <td>2020-01-26</td>\n",
       "      <td>2020-02-10</td>\n",
       "      <td>2020-01-26</td>\n",
       "      <td>NAH4</td>\n",
       "      <td>16191.9100</td>\n",
       "    </tr>\n",
       "    <tr>\n",
       "      <th>14338</th>\n",
       "      <td>KRAFT  corp</td>\n",
       "      <td>U001</td>\n",
       "      <td>CCCA02</td>\n",
       "      <td>2020.0</td>\n",
       "      <td>1.930533e+09</td>\n",
       "      <td>2020-02-18</td>\n",
       "      <td>2020-03-24</td>\n",
       "      <td>2020-02-18</td>\n",
       "      <td>NAG2</td>\n",
       "      <td>15642.7200</td>\n",
       "    </tr>\n",
       "    <tr>\n",
       "      <th>17006</th>\n",
       "      <td>M K  llc</td>\n",
       "      <td>U013</td>\n",
       "      <td>0140102142</td>\n",
       "      <td>2019.0</td>\n",
       "      <td>1.991819e+09</td>\n",
       "      <td>2019-01-26</td>\n",
       "      <td>2019-02-25</td>\n",
       "      <td>2019-01-26</td>\n",
       "      <td>NAVE</td>\n",
       "      <td>185925.6000</td>\n",
       "    </tr>\n",
       "    <tr>\n",
       "      <th>30683</th>\n",
       "      <td>WAL-MAR associates</td>\n",
       "      <td>U001</td>\n",
       "      <td>0200769623</td>\n",
       "      <td>2019.0</td>\n",
       "      <td>1.928887e+09</td>\n",
       "      <td>2019-03-03</td>\n",
       "      <td>2019-03-18</td>\n",
       "      <td>2019-03-03</td>\n",
       "      <td>NAH4</td>\n",
       "      <td>12576.0300</td>\n",
       "    </tr>\n",
       "    <tr>\n",
       "      <th>20038</th>\n",
       "      <td>PUBLI corp</td>\n",
       "      <td>U001</td>\n",
       "      <td>0200707822</td>\n",
       "      <td>2019.0</td>\n",
       "      <td>1.929906e+09</td>\n",
       "      <td>2019-09-20</td>\n",
       "      <td>2019-10-30</td>\n",
       "      <td>2019-09-20</td>\n",
       "      <td>NAWU</td>\n",
       "      <td>1990.9300</td>\n",
       "    </tr>\n",
       "    <tr>\n",
       "      <th>9372</th>\n",
       "      <td>DECA systems</td>\n",
       "      <td>U001</td>\n",
       "      <td>0200592182</td>\n",
       "      <td>2019.0</td>\n",
       "      <td>1.929349e+09</td>\n",
       "      <td>2019-05-20</td>\n",
       "      <td>2019-05-26</td>\n",
       "      <td>2019-05-16</td>\n",
       "      <td>NAM2</td>\n",
       "      <td>9311.3000</td>\n",
       "    </tr>\n",
       "    <tr>\n",
       "      <th>25107</th>\n",
       "      <td>SYSC foundation</td>\n",
       "      <td>U001</td>\n",
       "      <td>0200331749</td>\n",
       "      <td>2019.0</td>\n",
       "      <td>1.929154e+09</td>\n",
       "      <td>2019-04-15</td>\n",
       "      <td>2019-04-30</td>\n",
       "      <td>2019-04-15</td>\n",
       "      <td>NAA8</td>\n",
       "      <td>38889.5600</td>\n",
       "    </tr>\n",
       "    <tr>\n",
       "      <th>21387</th>\n",
       "      <td>SA</td>\n",
       "      <td>U001</td>\n",
       "      <td>0200759878</td>\n",
       "      <td>2019.0</td>\n",
       "      <td>1.929486e+09</td>\n",
       "      <td>2019-06-13</td>\n",
       "      <td>2019-06-28</td>\n",
       "      <td>2019-06-13</td>\n",
       "      <td>NAH4</td>\n",
       "      <td>19937.1200</td>\n",
       "    </tr>\n",
       "    <tr>\n",
       "      <th>25318</th>\n",
       "      <td>SYSC trust</td>\n",
       "      <td>CA02</td>\n",
       "      <td>0140105686</td>\n",
       "      <td>2019.0</td>\n",
       "      <td>2.960543e+09</td>\n",
       "      <td>2019-04-22</td>\n",
       "      <td>2019-05-10</td>\n",
       "      <td>2019-04-30</td>\n",
       "      <td>CA10</td>\n",
       "      <td>188.3676</td>\n",
       "    </tr>\n",
       "    <tr>\n",
       "      <th>18184</th>\n",
       "      <td>MEIJ llc</td>\n",
       "      <td>U001</td>\n",
       "      <td>0200780383</td>\n",
       "      <td>2019.0</td>\n",
       "      <td>1.930009e+09</td>\n",
       "      <td>2019-10-15</td>\n",
       "      <td>2019-10-30</td>\n",
       "      <td>2019-10-15</td>\n",
       "      <td>NAA8</td>\n",
       "      <td>3357.8000</td>\n",
       "    </tr>\n",
       "    <tr>\n",
       "      <th>33943</th>\n",
       "      <td>WAL-MAR foundation</td>\n",
       "      <td>U001</td>\n",
       "      <td>0200769623</td>\n",
       "      <td>2019.0</td>\n",
       "      <td>1.928579e+09</td>\n",
       "      <td>2019-01-09</td>\n",
       "      <td>2019-01-24</td>\n",
       "      <td>2019-01-09</td>\n",
       "      <td>NAH4</td>\n",
       "      <td>57402.5600</td>\n",
       "    </tr>\n",
       "    <tr>\n",
       "      <th>27957</th>\n",
       "      <td>US  corp</td>\n",
       "      <td>U001</td>\n",
       "      <td>0200571849</td>\n",
       "      <td>2019.0</td>\n",
       "      <td>1.928678e+09</td>\n",
       "      <td>2019-01-24</td>\n",
       "      <td>2019-02-13</td>\n",
       "      <td>2019-01-24</td>\n",
       "      <td>NAD1</td>\n",
       "      <td>20993.3700</td>\n",
       "    </tr>\n",
       "    <tr>\n",
       "      <th>20864</th>\n",
       "      <td>RESTA</td>\n",
       "      <td>U001</td>\n",
       "      <td>0200974851</td>\n",
       "      <td>2019.0</td>\n",
       "      <td>1.929248e+09</td>\n",
       "      <td>2019-05-02</td>\n",
       "      <td>2019-05-22</td>\n",
       "      <td>2019-05-02</td>\n",
       "      <td>NAD1</td>\n",
       "      <td>1546.6100</td>\n",
       "    </tr>\n",
       "    <tr>\n",
       "      <th>17571</th>\n",
       "      <td>MCL in</td>\n",
       "      <td>U001</td>\n",
       "      <td>0200799367</td>\n",
       "      <td>2019.0</td>\n",
       "      <td>1.929171e+09</td>\n",
       "      <td>2019-04-26</td>\n",
       "      <td>2019-05-11</td>\n",
       "      <td>2019-04-26</td>\n",
       "      <td>NAA8</td>\n",
       "      <td>43390.8800</td>\n",
       "    </tr>\n",
       "    <tr>\n",
       "      <th>4065</th>\n",
       "      <td>BOZZU trust</td>\n",
       "      <td>U001</td>\n",
       "      <td>0200779906</td>\n",
       "      <td>2019.0</td>\n",
       "      <td>1.928708e+09</td>\n",
       "      <td>2019-01-30</td>\n",
       "      <td>2019-02-14</td>\n",
       "      <td>2019-01-30</td>\n",
       "      <td>NAA8</td>\n",
       "      <td>54315.9400</td>\n",
       "    </tr>\n",
       "    <tr>\n",
       "      <th>1018</th>\n",
       "      <td>AMAZO associates</td>\n",
       "      <td>CA02</td>\n",
       "      <td>0100030194</td>\n",
       "      <td>2019.0</td>\n",
       "      <td>2.960532e+09</td>\n",
       "      <td>2019-03-08</td>\n",
       "      <td>2019-03-22</td>\n",
       "      <td>2019-03-12</td>\n",
       "      <td>CA10</td>\n",
       "      <td>328.7585</td>\n",
       "    </tr>\n",
       "    <tr>\n",
       "      <th>4923</th>\n",
       "      <td>C&amp;S WH corporation</td>\n",
       "      <td>U001</td>\n",
       "      <td>0200762301</td>\n",
       "      <td>2019.0</td>\n",
       "      <td>1.929020e+09</td>\n",
       "      <td>2019-03-25</td>\n",
       "      <td>2019-04-09</td>\n",
       "      <td>2019-03-25</td>\n",
       "      <td>NAC6</td>\n",
       "      <td>8413.3300</td>\n",
       "    </tr>\n",
       "    <tr>\n",
       "      <th>5016</th>\n",
       "      <td>C&amp;S WH foundation</td>\n",
       "      <td>U001</td>\n",
       "      <td>0200762301</td>\n",
       "      <td>2019.0</td>\n",
       "      <td>1.928850e+09</td>\n",
       "      <td>2019-02-25</td>\n",
       "      <td>2019-03-12</td>\n",
       "      <td>2019-02-25</td>\n",
       "      <td>NAC6</td>\n",
       "      <td>8525.3200</td>\n",
       "    </tr>\n",
       "    <tr>\n",
       "      <th>14902</th>\n",
       "      <td>KRAFT F corporation</td>\n",
       "      <td>U001</td>\n",
       "      <td>CCU013</td>\n",
       "      <td>2019.0</td>\n",
       "      <td>1.929313e+09</td>\n",
       "      <td>2019-05-17</td>\n",
       "      <td>2019-05-17</td>\n",
       "      <td>2019-05-17</td>\n",
       "      <td>NAX2</td>\n",
       "      <td>4140.8700</td>\n",
       "    </tr>\n",
       "    <tr>\n",
       "      <th>2503</th>\n",
       "      <td>BJ'S</td>\n",
       "      <td>U001</td>\n",
       "      <td>0200726979</td>\n",
       "      <td>2020.0</td>\n",
       "      <td>1.930554e+09</td>\n",
       "      <td>2020-02-21</td>\n",
       "      <td>2020-03-07</td>\n",
       "      <td>2020-02-21</td>\n",
       "      <td>NAA8</td>\n",
       "      <td>438.9300</td>\n",
       "    </tr>\n",
       "    <tr>\n",
       "      <th>9397</th>\n",
       "      <td>DECA trust</td>\n",
       "      <td>U001</td>\n",
       "      <td>0200592182</td>\n",
       "      <td>2019.0</td>\n",
       "      <td>1.929958e+09</td>\n",
       "      <td>2019-10-03</td>\n",
       "      <td>2019-10-24</td>\n",
       "      <td>2019-10-01</td>\n",
       "      <td>NAM4</td>\n",
       "      <td>16798.6800</td>\n",
       "    </tr>\n",
       "    <tr>\n",
       "      <th>5031</th>\n",
       "      <td>C&amp;S WH foundation</td>\n",
       "      <td>U001</td>\n",
       "      <td>0200762301</td>\n",
       "      <td>2019.0</td>\n",
       "      <td>1.930101e+09</td>\n",
       "      <td>2019-11-04</td>\n",
       "      <td>2019-11-19</td>\n",
       "      <td>2019-11-04</td>\n",
       "      <td>NAC6</td>\n",
       "      <td>128801.9500</td>\n",
       "    </tr>\n",
       "    <tr>\n",
       "      <th>4483</th>\n",
       "      <td>C&amp;S WH</td>\n",
       "      <td>U001</td>\n",
       "      <td>0200762301</td>\n",
       "      <td>2019.0</td>\n",
       "      <td>1.930097e+09</td>\n",
       "      <td>2019-11-04</td>\n",
       "      <td>2019-11-19</td>\n",
       "      <td>2019-11-04</td>\n",
       "      <td>NAC6</td>\n",
       "      <td>52973.5700</td>\n",
       "    </tr>\n",
       "    <tr>\n",
       "      <th>18321</th>\n",
       "      <td>MEILLE llc</td>\n",
       "      <td>CA02</td>\n",
       "      <td>0140106224</td>\n",
       "      <td>2019.0</td>\n",
       "      <td>2.960597e+09</td>\n",
       "      <td>2019-12-03</td>\n",
       "      <td>2019-12-15</td>\n",
       "      <td>2019-12-05</td>\n",
       "      <td>CA10</td>\n",
       "      <td>31056.3694</td>\n",
       "    </tr>\n",
       "    <tr>\n",
       "      <th>33375</th>\n",
       "      <td>WAL-MAR corporation</td>\n",
       "      <td>U001</td>\n",
       "      <td>0200769623</td>\n",
       "      <td>2019.0</td>\n",
       "      <td>1.929138e+09</td>\n",
       "      <td>2019-04-13</td>\n",
       "      <td>2019-04-28</td>\n",
       "      <td>2019-04-13</td>\n",
       "      <td>NAH4</td>\n",
       "      <td>46594.4100</td>\n",
       "    </tr>\n",
       "    <tr>\n",
       "      <th>68</th>\n",
       "      <td>AFFI us</td>\n",
       "      <td>U001</td>\n",
       "      <td>0200661137</td>\n",
       "      <td>2019.0</td>\n",
       "      <td>1.929839e+09</td>\n",
       "      <td>2019-09-09</td>\n",
       "      <td>2019-09-24</td>\n",
       "      <td>2019-09-09</td>\n",
       "      <td>NAA8</td>\n",
       "      <td>30469.1800</td>\n",
       "    </tr>\n",
       "    <tr>\n",
       "      <th>11918</th>\n",
       "      <td>GO trust</td>\n",
       "      <td>U001</td>\n",
       "      <td>0200721222</td>\n",
       "      <td>2020.0</td>\n",
       "      <td>1.930334e+09</td>\n",
       "      <td>2019-12-29</td>\n",
       "      <td>2020-01-13</td>\n",
       "      <td>2019-12-29</td>\n",
       "      <td>NAA8</td>\n",
       "      <td>111533.5400</td>\n",
       "    </tr>\n",
       "    <tr>\n",
       "      <th>9092</th>\n",
       "      <td>DECA foundation</td>\n",
       "      <td>U001</td>\n",
       "      <td>0200230690</td>\n",
       "      <td>2019.0</td>\n",
       "      <td>1.928661e+09</td>\n",
       "      <td>2019-01-22</td>\n",
       "      <td>2019-02-08</td>\n",
       "      <td>2019-01-16</td>\n",
       "      <td>NAM4</td>\n",
       "      <td>189.1200</td>\n",
       "    </tr>\n",
       "    <tr>\n",
       "      <th>13689</th>\n",
       "      <td>JETR llc</td>\n",
       "      <td>U001</td>\n",
       "      <td>0200705089</td>\n",
       "      <td>2019.0</td>\n",
       "      <td>1.929081e+09</td>\n",
       "      <td>2019-04-04</td>\n",
       "      <td>2019-04-19</td>\n",
       "      <td>2019-04-04</td>\n",
       "      <td>NAA8</td>\n",
       "      <td>11556.9100</td>\n",
       "    </tr>\n",
       "    <tr>\n",
       "      <th>32955</th>\n",
       "      <td>WAL-MAR corporation</td>\n",
       "      <td>U001</td>\n",
       "      <td>0200769623</td>\n",
       "      <td>2019.0</td>\n",
       "      <td>1.930035e+09</td>\n",
       "      <td>2019-10-20</td>\n",
       "      <td>2019-11-04</td>\n",
       "      <td>2019-10-20</td>\n",
       "      <td>NAH4</td>\n",
       "      <td>52261.3000</td>\n",
       "    </tr>\n",
       "    <tr>\n",
       "      <th>22215</th>\n",
       "      <td>SA llc</td>\n",
       "      <td>U001</td>\n",
       "      <td>0200759878</td>\n",
       "      <td>2019.0</td>\n",
       "      <td>1.930136e+09</td>\n",
       "      <td>2019-11-10</td>\n",
       "      <td>2019-11-25</td>\n",
       "      <td>2019-11-10</td>\n",
       "      <td>NAH4</td>\n",
       "      <td>50008.5200</td>\n",
       "    </tr>\n",
       "    <tr>\n",
       "      <th>14135</th>\n",
       "      <td>KING S trust</td>\n",
       "      <td>U001</td>\n",
       "      <td>0200707005</td>\n",
       "      <td>2019.0</td>\n",
       "      <td>1.929524e+09</td>\n",
       "      <td>2019-06-28</td>\n",
       "      <td>2019-07-13</td>\n",
       "      <td>2019-06-28</td>\n",
       "      <td>NAA8</td>\n",
       "      <td>24818.8600</td>\n",
       "    </tr>\n",
       "    <tr>\n",
       "      <th>18677</th>\n",
       "      <td>NASH</td>\n",
       "      <td>U001</td>\n",
       "      <td>0200777735</td>\n",
       "      <td>2019.0</td>\n",
       "      <td>1.929357e+09</td>\n",
       "      <td>2019-05-21</td>\n",
       "      <td>2019-06-05</td>\n",
       "      <td>2019-05-21</td>\n",
       "      <td>NAA8</td>\n",
       "      <td>7529.7200</td>\n",
       "    </tr>\n",
       "    <tr>\n",
       "      <th>25975</th>\n",
       "      <td>SYSCO F corporation</td>\n",
       "      <td>U001</td>\n",
       "      <td>0200763814</td>\n",
       "      <td>2019.0</td>\n",
       "      <td>1.929881e+09</td>\n",
       "      <td>2019-09-17</td>\n",
       "      <td>2019-10-19</td>\n",
       "      <td>2019-09-17</td>\n",
       "      <td>NA32</td>\n",
       "      <td>30819.2900</td>\n",
       "    </tr>\n",
       "    <tr>\n",
       "      <th>23168</th>\n",
       "      <td>SHAWS  trust</td>\n",
       "      <td>U001</td>\n",
       "      <td>0200275115</td>\n",
       "      <td>2019.0</td>\n",
       "      <td>1.929238e+09</td>\n",
       "      <td>2019-05-02</td>\n",
       "      <td>2019-05-17</td>\n",
       "      <td>2019-05-02</td>\n",
       "      <td>NAA8</td>\n",
       "      <td>133135.4500</td>\n",
       "    </tr>\n",
       "    <tr>\n",
       "      <th>26677</th>\n",
       "      <td>TARG co</td>\n",
       "      <td>U001</td>\n",
       "      <td>0200744019</td>\n",
       "      <td>2019.0</td>\n",
       "      <td>1.930099e+09</td>\n",
       "      <td>2019-11-06</td>\n",
       "      <td>2019-11-21</td>\n",
       "      <td>2019-11-06</td>\n",
       "      <td>NAA8</td>\n",
       "      <td>7135.0300</td>\n",
       "    </tr>\n",
       "    <tr>\n",
       "      <th>24886</th>\n",
       "      <td>SYGMA systems</td>\n",
       "      <td>U001</td>\n",
       "      <td>0200782669</td>\n",
       "      <td>2019.0</td>\n",
       "      <td>1.928813e+09</td>\n",
       "      <td>2019-02-20</td>\n",
       "      <td>2019-03-07</td>\n",
       "      <td>2019-02-20</td>\n",
       "      <td>NAA8</td>\n",
       "      <td>21653.4500</td>\n",
       "    </tr>\n",
       "    <tr>\n",
       "      <th>33958</th>\n",
       "      <td>WAL-MAR foundation</td>\n",
       "      <td>U001</td>\n",
       "      <td>0200769623</td>\n",
       "      <td>2019.0</td>\n",
       "      <td>1.928649e+09</td>\n",
       "      <td>2019-01-19</td>\n",
       "      <td>2019-02-03</td>\n",
       "      <td>2019-01-19</td>\n",
       "      <td>NAH4</td>\n",
       "      <td>62489.6800</td>\n",
       "    </tr>\n",
       "    <tr>\n",
       "      <th>1495</th>\n",
       "      <td>ASSOCIAT corporation</td>\n",
       "      <td>U001</td>\n",
       "      <td>0200772670</td>\n",
       "      <td>2019.0</td>\n",
       "      <td>1.929896e+09</td>\n",
       "      <td>2019-09-18</td>\n",
       "      <td>2019-10-03</td>\n",
       "      <td>2019-09-18</td>\n",
       "      <td>NAU5</td>\n",
       "      <td>147593.6400</td>\n",
       "    </tr>\n",
       "    <tr>\n",
       "      <th>757</th>\n",
       "      <td>AM corporation</td>\n",
       "      <td>U001</td>\n",
       "      <td>0200418007</td>\n",
       "      <td>2019.0</td>\n",
       "      <td>1.929938e+09</td>\n",
       "      <td>2019-09-30</td>\n",
       "      <td>2019-10-15</td>\n",
       "      <td>2019-09-30</td>\n",
       "      <td>NAA8</td>\n",
       "      <td>1459.3000</td>\n",
       "    </tr>\n",
       "    <tr>\n",
       "      <th>12768</th>\n",
       "      <td>H E BUT systems</td>\n",
       "      <td>U001</td>\n",
       "      <td>0200761734</td>\n",
       "      <td>2019.0</td>\n",
       "      <td>1.929965e+09</td>\n",
       "      <td>2019-10-04</td>\n",
       "      <td>2019-11-13</td>\n",
       "      <td>2019-10-04</td>\n",
       "      <td>NAWU</td>\n",
       "      <td>1469.0900</td>\n",
       "    </tr>\n",
       "    <tr>\n",
       "      <th>17442</th>\n",
       "      <td>MCL co</td>\n",
       "      <td>U001</td>\n",
       "      <td>0200799367</td>\n",
       "      <td>2019.0</td>\n",
       "      <td>1.929472e+09</td>\n",
       "      <td>2019-06-13</td>\n",
       "      <td>2019-06-28</td>\n",
       "      <td>2019-06-13</td>\n",
       "      <td>NAA8</td>\n",
       "      <td>64952.8500</td>\n",
       "    </tr>\n",
       "    <tr>\n",
       "      <th>30309</th>\n",
       "      <td>WAL-MAR associates</td>\n",
       "      <td>U001</td>\n",
       "      <td>0200769623</td>\n",
       "      <td>2019.0</td>\n",
       "      <td>1.928650e+09</td>\n",
       "      <td>2019-01-19</td>\n",
       "      <td>2019-02-03</td>\n",
       "      <td>2019-01-19</td>\n",
       "      <td>NAH4</td>\n",
       "      <td>10281.4400</td>\n",
       "    </tr>\n",
       "    <tr>\n",
       "      <th>29859</th>\n",
       "      <td>WAL-MAR</td>\n",
       "      <td>U001</td>\n",
       "      <td>0200769623</td>\n",
       "      <td>2019.0</td>\n",
       "      <td>1.930123e+09</td>\n",
       "      <td>2019-11-07</td>\n",
       "      <td>2019-11-22</td>\n",
       "      <td>2019-11-07</td>\n",
       "      <td>NAH4</td>\n",
       "      <td>5491.3800</td>\n",
       "    </tr>\n",
       "    <tr>\n",
       "      <th>25092</th>\n",
       "      <td>SYSC corporation</td>\n",
       "      <td>CA02</td>\n",
       "      <td>0140105686</td>\n",
       "      <td>2019.0</td>\n",
       "      <td>2.960569e+09</td>\n",
       "      <td>2019-08-01</td>\n",
       "      <td>2019-08-12</td>\n",
       "      <td>2019-08-02</td>\n",
       "      <td>CA10</td>\n",
       "      <td>20014.7685</td>\n",
       "    </tr>\n",
       "    <tr>\n",
       "      <th>13734</th>\n",
       "      <td>JETRO corporation</td>\n",
       "      <td>U001</td>\n",
       "      <td>0200833713</td>\n",
       "      <td>2020.0</td>\n",
       "      <td>1.930480e+09</td>\n",
       "      <td>2020-02-05</td>\n",
       "      <td>2020-02-20</td>\n",
       "      <td>2020-02-05</td>\n",
       "      <td>NAA8</td>\n",
       "      <td>369.6400</td>\n",
       "    </tr>\n",
       "    <tr>\n",
       "      <th>20271</th>\n",
       "      <td>PUBLI llc</td>\n",
       "      <td>U001</td>\n",
       "      <td>0200707822</td>\n",
       "      <td>2019.0</td>\n",
       "      <td>1.929797e+09</td>\n",
       "      <td>2019-08-27</td>\n",
       "      <td>2019-09-11</td>\n",
       "      <td>2019-08-27</td>\n",
       "      <td>NAA8</td>\n",
       "      <td>128128.5200</td>\n",
       "    </tr>\n",
       "    <tr>\n",
       "      <th>18787</th>\n",
       "      <td>NASH  llc</td>\n",
       "      <td>U001</td>\n",
       "      <td>0200777735</td>\n",
       "      <td>2019.0</td>\n",
       "      <td>1.929983e+09</td>\n",
       "      <td>2019-10-07</td>\n",
       "      <td>2019-10-22</td>\n",
       "      <td>2019-10-07</td>\n",
       "      <td>NAA8</td>\n",
       "      <td>43635.2800</td>\n",
       "    </tr>\n",
       "    <tr>\n",
       "      <th>26381</th>\n",
       "      <td>SYSCO llc</td>\n",
       "      <td>U001</td>\n",
       "      <td>0200900909</td>\n",
       "      <td>2019.0</td>\n",
       "      <td>1.929600e+09</td>\n",
       "      <td>2019-07-09</td>\n",
       "      <td>2019-07-24</td>\n",
       "      <td>2019-07-09</td>\n",
       "      <td>NAA8</td>\n",
       "      <td>6428.4000</td>\n",
       "    </tr>\n",
       "    <tr>\n",
       "      <th>28402</th>\n",
       "      <td>W H co</td>\n",
       "      <td>U001</td>\n",
       "      <td>0200386051</td>\n",
       "      <td>2019.0</td>\n",
       "      <td>1.929544e+09</td>\n",
       "      <td>2019-06-26</td>\n",
       "      <td>2019-07-11</td>\n",
       "      <td>2019-06-26</td>\n",
       "      <td>NAA8</td>\n",
       "      <td>505.7800</td>\n",
       "    </tr>\n",
       "  </tbody>\n",
       "</table>\n",
       "</div>"
      ],
      "text/plain": [
       "              name_customer business_code cust_number  buisness_year  \\\n",
       "35886           WAL-MAR llc          U001  0200769623         2020.0   \n",
       "14338           KRAFT  corp          U001      CCCA02         2020.0   \n",
       "17006              M K  llc          U013  0140102142         2019.0   \n",
       "30683    WAL-MAR associates          U001  0200769623         2019.0   \n",
       "20038            PUBLI corp          U001  0200707822         2019.0   \n",
       "9372           DECA systems          U001  0200592182         2019.0   \n",
       "25107       SYSC foundation          U001  0200331749         2019.0   \n",
       "21387                   SA           U001  0200759878         2019.0   \n",
       "25318            SYSC trust          CA02  0140105686         2019.0   \n",
       "18184              MEIJ llc          U001  0200780383         2019.0   \n",
       "33943    WAL-MAR foundation          U001  0200769623         2019.0   \n",
       "27957              US  corp          U001  0200571849         2019.0   \n",
       "20864                RESTA           U001  0200974851         2019.0   \n",
       "17571                MCL in          U001  0200799367         2019.0   \n",
       "4065            BOZZU trust          U001  0200779906         2019.0   \n",
       "1018       AMAZO associates          CA02  0100030194         2019.0   \n",
       "4923     C&S WH corporation          U001  0200762301         2019.0   \n",
       "5016      C&S WH foundation          U001  0200762301         2019.0   \n",
       "14902   KRAFT F corporation          U001      CCU013         2019.0   \n",
       "2503                 BJ'S            U001  0200726979         2020.0   \n",
       "9397             DECA trust          U001  0200592182         2019.0   \n",
       "5031      C&S WH foundation          U001  0200762301         2019.0   \n",
       "4483                C&S WH           U001  0200762301         2019.0   \n",
       "18321            MEILLE llc          CA02  0140106224         2019.0   \n",
       "33375   WAL-MAR corporation          U001  0200769623         2019.0   \n",
       "68                  AFFI us          U001  0200661137         2019.0   \n",
       "11918              GO trust          U001  0200721222         2020.0   \n",
       "9092        DECA foundation          U001  0200230690         2019.0   \n",
       "13689              JETR llc          U001  0200705089         2019.0   \n",
       "32955   WAL-MAR corporation          U001  0200769623         2019.0   \n",
       "22215                SA llc          U001  0200759878         2019.0   \n",
       "14135          KING S trust          U001  0200707005         2019.0   \n",
       "18677                NASH            U001  0200777735         2019.0   \n",
       "25975   SYSCO F corporation          U001  0200763814         2019.0   \n",
       "23168          SHAWS  trust          U001  0200275115         2019.0   \n",
       "26677               TARG co          U001  0200744019         2019.0   \n",
       "24886         SYGMA systems          U001  0200782669         2019.0   \n",
       "33958    WAL-MAR foundation          U001  0200769623         2019.0   \n",
       "1495   ASSOCIAT corporation          U001  0200772670         2019.0   \n",
       "757          AM corporation          U001  0200418007         2019.0   \n",
       "12768       H E BUT systems          U001  0200761734         2019.0   \n",
       "17442                MCL co          U001  0200799367         2019.0   \n",
       "30309    WAL-MAR associates          U001  0200769623         2019.0   \n",
       "29859              WAL-MAR           U001  0200769623         2019.0   \n",
       "25092      SYSC corporation          CA02  0140105686         2019.0   \n",
       "13734     JETRO corporation          U001  0200833713         2020.0   \n",
       "20271             PUBLI llc          U001  0200707822         2019.0   \n",
       "18787             NASH  llc          U001  0200777735         2019.0   \n",
       "26381             SYSCO llc          U001  0200900909         2019.0   \n",
       "28402                W H co          U001  0200386051         2019.0   \n",
       "\n",
       "             doc_id posting_date due_in_date baseline_create_date  \\\n",
       "35886  1.930437e+09   2020-01-26  2020-02-10           2020-01-26   \n",
       "14338  1.930533e+09   2020-02-18  2020-03-24           2020-02-18   \n",
       "17006  1.991819e+09   2019-01-26  2019-02-25           2019-01-26   \n",
       "30683  1.928887e+09   2019-03-03  2019-03-18           2019-03-03   \n",
       "20038  1.929906e+09   2019-09-20  2019-10-30           2019-09-20   \n",
       "9372   1.929349e+09   2019-05-20  2019-05-26           2019-05-16   \n",
       "25107  1.929154e+09   2019-04-15  2019-04-30           2019-04-15   \n",
       "21387  1.929486e+09   2019-06-13  2019-06-28           2019-06-13   \n",
       "25318  2.960543e+09   2019-04-22  2019-05-10           2019-04-30   \n",
       "18184  1.930009e+09   2019-10-15  2019-10-30           2019-10-15   \n",
       "33943  1.928579e+09   2019-01-09  2019-01-24           2019-01-09   \n",
       "27957  1.928678e+09   2019-01-24  2019-02-13           2019-01-24   \n",
       "20864  1.929248e+09   2019-05-02  2019-05-22           2019-05-02   \n",
       "17571  1.929171e+09   2019-04-26  2019-05-11           2019-04-26   \n",
       "4065   1.928708e+09   2019-01-30  2019-02-14           2019-01-30   \n",
       "1018   2.960532e+09   2019-03-08  2019-03-22           2019-03-12   \n",
       "4923   1.929020e+09   2019-03-25  2019-04-09           2019-03-25   \n",
       "5016   1.928850e+09   2019-02-25  2019-03-12           2019-02-25   \n",
       "14902  1.929313e+09   2019-05-17  2019-05-17           2019-05-17   \n",
       "2503   1.930554e+09   2020-02-21  2020-03-07           2020-02-21   \n",
       "9397   1.929958e+09   2019-10-03  2019-10-24           2019-10-01   \n",
       "5031   1.930101e+09   2019-11-04  2019-11-19           2019-11-04   \n",
       "4483   1.930097e+09   2019-11-04  2019-11-19           2019-11-04   \n",
       "18321  2.960597e+09   2019-12-03  2019-12-15           2019-12-05   \n",
       "33375  1.929138e+09   2019-04-13  2019-04-28           2019-04-13   \n",
       "68     1.929839e+09   2019-09-09  2019-09-24           2019-09-09   \n",
       "11918  1.930334e+09   2019-12-29  2020-01-13           2019-12-29   \n",
       "9092   1.928661e+09   2019-01-22  2019-02-08           2019-01-16   \n",
       "13689  1.929081e+09   2019-04-04  2019-04-19           2019-04-04   \n",
       "32955  1.930035e+09   2019-10-20  2019-11-04           2019-10-20   \n",
       "22215  1.930136e+09   2019-11-10  2019-11-25           2019-11-10   \n",
       "14135  1.929524e+09   2019-06-28  2019-07-13           2019-06-28   \n",
       "18677  1.929357e+09   2019-05-21  2019-06-05           2019-05-21   \n",
       "25975  1.929881e+09   2019-09-17  2019-10-19           2019-09-17   \n",
       "23168  1.929238e+09   2019-05-02  2019-05-17           2019-05-02   \n",
       "26677  1.930099e+09   2019-11-06  2019-11-21           2019-11-06   \n",
       "24886  1.928813e+09   2019-02-20  2019-03-07           2019-02-20   \n",
       "33958  1.928649e+09   2019-01-19  2019-02-03           2019-01-19   \n",
       "1495   1.929896e+09   2019-09-18  2019-10-03           2019-09-18   \n",
       "757    1.929938e+09   2019-09-30  2019-10-15           2019-09-30   \n",
       "12768  1.929965e+09   2019-10-04  2019-11-13           2019-10-04   \n",
       "17442  1.929472e+09   2019-06-13  2019-06-28           2019-06-13   \n",
       "30309  1.928650e+09   2019-01-19  2019-02-03           2019-01-19   \n",
       "29859  1.930123e+09   2019-11-07  2019-11-22           2019-11-07   \n",
       "25092  2.960569e+09   2019-08-01  2019-08-12           2019-08-02   \n",
       "13734  1.930480e+09   2020-02-05  2020-02-20           2020-02-05   \n",
       "20271  1.929797e+09   2019-08-27  2019-09-11           2019-08-27   \n",
       "18787  1.929983e+09   2019-10-07  2019-10-22           2019-10-07   \n",
       "26381  1.929600e+09   2019-07-09  2019-07-24           2019-07-09   \n",
       "28402  1.929544e+09   2019-06-26  2019-07-11           2019-06-26   \n",
       "\n",
       "      cust_payment_terms  converted_usd  \n",
       "35886               NAH4     16191.9100  \n",
       "14338               NAG2     15642.7200  \n",
       "17006               NAVE    185925.6000  \n",
       "30683               NAH4     12576.0300  \n",
       "20038               NAWU      1990.9300  \n",
       "9372                NAM2      9311.3000  \n",
       "25107               NAA8     38889.5600  \n",
       "21387               NAH4     19937.1200  \n",
       "25318               CA10       188.3676  \n",
       "18184               NAA8      3357.8000  \n",
       "33943               NAH4     57402.5600  \n",
       "27957               NAD1     20993.3700  \n",
       "20864               NAD1      1546.6100  \n",
       "17571               NAA8     43390.8800  \n",
       "4065                NAA8     54315.9400  \n",
       "1018                CA10       328.7585  \n",
       "4923                NAC6      8413.3300  \n",
       "5016                NAC6      8525.3200  \n",
       "14902               NAX2      4140.8700  \n",
       "2503                NAA8       438.9300  \n",
       "9397                NAM4     16798.6800  \n",
       "5031                NAC6    128801.9500  \n",
       "4483                NAC6     52973.5700  \n",
       "18321               CA10     31056.3694  \n",
       "33375               NAH4     46594.4100  \n",
       "68                  NAA8     30469.1800  \n",
       "11918               NAA8    111533.5400  \n",
       "9092                NAM4       189.1200  \n",
       "13689               NAA8     11556.9100  \n",
       "32955               NAH4     52261.3000  \n",
       "22215               NAH4     50008.5200  \n",
       "14135               NAA8     24818.8600  \n",
       "18677               NAA8      7529.7200  \n",
       "25975               NA32     30819.2900  \n",
       "23168               NAA8    133135.4500  \n",
       "26677               NAA8      7135.0300  \n",
       "24886               NAA8     21653.4500  \n",
       "33958               NAH4     62489.6800  \n",
       "1495                NAU5    147593.6400  \n",
       "757                 NAA8      1459.3000  \n",
       "12768               NAWU      1469.0900  \n",
       "17442               NAA8     64952.8500  \n",
       "30309               NAH4     10281.4400  \n",
       "29859               NAH4      5491.3800  \n",
       "25092               CA10     20014.7685  \n",
       "13734               NAA8       369.6400  \n",
       "20271               NAA8    128128.5200  \n",
       "18787               NAA8     43635.2800  \n",
       "26381               NAA8      6428.4000  \n",
       "28402               NAA8       505.7800  "
      ]
     },
     "execution_count": 66,
     "metadata": {},
     "output_type": "execute_result"
    }
   ],
   "source": [
    "X_train.head(50)"
   ]
  },
  {
   "cell_type": "code",
   "execution_count": 67,
   "id": "08ccc819",
   "metadata": {
    "id": "08ccc819"
   },
   "outputs": [
    {
     "data": {
      "text/html": [
       "<div>\n",
       "<style scoped>\n",
       "    .dataframe tbody tr th:only-of-type {\n",
       "        vertical-align: middle;\n",
       "    }\n",
       "\n",
       "    .dataframe tbody tr th {\n",
       "        vertical-align: top;\n",
       "    }\n",
       "\n",
       "    .dataframe thead th {\n",
       "        text-align: right;\n",
       "    }\n",
       "</style>\n",
       "<table border=\"1\" class=\"dataframe\">\n",
       "  <thead>\n",
       "    <tr style=\"text-align: right;\">\n",
       "      <th></th>\n",
       "      <th>buisness_year</th>\n",
       "      <th>doc_id</th>\n",
       "      <th>converted_usd</th>\n",
       "    </tr>\n",
       "  </thead>\n",
       "  <tbody>\n",
       "    <tr>\n",
       "      <th>count</th>\n",
       "      <td>23494.000000</td>\n",
       "      <td>2.349400e+04</td>\n",
       "      <td>23494.000000</td>\n",
       "    </tr>\n",
       "    <tr>\n",
       "      <th>mean</th>\n",
       "      <td>2019.133396</td>\n",
       "      <td>2.014274e+09</td>\n",
       "      <td>31021.272839</td>\n",
       "    </tr>\n",
       "    <tr>\n",
       "      <th>std</th>\n",
       "      <td>0.340009</td>\n",
       "      <td>2.960690e+08</td>\n",
       "      <td>36963.450009</td>\n",
       "    </tr>\n",
       "    <tr>\n",
       "      <th>min</th>\n",
       "      <td>2019.000000</td>\n",
       "      <td>1.928509e+09</td>\n",
       "      <td>4.380000</td>\n",
       "    </tr>\n",
       "    <tr>\n",
       "      <th>25%</th>\n",
       "      <td>2019.000000</td>\n",
       "      <td>1.929181e+09</td>\n",
       "      <td>4531.002500</td>\n",
       "    </tr>\n",
       "    <tr>\n",
       "      <th>50%</th>\n",
       "      <td>2019.000000</td>\n",
       "      <td>1.929738e+09</td>\n",
       "      <td>17027.670000</td>\n",
       "    </tr>\n",
       "    <tr>\n",
       "      <th>75%</th>\n",
       "      <td>2019.000000</td>\n",
       "      <td>1.930211e+09</td>\n",
       "      <td>46134.672500</td>\n",
       "    </tr>\n",
       "    <tr>\n",
       "      <th>max</th>\n",
       "      <td>2020.000000</td>\n",
       "      <td>9.500000e+09</td>\n",
       "      <td>668593.360000</td>\n",
       "    </tr>\n",
       "  </tbody>\n",
       "</table>\n",
       "</div>"
      ],
      "text/plain": [
       "       buisness_year        doc_id  converted_usd\n",
       "count   23494.000000  2.349400e+04   23494.000000\n",
       "mean     2019.133396  2.014274e+09   31021.272839\n",
       "std         0.340009  2.960690e+08   36963.450009\n",
       "min      2019.000000  1.928509e+09       4.380000\n",
       "25%      2019.000000  1.929181e+09    4531.002500\n",
       "50%      2019.000000  1.929738e+09   17027.670000\n",
       "75%      2019.000000  1.930211e+09   46134.672500\n",
       "max      2020.000000  9.500000e+09  668593.360000"
      ]
     },
     "execution_count": 67,
     "metadata": {},
     "output_type": "execute_result"
    }
   ],
   "source": [
    "X_train.describe()"
   ]
  },
  {
   "cell_type": "markdown",
   "id": "abd7ac8b",
   "metadata": {
    "id": "abd7ac8b"
   },
   "source": [
    "#### The \"business_code\" column inside X_train, is a categorical column, so you need to perform Labelencoder on that particular column\n",
    "\n",
    "- Note - call the Label Encoder from sklearn library and use the fit() function on \"business_code\" column\n",
    "- Note - Please fill in the blanks (two) to complete this code"
   ]
  },
  {
   "cell_type": "code",
   "execution_count": 68,
   "id": "7c223545",
   "metadata": {
    "id": "7c223545"
   },
   "outputs": [
    {
     "data": {
      "text/plain": [
       "LabelEncoder()"
      ]
     },
     "execution_count": 68,
     "metadata": {},
     "output_type": "execute_result"
    }
   ],
   "source": [
    "from sklearn.preprocessing import LabelEncoder\n",
    "business_coder = LabelEncoder()\n",
    "business_coder.fit(X_train['business_code'])"
   ]
  },
  {
   "cell_type": "markdown",
   "id": "f86f7d9c",
   "metadata": {
    "id": "f86f7d9c"
   },
   "source": [
    "#### You are expected to store the value into a new column i.e. \"business_code_enc\"\n",
    "\n",
    "- Note - For Training set you are expected to use fit_trainsform()\n",
    "- Note - For Test set you are expected to use the trainsform()\n",
    "- Note - For Validation set you are expected to use the trainsform()\n",
    "\n",
    "\n",
    "- Partial code is provided, please fill in the blanks "
   ]
  },
  {
   "cell_type": "code",
   "execution_count": 69,
   "id": "4269c307",
   "metadata": {
    "id": "4269c307"
   },
   "outputs": [],
   "source": [
    "X_train['business_code_enc'] = business_coder.fit_transform(X_train['business_code'])"
   ]
  },
  {
   "cell_type": "code",
   "execution_count": 70,
   "id": "70a53712",
   "metadata": {
    "id": "70a53712"
   },
   "outputs": [],
   "source": [
    "X_val['business_code_enc'] = business_coder.transform(X_val['business_code'])\n",
    "X_test['business_code_enc'] = business_coder.transform(X_test['business_code'])"
   ]
  },
  {
   "cell_type": "markdown",
   "id": "gdNYxTkqNfmz",
   "metadata": {
    "id": "gdNYxTkqNfmz"
   },
   "source": [
    "### Display \"business_code\" and \"business_code_enc\" together from X_train dataframe "
   ]
  },
  {
   "cell_type": "code",
   "execution_count": 71,
   "id": "1196a002",
   "metadata": {
    "id": "1196a002"
   },
   "outputs": [
    {
     "data": {
      "text/html": [
       "<div>\n",
       "<style scoped>\n",
       "    .dataframe tbody tr th:only-of-type {\n",
       "        vertical-align: middle;\n",
       "    }\n",
       "\n",
       "    .dataframe tbody tr th {\n",
       "        vertical-align: top;\n",
       "    }\n",
       "\n",
       "    .dataframe thead th {\n",
       "        text-align: right;\n",
       "    }\n",
       "</style>\n",
       "<table border=\"1\" class=\"dataframe\">\n",
       "  <thead>\n",
       "    <tr style=\"text-align: right;\">\n",
       "      <th></th>\n",
       "      <th>business_code</th>\n",
       "      <th>business_code_enc</th>\n",
       "    </tr>\n",
       "  </thead>\n",
       "  <tbody>\n",
       "    <tr>\n",
       "      <th>35886</th>\n",
       "      <td>U001</td>\n",
       "      <td>1</td>\n",
       "    </tr>\n",
       "    <tr>\n",
       "      <th>14338</th>\n",
       "      <td>U001</td>\n",
       "      <td>1</td>\n",
       "    </tr>\n",
       "    <tr>\n",
       "      <th>17006</th>\n",
       "      <td>U013</td>\n",
       "      <td>5</td>\n",
       "    </tr>\n",
       "    <tr>\n",
       "      <th>30683</th>\n",
       "      <td>U001</td>\n",
       "      <td>1</td>\n",
       "    </tr>\n",
       "    <tr>\n",
       "      <th>20038</th>\n",
       "      <td>U001</td>\n",
       "      <td>1</td>\n",
       "    </tr>\n",
       "    <tr>\n",
       "      <th>...</th>\n",
       "      <td>...</td>\n",
       "      <td>...</td>\n",
       "    </tr>\n",
       "    <tr>\n",
       "      <th>20757</th>\n",
       "      <td>U001</td>\n",
       "      <td>1</td>\n",
       "    </tr>\n",
       "    <tr>\n",
       "      <th>32103</th>\n",
       "      <td>U001</td>\n",
       "      <td>1</td>\n",
       "    </tr>\n",
       "    <tr>\n",
       "      <th>30403</th>\n",
       "      <td>U001</td>\n",
       "      <td>1</td>\n",
       "    </tr>\n",
       "    <tr>\n",
       "      <th>21243</th>\n",
       "      <td>U001</td>\n",
       "      <td>1</td>\n",
       "    </tr>\n",
       "    <tr>\n",
       "      <th>2732</th>\n",
       "      <td>U001</td>\n",
       "      <td>1</td>\n",
       "    </tr>\n",
       "  </tbody>\n",
       "</table>\n",
       "<p>23494 rows × 2 columns</p>\n",
       "</div>"
      ],
      "text/plain": [
       "      business_code  business_code_enc\n",
       "35886          U001                  1\n",
       "14338          U001                  1\n",
       "17006          U013                  5\n",
       "30683          U001                  1\n",
       "20038          U001                  1\n",
       "...             ...                ...\n",
       "20757          U001                  1\n",
       "32103          U001                  1\n",
       "30403          U001                  1\n",
       "21243          U001                  1\n",
       "2732           U001                  1\n",
       "\n",
       "[23494 rows x 2 columns]"
      ]
     },
     "execution_count": 71,
     "metadata": {},
     "output_type": "execute_result"
    }
   ],
   "source": [
    "X_train[['business_code','business_code_enc']]"
   ]
  },
  {
   "cell_type": "markdown",
   "id": "11477224",
   "metadata": {
    "id": "11477224"
   },
   "source": [
    "#### Create a function called \"custom\" for dropping the columns 'business_code' from train, test and validation dataframe\n",
    "\n",
    "- Note - Fill in the blank to complete the code"
   ]
  },
  {
   "cell_type": "code",
   "execution_count": 72,
   "id": "1052868a",
   "metadata": {
    "id": "1052868a"
   },
   "outputs": [],
   "source": [
    "def custom(col ,traindf = X_train,valdf = X_val,testdf = X_test):\n",
    "    traindf.drop(col, axis =1,inplace=True)\n",
    "    valdf.drop(col,axis=1 , inplace=True)\n",
    "    testdf.drop(col,axis=1 , inplace=True)\n",
    "\n",
    "    return traindf,valdf ,testdf"
   ]
  },
  {
   "cell_type": "markdown",
   "id": "rI--ZuMbNLne",
   "metadata": {
    "id": "rI--ZuMbNLne"
   },
   "source": [
    "### Call the function by passing the column name which needed to be dropped from train, test and validation dataframes. Return updated dataframes to be stored in X_train ,X_val, X_test  \n",
    "\n",
    "- Note = Fill in the blank to complete the code "
   ]
  },
  {
   "cell_type": "code",
   "execution_count": 73,
   "id": "1a0f955c",
   "metadata": {
    "id": "1a0f955c"
   },
   "outputs": [],
   "source": [
    "X_train,X_val,X_test = custom(['business_code'])"
   ]
  },
  {
   "cell_type": "markdown",
   "id": "28b5b27e",
   "metadata": {
    "id": "28b5b27e"
   },
   "source": [
    "### Manually replacing str values with numbers, Here we are trying manually replace the customer numbers with some specific values like, 'CCCA' as 1, 'CCU' as 2 and so on. Also we are converting the datatype \"cust_number\" field to int type.\n",
    "\n",
    "- We are doing it for all the three dataframes as shown below. This is fully completed code. No need to modify anything here \n",
    "\n"
   ]
  },
  {
   "cell_type": "code",
   "execution_count": 74,
   "id": "85dd129e",
   "metadata": {
    "id": "85dd129e"
   },
   "outputs": [],
   "source": [
    "X_train['cust_number'] = X_train['cust_number'].str.replace('CCCA',\"1\").str.replace('CCU',\"2\").str.replace('CC',\"3\").astype(int)\n",
    "X_test['cust_number'] = X_test['cust_number'].str.replace('CCCA',\"1\").str.replace('CCU',\"2\").str.replace('CC',\"3\").astype(int)\n",
    "X_val['cust_number'] = X_val['cust_number'].str.replace('CCCA',\"1\").str.replace('CCU',\"2\").str.replace('CC',\"3\").astype(int)\n"
   ]
  },
  {
   "cell_type": "markdown",
   "id": "U8vA-zmdPnJ8",
   "metadata": {
    "id": "U8vA-zmdPnJ8"
   },
   "source": [
    "#### It differs from LabelEncoder by handling new classes and providing a value for it [Unknown]. Unknown will be added in fit and transform will take care of new item. It gives unknown class id.\n",
    "\n",
    "#### This will fit the encoder for all the unique values and introduce unknown value\n",
    "\n",
    "- Note - Keep this code as it is, we will be using this later on.  "
   ]
  },
  {
   "cell_type": "code",
   "execution_count": 75,
   "id": "151f48ba",
   "metadata": {
    "id": "151f48ba"
   },
   "outputs": [],
   "source": [
    "#For encoding unseen labels\n",
    "class EncoderExt(object):\n",
    "    def __init__(self):\n",
    "        self.label_encoder = LabelEncoder()\n",
    "    def fit(self, data_list):\n",
    "        self.label_encoder = self.label_encoder.fit(list(data_list) + ['Unknown'])\n",
    "        self.classes_ = self.label_encoder.classes_\n",
    "        return self\n",
    "    def transform(self, data_list):\n",
    "        new_data_list = list(data_list)\n",
    "        for unique_item in np.unique(data_list):\n",
    "            if unique_item not in self.label_encoder.classes_:\n",
    "                new_data_list = ['Unknown' if x==unique_item else x for x in new_data_list]\n",
    "        return self.label_encoder.transform(new_data_list)"
   ]
  },
  {
   "cell_type": "markdown",
   "id": "254c64e6",
   "metadata": {
    "id": "254c64e6"
   },
   "source": [
    "### Use the user define Label Encoder function called \"EncoderExt\" for the \"name_customer\" column\n",
    "\n",
    "- Note - Keep the code as it is, no need to change"
   ]
  },
  {
   "cell_type": "code",
   "execution_count": 76,
   "id": "62b17eff",
   "metadata": {
    "id": "62b17eff"
   },
   "outputs": [],
   "source": [
    "label_encoder = EncoderExt()\n",
    "label_encoder.fit(X_train['name_customer'])\n",
    "X_train['name_customer_enc']=label_encoder.transform(X_train['name_customer'])\n",
    "X_val['name_customer_enc']=label_encoder.transform(X_val['name_customer'])\n",
    "X_test['name_customer_enc']=label_encoder.transform(X_test['name_customer'])"
   ]
  },
  {
   "cell_type": "markdown",
   "id": "mK7LMoy2QZhy",
   "metadata": {
    "id": "mK7LMoy2QZhy"
   },
   "source": [
    "### As we have created the a new column \"name_customer_enc\", so now drop \"name_customer\" column from all three dataframes\n",
    "\n",
    "- Note - Keep the code as it is, no need to change"
   ]
  },
  {
   "cell_type": "code",
   "execution_count": 77,
   "id": "ef85f1c0",
   "metadata": {
    "id": "ef85f1c0"
   },
   "outputs": [],
   "source": [
    "X_train ,X_val, X_test = custom(['name_customer'])"
   ]
  },
  {
   "cell_type": "markdown",
   "id": "3aa09d22",
   "metadata": {
    "id": "3aa09d22"
   },
   "source": [
    "### Using Label Encoder for the \"cust_payment_terms\" column\n",
    "\n",
    "- Note - Keep the code as it is, no need to change"
   ]
  },
  {
   "cell_type": "code",
   "execution_count": 78,
   "id": "6f9ab642",
   "metadata": {
    "id": "6f9ab642"
   },
   "outputs": [],
   "source": [
    "label_encoder1 = EncoderExt()\n",
    "label_encoder1.fit(X_train['cust_payment_terms'])\n",
    "X_train['cust_payment_terms_enc']=label_encoder1.transform(X_train['cust_payment_terms'])\n",
    "X_val['cust_payment_terms_enc']=label_encoder1.transform(X_val['cust_payment_terms'])\n",
    "X_test['cust_payment_terms_enc']=label_encoder1.transform(X_test['cust_payment_terms'])"
   ]
  },
  {
   "cell_type": "code",
   "execution_count": 79,
   "id": "55f9a7c2",
   "metadata": {
    "id": "55f9a7c2"
   },
   "outputs": [],
   "source": [
    "X_train ,X_val, X_test = custom(['cust_payment_terms'])"
   ]
  },
  {
   "cell_type": "markdown",
   "id": "0788f42b",
   "metadata": {
    "id": "0788f42b"
   },
   "source": [
    "## Check the datatype of all the columns of Train, Test and Validation dataframes realted to X\n",
    "\n",
    "- Note - You are expected yo use dtype"
   ]
  },
  {
   "cell_type": "code",
   "execution_count": 80,
   "id": "bc79a316",
   "metadata": {
    "id": "bc79a316"
   },
   "outputs": [
    {
     "name": "stdout",
     "output_type": "stream",
     "text": [
      "<class 'pandas.core.frame.DataFrame'>\n",
      "Int64Index: 23494 entries, 35886 to 2732\n",
      "Data columns (total 10 columns):\n",
      " #   Column                  Non-Null Count  Dtype         \n",
      "---  ------                  --------------  -----         \n",
      " 0   cust_number             23494 non-null  int32         \n",
      " 1   buisness_year           23494 non-null  float64       \n",
      " 2   doc_id                  23494 non-null  float64       \n",
      " 3   posting_date            23494 non-null  datetime64[ns]\n",
      " 4   due_in_date             23494 non-null  datetime64[ns]\n",
      " 5   baseline_create_date    23494 non-null  datetime64[ns]\n",
      " 6   converted_usd           23494 non-null  float64       \n",
      " 7   business_code_enc       23494 non-null  int32         \n",
      " 8   name_customer_enc       23494 non-null  int32         \n",
      " 9   cust_payment_terms_enc  23494 non-null  int32         \n",
      "dtypes: datetime64[ns](3), float64(3), int32(4)\n",
      "memory usage: 1.6 MB\n"
     ]
    }
   ],
   "source": [
    "X_train.info()"
   ]
  },
  {
   "cell_type": "code",
   "execution_count": 81,
   "id": "b33242d8",
   "metadata": {
    "id": "b33242d8"
   },
   "outputs": [
    {
     "name": "stdout",
     "output_type": "stream",
     "text": [
      "<class 'pandas.core.frame.DataFrame'>\n",
      "Int64Index: 7832 entries, 18813 to 4112\n",
      "Data columns (total 10 columns):\n",
      " #   Column                  Non-Null Count  Dtype         \n",
      "---  ------                  --------------  -----         \n",
      " 0   cust_number             7832 non-null   int32         \n",
      " 1   buisness_year           7832 non-null   float64       \n",
      " 2   doc_id                  7832 non-null   float64       \n",
      " 3   posting_date            7832 non-null   datetime64[ns]\n",
      " 4   due_in_date             7832 non-null   datetime64[ns]\n",
      " 5   baseline_create_date    7832 non-null   datetime64[ns]\n",
      " 6   converted_usd           7832 non-null   float64       \n",
      " 7   business_code_enc       7832 non-null   int32         \n",
      " 8   name_customer_enc       7832 non-null   int32         \n",
      " 9   cust_payment_terms_enc  7832 non-null   int32         \n",
      "dtypes: datetime64[ns](3), float64(3), int32(4)\n",
      "memory usage: 550.7 KB\n"
     ]
    }
   ],
   "source": [
    "X_test.info()"
   ]
  },
  {
   "cell_type": "code",
   "execution_count": 82,
   "id": "6bd4da71",
   "metadata": {
    "id": "6bd4da71"
   },
   "outputs": [
    {
     "name": "stdout",
     "output_type": "stream",
     "text": [
      "<class 'pandas.core.frame.DataFrame'>\n",
      "Int64Index: 7832 entries, 32350 to 13934\n",
      "Data columns (total 10 columns):\n",
      " #   Column                  Non-Null Count  Dtype         \n",
      "---  ------                  --------------  -----         \n",
      " 0   cust_number             7832 non-null   int32         \n",
      " 1   buisness_year           7832 non-null   float64       \n",
      " 2   doc_id                  7832 non-null   float64       \n",
      " 3   posting_date            7832 non-null   datetime64[ns]\n",
      " 4   due_in_date             7832 non-null   datetime64[ns]\n",
      " 5   baseline_create_date    7832 non-null   datetime64[ns]\n",
      " 6   converted_usd           7832 non-null   float64       \n",
      " 7   business_code_enc       7832 non-null   int32         \n",
      " 8   name_customer_enc       7832 non-null   int32         \n",
      " 9   cust_payment_terms_enc  7832 non-null   int32         \n",
      "dtypes: datetime64[ns](3), float64(3), int32(4)\n",
      "memory usage: 550.7 KB\n"
     ]
    }
   ],
   "source": [
    "X_val.info()"
   ]
  },
  {
   "cell_type": "markdown",
   "id": "LVfvuPiWPeMB",
   "metadata": {
    "id": "LVfvuPiWPeMB"
   },
   "source": [
    "### From the above output you can notice their are multiple date columns with datetime format\n",
    "\n",
    "### In order to pass it into our model, we need to convert it into float format"
   ]
  },
  {
   "cell_type": "markdown",
   "id": "9d344db9",
   "metadata": {
    "id": "9d344db9"
   },
   "source": [
    "### You need to extract day, month and year from the \"posting_date\" column \n",
    "\n",
    "1.   Extract days from \"posting_date\" column and store it into a new column \"day_of_postingdate\" for train, test and validation dataset \n",
    "2.   Extract months from \"posting_date\" column and store it into a new column \"month_of_postingdate\" for train, test and validation dataset\n",
    "3.   Extract year from \"posting_date\" column and store it into a new column \"year_of_postingdate\" for train, test and validation dataset \n",
    "\n",
    "\n",
    "\n",
    "- Note - You are supposed yo use \n",
    "\n",
    "*   dt.day\n",
    "*   dt.month\n",
    "*   dt.year\n",
    "\n",
    "\n",
    "\n",
    "\n"
   ]
  },
  {
   "cell_type": "code",
   "execution_count": 83,
   "id": "6e3cdfd6",
   "metadata": {
    "id": "6e3cdfd6"
   },
   "outputs": [],
   "source": [
    "X_train['day_of_postingdate'] = X_train['posting_date'].dt.day\n",
    "X_train['month_of_postingdate'] = X_train['posting_date'].dt.month\n",
    "X_train['year_of_postingdate'] = X_train['posting_date'].dt.year\n",
    "\n",
    "X_val['day_of_postingdate'] = X_val['posting_date'].dt.day\n",
    "X_val['month_of_postingdate'] = X_val['posting_date'].dt.month\n",
    "X_val['year_of_postingdate'] = X_val['posting_date'].dt.year\n",
    "\n",
    "\n",
    "X_test['day_of_postingdate'] = X_test['posting_date'].dt.day\n",
    "X_test['month_of_postingdate'] = X_test['posting_date'].dt.month\n",
    "X_test['year_of_postingdate'] = X_test['posting_date'].dt.year\n",
    "\n"
   ]
  },
  {
   "cell_type": "markdown",
   "id": "GyI-F853Rxa7",
   "metadata": {
    "id": "GyI-F853Rxa7"
   },
   "source": [
    "### pass the \"posting_date\" column into the Custom function for train, test and validation dataset"
   ]
  },
  {
   "cell_type": "code",
   "execution_count": 84,
   "id": "FQHtQkrnRx_V",
   "metadata": {
    "id": "FQHtQkrnRx_V"
   },
   "outputs": [],
   "source": [
    "X_train ,X_val, X_test = custom(['posting_date'])"
   ]
  },
  {
   "cell_type": "markdown",
   "id": "GMnCaEcKReSw",
   "metadata": {
    "id": "GMnCaEcKReSw"
   },
   "source": [
    "### You need to extract day, month and year from the \"baseline_create_date\" column \n",
    "\n",
    "1.   Extract days from \"baseline_create_date\" column and store it into a new column \"day_of_createdate\" for train, test and validation dataset \n",
    "2.   Extract months from \"baseline_create_date\" column and store it into a new column \"month_of_createdate\" for train, test and validation dataset\n",
    "3.   Extract year from \"baseline_create_date\" column and store it into a new column \"year_of_createdate\" for train, test and validation dataset \n",
    "\n",
    "\n",
    "\n",
    "- Note - You are supposed yo use \n",
    "\n",
    "*   dt.day\n",
    "*   dt.month\n",
    "*   dt.year\n",
    "\n",
    "\n",
    "- Note - Do as it is been shown in the previous two code boxes"
   ]
  },
  {
   "cell_type": "markdown",
   "id": "ee4d83d0",
   "metadata": {
    "id": "ee4d83d0"
   },
   "source": [
    "### Extracting Day, Month, Year for 'baseline_create_date' column"
   ]
  },
  {
   "cell_type": "code",
   "execution_count": 85,
   "id": "32b240e1",
   "metadata": {
    "id": "32b240e1"
   },
   "outputs": [],
   "source": [
    "X_train['day_of_createdate'] = X_train['baseline_create_date'].dt.day\n",
    "X_train['month_of_createdate'] = X_train['baseline_create_date'].dt.month\n",
    "X_train['year_of_createdate'] = X_train['baseline_create_date'].dt.year\n",
    "\n",
    "X_val['day_of_createdate'] = X_val['baseline_create_date'].dt.day\n",
    "X_val['month_of_createdate'] = X_val['baseline_create_date'].dt.month\n",
    "X_val['year_of_createdate'] = X_val['baseline_create_date'].dt.year\n",
    "\n",
    "\n",
    "X_test['day_of_createdate'] = X_test['baseline_create_date'].dt.day\n",
    "X_test['month_of_createdate'] = X_test['baseline_create_date'].dt.month\n",
    "X_test['year_of_createdate'] = X_test['baseline_create_date'].dt.year\n"
   ]
  },
  {
   "cell_type": "markdown",
   "id": "cFgwkS5rSDDs",
   "metadata": {
    "id": "cFgwkS5rSDDs"
   },
   "source": [
    "### pass the \"baseline_create_date\" column into the Custom function for train, test and validation dataset"
   ]
  },
  {
   "cell_type": "code",
   "execution_count": 86,
   "id": "RGYa2BEQSDg3",
   "metadata": {
    "id": "RGYa2BEQSDg3"
   },
   "outputs": [],
   "source": [
    "X_train ,X_val, X_test = custom(['baseline_create_date'])"
   ]
  },
  {
   "cell_type": "markdown",
   "id": "77c7a0df",
   "metadata": {
    "id": "77c7a0df"
   },
   "source": [
    "### You need to extract day, month and year from the \"due_in_date\" column \n",
    "\n",
    "1.   Extract days from \"due_in_date\" column and store it into a new column \"day_of_due\" for train, test and validation dataset \n",
    "2.   Extract months from \"due_in_date\" column and store it into a new column \"month_of_due\" for train, test and validation dataset\n",
    "3.   Extract year from \"due_in_date\" column and store it into a new column \"year_of_due\" for train, test and validation dataset \n",
    "\n",
    "\n",
    "\n",
    "- Note - You are supposed yo use \n",
    "\n",
    "*   dt.day\n",
    "*   dt.month\n",
    "*   dt.year\n",
    "\n",
    "- Note - Do as it is been shown in the previous code"
   ]
  },
  {
   "cell_type": "code",
   "execution_count": 87,
   "id": "5c745547",
   "metadata": {
    "id": "5c745547"
   },
   "outputs": [],
   "source": [
    "X_train['day_of_due'] = X_train['due_in_date'].dt.day\n",
    "X_train['month_of_due'] = X_train['due_in_date'].dt.month\n",
    "X_train['year_of_due'] = X_train['due_in_date'].dt.year\n",
    "\n",
    "X_val['day_of_due'] = X_val['due_in_date'].dt.day\n",
    "X_val['month_of_due'] = X_val['due_in_date'].dt.month\n",
    "X_val['year_of_due'] = X_val['due_in_date'].dt.year\n",
    "\n",
    "\n",
    "X_test['day_of_due'] = X_test['due_in_date'].dt.day\n",
    "X_test['month_of_due'] = X_test['due_in_date'].dt.month\n",
    "X_test['year_of_due'] = X_test['due_in_date'].dt.year"
   ]
  },
  {
   "cell_type": "markdown",
   "id": "FYLLzulGSvRd",
   "metadata": {
    "id": "FYLLzulGSvRd"
   },
   "source": [
    "pass the \"due_in_date\" column into the Custom function for train, test and validation dataset"
   ]
  },
  {
   "cell_type": "code",
   "execution_count": 88,
   "id": "1-s6QuY9Svrh",
   "metadata": {
    "id": "1-s6QuY9Svrh"
   },
   "outputs": [],
   "source": [
    "X_train ,X_val, X_test = custom(['due_in_date'])"
   ]
  },
  {
   "cell_type": "markdown",
   "id": "1ae5d052",
   "metadata": {
    "id": "1ae5d052"
   },
   "source": [
    "### Check for the datatypes for train, test and validation set again\n",
    "\n",
    "- Note - all the data type should be in either int64 or float64 format \n"
   ]
  },
  {
   "cell_type": "code",
   "execution_count": 89,
   "id": "aee9d828",
   "metadata": {
    "id": "aee9d828"
   },
   "outputs": [
    {
     "name": "stdout",
     "output_type": "stream",
     "text": [
      "<class 'pandas.core.frame.DataFrame'>\n",
      "Int64Index: 23494 entries, 35886 to 2732\n",
      "Data columns (total 16 columns):\n",
      " #   Column                  Non-Null Count  Dtype  \n",
      "---  ------                  --------------  -----  \n",
      " 0   cust_number             23494 non-null  int32  \n",
      " 1   buisness_year           23494 non-null  float64\n",
      " 2   doc_id                  23494 non-null  float64\n",
      " 3   converted_usd           23494 non-null  float64\n",
      " 4   business_code_enc       23494 non-null  int32  \n",
      " 5   name_customer_enc       23494 non-null  int32  \n",
      " 6   cust_payment_terms_enc  23494 non-null  int32  \n",
      " 7   day_of_postingdate      23494 non-null  int64  \n",
      " 8   month_of_postingdate    23494 non-null  int64  \n",
      " 9   year_of_postingdate     23494 non-null  int64  \n",
      " 10  day_of_createdate       23494 non-null  int64  \n",
      " 11  month_of_createdate     23494 non-null  int64  \n",
      " 12  year_of_createdate      23494 non-null  int64  \n",
      " 13  day_of_due              23494 non-null  int64  \n",
      " 14  month_of_due            23494 non-null  int64  \n",
      " 15  year_of_due             23494 non-null  int64  \n",
      "dtypes: float64(3), int32(4), int64(9)\n",
      "memory usage: 2.7 MB\n"
     ]
    }
   ],
   "source": [
    "X_train.info()"
   ]
  },
  {
   "cell_type": "code",
   "execution_count": 90,
   "id": "18bbf91d",
   "metadata": {},
   "outputs": [
    {
     "name": "stdout",
     "output_type": "stream",
     "text": [
      "<class 'pandas.core.frame.DataFrame'>\n",
      "Int64Index: 7832 entries, 32350 to 13934\n",
      "Data columns (total 16 columns):\n",
      " #   Column                  Non-Null Count  Dtype  \n",
      "---  ------                  --------------  -----  \n",
      " 0   cust_number             7832 non-null   int32  \n",
      " 1   buisness_year           7832 non-null   float64\n",
      " 2   doc_id                  7832 non-null   float64\n",
      " 3   converted_usd           7832 non-null   float64\n",
      " 4   business_code_enc       7832 non-null   int32  \n",
      " 5   name_customer_enc       7832 non-null   int32  \n",
      " 6   cust_payment_terms_enc  7832 non-null   int32  \n",
      " 7   day_of_postingdate      7832 non-null   int64  \n",
      " 8   month_of_postingdate    7832 non-null   int64  \n",
      " 9   year_of_postingdate     7832 non-null   int64  \n",
      " 10  day_of_createdate       7832 non-null   int64  \n",
      " 11  month_of_createdate     7832 non-null   int64  \n",
      " 12  year_of_createdate      7832 non-null   int64  \n",
      " 13  day_of_due              7832 non-null   int64  \n",
      " 14  month_of_due            7832 non-null   int64  \n",
      " 15  year_of_due             7832 non-null   int64  \n",
      "dtypes: float64(3), int32(4), int64(9)\n",
      "memory usage: 917.8 KB\n"
     ]
    }
   ],
   "source": [
    "X_val.info()"
   ]
  },
  {
   "cell_type": "code",
   "execution_count": 91,
   "id": "95afc86b",
   "metadata": {},
   "outputs": [
    {
     "name": "stdout",
     "output_type": "stream",
     "text": [
      "<class 'pandas.core.frame.DataFrame'>\n",
      "Int64Index: 7832 entries, 18813 to 4112\n",
      "Data columns (total 16 columns):\n",
      " #   Column                  Non-Null Count  Dtype  \n",
      "---  ------                  --------------  -----  \n",
      " 0   cust_number             7832 non-null   int32  \n",
      " 1   buisness_year           7832 non-null   float64\n",
      " 2   doc_id                  7832 non-null   float64\n",
      " 3   converted_usd           7832 non-null   float64\n",
      " 4   business_code_enc       7832 non-null   int32  \n",
      " 5   name_customer_enc       7832 non-null   int32  \n",
      " 6   cust_payment_terms_enc  7832 non-null   int32  \n",
      " 7   day_of_postingdate      7832 non-null   int64  \n",
      " 8   month_of_postingdate    7832 non-null   int64  \n",
      " 9   year_of_postingdate     7832 non-null   int64  \n",
      " 10  day_of_createdate       7832 non-null   int64  \n",
      " 11  month_of_createdate     7832 non-null   int64  \n",
      " 12  year_of_createdate      7832 non-null   int64  \n",
      " 13  day_of_due              7832 non-null   int64  \n",
      " 14  month_of_due            7832 non-null   int64  \n",
      " 15  year_of_due             7832 non-null   int64  \n",
      "dtypes: float64(3), int32(4), int64(9)\n",
      "memory usage: 917.8 KB\n"
     ]
    }
   ],
   "source": [
    "X_test.info()"
   ]
  },
  {
   "cell_type": "markdown",
   "id": "65810f55",
   "metadata": {
    "id": "65810f55"
   },
   "source": [
    "# Feature Selection"
   ]
  },
  {
   "cell_type": "markdown",
   "id": "4bb1ad9f",
   "metadata": {
    "id": "4bb1ad9f"
   },
   "source": [
    "### Filter Method\n",
    "\n",
    "- Calling the VarianceThreshold Function \n",
    "- Note - Keep the code as it is, no need to change "
   ]
  },
  {
   "cell_type": "code",
   "execution_count": 92,
   "id": "e882509f",
   "metadata": {
    "id": "e882509f"
   },
   "outputs": [
    {
     "data": {
      "text/plain": [
       "16"
      ]
     },
     "execution_count": 92,
     "metadata": {},
     "output_type": "execute_result"
    }
   ],
   "source": [
    "from sklearn.feature_selection import VarianceThreshold\n",
    "constant_filter = VarianceThreshold(threshold=0)\n",
    "constant_filter.fit(X_train)\n",
    "len(X_train.columns[constant_filter.get_support()])"
   ]
  },
  {
   "cell_type": "markdown",
   "id": "V9531H3jR-W2",
   "metadata": {
    "id": "V9531H3jR-W2"
   },
   "source": [
    "- Note - Keep the code as it is, no need to change \n"
   ]
  },
  {
   "cell_type": "code",
   "execution_count": 93,
   "id": "c77c12e1",
   "metadata": {
    "id": "c77c12e1"
   },
   "outputs": [
    {
     "name": "stdout",
     "output_type": "stream",
     "text": [
      "0\n"
     ]
    }
   ],
   "source": [
    "constant_columns = [column for column in X_train.columns\n",
    "                    if column not in X_train.columns[constant_filter.get_support()]]\n",
    "print(len(constant_columns))"
   ]
  },
  {
   "cell_type": "markdown",
   "id": "6d9b8610",
   "metadata": {
    "id": "6d9b8610"
   },
   "source": [
    "- transpose the feature matrice\n",
    "- print the number of duplicated features\n",
    "- select the duplicated features columns names\n",
    "\n",
    "- Note - Keep the code as it is, no need to change \n"
   ]
  },
  {
   "cell_type": "code",
   "execution_count": 94,
   "id": "0fb7db95",
   "metadata": {
    "id": "0fb7db95"
   },
   "outputs": [
    {
     "name": "stdout",
     "output_type": "stream",
     "text": [
      "0\n"
     ]
    }
   ],
   "source": [
    "x_train_T = X_train.T\n",
    "print(x_train_T.duplicated().sum())\n",
    "duplicated_columns = x_train_T[x_train_T.duplicated()].index.values"
   ]
  },
  {
   "cell_type": "markdown",
   "id": "510fa831",
   "metadata": {
    "id": "510fa831"
   },
   "source": [
    "### Filtering depending upon correlation matrix value\n",
    "- We have created a function called handling correlation which is going to return fields based on the correlation matrix value with a threshold of 0.8\n",
    "\n",
    "- Note - Keep the code as it is, no need to change "
   ]
  },
  {
   "cell_type": "code",
   "execution_count": 95,
   "id": "67731abc",
   "metadata": {
    "id": "67731abc"
   },
   "outputs": [],
   "source": [
    "def handling_correlation(X_train,threshold=0.8):\n",
    "    corr_features = set()\n",
    "    corr_matrix = X_train.corr()\n",
    "    for i in range(len(corr_matrix .columns)):\n",
    "        for j in range(i):\n",
    "            if abs(corr_matrix.iloc[i, j]) >threshold:\n",
    "                colname = corr_matrix.columns[i]\n",
    "                corr_features.add(colname)\n",
    "    return list(corr_features)"
   ]
  },
  {
   "cell_type": "markdown",
   "id": "JaE_6qVgSXl3",
   "metadata": {
    "id": "JaE_6qVgSXl3"
   },
   "source": [
    "- Note : Here we are trying to find out the relevant fields, from X_train\n",
    "- Please fill in the blanks to call handling_correlation() function with a threshold value of 0.85"
   ]
  },
  {
   "cell_type": "code",
   "execution_count": 96,
   "id": "dd91d1a2",
   "metadata": {
    "id": "dd91d1a2"
   },
   "outputs": [
    {
     "data": {
      "text/plain": [
       "['year_of_createdate',\n",
       " 'year_of_due',\n",
       " 'day_of_createdate',\n",
       " 'month_of_due',\n",
       " 'year_of_postingdate',\n",
       " 'month_of_createdate']"
      ]
     },
     "execution_count": 96,
     "metadata": {},
     "output_type": "execute_result"
    }
   ],
   "source": [
    "train=X_train.copy()\n",
    "handling_correlation(train.copy(),0.85)"
   ]
  },
  {
   "cell_type": "markdown",
   "id": "154da511",
   "metadata": {
    "id": "154da511"
   },
   "source": [
    "### Heatmap for X_train\n",
    "\n",
    "- Note - Keep the code as it is, no need to change"
   ]
  },
  {
   "cell_type": "code",
   "execution_count": 97,
   "id": "2e8f2fe4",
   "metadata": {
    "id": "2e8f2fe4"
   },
   "outputs": [
    {
     "data": {
      "text/plain": [
       "<AxesSubplot:title={'center':'Pearson Correlation of Features'}>"
      ]
     },
     "execution_count": 97,
     "metadata": {},
     "output_type": "execute_result"
    },
    {
     "data": {
      "image/png": "[encoded data removed]",
      "text/plain": [
       "<Figure size 1008x864 with 2 Axes>"
      ]
     },
     "metadata": {
      "needs_background": "light"
     },
     "output_type": "display_data"
    }
   ],
   "source": [
    "colormap = plt.cm.RdBu\n",
    "plt.figure(figsize=(14,12))\n",
    "plt.title('Pearson Correlation of Features', y=1.05, size=20)\n",
    "sns.heatmap(X_train.merge(y_train , on = X_train.index ).corr(),linewidths=0.1,vmax=1.0, \n",
    "            square=True, cmap='gist_rainbow_r', linecolor='white', annot=True)"
   ]
  },
  {
   "cell_type": "markdown",
   "id": "e3b0d745",
   "metadata": {
    "id": "e3b0d745"
   },
   "source": [
    "#### Calling variance threshold for threshold value = 0.8\n",
    "\n",
    "- Note -  Fill in the blanks to call the appropriate method"
   ]
  },
  {
   "cell_type": "code",
   "execution_count": 98,
   "id": "a9b2080f",
   "metadata": {
    "id": "a9b2080f"
   },
   "outputs": [
    {
     "data": {
      "text/plain": [
       "VarianceThreshold(threshold=0.8)"
      ]
     },
     "execution_count": 98,
     "metadata": {},
     "output_type": "execute_result"
    }
   ],
   "source": [
    "from sklearn.feature_selection import VarianceThreshold\n",
    "sel = VarianceThreshold(0.8)\n",
    "sel.fit(X_train)"
   ]
  },
  {
   "cell_type": "code",
   "execution_count": 99,
   "id": "6cb8c3dc",
   "metadata": {
    "id": "6cb8c3dc"
   },
   "outputs": [
    {
     "data": {
      "text/plain": [
       "array([1.77226100e+15, 1.15601332e-01, 8.76531009e+16, 1.36623848e+09,\n",
       "       2.75502859e-01, 1.07205022e+06, 1.27747208e+02, 7.58920571e+01,\n",
       "       1.22867981e+01, 1.16586526e-01, 7.75097235e+01, 1.22926951e+01,\n",
       "       1.16713969e-01, 7.63061916e+01, 1.21060948e+01, 1.18952006e-01])"
      ]
     },
     "execution_count": 99,
     "metadata": {},
     "output_type": "execute_result"
    }
   ],
   "source": [
    "sel.variances_"
   ]
  },
  {
   "cell_type": "markdown",
   "id": "62633a84",
   "metadata": {
    "id": "62633a84"
   },
   "source": [
    "### Features columns are \n",
    "- 'year_of_createdate' \n",
    "- 'year_of_due'\n",
    "- 'day_of_createdate'\n",
    "- 'year_of_postingdate'\n",
    "- 'month_of_due'\n",
    "- 'month_of_createdate'"
   ]
  },
  {
   "cell_type": "markdown",
   "id": "651f1ad0",
   "metadata": {
    "id": "651f1ad0"
   },
   "source": [
    "# Modelling \n",
    "\n",
    "#### Now you need to compare with different machine learning models, and needs to find out the best predicted model\n",
    "\n",
    "- Linear Regression\n",
    "- Decision Tree Regression\n",
    "- Random Forest Regression\n",
    "- Support Vector Regression\n",
    "- Extreme Gradient Boost Regression "
   ]
  },
  {
   "cell_type": "markdown",
   "id": "PicEhSuUUOkt",
   "metadata": {
    "id": "PicEhSuUUOkt"
   },
   "source": [
    "### You need to make different blank list for different evaluation matrix \n",
    "\n",
    "- MSE\n",
    "- R2\n",
    "- Algorithm"
   ]
  },
  {
   "cell_type": "code",
   "execution_count": 100,
   "id": "701e12b0",
   "metadata": {
    "id": "701e12b0"
   },
   "outputs": [],
   "source": [
    "MSE_Score = []\n",
    "R2_Score = []\n",
    "Algorithm = []\n",
    "from sklearn.metrics import mean_squared_error\n",
    "from sklearn.metrics import r2_score"
   ]
  },
  {
   "cell_type": "markdown",
   "id": "29310119",
   "metadata": {
    "id": "29310119"
   },
   "source": [
    "### You need to start with the baseline model Linear Regression\n",
    "\n",
    "- Step 1 : Call the Linear Regression from sklearn library\n",
    "- Step 2 : make an object of Linear Regression \n",
    "- Step 3 : fit the X_train and y_train dataframe into the object \n",
    "- Step 4 : Predict the output by passing the X_test Dataset into predict function\n",
    "\n",
    "\n",
    "\n",
    "\n",
    "- Note - Append the Algorithm name into the algorithm list for tracking purpose"
   ]
  },
  {
   "cell_type": "code",
   "execution_count": 101,
   "id": "6bdea395",
   "metadata": {
    "id": "6bdea395"
   },
   "outputs": [],
   "source": [
    "from sklearn.linear_model import LinearRegression\n",
    "Algorithm.append('LinearRegression')\n",
    "regressor = LinearRegression()\n",
    "regressor.fit(X_train, y_train)\n",
    "predicted= regressor.predict(X_test)"
   ]
  },
  {
   "cell_type": "markdown",
   "id": "G02cpnBhXJ14",
   "metadata": {
    "id": "G02cpnBhXJ14"
   },
   "source": [
    "### Check for the \n",
    "\n",
    "- Mean Square Error\n",
    "- R Square Error \n",
    "\n",
    "for y_test and predicted dataset and store those data inside respective list for comparison "
   ]
  },
  {
   "cell_type": "code",
   "execution_count": 102,
   "id": "0f69ca19",
   "metadata": {
    "id": "0f69ca19"
   },
   "outputs": [],
   "source": [
    "MSE_Score.append(mean_squared_error(y_test, predicted))\n",
    "R2_Score.append(r2_score(y_test, predicted))"
   ]
  },
  {
   "cell_type": "markdown",
   "id": "CsmScbHjYMv1",
   "metadata": {
    "id": "CsmScbHjYMv1"
   },
   "source": [
    "### Check the same for the Validation set also "
   ]
  },
  {
   "cell_type": "code",
   "execution_count": 103,
   "id": "fe653295",
   "metadata": {
    "colab": {
     "base_uri": "https://localhost:8080/"
    },
    "executionInfo": {
     "elapsed": 10,
     "status": "ok",
     "timestamp": 1643093994094,
     "user": {
      "displayName": "Chandramouli Das",
      "photoUrl": "https://lh3.googleusercontent.com/a-/AOh14GgsMuDXf6PZsS77v0Q5x8metxFPnlLXsBC6Y3O7=s64",
      "userId": "13777762579346461395"
     },
     "user_tz": -330
    },
    "id": "fe653295",
    "outputId": "0c7429ca-50d0-42a2-96a1-effaa92f549e"
   },
   "outputs": [
    {
     "data": {
      "text/plain": [
       "534375.2347036807"
      ]
     },
     "execution_count": 103,
     "metadata": {},
     "output_type": "execute_result"
    }
   ],
   "source": [
    "predict_test= regressor.predict(X_val)\n",
    "mean_squared_error(y_val, predict_test, squared=False)"
   ]
  },
  {
   "cell_type": "markdown",
   "id": "LokxV2LGYUVh",
   "metadata": {
    "id": "LokxV2LGYUVh"
   },
   "source": [
    "### Display The Comparison Lists"
   ]
  },
  {
   "cell_type": "code",
   "execution_count": 104,
   "id": "9c405bd3",
   "metadata": {
    "colab": {
     "base_uri": "https://localhost:8080/"
    },
    "executionInfo": {
     "elapsed": 8,
     "status": "ok",
     "timestamp": 1643093994095,
     "user": {
      "displayName": "Chandramouli Das",
      "photoUrl": "https://lh3.googleusercontent.com/a-/AOh14GgsMuDXf6PZsS77v0Q5x8metxFPnlLXsBC6Y3O7=s64",
      "userId": "13777762579346461395"
     },
     "user_tz": -330
    },
    "id": "9c405bd3",
    "outputId": "9d78f4a9-33fc-48d1-edc8-c997eca38de0"
   },
   "outputs": [
    {
     "name": "stdout",
     "output_type": "stream",
     "text": [
      "['LinearRegression'],[278953921988.43475],[0.28094901355051605],"
     ]
    }
   ],
   "source": [
    "for i in Algorithm, MSE_Score, R2_Score:\n",
    "    print(i,end=',')"
   ]
  },
  {
   "cell_type": "markdown",
   "id": "b0e65c86",
   "metadata": {
    "id": "b0e65c86"
   },
   "source": [
    "### You need to start with the baseline model Support Vector Regression\n",
    "\n",
    "- Step 1 : Call the Support Vector Regressor from sklearn library\n",
    "- Step 2 : make an object of SVR\n",
    "- Step 3 : fit the X_train and y_train dataframe into the object \n",
    "- Step 4 : Predict the output by passing the X_test Dataset into predict function\n",
    "\n",
    "\n",
    "\n",
    "\n",
    "- Note - Append the Algorithm name into the algorithm list for tracking purpose"
   ]
  },
  {
   "cell_type": "code",
   "execution_count": 105,
   "id": "ccb5de08",
   "metadata": {
    "id": "ccb5de08"
   },
   "outputs": [],
   "source": [
    "from sklearn.svm import SVR\n",
    "Algorithm.append('SVR')\n",
    "SVregressor = SVR()\n",
    "SVregressor.fit(X_train, y_train)\n",
    "predicted= SVregressor.predict(X_test)"
   ]
  },
  {
   "cell_type": "markdown",
   "id": "zz9kcrViYt7e",
   "metadata": {
    "id": "zz9kcrViYt7e"
   },
   "source": [
    "### Check for the \n",
    "\n",
    "- Mean Square Error\n",
    "- R Square Error \n",
    "\n",
    "for \"y_test\" and \"predicted\" dataset and store those data inside respective list for comparison "
   ]
  },
  {
   "cell_type": "code",
   "execution_count": 106,
   "id": "5bb9db76",
   "metadata": {
    "id": "5bb9db76"
   },
   "outputs": [],
   "source": [
    "MSE_Score.append(mean_squared_error(y_test, predicted))\n",
    "R2_Score.append(r2_score(y_test, predicted))"
   ]
  },
  {
   "cell_type": "markdown",
   "id": "0YAxd8N9Y0hJ",
   "metadata": {
    "id": "0YAxd8N9Y0hJ"
   },
   "source": [
    "### Check the same for the Validation set also "
   ]
  },
  {
   "cell_type": "code",
   "execution_count": 107,
   "id": "d6ee71b1",
   "metadata": {
    "id": "d6ee71b1"
   },
   "outputs": [
    {
     "data": {
      "text/plain": [
       "534375.2347036807"
      ]
     },
     "execution_count": 107,
     "metadata": {},
     "output_type": "execute_result"
    }
   ],
   "source": [
    "predict_test= regressor.predict(X_val)\n",
    "mean_squared_error(y_val, predict_test, squared=False)"
   ]
  },
  {
   "cell_type": "markdown",
   "id": "eGcqS5EcY4BI",
   "metadata": {
    "id": "eGcqS5EcY4BI"
   },
   "source": [
    "### Display The Comparison Lists"
   ]
  },
  {
   "cell_type": "code",
   "execution_count": 108,
   "id": "aa72c1ec",
   "metadata": {
    "id": "aa72c1ec"
   },
   "outputs": [
    {
     "name": "stdout",
     "output_type": "stream",
     "text": [
      "['LinearRegression', 'SVR'],[278953921988.43475, 389133184398.8026],[0.28094901355051605, -0.0030566987826348146],"
     ]
    }
   ],
   "source": [
    "for i in Algorithm, MSE_Score, R2_Score:\n",
    "    print(i,end=',')"
   ]
  },
  {
   "cell_type": "markdown",
   "id": "dad18bb3",
   "metadata": {
    "id": "dad18bb3"
   },
   "source": [
    "### Your next model would be Decision Tree Regression\n",
    "\n",
    "- Step 1 : Call the Decision Tree Regressor from sklearn library\n",
    "- Step 2 : make an object of Decision Tree\n",
    "- Step 3 : fit the X_train and y_train dataframe into the object \n",
    "- Step 4 : Predict the output by passing the X_test Dataset into predict function\n",
    "\n",
    "\n",
    "\n",
    "\n",
    "- Note - Append the Algorithm name into the algorithm list for tracking purpose"
   ]
  },
  {
   "cell_type": "code",
   "execution_count": 109,
   "id": "1b6a51eb",
   "metadata": {
    "id": "1b6a51eb"
   },
   "outputs": [],
   "source": [
    "from sklearn.tree import DecisionTreeRegressor\n",
    "Algorithm.append('DecisionTreeRegressor')\n",
    "DTregressor = DecisionTreeRegressor()\n",
    "DTregressor.fit(X_train, y_train)\n",
    "predicted= DTregressor.predict(X_test)"
   ]
  },
  {
   "cell_type": "markdown",
   "id": "AOzfgfeOZo3F",
   "metadata": {
    "id": "AOzfgfeOZo3F"
   },
   "source": [
    "### Check for the \n",
    "\n",
    "- Mean Square Error\n",
    "- R Square Error \n",
    "\n",
    "for y_test and predicted dataset and store those data inside respective list for comparison "
   ]
  },
  {
   "cell_type": "code",
   "execution_count": 110,
   "id": "776e6983",
   "metadata": {
    "id": "776e6983"
   },
   "outputs": [],
   "source": [
    "MSE_Score.append(mean_squared_error(y_test, predicted))\n",
    "R2_Score.append(r2_score(y_test, predicted))"
   ]
  },
  {
   "cell_type": "markdown",
   "id": "eI6d49DQZrhW",
   "metadata": {
    "id": "eI6d49DQZrhW"
   },
   "source": [
    "### Check the same for the Validation set also "
   ]
  },
  {
   "cell_type": "code",
   "execution_count": 111,
   "id": "155fb55c",
   "metadata": {
    "id": "155fb55c"
   },
   "outputs": [
    {
     "data": {
      "text/plain": [
       "534375.2347036807"
      ]
     },
     "execution_count": 111,
     "metadata": {},
     "output_type": "execute_result"
    }
   ],
   "source": [
    "predict_test= regressor.predict(X_val)\n",
    "mean_squared_error(y_val, predict_test, squared=False)"
   ]
  },
  {
   "cell_type": "markdown",
   "id": "sbGXvBLQZw5E",
   "metadata": {
    "id": "sbGXvBLQZw5E"
   },
   "source": [
    "### Display The Comparison Lists"
   ]
  },
  {
   "cell_type": "code",
   "execution_count": 112,
   "id": "1d74d515",
   "metadata": {
    "id": "1d74d515"
   },
   "outputs": [
    {
     "name": "stdout",
     "output_type": "stream",
     "text": [
      "['LinearRegression', 'SVR', 'DecisionTreeRegressor'],[278953921988.43475, 389133184398.8026, 253280685378.46753],[0.28094901355051605, -0.0030566987826348146, 0.34712612975006263],"
     ]
    }
   ],
   "source": [
    "for i in Algorithm, MSE_Score, R2_Score:\n",
    "    print(i,end=',')"
   ]
  },
  {
   "cell_type": "markdown",
   "id": "4ae9979b",
   "metadata": {
    "id": "4ae9979b"
   },
   "source": [
    "### Your next model would be Random Forest Regression\n",
    "\n",
    "- Step 1 : Call the Random Forest Regressor from sklearn library\n",
    "- Step 2 : make an object of Random Forest\n",
    "- Step 3 : fit the X_train and y_train dataframe into the object \n",
    "- Step 4 : Predict the output by passing the X_test Dataset into predict function\n",
    "\n",
    "\n",
    "\n",
    "\n",
    "- Note - Append the Algorithm name into the algorithm list for tracking purpose"
   ]
  },
  {
   "cell_type": "code",
   "execution_count": 113,
   "id": "a69e476a",
   "metadata": {
    "id": "a69e476a"
   },
   "outputs": [],
   "source": [
    "from sklearn.ensemble import RandomForestRegressor\n",
    "Algorithm.append('RandomForestRegressor')\n",
    "RFregressor = RandomForestRegressor()\n",
    "RFregressor.fit(X_train, y_train)\n",
    "predicted= RFregressor.predict(X_test)"
   ]
  },
  {
   "cell_type": "markdown",
   "id": "XNcEJF-6anof",
   "metadata": {
    "id": "XNcEJF-6anof"
   },
   "source": [
    "### Check for the \n",
    "\n",
    "- Mean Square Error\n",
    "- R Square Error \n",
    "\n",
    "for y_test and predicted dataset and store those data inside respective list for comparison "
   ]
  },
  {
   "cell_type": "code",
   "execution_count": 114,
   "id": "826f63f4",
   "metadata": {
    "id": "826f63f4"
   },
   "outputs": [],
   "source": [
    "MSE_Score.append(mean_squared_error(y_test, predicted))\n",
    "R2_Score.append(r2_score(y_test, predicted))"
   ]
  },
  {
   "cell_type": "markdown",
   "id": "yMbyr9V4ati1",
   "metadata": {
    "id": "yMbyr9V4ati1"
   },
   "source": [
    "### Check the same for the Validation set also "
   ]
  },
  {
   "cell_type": "code",
   "execution_count": 115,
   "id": "55b9fb54",
   "metadata": {
    "id": "55b9fb54"
   },
   "outputs": [
    {
     "data": {
      "text/plain": [
       "534375.2347036807"
      ]
     },
     "execution_count": 115,
     "metadata": {},
     "output_type": "execute_result"
    }
   ],
   "source": [
    "predict_test= regressor.predict(X_val)\n",
    "mean_squared_error(y_val, predict_test, squared=False)"
   ]
  },
  {
   "cell_type": "markdown",
   "id": "tiBawcCsaw_Z",
   "metadata": {
    "id": "tiBawcCsaw_Z"
   },
   "source": [
    "### Display The Comparison Lists\n"
   ]
  },
  {
   "cell_type": "code",
   "execution_count": 116,
   "id": "8277c13e",
   "metadata": {
    "id": "8277c13e"
   },
   "outputs": [
    {
     "name": "stdout",
     "output_type": "stream",
     "text": [
      "['LinearRegression', 'SVR', 'DecisionTreeRegressor', 'RandomForestRegressor'],[278953921988.43475, 389133184398.8026, 253280685378.46753, 118669513065.47826],[0.28094901355051605, -0.0030566987826348146, 0.34712612975006263, 0.6941092284239339],"
     ]
    }
   ],
   "source": [
    "for i in Algorithm, MSE_Score, R2_Score:\n",
    "    print(i,end=',')"
   ]
  },
  {
   "cell_type": "markdown",
   "id": "e6b21881",
   "metadata": {
    "id": "e6b21881"
   },
   "source": [
    "### The last but not the least model would be XGBoost or Extreme Gradient Boost Regression\n",
    "\n",
    "- Step 1 : Call the XGBoost Regressor from xgb library\n",
    "- Step 2 : make an object of Xgboost\n",
    "- Step 3 : fit the X_train and y_train dataframe into the object \n",
    "- Step 4 : Predict the output by passing the X_test Dataset into predict function\n",
    "\n",
    "\n",
    "\n",
    "\n",
    "- Note - Append the Algorithm name into the algorithm list for tracking purpose### Extreme Gradient Boost Regression\n",
    "- Note -  No need to change the code "
   ]
  },
  {
   "cell_type": "code",
   "execution_count": 117,
   "id": "705a38ec",
   "metadata": {
    "id": "705a38ec"
   },
   "outputs": [],
   "source": [
    "import xgboost as xgb\n",
    "Algorithm.append('XGB Regressor')\n",
    "XGBregressor = xgb.XGBRegressor()\n",
    "XGBregressor.fit(X_train, y_train)\n",
    "predicted = XGBregressor.predict(X_test)"
   ]
  },
  {
   "cell_type": "markdown",
   "id": "ierNZkb9bQDD",
   "metadata": {
    "id": "ierNZkb9bQDD"
   },
   "source": [
    "### Check for the \n",
    "\n",
    "- Mean Square Error\n",
    "- R Square Error \n",
    "\n",
    "for y_test and predicted dataset and store those data inside respective list for comparison "
   ]
  },
  {
   "cell_type": "code",
   "execution_count": 118,
   "id": "507a9d2f",
   "metadata": {
    "id": "507a9d2f"
   },
   "outputs": [],
   "source": [
    "MSE_Score.append(mean_squared_error(y_test, predicted))\n",
    "R2_Score.append(r2_score(y_test, predicted))"
   ]
  },
  {
   "cell_type": "markdown",
   "id": "84UZ2ojsbWaH",
   "metadata": {
    "id": "84UZ2ojsbWaH"
   },
   "source": [
    "### Check the same for the Validation set also "
   ]
  },
  {
   "cell_type": "code",
   "execution_count": 119,
   "id": "e78ac250",
   "metadata": {
    "id": "e78ac250"
   },
   "outputs": [
    {
     "data": {
      "text/plain": [
       "534375.2347036807"
      ]
     },
     "execution_count": 119,
     "metadata": {},
     "output_type": "execute_result"
    }
   ],
   "source": [
    "predict_test= regressor.predict(X_val)\n",
    "mean_squared_error(y_val, predict_test, squared=False)"
   ]
  },
  {
   "cell_type": "markdown",
   "id": "9FJFyaVbbbAH",
   "metadata": {
    "id": "9FJFyaVbbbAH"
   },
   "source": [
    "### Display The Comparison Lists\n"
   ]
  },
  {
   "cell_type": "code",
   "execution_count": 120,
   "id": "f765ba35",
   "metadata": {
    "id": "f765ba35"
   },
   "outputs": [
    {
     "name": "stdout",
     "output_type": "stream",
     "text": [
      "['LinearRegression', 'SVR', 'DecisionTreeRegressor', 'RandomForestRegressor', 'XGB Regressor'],[278953921988.43475, 389133184398.8026, 253280685378.46753, 118669513065.47826, 102401390865.36208],[0.28094901355051605, -0.0030566987826348146, 0.34712612975006263, 0.6941092284239339, 0.7360430690822461],"
     ]
    }
   ],
   "source": [
    "for i in Algorithm, MSE_Score, R2_Score:\n",
    "    print(i,end=',')"
   ]
  },
  {
   "cell_type": "markdown",
   "id": "a71bc90f",
   "metadata": {
    "id": "a71bc90f"
   },
   "source": [
    "## You need to make the comparison list into a comparison dataframe "
   ]
  },
  {
   "cell_type": "code",
   "execution_count": 121,
   "id": "ff5159a7",
   "metadata": {
    "id": "ff5159a7"
   },
   "outputs": [],
   "source": [
    " new_df=pd.DataFrame(np.column_stack([Algorithm,MSE_Score,R2_Score]), \n",
    "                               columns=['Algorithm', 'MSE_Score', 'R2_Score'])"
   ]
  },
  {
   "cell_type": "code",
   "execution_count": 122,
   "id": "0cbf6e3d",
   "metadata": {},
   "outputs": [
    {
     "data": {
      "text/html": [
       "<div>\n",
       "<style scoped>\n",
       "    .dataframe tbody tr th:only-of-type {\n",
       "        vertical-align: middle;\n",
       "    }\n",
       "\n",
       "    .dataframe tbody tr th {\n",
       "        vertical-align: top;\n",
       "    }\n",
       "\n",
       "    .dataframe thead th {\n",
       "        text-align: right;\n",
       "    }\n",
       "</style>\n",
       "<table border=\"1\" class=\"dataframe\">\n",
       "  <thead>\n",
       "    <tr style=\"text-align: right;\">\n",
       "      <th></th>\n",
       "      <th>Algorithm</th>\n",
       "      <th>MSE_Score</th>\n",
       "      <th>R2_Score</th>\n",
       "    </tr>\n",
       "  </thead>\n",
       "  <tbody>\n",
       "    <tr>\n",
       "      <th>0</th>\n",
       "      <td>LinearRegression</td>\n",
       "      <td>278953921988.43475</td>\n",
       "      <td>0.28094901355051605</td>\n",
       "    </tr>\n",
       "    <tr>\n",
       "      <th>1</th>\n",
       "      <td>SVR</td>\n",
       "      <td>389133184398.8026</td>\n",
       "      <td>-0.0030566987826348146</td>\n",
       "    </tr>\n",
       "    <tr>\n",
       "      <th>2</th>\n",
       "      <td>DecisionTreeRegressor</td>\n",
       "      <td>253280685378.46753</td>\n",
       "      <td>0.34712612975006263</td>\n",
       "    </tr>\n",
       "    <tr>\n",
       "      <th>3</th>\n",
       "      <td>RandomForestRegressor</td>\n",
       "      <td>118669513065.47826</td>\n",
       "      <td>0.6941092284239339</td>\n",
       "    </tr>\n",
       "    <tr>\n",
       "      <th>4</th>\n",
       "      <td>XGB Regressor</td>\n",
       "      <td>102401390865.36208</td>\n",
       "      <td>0.7360430690822461</td>\n",
       "    </tr>\n",
       "  </tbody>\n",
       "</table>\n",
       "</div>"
      ],
      "text/plain": [
       "               Algorithm           MSE_Score                R2_Score\n",
       "0       LinearRegression  278953921988.43475     0.28094901355051605\n",
       "1                    SVR   389133184398.8026  -0.0030566987826348146\n",
       "2  DecisionTreeRegressor  253280685378.46753     0.34712612975006263\n",
       "3  RandomForestRegressor  118669513065.47826      0.6941092284239339\n",
       "4          XGB Regressor  102401390865.36208      0.7360430690822461"
      ]
     },
     "execution_count": 122,
     "metadata": {},
     "output_type": "execute_result"
    }
   ],
   "source": [
    "new_df"
   ]
  },
  {
   "cell_type": "markdown",
   "id": "62e61c60",
   "metadata": {
    "id": "62e61c60"
   },
   "source": [
    "## Now from the Comparison table, you need to choose the best fit model\n",
    "\n",
    "- Step 1 - Fit X_train and y_train inside the model \n",
    "- Step 2 - Predict the X_test dataset\n",
    "- Step 3 - Predict the X_val dataset\n",
    "\n",
    "\n",
    "- Note - No need to change the code"
   ]
  },
  {
   "cell_type": "code",
   "execution_count": 123,
   "id": "3e07c258",
   "metadata": {
    "id": "3e07c258"
   },
   "outputs": [],
   "source": [
    "regressorfinal = xgb.XGBRegressor()\n",
    "regressorfinal.fit(X_train, y_train)\n",
    "predictedfinal = regressorfinal.predict(X_test)\n",
    "predict_testfinal = regressorfinal.predict(X_val)"
   ]
  },
  {
   "cell_type": "code",
   "execution_count": 124,
   "id": "b96833f6",
   "metadata": {},
   "outputs": [
    {
     "data": {
      "text/plain": [
       "array([-222351.9 , -231226.22,  720241.94, ...,  130077.9 ,  116671.25,\n",
       "       -149658.19], dtype=float32)"
      ]
     },
     "execution_count": 124,
     "metadata": {},
     "output_type": "execute_result"
    }
   ],
   "source": [
    "predict_testfinal"
   ]
  },
  {
   "cell_type": "markdown",
   "id": "8e4df6c4",
   "metadata": {
    "id": "8e4df6c4"
   },
   "source": [
    "### Calculate the Mean Square Error for test dataset\n",
    "\n",
    "- Note - No need to change the code"
   ]
  },
  {
   "cell_type": "code",
   "execution_count": 125,
   "id": "5fb466d0",
   "metadata": {
    "id": "5fb466d0"
   },
   "outputs": [
    {
     "data": {
      "text/plain": [
       "320002.1732197487"
      ]
     },
     "execution_count": 125,
     "metadata": {},
     "output_type": "execute_result"
    }
   ],
   "source": [
    "mean_squared_error(y_test,predictedfinal,squared=False)"
   ]
  },
  {
   "cell_type": "markdown",
   "id": "ce27f87f",
   "metadata": {
    "id": "ce27f87f"
   },
   "source": [
    "### Calculate the mean Square Error for validation dataset"
   ]
  },
  {
   "cell_type": "code",
   "execution_count": 126,
   "id": "b47978ea",
   "metadata": {
    "id": "b47978ea"
   },
   "outputs": [
    {
     "data": {
      "text/plain": [
       "866792.9768254162"
      ]
     },
     "execution_count": 126,
     "metadata": {},
     "output_type": "execute_result"
    }
   ],
   "source": [
    "mean_squared_error(y_val,predictedfinal,squared=False)"
   ]
  },
  {
   "cell_type": "markdown",
   "id": "30014dbd",
   "metadata": {
    "id": "30014dbd"
   },
   "source": [
    "### Calculate the R2 score for test"
   ]
  },
  {
   "cell_type": "code",
   "execution_count": 127,
   "id": "8a162737",
   "metadata": {
    "id": "8a162737"
   },
   "outputs": [
    {
     "data": {
      "text/plain": [
       "0.7360430690822461"
      ]
     },
     "execution_count": 127,
     "metadata": {},
     "output_type": "execute_result"
    }
   ],
   "source": [
    "r2_score(y_test,predictedfinal)"
   ]
  },
  {
   "cell_type": "markdown",
   "id": "1c9853b0",
   "metadata": {
    "id": "1c9853b0"
   },
   "source": [
    "### Calculate the R2 score for Validation"
   ]
  },
  {
   "cell_type": "code",
   "execution_count": 128,
   "id": "1a6dc77c",
   "metadata": {
    "id": "1a6dc77c"
   },
   "outputs": [
    {
     "data": {
      "text/plain": [
       "-0.6266279616955264"
      ]
     },
     "execution_count": 128,
     "metadata": {},
     "output_type": "execute_result"
    }
   ],
   "source": [
    "r2_score(y_val,predictedfinal)"
   ]
  },
  {
   "cell_type": "markdown",
   "id": "499522d9",
   "metadata": {
    "id": "499522d9"
   },
   "source": [
    "### Calculate the Accuracy for train Dataset "
   ]
  },
  {
   "cell_type": "code",
   "execution_count": 129,
   "id": "7a4f1ce8",
   "metadata": {
    "id": "7a4f1ce8"
   },
   "outputs": [
    {
     "data": {
      "text/plain": [
       "0.9542623468957253"
      ]
     },
     "execution_count": 129,
     "metadata": {},
     "output_type": "execute_result"
    }
   ],
   "source": [
    "regressorfinal.score(X_train,y_train)"
   ]
  },
  {
   "cell_type": "markdown",
   "id": "12a1c921",
   "metadata": {
    "id": "12a1c921"
   },
   "source": [
    "### Calculate the accuracy for validation"
   ]
  },
  {
   "cell_type": "code",
   "execution_count": 130,
   "id": "d2579b4f",
   "metadata": {
    "id": "d2579b4f"
   },
   "outputs": [
    {
     "data": {
      "text/plain": [
       "0.7557810663981845"
      ]
     },
     "execution_count": 130,
     "metadata": {},
     "output_type": "execute_result"
    }
   ],
   "source": [
    "regressorfinal.score(X_val,y_val)"
   ]
  },
  {
   "cell_type": "markdown",
   "id": "79b82e84",
   "metadata": {
    "id": "79b82e84"
   },
   "source": [
    "### Calculate the accuracy for test"
   ]
  },
  {
   "cell_type": "code",
   "execution_count": 131,
   "id": "f09e6431",
   "metadata": {
    "id": "f09e6431"
   },
   "outputs": [
    {
     "data": {
      "text/plain": [
       "0.7360430690822461"
      ]
     },
     "execution_count": 131,
     "metadata": {},
     "output_type": "execute_result"
    }
   ],
   "source": [
    "regressorfinal.score(X_test,y_test)"
   ]
  },
  {
   "cell_type": "markdown",
   "id": "9488a5d9",
   "metadata": {
    "id": "9488a5d9"
   },
   "source": [
    "## Specify the reason behind choosing your machine learning model \n",
    "\n",
    "- Note :Mean Square error is the average of the square of the error.The Larger the number the larger the error. low R-Squared such as 0.75 could be considered relatively strong.In above case we saw that xgb model is the best fit satisfy all the required conditions such as lowest in mean_square_error and close near to 0.75 of r2_score.Validation and test socre are close that mean it avoid overfiting"
   ]
  },
  {
   "cell_type": "markdown",
   "id": "387a6519",
   "metadata": {
    "id": "387a6519"
   },
   "source": [
    "## Now you need to pass the Nulldata dataframe into this machine learning model\n",
    "\n",
    "#### In order to pass this Nulldata dataframe into the ML model, we need to perform the following\n",
    "\n",
    "- Step 1 : Label Encoding \n",
    "- Step 2 : Day, Month and Year extraction \n",
    "- Step 3 : Change all the column data type into int64 or float64\n",
    "- Step 4 : Need to drop the useless columns "
   ]
  },
  {
   "cell_type": "markdown",
   "id": "I7JuxAkdiAdI",
   "metadata": {
    "id": "I7JuxAkdiAdI"
   },
   "source": [
    "### Display the Nulldata "
   ]
  },
  {
   "cell_type": "code",
   "execution_count": 132,
   "id": "6d6a51d2",
   "metadata": {
    "id": "6d6a51d2"
   },
   "outputs": [
    {
     "data": {
      "text/html": [
       "<div>\n",
       "<style scoped>\n",
       "    .dataframe tbody tr th:only-of-type {\n",
       "        vertical-align: middle;\n",
       "    }\n",
       "\n",
       "    .dataframe tbody tr th {\n",
       "        vertical-align: top;\n",
       "    }\n",
       "\n",
       "    .dataframe thead th {\n",
       "        text-align: right;\n",
       "    }\n",
       "</style>\n",
       "<table border=\"1\" class=\"dataframe\">\n",
       "  <thead>\n",
       "    <tr style=\"text-align: right;\">\n",
       "      <th></th>\n",
       "      <th>business_code</th>\n",
       "      <th>cust_number</th>\n",
       "      <th>name_customer</th>\n",
       "      <th>clear_date</th>\n",
       "      <th>buisness_year</th>\n",
       "      <th>doc_id</th>\n",
       "      <th>posting_date</th>\n",
       "      <th>due_in_date</th>\n",
       "      <th>baseline_create_date</th>\n",
       "      <th>cust_payment_terms</th>\n",
       "      <th>converted_usd</th>\n",
       "    </tr>\n",
       "  </thead>\n",
       "  <tbody>\n",
       "    <tr>\n",
       "      <th>5</th>\n",
       "      <td>U001</td>\n",
       "      <td>0200744019</td>\n",
       "      <td>TARG us</td>\n",
       "      <td>NaT</td>\n",
       "      <td>2020.0</td>\n",
       "      <td>1.930659e+09</td>\n",
       "      <td>2020-03-19</td>\n",
       "      <td>2020-04-03</td>\n",
       "      <td>2020-03-19</td>\n",
       "      <td>NAA8</td>\n",
       "      <td>11173.02</td>\n",
       "    </tr>\n",
       "    <tr>\n",
       "      <th>8</th>\n",
       "      <td>U001</td>\n",
       "      <td>0200418007</td>\n",
       "      <td>AM</td>\n",
       "      <td>NaT</td>\n",
       "      <td>2020.0</td>\n",
       "      <td>1.930611e+09</td>\n",
       "      <td>2020-03-11</td>\n",
       "      <td>2020-03-26</td>\n",
       "      <td>2020-03-11</td>\n",
       "      <td>NAA8</td>\n",
       "      <td>3525.59</td>\n",
       "    </tr>\n",
       "    <tr>\n",
       "      <th>12</th>\n",
       "      <td>U001</td>\n",
       "      <td>0200739534</td>\n",
       "      <td>OK systems</td>\n",
       "      <td>NaT</td>\n",
       "      <td>2020.0</td>\n",
       "      <td>1.930788e+09</td>\n",
       "      <td>2020-04-15</td>\n",
       "      <td>2020-04-30</td>\n",
       "      <td>2020-04-15</td>\n",
       "      <td>NAA8</td>\n",
       "      <td>121105.65</td>\n",
       "    </tr>\n",
       "    <tr>\n",
       "      <th>13</th>\n",
       "      <td>U001</td>\n",
       "      <td>0200353024</td>\n",
       "      <td>DECA corporation</td>\n",
       "      <td>NaT</td>\n",
       "      <td>2020.0</td>\n",
       "      <td>1.930817e+09</td>\n",
       "      <td>2020-04-23</td>\n",
       "      <td>2020-04-26</td>\n",
       "      <td>2020-04-16</td>\n",
       "      <td>NAM2</td>\n",
       "      <td>3726.06</td>\n",
       "    </tr>\n",
       "    <tr>\n",
       "      <th>20</th>\n",
       "      <td>U001</td>\n",
       "      <td>0200744019</td>\n",
       "      <td>TARG associates</td>\n",
       "      <td>NaT</td>\n",
       "      <td>2020.0</td>\n",
       "      <td>1.930676e+09</td>\n",
       "      <td>2020-03-21</td>\n",
       "      <td>2020-04-05</td>\n",
       "      <td>2020-03-21</td>\n",
       "      <td>NAA8</td>\n",
       "      <td>5893.01</td>\n",
       "    </tr>\n",
       "    <tr>\n",
       "      <th>24</th>\n",
       "      <td>U001</td>\n",
       "      <td>0200337148</td>\n",
       "      <td>COAS llc</td>\n",
       "      <td>NaT</td>\n",
       "      <td>2020.0</td>\n",
       "      <td>1.930592e+09</td>\n",
       "      <td>2020-03-02</td>\n",
       "      <td>2020-03-17</td>\n",
       "      <td>2020-03-02</td>\n",
       "      <td>NAA8</td>\n",
       "      <td>11380.83</td>\n",
       "    </tr>\n",
       "    <tr>\n",
       "      <th>31</th>\n",
       "      <td>U001</td>\n",
       "      <td>0200794332</td>\n",
       "      <td>COST associates</td>\n",
       "      <td>NaT</td>\n",
       "      <td>2020.0</td>\n",
       "      <td>1.930731e+09</td>\n",
       "      <td>2020-04-07</td>\n",
       "      <td>2020-04-22</td>\n",
       "      <td>2020-04-07</td>\n",
       "      <td>NAAX</td>\n",
       "      <td>3863.93</td>\n",
       "    </tr>\n",
       "    <tr>\n",
       "      <th>33</th>\n",
       "      <td>U001</td>\n",
       "      <td>0200794332</td>\n",
       "      <td>COST llc</td>\n",
       "      <td>NaT</td>\n",
       "      <td>2020.0</td>\n",
       "      <td>1.930804e+09</td>\n",
       "      <td>2020-04-23</td>\n",
       "      <td>2020-05-08</td>\n",
       "      <td>2020-04-23</td>\n",
       "      <td>NAAX</td>\n",
       "      <td>74453.01</td>\n",
       "    </tr>\n",
       "    <tr>\n",
       "      <th>40</th>\n",
       "      <td>U001</td>\n",
       "      <td>0200803720</td>\n",
       "      <td>DEC corp</td>\n",
       "      <td>NaT</td>\n",
       "      <td>2020.0</td>\n",
       "      <td>1.930698e+09</td>\n",
       "      <td>2020-03-25</td>\n",
       "      <td>2020-04-08</td>\n",
       "      <td>2020-03-16</td>\n",
       "      <td>NAM4</td>\n",
       "      <td>138.60</td>\n",
       "    </tr>\n",
       "    <tr>\n",
       "      <th>46</th>\n",
       "      <td>U001</td>\n",
       "      <td>0200794332</td>\n",
       "      <td>COST co</td>\n",
       "      <td>NaT</td>\n",
       "      <td>2020.0</td>\n",
       "      <td>1.930647e+09</td>\n",
       "      <td>2020-03-13</td>\n",
       "      <td>2020-03-28</td>\n",
       "      <td>2020-03-13</td>\n",
       "      <td>NAAX</td>\n",
       "      <td>32715.47</td>\n",
       "    </tr>\n",
       "  </tbody>\n",
       "</table>\n",
       "</div>"
      ],
      "text/plain": [
       "   business_code cust_number     name_customer clear_date  buisness_year  \\\n",
       "5           U001  0200744019           TARG us        NaT         2020.0   \n",
       "8           U001  0200418007               AM         NaT         2020.0   \n",
       "12          U001  0200739534        OK systems        NaT         2020.0   \n",
       "13          U001  0200353024  DECA corporation        NaT         2020.0   \n",
       "20          U001  0200744019   TARG associates        NaT         2020.0   \n",
       "24          U001  0200337148          COAS llc        NaT         2020.0   \n",
       "31          U001  0200794332   COST associates        NaT         2020.0   \n",
       "33          U001  0200794332          COST llc        NaT         2020.0   \n",
       "40          U001  0200803720          DEC corp        NaT         2020.0   \n",
       "46          U001  0200794332           COST co        NaT         2020.0   \n",
       "\n",
       "          doc_id posting_date due_in_date baseline_create_date  \\\n",
       "5   1.930659e+09   2020-03-19  2020-04-03           2020-03-19   \n",
       "8   1.930611e+09   2020-03-11  2020-03-26           2020-03-11   \n",
       "12  1.930788e+09   2020-04-15  2020-04-30           2020-04-15   \n",
       "13  1.930817e+09   2020-04-23  2020-04-26           2020-04-16   \n",
       "20  1.930676e+09   2020-03-21  2020-04-05           2020-03-21   \n",
       "24  1.930592e+09   2020-03-02  2020-03-17           2020-03-02   \n",
       "31  1.930731e+09   2020-04-07  2020-04-22           2020-04-07   \n",
       "33  1.930804e+09   2020-04-23  2020-05-08           2020-04-23   \n",
       "40  1.930698e+09   2020-03-25  2020-04-08           2020-03-16   \n",
       "46  1.930647e+09   2020-03-13  2020-03-28           2020-03-13   \n",
       "\n",
       "   cust_payment_terms  converted_usd  \n",
       "5                NAA8       11173.02  \n",
       "8                NAA8        3525.59  \n",
       "12               NAA8      121105.65  \n",
       "13               NAM2        3726.06  \n",
       "20               NAA8        5893.01  \n",
       "24               NAA8       11380.83  \n",
       "31               NAAX        3863.93  \n",
       "33               NAAX       74453.01  \n",
       "40               NAM4         138.60  \n",
       "46               NAAX       32715.47  "
      ]
     },
     "execution_count": 132,
     "metadata": {},
     "output_type": "execute_result"
    }
   ],
   "source": [
    "nulldata.head(10)"
   ]
  },
  {
   "cell_type": "markdown",
   "id": "Vamx5xqtiHCH",
   "metadata": {
    "id": "Vamx5xqtiHCH"
   },
   "source": [
    "### Check for the number of rows and columns in the nulldata"
   ]
  },
  {
   "cell_type": "code",
   "execution_count": 133,
   "id": "59de1092",
   "metadata": {
    "id": "59de1092"
   },
   "outputs": [
    {
     "data": {
      "text/plain": [
       "(9681, 11)"
      ]
     },
     "execution_count": 133,
     "metadata": {},
     "output_type": "execute_result"
    }
   ],
   "source": [
    "nulldata.shape"
   ]
  },
  {
   "cell_type": "markdown",
   "id": "BxzHNbBjpqXL",
   "metadata": {
    "id": "BxzHNbBjpqXL"
   },
   "source": [
    "### Check the Description and Information of the nulldata "
   ]
  },
  {
   "cell_type": "code",
   "execution_count": 134,
   "id": "a6294d29",
   "metadata": {
    "id": "a6294d29",
    "scrolled": true
   },
   "outputs": [
    {
     "name": "stdout",
     "output_type": "stream",
     "text": [
      "<class 'pandas.core.frame.DataFrame'>\n",
      "Int64Index: 9681 entries, 5 to 48837\n",
      "Data columns (total 11 columns):\n",
      " #   Column                Non-Null Count  Dtype         \n",
      "---  ------                --------------  -----         \n",
      " 0   business_code         9681 non-null   object        \n",
      " 1   cust_number           9681 non-null   object        \n",
      " 2   name_customer         9681 non-null   object        \n",
      " 3   clear_date            0 non-null      datetime64[ns]\n",
      " 4   buisness_year         9681 non-null   float64       \n",
      " 5   doc_id                9681 non-null   float64       \n",
      " 6   posting_date          9681 non-null   datetime64[ns]\n",
      " 7   due_in_date           9681 non-null   datetime64[ns]\n",
      " 8   baseline_create_date  9681 non-null   datetime64[ns]\n",
      " 9   cust_payment_terms    9681 non-null   object        \n",
      " 10  converted_usd         9681 non-null   float64       \n",
      "dtypes: datetime64[ns](4), float64(3), object(4)\n",
      "memory usage: 907.6+ KB\n"
     ]
    }
   ],
   "source": [
    "nulldata.info()"
   ]
  },
  {
   "cell_type": "code",
   "execution_count": 135,
   "id": "d3f69401",
   "metadata": {
    "scrolled": false
   },
   "outputs": [
    {
     "data": {
      "text/html": [
       "<div>\n",
       "<style scoped>\n",
       "    .dataframe tbody tr th:only-of-type {\n",
       "        vertical-align: middle;\n",
       "    }\n",
       "\n",
       "    .dataframe tbody tr th {\n",
       "        vertical-align: top;\n",
       "    }\n",
       "\n",
       "    .dataframe thead th {\n",
       "        text-align: right;\n",
       "    }\n",
       "</style>\n",
       "<table border=\"1\" class=\"dataframe\">\n",
       "  <thead>\n",
       "    <tr style=\"text-align: right;\">\n",
       "      <th></th>\n",
       "      <th>buisness_year</th>\n",
       "      <th>doc_id</th>\n",
       "      <th>converted_usd</th>\n",
       "    </tr>\n",
       "  </thead>\n",
       "  <tbody>\n",
       "    <tr>\n",
       "      <th>count</th>\n",
       "      <td>9681.0</td>\n",
       "      <td>9.681000e+03</td>\n",
       "      <td>9681.000000</td>\n",
       "    </tr>\n",
       "    <tr>\n",
       "      <th>mean</th>\n",
       "      <td>2020.0</td>\n",
       "      <td>2.006165e+09</td>\n",
       "      <td>32458.165080</td>\n",
       "    </tr>\n",
       "    <tr>\n",
       "      <th>std</th>\n",
       "      <td>0.0</td>\n",
       "      <td>2.673629e+08</td>\n",
       "      <td>36023.578028</td>\n",
       "    </tr>\n",
       "    <tr>\n",
       "      <th>min</th>\n",
       "      <td>2020.0</td>\n",
       "      <td>1.930535e+09</td>\n",
       "      <td>0.720000</td>\n",
       "    </tr>\n",
       "    <tr>\n",
       "      <th>25%</th>\n",
       "      <td>2020.0</td>\n",
       "      <td>1.930658e+09</td>\n",
       "      <td>5624.120000</td>\n",
       "    </tr>\n",
       "    <tr>\n",
       "      <th>50%</th>\n",
       "      <td>2020.0</td>\n",
       "      <td>1.930731e+09</td>\n",
       "      <td>19175.380000</td>\n",
       "    </tr>\n",
       "    <tr>\n",
       "      <th>75%</th>\n",
       "      <td>2020.0</td>\n",
       "      <td>1.930818e+09</td>\n",
       "      <td>48346.550000</td>\n",
       "    </tr>\n",
       "    <tr>\n",
       "      <th>max</th>\n",
       "      <td>2020.0</td>\n",
       "      <td>2.960636e+09</td>\n",
       "      <td>653644.800000</td>\n",
       "    </tr>\n",
       "  </tbody>\n",
       "</table>\n",
       "</div>"
      ],
      "text/plain": [
       "       buisness_year        doc_id  converted_usd\n",
       "count         9681.0  9.681000e+03    9681.000000\n",
       "mean          2020.0  2.006165e+09   32458.165080\n",
       "std              0.0  2.673629e+08   36023.578028\n",
       "min           2020.0  1.930535e+09       0.720000\n",
       "25%           2020.0  1.930658e+09    5624.120000\n",
       "50%           2020.0  1.930731e+09   19175.380000\n",
       "75%           2020.0  1.930818e+09   48346.550000\n",
       "max           2020.0  2.960636e+09  653644.800000"
      ]
     },
     "execution_count": 135,
     "metadata": {},
     "output_type": "execute_result"
    }
   ],
   "source": [
    "nulldata.describe()"
   ]
  },
  {
   "cell_type": "markdown",
   "id": "fe860d94",
   "metadata": {
    "id": "fe860d94"
   },
   "source": [
    "### Storing the Nulldata into a different dataset \n",
    "# for BACKUP"
   ]
  },
  {
   "cell_type": "code",
   "execution_count": 136,
   "id": "16352034",
   "metadata": {
    "id": "16352034"
   },
   "outputs": [],
   "source": [
    "nulldata2=nulldata.copy()"
   ]
  },
  {
   "cell_type": "code",
   "execution_count": 137,
   "id": "db4c0705",
   "metadata": {},
   "outputs": [
    {
     "data": {
      "text/html": [
       "<div>\n",
       "<style scoped>\n",
       "    .dataframe tbody tr th:only-of-type {\n",
       "        vertical-align: middle;\n",
       "    }\n",
       "\n",
       "    .dataframe tbody tr th {\n",
       "        vertical-align: top;\n",
       "    }\n",
       "\n",
       "    .dataframe thead th {\n",
       "        text-align: right;\n",
       "    }\n",
       "</style>\n",
       "<table border=\"1\" class=\"dataframe\">\n",
       "  <thead>\n",
       "    <tr style=\"text-align: right;\">\n",
       "      <th></th>\n",
       "      <th>business_code</th>\n",
       "      <th>cust_number</th>\n",
       "      <th>name_customer</th>\n",
       "      <th>clear_date</th>\n",
       "      <th>buisness_year</th>\n",
       "      <th>doc_id</th>\n",
       "      <th>posting_date</th>\n",
       "      <th>due_in_date</th>\n",
       "      <th>baseline_create_date</th>\n",
       "      <th>cust_payment_terms</th>\n",
       "      <th>converted_usd</th>\n",
       "    </tr>\n",
       "  </thead>\n",
       "  <tbody>\n",
       "    <tr>\n",
       "      <th>5</th>\n",
       "      <td>U001</td>\n",
       "      <td>0200744019</td>\n",
       "      <td>TARG us</td>\n",
       "      <td>NaT</td>\n",
       "      <td>2020.0</td>\n",
       "      <td>1.930659e+09</td>\n",
       "      <td>2020-03-19</td>\n",
       "      <td>2020-04-03</td>\n",
       "      <td>2020-03-19</td>\n",
       "      <td>NAA8</td>\n",
       "      <td>11173.02</td>\n",
       "    </tr>\n",
       "    <tr>\n",
       "      <th>8</th>\n",
       "      <td>U001</td>\n",
       "      <td>0200418007</td>\n",
       "      <td>AM</td>\n",
       "      <td>NaT</td>\n",
       "      <td>2020.0</td>\n",
       "      <td>1.930611e+09</td>\n",
       "      <td>2020-03-11</td>\n",
       "      <td>2020-03-26</td>\n",
       "      <td>2020-03-11</td>\n",
       "      <td>NAA8</td>\n",
       "      <td>3525.59</td>\n",
       "    </tr>\n",
       "    <tr>\n",
       "      <th>12</th>\n",
       "      <td>U001</td>\n",
       "      <td>0200739534</td>\n",
       "      <td>OK systems</td>\n",
       "      <td>NaT</td>\n",
       "      <td>2020.0</td>\n",
       "      <td>1.930788e+09</td>\n",
       "      <td>2020-04-15</td>\n",
       "      <td>2020-04-30</td>\n",
       "      <td>2020-04-15</td>\n",
       "      <td>NAA8</td>\n",
       "      <td>121105.65</td>\n",
       "    </tr>\n",
       "    <tr>\n",
       "      <th>13</th>\n",
       "      <td>U001</td>\n",
       "      <td>0200353024</td>\n",
       "      <td>DECA corporation</td>\n",
       "      <td>NaT</td>\n",
       "      <td>2020.0</td>\n",
       "      <td>1.930817e+09</td>\n",
       "      <td>2020-04-23</td>\n",
       "      <td>2020-04-26</td>\n",
       "      <td>2020-04-16</td>\n",
       "      <td>NAM2</td>\n",
       "      <td>3726.06</td>\n",
       "    </tr>\n",
       "    <tr>\n",
       "      <th>20</th>\n",
       "      <td>U001</td>\n",
       "      <td>0200744019</td>\n",
       "      <td>TARG associates</td>\n",
       "      <td>NaT</td>\n",
       "      <td>2020.0</td>\n",
       "      <td>1.930676e+09</td>\n",
       "      <td>2020-03-21</td>\n",
       "      <td>2020-04-05</td>\n",
       "      <td>2020-03-21</td>\n",
       "      <td>NAA8</td>\n",
       "      <td>5893.01</td>\n",
       "    </tr>\n",
       "    <tr>\n",
       "      <th>24</th>\n",
       "      <td>U001</td>\n",
       "      <td>0200337148</td>\n",
       "      <td>COAS llc</td>\n",
       "      <td>NaT</td>\n",
       "      <td>2020.0</td>\n",
       "      <td>1.930592e+09</td>\n",
       "      <td>2020-03-02</td>\n",
       "      <td>2020-03-17</td>\n",
       "      <td>2020-03-02</td>\n",
       "      <td>NAA8</td>\n",
       "      <td>11380.83</td>\n",
       "    </tr>\n",
       "    <tr>\n",
       "      <th>31</th>\n",
       "      <td>U001</td>\n",
       "      <td>0200794332</td>\n",
       "      <td>COST associates</td>\n",
       "      <td>NaT</td>\n",
       "      <td>2020.0</td>\n",
       "      <td>1.930731e+09</td>\n",
       "      <td>2020-04-07</td>\n",
       "      <td>2020-04-22</td>\n",
       "      <td>2020-04-07</td>\n",
       "      <td>NAAX</td>\n",
       "      <td>3863.93</td>\n",
       "    </tr>\n",
       "    <tr>\n",
       "      <th>33</th>\n",
       "      <td>U001</td>\n",
       "      <td>0200794332</td>\n",
       "      <td>COST llc</td>\n",
       "      <td>NaT</td>\n",
       "      <td>2020.0</td>\n",
       "      <td>1.930804e+09</td>\n",
       "      <td>2020-04-23</td>\n",
       "      <td>2020-05-08</td>\n",
       "      <td>2020-04-23</td>\n",
       "      <td>NAAX</td>\n",
       "      <td>74453.01</td>\n",
       "    </tr>\n",
       "    <tr>\n",
       "      <th>40</th>\n",
       "      <td>U001</td>\n",
       "      <td>0200803720</td>\n",
       "      <td>DEC corp</td>\n",
       "      <td>NaT</td>\n",
       "      <td>2020.0</td>\n",
       "      <td>1.930698e+09</td>\n",
       "      <td>2020-03-25</td>\n",
       "      <td>2020-04-08</td>\n",
       "      <td>2020-03-16</td>\n",
       "      <td>NAM4</td>\n",
       "      <td>138.60</td>\n",
       "    </tr>\n",
       "    <tr>\n",
       "      <th>46</th>\n",
       "      <td>U001</td>\n",
       "      <td>0200794332</td>\n",
       "      <td>COST co</td>\n",
       "      <td>NaT</td>\n",
       "      <td>2020.0</td>\n",
       "      <td>1.930647e+09</td>\n",
       "      <td>2020-03-13</td>\n",
       "      <td>2020-03-28</td>\n",
       "      <td>2020-03-13</td>\n",
       "      <td>NAAX</td>\n",
       "      <td>32715.47</td>\n",
       "    </tr>\n",
       "  </tbody>\n",
       "</table>\n",
       "</div>"
      ],
      "text/plain": [
       "   business_code cust_number     name_customer clear_date  buisness_year  \\\n",
       "5           U001  0200744019           TARG us        NaT         2020.0   \n",
       "8           U001  0200418007               AM         NaT         2020.0   \n",
       "12          U001  0200739534        OK systems        NaT         2020.0   \n",
       "13          U001  0200353024  DECA corporation        NaT         2020.0   \n",
       "20          U001  0200744019   TARG associates        NaT         2020.0   \n",
       "24          U001  0200337148          COAS llc        NaT         2020.0   \n",
       "31          U001  0200794332   COST associates        NaT         2020.0   \n",
       "33          U001  0200794332          COST llc        NaT         2020.0   \n",
       "40          U001  0200803720          DEC corp        NaT         2020.0   \n",
       "46          U001  0200794332           COST co        NaT         2020.0   \n",
       "\n",
       "          doc_id posting_date due_in_date baseline_create_date  \\\n",
       "5   1.930659e+09   2020-03-19  2020-04-03           2020-03-19   \n",
       "8   1.930611e+09   2020-03-11  2020-03-26           2020-03-11   \n",
       "12  1.930788e+09   2020-04-15  2020-04-30           2020-04-15   \n",
       "13  1.930817e+09   2020-04-23  2020-04-26           2020-04-16   \n",
       "20  1.930676e+09   2020-03-21  2020-04-05           2020-03-21   \n",
       "24  1.930592e+09   2020-03-02  2020-03-17           2020-03-02   \n",
       "31  1.930731e+09   2020-04-07  2020-04-22           2020-04-07   \n",
       "33  1.930804e+09   2020-04-23  2020-05-08           2020-04-23   \n",
       "40  1.930698e+09   2020-03-25  2020-04-08           2020-03-16   \n",
       "46  1.930647e+09   2020-03-13  2020-03-28           2020-03-13   \n",
       "\n",
       "   cust_payment_terms  converted_usd  \n",
       "5                NAA8       11173.02  \n",
       "8                NAA8        3525.59  \n",
       "12               NAA8      121105.65  \n",
       "13               NAM2        3726.06  \n",
       "20               NAA8        5893.01  \n",
       "24               NAA8       11380.83  \n",
       "31               NAAX        3863.93  \n",
       "33               NAAX       74453.01  \n",
       "40               NAM4         138.60  \n",
       "46               NAAX       32715.47  "
      ]
     },
     "execution_count": 137,
     "metadata": {},
     "output_type": "execute_result"
    }
   ],
   "source": [
    "nulldata2.head(10)"
   ]
  },
  {
   "cell_type": "markdown",
   "id": "00f35b8c",
   "metadata": {
    "id": "00f35b8c"
   },
   "source": [
    "### Call the Label Encoder for Nulldata\n",
    "\n",
    "- Note - you are expected to fit \"business_code\" as it is a categorical variable\n",
    "- Note - No need to change the code"
   ]
  },
  {
   "cell_type": "code",
   "execution_count": 138,
   "id": "baf04b17",
   "metadata": {
    "id": "baf04b17"
   },
   "outputs": [],
   "source": [
    "from sklearn.preprocessing import LabelEncoder\n",
    "business_codern = LabelEncoder()\n",
    "business_codern.fit(nulldata['business_code'])\n",
    "nulldata['business_code_enc'] = business_codern.transform(nulldata['business_code'])"
   ]
  },
  {
   "cell_type": "markdown",
   "id": "ZCPBK9karIR-",
   "metadata": {
    "id": "ZCPBK9karIR-"
   },
   "source": [
    "### Now you need to manually replacing str values with numbers\n",
    "- Note - No need to change the code"
   ]
  },
  {
   "cell_type": "code",
   "execution_count": 139,
   "id": "c64924be",
   "metadata": {
    "id": "c64924be"
   },
   "outputs": [],
   "source": [
    "nulldata['cust_number'] = nulldata['cust_number'].str.replace('CCCA',\"1\").str.replace('CCU',\"2\").str.replace('CC',\"3\").astype(int)"
   ]
  },
  {
   "cell_type": "markdown",
   "id": "9a55f5f6",
   "metadata": {
    "id": "9a55f5f6"
   },
   "source": [
    "## You need to extract day, month and year from the \"clear_date\", \"posting_date\", \"due_in_date\", \"baseline_create_date\" columns\n",
    "\n",
    "\n",
    "##### 1.   Extract day from \"clear_date\" column and store it into 'day_of_cleardate'\n",
    "##### 2.   Extract month from \"clear_date\" column and store it into 'month_of_cleardate'\n",
    "##### 3.   Extract year from \"clear_date\" column and store it into 'year_of_cleardate'\n",
    "\n",
    "\n",
    "\n",
    "##### 4.   Extract day from \"posting_date\" column and store it into 'day_of_postingdate'\n",
    "##### 5.   Extract month from \"posting_date\" column and store it into 'month_of_postingdate'\n",
    "##### 6.   Extract year from \"posting_date\" column and store it into 'year_of_postingdate'\n",
    "\n",
    "\n",
    "\n",
    "\n",
    "##### 7.   Extract day from \"due_in_date\" column and store it into 'day_of_due'\n",
    "##### 8.   Extract month from \"due_in_date\" column and store it into 'month_of_due'\n",
    "##### 9.   Extract year from \"due_in_date\" column and store it into 'year_of_due'\n",
    "\n",
    "\n",
    "\n",
    "\n",
    "##### 10.   Extract day from \"baseline_create_date\" column and store it into 'day_of_createdate'\n",
    "##### 11.   Extract month from \"baseline_create_date\" column and store it into 'month_of_createdate'\n",
    "##### 12.   Extract year from \"baseline_create_date\" column and store it into 'year_of_createdate'\n",
    "\n",
    "\n",
    "\n",
    "\n",
    "- Note - You are supposed To use - \n",
    "\n",
    "*   dt.day\n",
    "*   dt.month\n",
    "*   dt.year"
   ]
  },
  {
   "cell_type": "code",
   "execution_count": 140,
   "id": "4166fbe4",
   "metadata": {
    "id": "4166fbe4"
   },
   "outputs": [],
   "source": [
    "nulldata['day_of_cleardate'] = nulldata['clear_date'].dt.day\n",
    "nulldata['month_of_cleardate'] = nulldata['clear_date'].dt.month\n",
    "nulldata['year_of_cleardate'] = nulldata['clear_date'].dt.year\n",
    "\n",
    "nulldata['day_of_postingdate'] = nulldata['posting_date'].dt.day\n",
    "nulldata['month_of_postingdate'] = nulldata['posting_date'].dt.month\n",
    "nulldata['year_of_postingdate'] = nulldata['posting_date'].dt.year\n",
    "\n",
    "nulldata['day_of_due'] = nulldata['due_in_date'].dt.day\n",
    "nulldata['month_of_due'] = nulldata['due_in_date'].dt.month\n",
    "nulldata['year_of_due'] = nulldata['due_in_date'].dt.year\n",
    "\n",
    "nulldata['day_of_createdate'] = nulldata['baseline_create_date'].dt.day\n",
    "nulldata['month_of_createdate'] = nulldata['baseline_create_date'].dt.month\n",
    "nulldata['year_of_createdate'] = nulldata['baseline_create_date'].dt.year\n"
   ]
  },
  {
   "cell_type": "markdown",
   "id": "QeHWJYrAvOC6",
   "metadata": {
    "id": "QeHWJYrAvOC6"
   },
   "source": [
    "### Use Label Encoder1 of all the following columns - \n",
    "- 'cust_payment_terms' and store into 'cust_payment_terms_enc'\n",
    "- 'business_code' and store into 'business_code_enc'\n",
    "- 'name_customer' and store into 'name_customer_enc'\n",
    "\n",
    "Note - No need to change the code"
   ]
  },
  {
   "cell_type": "code",
   "execution_count": 141,
   "id": "bac330e2",
   "metadata": {
    "id": "bac330e2"
   },
   "outputs": [],
   "source": [
    "nulldata['cust_payment_terms_enc']=label_encoder1.transform(nulldata['cust_payment_terms'])\n",
    "nulldata['business_code_enc']=label_encoder1.transform(nulldata['business_code'])\n",
    "nulldata['name_customer_enc']=label_encoder.transform(nulldata['name_customer'])\n"
   ]
  },
  {
   "cell_type": "markdown",
   "id": "zD9I-XqQwC28",
   "metadata": {
    "id": "zD9I-XqQwC28"
   },
   "source": [
    "### Check for the datatypes of all the columns of Nulldata"
   ]
  },
  {
   "cell_type": "code",
   "execution_count": 142,
   "id": "d4f72517",
   "metadata": {
    "id": "d4f72517"
   },
   "outputs": [
    {
     "name": "stdout",
     "output_type": "stream",
     "text": [
      "<class 'pandas.core.frame.DataFrame'>\n",
      "Int64Index: 9681 entries, 5 to 48837\n",
      "Data columns (total 26 columns):\n",
      " #   Column                  Non-Null Count  Dtype         \n",
      "---  ------                  --------------  -----         \n",
      " 0   business_code           9681 non-null   object        \n",
      " 1   cust_number             9681 non-null   int32         \n",
      " 2   name_customer           9681 non-null   object        \n",
      " 3   clear_date              0 non-null      datetime64[ns]\n",
      " 4   buisness_year           9681 non-null   float64       \n",
      " 5   doc_id                  9681 non-null   float64       \n",
      " 6   posting_date            9681 non-null   datetime64[ns]\n",
      " 7   due_in_date             9681 non-null   datetime64[ns]\n",
      " 8   baseline_create_date    9681 non-null   datetime64[ns]\n",
      " 9   cust_payment_terms      9681 non-null   object        \n",
      " 10  converted_usd           9681 non-null   float64       \n",
      " 11  business_code_enc       9681 non-null   int32         \n",
      " 12  day_of_cleardate        0 non-null      float64       \n",
      " 13  month_of_cleardate      0 non-null      float64       \n",
      " 14  year_of_cleardate       0 non-null      float64       \n",
      " 15  day_of_postingdate      9681 non-null   int64         \n",
      " 16  month_of_postingdate    9681 non-null   int64         \n",
      " 17  year_of_postingdate     9681 non-null   int64         \n",
      " 18  day_of_due              9681 non-null   int64         \n",
      " 19  month_of_due            9681 non-null   int64         \n",
      " 20  year_of_due             9681 non-null   int64         \n",
      " 21  day_of_createdate       9681 non-null   int64         \n",
      " 22  month_of_createdate     9681 non-null   int64         \n",
      " 23  year_of_createdate      9681 non-null   int64         \n",
      " 24  cust_payment_terms_enc  9681 non-null   int32         \n",
      " 25  name_customer_enc       9681 non-null   int32         \n",
      "dtypes: datetime64[ns](4), float64(6), int32(4), int64(9), object(3)\n",
      "memory usage: 1.8+ MB\n"
     ]
    }
   ],
   "source": [
    "nulldata.info()"
   ]
  },
  {
   "cell_type": "markdown",
   "id": "17cd5452",
   "metadata": {
    "id": "17cd5452"
   },
   "source": [
    "### Now you need to drop all the unnecessary columns - \n",
    "\n",
    "- 'business_code'\n",
    "- \"baseline_create_date\"\n",
    "- \"due_in_date\"\n",
    "- \"posting_date\"\n",
    "- \"name_customer\"\n",
    "- \"clear_date\"\n",
    "- \"cust_payment_terms\"\n",
    "- 'day_of_cleardate'\n",
    "- \"month_of_cleardate\"\n",
    "- \"year_of_cleardate\""
   ]
  },
  {
   "cell_type": "code",
   "execution_count": 143,
   "id": "d7c82076",
   "metadata": {
    "id": "d7c82076"
   },
   "outputs": [],
   "source": [
    "nulldata.drop(columns=['business_code',\"baseline_create_date\",\"due_in_date\",\n",
    "                       \"posting_date\",\"name_customer\",\"clear_date\",\"cust_payment_terms\",\n",
    "                       'day_of_cleardate',\"month_of_cleardate\",\n",
    "                       \"year_of_cleardate\"],inplace=True)"
   ]
  },
  {
   "cell_type": "markdown",
   "id": "Q_NCr9IPweVq",
   "metadata": {
    "id": "Q_NCr9IPweVq"
   },
   "source": [
    "### Check the information of the \"nulldata\" dataframe"
   ]
  },
  {
   "cell_type": "code",
   "execution_count": 144,
   "id": "4e7ffee0",
   "metadata": {
    "id": "4e7ffee0"
   },
   "outputs": [
    {
     "name": "stdout",
     "output_type": "stream",
     "text": [
      "<class 'pandas.core.frame.DataFrame'>\n",
      "Int64Index: 9681 entries, 5 to 48837\n",
      "Data columns (total 16 columns):\n",
      " #   Column                  Non-Null Count  Dtype  \n",
      "---  ------                  --------------  -----  \n",
      " 0   cust_number             9681 non-null   int32  \n",
      " 1   buisness_year           9681 non-null   float64\n",
      " 2   doc_id                  9681 non-null   float64\n",
      " 3   converted_usd           9681 non-null   float64\n",
      " 4   business_code_enc       9681 non-null   int32  \n",
      " 5   day_of_postingdate      9681 non-null   int64  \n",
      " 6   month_of_postingdate    9681 non-null   int64  \n",
      " 7   year_of_postingdate     9681 non-null   int64  \n",
      " 8   day_of_due              9681 non-null   int64  \n",
      " 9   month_of_due            9681 non-null   int64  \n",
      " 10  year_of_due             9681 non-null   int64  \n",
      " 11  day_of_createdate       9681 non-null   int64  \n",
      " 12  month_of_createdate     9681 non-null   int64  \n",
      " 13  year_of_createdate      9681 non-null   int64  \n",
      " 14  cust_payment_terms_enc  9681 non-null   int32  \n",
      " 15  name_customer_enc       9681 non-null   int32  \n",
      "dtypes: float64(3), int32(4), int64(9)\n",
      "memory usage: 1.1 MB\n"
     ]
    }
   ],
   "source": [
    "nulldata.info()"
   ]
  },
  {
   "cell_type": "markdown",
   "id": "-XvjhWqmwi-C",
   "metadata": {
    "id": "-XvjhWqmwi-C"
   },
   "source": [
    "### Compare \"nulldata\" with the \"X_test\" dataframe \n",
    "\n",
    "- use info() method"
   ]
  },
  {
   "cell_type": "code",
   "execution_count": 145,
   "id": "02f4b62d",
   "metadata": {
    "id": "02f4b62d"
   },
   "outputs": [
    {
     "name": "stdout",
     "output_type": "stream",
     "text": [
      "<class 'pandas.core.frame.DataFrame'>\n",
      "Int64Index: 9681 entries, 5 to 48837\n",
      "Data columns (total 16 columns):\n",
      " #   Column                  Non-Null Count  Dtype  \n",
      "---  ------                  --------------  -----  \n",
      " 0   cust_number             9681 non-null   int32  \n",
      " 1   buisness_year           9681 non-null   float64\n",
      " 2   doc_id                  9681 non-null   float64\n",
      " 3   converted_usd           9681 non-null   float64\n",
      " 4   business_code_enc       9681 non-null   int32  \n",
      " 5   day_of_postingdate      9681 non-null   int64  \n",
      " 6   month_of_postingdate    9681 non-null   int64  \n",
      " 7   year_of_postingdate     9681 non-null   int64  \n",
      " 8   day_of_due              9681 non-null   int64  \n",
      " 9   month_of_due            9681 non-null   int64  \n",
      " 10  year_of_due             9681 non-null   int64  \n",
      " 11  day_of_createdate       9681 non-null   int64  \n",
      " 12  month_of_createdate     9681 non-null   int64  \n",
      " 13  year_of_createdate      9681 non-null   int64  \n",
      " 14  cust_payment_terms_enc  9681 non-null   int32  \n",
      " 15  name_customer_enc       9681 non-null   int32  \n",
      "dtypes: float64(3), int32(4), int64(9)\n",
      "memory usage: 1.1 MB\n",
      "<class 'pandas.core.frame.DataFrame'>\n",
      "Int64Index: 7832 entries, 18813 to 4112\n",
      "Data columns (total 16 columns):\n",
      " #   Column                  Non-Null Count  Dtype  \n",
      "---  ------                  --------------  -----  \n",
      " 0   cust_number             7832 non-null   int32  \n",
      " 1   buisness_year           7832 non-null   float64\n",
      " 2   doc_id                  7832 non-null   float64\n",
      " 3   converted_usd           7832 non-null   float64\n",
      " 4   business_code_enc       7832 non-null   int32  \n",
      " 5   name_customer_enc       7832 non-null   int32  \n",
      " 6   cust_payment_terms_enc  7832 non-null   int32  \n",
      " 7   day_of_postingdate      7832 non-null   int64  \n",
      " 8   month_of_postingdate    7832 non-null   int64  \n",
      " 9   year_of_postingdate     7832 non-null   int64  \n",
      " 10  day_of_createdate       7832 non-null   int64  \n",
      " 11  month_of_createdate     7832 non-null   int64  \n",
      " 12  year_of_createdate      7832 non-null   int64  \n",
      " 13  day_of_due              7832 non-null   int64  \n",
      " 14  month_of_due            7832 non-null   int64  \n",
      " 15  year_of_due             7832 non-null   int64  \n",
      "dtypes: float64(3), int32(4), int64(9)\n",
      "memory usage: 917.8 KB\n"
     ]
    }
   ],
   "source": [
    "nulldata.info()\n",
    "X_test.info()"
   ]
  },
  {
   "cell_type": "markdown",
   "id": "Us3ey-9zwqjq",
   "metadata": {
    "id": "Us3ey-9zwqjq"
   },
   "source": [
    "### You must have noticed that there is a mismatch in the column sequence while compairing the dataframes\n",
    "\n",
    "- Note - In order to fed into the machine learning model, you need to edit the sequence of \"nulldata\", similar to the \"X_test\" dataframe"
   ]
  },
  {
   "cell_type": "markdown",
   "id": "vduVNt1kxPW-",
   "metadata": {
    "id": "vduVNt1kxPW-"
   },
   "source": [
    "- Display all the columns of the X_test dataframe \n",
    "- Display all the columns of the Nulldata dataframe \n",
    "- Store the Nulldata with new sequence into a new dataframe \n",
    "\n",
    "\n",
    "- Note - The code is given below, no need to change "
   ]
  },
  {
   "cell_type": "code",
   "execution_count": 146,
   "id": "6729353e",
   "metadata": {
    "id": "6729353e"
   },
   "outputs": [
    {
     "data": {
      "text/plain": [
       "Index(['cust_number', 'buisness_year', 'doc_id', 'converted_usd',\n",
       "       'business_code_enc', 'name_customer_enc', 'cust_payment_terms_enc',\n",
       "       'day_of_postingdate', 'month_of_postingdate', 'year_of_postingdate',\n",
       "       'day_of_createdate', 'month_of_createdate', 'year_of_createdate',\n",
       "       'day_of_due', 'month_of_due', 'year_of_due'],\n",
       "      dtype='object')"
      ]
     },
     "execution_count": 146,
     "metadata": {},
     "output_type": "execute_result"
    }
   ],
   "source": [
    "X_test.columns"
   ]
  },
  {
   "cell_type": "code",
   "execution_count": 147,
   "id": "47bd9c5e",
   "metadata": {
    "id": "47bd9c5e"
   },
   "outputs": [
    {
     "data": {
      "text/plain": [
       "Index(['cust_number', 'buisness_year', 'doc_id', 'converted_usd',\n",
       "       'business_code_enc', 'day_of_postingdate', 'month_of_postingdate',\n",
       "       'year_of_postingdate', 'day_of_due', 'month_of_due', 'year_of_due',\n",
       "       'day_of_createdate', 'month_of_createdate', 'year_of_createdate',\n",
       "       'cust_payment_terms_enc', 'name_customer_enc'],\n",
       "      dtype='object')"
      ]
     },
     "execution_count": 147,
     "metadata": {},
     "output_type": "execute_result"
    }
   ],
   "source": [
    "nulldata.columns"
   ]
  },
  {
   "cell_type": "code",
   "execution_count": 148,
   "id": "aa5a2103",
   "metadata": {
    "id": "aa5a2103"
   },
   "outputs": [],
   "source": [
    "nulldata3=nulldata[['cust_number', 'buisness_year', 'doc_id', 'converted_usd',\n",
    "       'business_code_enc', 'name_customer_enc', 'cust_payment_terms_enc',\n",
    "       'day_of_postingdate', 'month_of_postingdate', 'year_of_postingdate',\n",
    "       'day_of_createdate', 'month_of_createdate', 'year_of_createdate',\n",
    "       'day_of_due', 'month_of_due', 'year_of_due']]"
   ]
  },
  {
   "cell_type": "markdown",
   "id": "1dc8b021",
   "metadata": {
    "id": "1dc8b021"
   },
   "source": [
    "### Display the Final Dataset"
   ]
  },
  {
   "cell_type": "code",
   "execution_count": 149,
   "id": "2f39785a",
   "metadata": {
    "id": "2f39785a",
    "scrolled": true
   },
   "outputs": [
    {
     "data": {
      "text/html": [
       "<div>\n",
       "<style scoped>\n",
       "    .dataframe tbody tr th:only-of-type {\n",
       "        vertical-align: middle;\n",
       "    }\n",
       "\n",
       "    .dataframe tbody tr th {\n",
       "        vertical-align: top;\n",
       "    }\n",
       "\n",
       "    .dataframe thead th {\n",
       "        text-align: right;\n",
       "    }\n",
       "</style>\n",
       "<table border=\"1\" class=\"dataframe\">\n",
       "  <thead>\n",
       "    <tr style=\"text-align: right;\">\n",
       "      <th></th>\n",
       "      <th>cust_number</th>\n",
       "      <th>buisness_year</th>\n",
       "      <th>doc_id</th>\n",
       "      <th>converted_usd</th>\n",
       "      <th>business_code_enc</th>\n",
       "      <th>name_customer_enc</th>\n",
       "      <th>cust_payment_terms_enc</th>\n",
       "      <th>day_of_postingdate</th>\n",
       "      <th>month_of_postingdate</th>\n",
       "      <th>year_of_postingdate</th>\n",
       "      <th>day_of_createdate</th>\n",
       "      <th>month_of_createdate</th>\n",
       "      <th>year_of_createdate</th>\n",
       "      <th>day_of_due</th>\n",
       "      <th>month_of_due</th>\n",
       "      <th>year_of_due</th>\n",
       "    </tr>\n",
       "  </thead>\n",
       "  <tbody>\n",
       "    <tr>\n",
       "      <th>5</th>\n",
       "      <td>200744019</td>\n",
       "      <td>2020.0</td>\n",
       "      <td>1.930659e+09</td>\n",
       "      <td>11173.02</td>\n",
       "      <td>63</td>\n",
       "      <td>2783</td>\n",
       "      <td>18</td>\n",
       "      <td>19</td>\n",
       "      <td>3</td>\n",
       "      <td>2020</td>\n",
       "      <td>19</td>\n",
       "      <td>3</td>\n",
       "      <td>2020</td>\n",
       "      <td>3</td>\n",
       "      <td>4</td>\n",
       "      <td>2020</td>\n",
       "    </tr>\n",
       "    <tr>\n",
       "      <th>8</th>\n",
       "      <td>200418007</td>\n",
       "      <td>2020.0</td>\n",
       "      <td>1.930611e+09</td>\n",
       "      <td>3525.59</td>\n",
       "      <td>63</td>\n",
       "      <td>86</td>\n",
       "      <td>18</td>\n",
       "      <td>11</td>\n",
       "      <td>3</td>\n",
       "      <td>2020</td>\n",
       "      <td>11</td>\n",
       "      <td>3</td>\n",
       "      <td>2020</td>\n",
       "      <td>26</td>\n",
       "      <td>3</td>\n",
       "      <td>2020</td>\n",
       "    </tr>\n",
       "    <tr>\n",
       "      <th>12</th>\n",
       "      <td>200739534</td>\n",
       "      <td>2020.0</td>\n",
       "      <td>1.930788e+09</td>\n",
       "      <td>121105.65</td>\n",
       "      <td>63</td>\n",
       "      <td>2013</td>\n",
       "      <td>18</td>\n",
       "      <td>15</td>\n",
       "      <td>4</td>\n",
       "      <td>2020</td>\n",
       "      <td>15</td>\n",
       "      <td>4</td>\n",
       "      <td>2020</td>\n",
       "      <td>30</td>\n",
       "      <td>4</td>\n",
       "      <td>2020</td>\n",
       "    </tr>\n",
       "    <tr>\n",
       "      <th>13</th>\n",
       "      <td>200353024</td>\n",
       "      <td>2020.0</td>\n",
       "      <td>1.930817e+09</td>\n",
       "      <td>3726.06</td>\n",
       "      <td>63</td>\n",
       "      <td>710</td>\n",
       "      <td>34</td>\n",
       "      <td>23</td>\n",
       "      <td>4</td>\n",
       "      <td>2020</td>\n",
       "      <td>16</td>\n",
       "      <td>4</td>\n",
       "      <td>2020</td>\n",
       "      <td>26</td>\n",
       "      <td>4</td>\n",
       "      <td>2020</td>\n",
       "    </tr>\n",
       "    <tr>\n",
       "      <th>20</th>\n",
       "      <td>200744019</td>\n",
       "      <td>2020.0</td>\n",
       "      <td>1.930676e+09</td>\n",
       "      <td>5893.01</td>\n",
       "      <td>63</td>\n",
       "      <td>2774</td>\n",
       "      <td>18</td>\n",
       "      <td>21</td>\n",
       "      <td>3</td>\n",
       "      <td>2020</td>\n",
       "      <td>21</td>\n",
       "      <td>3</td>\n",
       "      <td>2020</td>\n",
       "      <td>5</td>\n",
       "      <td>4</td>\n",
       "      <td>2020</td>\n",
       "    </tr>\n",
       "    <tr>\n",
       "      <th>24</th>\n",
       "      <td>200337148</td>\n",
       "      <td>2020.0</td>\n",
       "      <td>1.930592e+09</td>\n",
       "      <td>11380.83</td>\n",
       "      <td>63</td>\n",
       "      <td>542</td>\n",
       "      <td>18</td>\n",
       "      <td>2</td>\n",
       "      <td>3</td>\n",
       "      <td>2020</td>\n",
       "      <td>2</td>\n",
       "      <td>3</td>\n",
       "      <td>2020</td>\n",
       "      <td>17</td>\n",
       "      <td>3</td>\n",
       "      <td>2020</td>\n",
       "    </tr>\n",
       "    <tr>\n",
       "      <th>31</th>\n",
       "      <td>200794332</td>\n",
       "      <td>2020.0</td>\n",
       "      <td>1.930731e+09</td>\n",
       "      <td>3863.93</td>\n",
       "      <td>63</td>\n",
       "      <td>606</td>\n",
       "      <td>20</td>\n",
       "      <td>7</td>\n",
       "      <td>4</td>\n",
       "      <td>2020</td>\n",
       "      <td>7</td>\n",
       "      <td>4</td>\n",
       "      <td>2020</td>\n",
       "      <td>22</td>\n",
       "      <td>4</td>\n",
       "      <td>2020</td>\n",
       "    </tr>\n",
       "    <tr>\n",
       "      <th>33</th>\n",
       "      <td>200794332</td>\n",
       "      <td>2020.0</td>\n",
       "      <td>1.930804e+09</td>\n",
       "      <td>74453.01</td>\n",
       "      <td>63</td>\n",
       "      <td>612</td>\n",
       "      <td>20</td>\n",
       "      <td>23</td>\n",
       "      <td>4</td>\n",
       "      <td>2020</td>\n",
       "      <td>23</td>\n",
       "      <td>4</td>\n",
       "      <td>2020</td>\n",
       "      <td>8</td>\n",
       "      <td>5</td>\n",
       "      <td>2020</td>\n",
       "    </tr>\n",
       "    <tr>\n",
       "      <th>40</th>\n",
       "      <td>200803720</td>\n",
       "      <td>2020.0</td>\n",
       "      <td>1.930698e+09</td>\n",
       "      <td>138.60</td>\n",
       "      <td>63</td>\n",
       "      <td>698</td>\n",
       "      <td>36</td>\n",
       "      <td>25</td>\n",
       "      <td>3</td>\n",
       "      <td>2020</td>\n",
       "      <td>16</td>\n",
       "      <td>3</td>\n",
       "      <td>2020</td>\n",
       "      <td>8</td>\n",
       "      <td>4</td>\n",
       "      <td>2020</td>\n",
       "    </tr>\n",
       "    <tr>\n",
       "      <th>46</th>\n",
       "      <td>200794332</td>\n",
       "      <td>2020.0</td>\n",
       "      <td>1.930647e+09</td>\n",
       "      <td>32715.47</td>\n",
       "      <td>63</td>\n",
       "      <td>607</td>\n",
       "      <td>20</td>\n",
       "      <td>13</td>\n",
       "      <td>3</td>\n",
       "      <td>2020</td>\n",
       "      <td>13</td>\n",
       "      <td>3</td>\n",
       "      <td>2020</td>\n",
       "      <td>28</td>\n",
       "      <td>3</td>\n",
       "      <td>2020</td>\n",
       "    </tr>\n",
       "    <tr>\n",
       "      <th>47</th>\n",
       "      <td>200020431</td>\n",
       "      <td>2020.0</td>\n",
       "      <td>1.930862e+09</td>\n",
       "      <td>174.72</td>\n",
       "      <td>63</td>\n",
       "      <td>705</td>\n",
       "      <td>36</td>\n",
       "      <td>6</td>\n",
       "      <td>5</td>\n",
       "      <td>2020</td>\n",
       "      <td>1</td>\n",
       "      <td>5</td>\n",
       "      <td>2020</td>\n",
       "      <td>24</td>\n",
       "      <td>5</td>\n",
       "      <td>2020</td>\n",
       "    </tr>\n",
       "    <tr>\n",
       "      <th>52</th>\n",
       "      <td>200769623</td>\n",
       "      <td>2020.0</td>\n",
       "      <td>1.930636e+09</td>\n",
       "      <td>767.78</td>\n",
       "      <td>63</td>\n",
       "      <td>2977</td>\n",
       "      <td>32</td>\n",
       "      <td>12</td>\n",
       "      <td>3</td>\n",
       "      <td>2020</td>\n",
       "      <td>12</td>\n",
       "      <td>3</td>\n",
       "      <td>2020</td>\n",
       "      <td>27</td>\n",
       "      <td>3</td>\n",
       "      <td>2020</td>\n",
       "    </tr>\n",
       "    <tr>\n",
       "      <th>68</th>\n",
       "      <td>200769623</td>\n",
       "      <td>2020.0</td>\n",
       "      <td>1.930577e+09</td>\n",
       "      <td>14514.68</td>\n",
       "      <td>63</td>\n",
       "      <td>2976</td>\n",
       "      <td>32</td>\n",
       "      <td>28</td>\n",
       "      <td>2</td>\n",
       "      <td>2020</td>\n",
       "      <td>28</td>\n",
       "      <td>2</td>\n",
       "      <td>2020</td>\n",
       "      <td>14</td>\n",
       "      <td>3</td>\n",
       "      <td>2020</td>\n",
       "    </tr>\n",
       "    <tr>\n",
       "      <th>69</th>\n",
       "      <td>200769623</td>\n",
       "      <td>2020.0</td>\n",
       "      <td>1.930775e+09</td>\n",
       "      <td>55400.31</td>\n",
       "      <td>63</td>\n",
       "      <td>2981</td>\n",
       "      <td>32</td>\n",
       "      <td>10</td>\n",
       "      <td>4</td>\n",
       "      <td>2020</td>\n",
       "      <td>10</td>\n",
       "      <td>4</td>\n",
       "      <td>2020</td>\n",
       "      <td>25</td>\n",
       "      <td>4</td>\n",
       "      <td>2020</td>\n",
       "    </tr>\n",
       "    <tr>\n",
       "      <th>71</th>\n",
       "      <td>200772670</td>\n",
       "      <td>2020.0</td>\n",
       "      <td>1.930765e+09</td>\n",
       "      <td>174766.36</td>\n",
       "      <td>63</td>\n",
       "      <td>173</td>\n",
       "      <td>44</td>\n",
       "      <td>9</td>\n",
       "      <td>4</td>\n",
       "      <td>2020</td>\n",
       "      <td>9</td>\n",
       "      <td>4</td>\n",
       "      <td>2020</td>\n",
       "      <td>24</td>\n",
       "      <td>4</td>\n",
       "      <td>2020</td>\n",
       "    </tr>\n",
       "    <tr>\n",
       "      <th>74</th>\n",
       "      <td>200900909</td>\n",
       "      <td>2020.0</td>\n",
       "      <td>1.930646e+09</td>\n",
       "      <td>31512.75</td>\n",
       "      <td>63</td>\n",
       "      <td>2753</td>\n",
       "      <td>11</td>\n",
       "      <td>13</td>\n",
       "      <td>3</td>\n",
       "      <td>2020</td>\n",
       "      <td>13</td>\n",
       "      <td>3</td>\n",
       "      <td>2020</td>\n",
       "      <td>14</td>\n",
       "      <td>4</td>\n",
       "      <td>2020</td>\n",
       "    </tr>\n",
       "    <tr>\n",
       "      <th>75</th>\n",
       "      <td>200769623</td>\n",
       "      <td>2020.0</td>\n",
       "      <td>1.930718e+09</td>\n",
       "      <td>19701.55</td>\n",
       "      <td>63</td>\n",
       "      <td>2984</td>\n",
       "      <td>32</td>\n",
       "      <td>30</td>\n",
       "      <td>3</td>\n",
       "      <td>2020</td>\n",
       "      <td>30</td>\n",
       "      <td>3</td>\n",
       "      <td>2020</td>\n",
       "      <td>14</td>\n",
       "      <td>4</td>\n",
       "      <td>2020</td>\n",
       "    </tr>\n",
       "    <tr>\n",
       "      <th>79</th>\n",
       "      <td>200726979</td>\n",
       "      <td>2020.0</td>\n",
       "      <td>1.930789e+09</td>\n",
       "      <td>132.72</td>\n",
       "      <td>63</td>\n",
       "      <td>313</td>\n",
       "      <td>18</td>\n",
       "      <td>16</td>\n",
       "      <td>4</td>\n",
       "      <td>2020</td>\n",
       "      <td>16</td>\n",
       "      <td>4</td>\n",
       "      <td>2020</td>\n",
       "      <td>1</td>\n",
       "      <td>5</td>\n",
       "      <td>2020</td>\n",
       "    </tr>\n",
       "    <tr>\n",
       "      <th>85</th>\n",
       "      <td>200769623</td>\n",
       "      <td>2020.0</td>\n",
       "      <td>1.930710e+09</td>\n",
       "      <td>1121.15</td>\n",
       "      <td>63</td>\n",
       "      <td>2983</td>\n",
       "      <td>32</td>\n",
       "      <td>29</td>\n",
       "      <td>3</td>\n",
       "      <td>2020</td>\n",
       "      <td>29</td>\n",
       "      <td>3</td>\n",
       "      <td>2020</td>\n",
       "      <td>13</td>\n",
       "      <td>4</td>\n",
       "      <td>2020</td>\n",
       "    </tr>\n",
       "    <tr>\n",
       "      <th>86</th>\n",
       "      <td>200769623</td>\n",
       "      <td>2020.0</td>\n",
       "      <td>1.930753e+09</td>\n",
       "      <td>11394.84</td>\n",
       "      <td>63</td>\n",
       "      <td>2983</td>\n",
       "      <td>32</td>\n",
       "      <td>6</td>\n",
       "      <td>4</td>\n",
       "      <td>2020</td>\n",
       "      <td>6</td>\n",
       "      <td>4</td>\n",
       "      <td>2020</td>\n",
       "      <td>21</td>\n",
       "      <td>4</td>\n",
       "      <td>2020</td>\n",
       "    </tr>\n",
       "    <tr>\n",
       "      <th>100</th>\n",
       "      <td>200744019</td>\n",
       "      <td>2020.0</td>\n",
       "      <td>1.930648e+09</td>\n",
       "      <td>52123.30</td>\n",
       "      <td>63</td>\n",
       "      <td>2778</td>\n",
       "      <td>18</td>\n",
       "      <td>15</td>\n",
       "      <td>3</td>\n",
       "      <td>2020</td>\n",
       "      <td>15</td>\n",
       "      <td>3</td>\n",
       "      <td>2020</td>\n",
       "      <td>30</td>\n",
       "      <td>3</td>\n",
       "      <td>2020</td>\n",
       "    </tr>\n",
       "    <tr>\n",
       "      <th>101</th>\n",
       "      <td>200769623</td>\n",
       "      <td>2020.0</td>\n",
       "      <td>1.930633e+09</td>\n",
       "      <td>14994.01</td>\n",
       "      <td>63</td>\n",
       "      <td>2984</td>\n",
       "      <td>32</td>\n",
       "      <td>10</td>\n",
       "      <td>3</td>\n",
       "      <td>2020</td>\n",
       "      <td>10</td>\n",
       "      <td>3</td>\n",
       "      <td>2020</td>\n",
       "      <td>25</td>\n",
       "      <td>3</td>\n",
       "      <td>2020</td>\n",
       "    </tr>\n",
       "    <tr>\n",
       "      <th>102</th>\n",
       "      <td>200769623</td>\n",
       "      <td>2020.0</td>\n",
       "      <td>1.930617e+09</td>\n",
       "      <td>36.06</td>\n",
       "      <td>63</td>\n",
       "      <td>2983</td>\n",
       "      <td>32</td>\n",
       "      <td>6</td>\n",
       "      <td>3</td>\n",
       "      <td>2020</td>\n",
       "      <td>6</td>\n",
       "      <td>3</td>\n",
       "      <td>2020</td>\n",
       "      <td>21</td>\n",
       "      <td>3</td>\n",
       "      <td>2020</td>\n",
       "    </tr>\n",
       "    <tr>\n",
       "      <th>119</th>\n",
       "      <td>200418007</td>\n",
       "      <td>2020.0</td>\n",
       "      <td>1.930752e+09</td>\n",
       "      <td>25836.19</td>\n",
       "      <td>63</td>\n",
       "      <td>92</td>\n",
       "      <td>18</td>\n",
       "      <td>6</td>\n",
       "      <td>4</td>\n",
       "      <td>2020</td>\n",
       "      <td>6</td>\n",
       "      <td>4</td>\n",
       "      <td>2020</td>\n",
       "      <td>21</td>\n",
       "      <td>4</td>\n",
       "      <td>2020</td>\n",
       "    </tr>\n",
       "    <tr>\n",
       "      <th>123</th>\n",
       "      <td>200739006</td>\n",
       "      <td>2020.0</td>\n",
       "      <td>1.930768e+09</td>\n",
       "      <td>4309.05</td>\n",
       "      <td>63</td>\n",
       "      <td>51</td>\n",
       "      <td>18</td>\n",
       "      <td>15</td>\n",
       "      <td>4</td>\n",
       "      <td>2020</td>\n",
       "      <td>15</td>\n",
       "      <td>4</td>\n",
       "      <td>2020</td>\n",
       "      <td>30</td>\n",
       "      <td>4</td>\n",
       "      <td>2020</td>\n",
       "    </tr>\n",
       "    <tr>\n",
       "      <th>125</th>\n",
       "      <td>100031704</td>\n",
       "      <td>2020.0</td>\n",
       "      <td>1.930790e+09</td>\n",
       "      <td>70181.07</td>\n",
       "      <td>63</td>\n",
       "      <td>724</td>\n",
       "      <td>18</td>\n",
       "      <td>15</td>\n",
       "      <td>4</td>\n",
       "      <td>2020</td>\n",
       "      <td>15</td>\n",
       "      <td>4</td>\n",
       "      <td>2020</td>\n",
       "      <td>30</td>\n",
       "      <td>4</td>\n",
       "      <td>2020</td>\n",
       "    </tr>\n",
       "    <tr>\n",
       "      <th>126</th>\n",
       "      <td>200769623</td>\n",
       "      <td>2020.0</td>\n",
       "      <td>1.930705e+09</td>\n",
       "      <td>3403.80</td>\n",
       "      <td>63</td>\n",
       "      <td>2985</td>\n",
       "      <td>32</td>\n",
       "      <td>28</td>\n",
       "      <td>3</td>\n",
       "      <td>2020</td>\n",
       "      <td>28</td>\n",
       "      <td>3</td>\n",
       "      <td>2020</td>\n",
       "      <td>12</td>\n",
       "      <td>4</td>\n",
       "      <td>2020</td>\n",
       "    </tr>\n",
       "    <tr>\n",
       "      <th>136</th>\n",
       "      <td>200744019</td>\n",
       "      <td>2020.0</td>\n",
       "      <td>1.930621e+09</td>\n",
       "      <td>10665.53</td>\n",
       "      <td>63</td>\n",
       "      <td>2781</td>\n",
       "      <td>31</td>\n",
       "      <td>10</td>\n",
       "      <td>3</td>\n",
       "      <td>2020</td>\n",
       "      <td>10</td>\n",
       "      <td>3</td>\n",
       "      <td>2020</td>\n",
       "      <td>14</td>\n",
       "      <td>5</td>\n",
       "      <td>2020</td>\n",
       "    </tr>\n",
       "    <tr>\n",
       "      <th>164</th>\n",
       "      <td>200769623</td>\n",
       "      <td>2020.0</td>\n",
       "      <td>1.930676e+09</td>\n",
       "      <td>7280.51</td>\n",
       "      <td>63</td>\n",
       "      <td>2976</td>\n",
       "      <td>32</td>\n",
       "      <td>21</td>\n",
       "      <td>3</td>\n",
       "      <td>2020</td>\n",
       "      <td>21</td>\n",
       "      <td>3</td>\n",
       "      <td>2020</td>\n",
       "      <td>5</td>\n",
       "      <td>4</td>\n",
       "      <td>2020</td>\n",
       "    </tr>\n",
       "    <tr>\n",
       "      <th>174</th>\n",
       "      <td>200726979</td>\n",
       "      <td>2020.0</td>\n",
       "      <td>1.930585e+09</td>\n",
       "      <td>13681.70</td>\n",
       "      <td>63</td>\n",
       "      <td>308</td>\n",
       "      <td>18</td>\n",
       "      <td>2</td>\n",
       "      <td>3</td>\n",
       "      <td>2020</td>\n",
       "      <td>2</td>\n",
       "      <td>3</td>\n",
       "      <td>2020</td>\n",
       "      <td>17</td>\n",
       "      <td>3</td>\n",
       "      <td>2020</td>\n",
       "    </tr>\n",
       "    <tr>\n",
       "      <th>179</th>\n",
       "      <td>200706844</td>\n",
       "      <td>2020.0</td>\n",
       "      <td>1.930773e+09</td>\n",
       "      <td>33947.85</td>\n",
       "      <td>63</td>\n",
       "      <td>3037</td>\n",
       "      <td>18</td>\n",
       "      <td>7</td>\n",
       "      <td>4</td>\n",
       "      <td>2020</td>\n",
       "      <td>7</td>\n",
       "      <td>4</td>\n",
       "      <td>2020</td>\n",
       "      <td>22</td>\n",
       "      <td>4</td>\n",
       "      <td>2020</td>\n",
       "    </tr>\n",
       "    <tr>\n",
       "      <th>183</th>\n",
       "      <td>200793830</td>\n",
       "      <td>2020.0</td>\n",
       "      <td>1.930768e+09</td>\n",
       "      <td>4537.14</td>\n",
       "      <td>63</td>\n",
       "      <td>1699</td>\n",
       "      <td>18</td>\n",
       "      <td>8</td>\n",
       "      <td>4</td>\n",
       "      <td>2020</td>\n",
       "      <td>8</td>\n",
       "      <td>4</td>\n",
       "      <td>2020</td>\n",
       "      <td>23</td>\n",
       "      <td>4</td>\n",
       "      <td>2020</td>\n",
       "    </tr>\n",
       "    <tr>\n",
       "      <th>185</th>\n",
       "      <td>200769623</td>\n",
       "      <td>2020.0</td>\n",
       "      <td>1.930750e+09</td>\n",
       "      <td>14355.96</td>\n",
       "      <td>63</td>\n",
       "      <td>2981</td>\n",
       "      <td>32</td>\n",
       "      <td>6</td>\n",
       "      <td>4</td>\n",
       "      <td>2020</td>\n",
       "      <td>6</td>\n",
       "      <td>4</td>\n",
       "      <td>2020</td>\n",
       "      <td>21</td>\n",
       "      <td>4</td>\n",
       "      <td>2020</td>\n",
       "    </tr>\n",
       "    <tr>\n",
       "      <th>186</th>\n",
       "      <td>200769623</td>\n",
       "      <td>2020.0</td>\n",
       "      <td>1.930739e+09</td>\n",
       "      <td>367.71</td>\n",
       "      <td>63</td>\n",
       "      <td>2984</td>\n",
       "      <td>32</td>\n",
       "      <td>3</td>\n",
       "      <td>4</td>\n",
       "      <td>2020</td>\n",
       "      <td>3</td>\n",
       "      <td>4</td>\n",
       "      <td>2020</td>\n",
       "      <td>18</td>\n",
       "      <td>4</td>\n",
       "      <td>2020</td>\n",
       "    </tr>\n",
       "    <tr>\n",
       "      <th>189</th>\n",
       "      <td>200769623</td>\n",
       "      <td>2020.0</td>\n",
       "      <td>1.930862e+09</td>\n",
       "      <td>56284.77</td>\n",
       "      <td>63</td>\n",
       "      <td>2985</td>\n",
       "      <td>32</td>\n",
       "      <td>6</td>\n",
       "      <td>5</td>\n",
       "      <td>2020</td>\n",
       "      <td>6</td>\n",
       "      <td>5</td>\n",
       "      <td>2020</td>\n",
       "      <td>21</td>\n",
       "      <td>5</td>\n",
       "      <td>2020</td>\n",
       "    </tr>\n",
       "    <tr>\n",
       "      <th>200</th>\n",
       "      <td>200769623</td>\n",
       "      <td>2020.0</td>\n",
       "      <td>1.930582e+09</td>\n",
       "      <td>50493.86</td>\n",
       "      <td>63</td>\n",
       "      <td>2984</td>\n",
       "      <td>32</td>\n",
       "      <td>29</td>\n",
       "      <td>2</td>\n",
       "      <td>2020</td>\n",
       "      <td>29</td>\n",
       "      <td>2</td>\n",
       "      <td>2020</td>\n",
       "      <td>15</td>\n",
       "      <td>3</td>\n",
       "      <td>2020</td>\n",
       "    </tr>\n",
       "    <tr>\n",
       "      <th>201</th>\n",
       "      <td>200769623</td>\n",
       "      <td>2020.0</td>\n",
       "      <td>1.930802e+09</td>\n",
       "      <td>15489.43</td>\n",
       "      <td>63</td>\n",
       "      <td>2983</td>\n",
       "      <td>32</td>\n",
       "      <td>21</td>\n",
       "      <td>4</td>\n",
       "      <td>2020</td>\n",
       "      <td>21</td>\n",
       "      <td>4</td>\n",
       "      <td>2020</td>\n",
       "      <td>6</td>\n",
       "      <td>5</td>\n",
       "      <td>2020</td>\n",
       "    </tr>\n",
       "    <tr>\n",
       "      <th>220</th>\n",
       "      <td>200726979</td>\n",
       "      <td>2020.0</td>\n",
       "      <td>1.930801e+09</td>\n",
       "      <td>360.33</td>\n",
       "      <td>63</td>\n",
       "      <td>312</td>\n",
       "      <td>18</td>\n",
       "      <td>19</td>\n",
       "      <td>4</td>\n",
       "      <td>2020</td>\n",
       "      <td>19</td>\n",
       "      <td>4</td>\n",
       "      <td>2020</td>\n",
       "      <td>4</td>\n",
       "      <td>5</td>\n",
       "      <td>2020</td>\n",
       "    </tr>\n",
       "    <tr>\n",
       "      <th>224</th>\n",
       "      <td>200743996</td>\n",
       "      <td>2020.0</td>\n",
       "      <td>1.930660e+09</td>\n",
       "      <td>3826.03</td>\n",
       "      <td>63</td>\n",
       "      <td>2610</td>\n",
       "      <td>31</td>\n",
       "      <td>16</td>\n",
       "      <td>3</td>\n",
       "      <td>2020</td>\n",
       "      <td>16</td>\n",
       "      <td>3</td>\n",
       "      <td>2020</td>\n",
       "      <td>20</td>\n",
       "      <td>5</td>\n",
       "      <td>2020</td>\n",
       "    </tr>\n",
       "    <tr>\n",
       "      <th>234</th>\n",
       "      <td>200752302</td>\n",
       "      <td>2020.0</td>\n",
       "      <td>1.930734e+09</td>\n",
       "      <td>96674.05</td>\n",
       "      <td>63</td>\n",
       "      <td>1578</td>\n",
       "      <td>18</td>\n",
       "      <td>2</td>\n",
       "      <td>4</td>\n",
       "      <td>2020</td>\n",
       "      <td>2</td>\n",
       "      <td>4</td>\n",
       "      <td>2020</td>\n",
       "      <td>17</td>\n",
       "      <td>4</td>\n",
       "      <td>2020</td>\n",
       "    </tr>\n",
       "    <tr>\n",
       "      <th>239</th>\n",
       "      <td>200711029</td>\n",
       "      <td>2020.0</td>\n",
       "      <td>1.930743e+09</td>\n",
       "      <td>14382.22</td>\n",
       "      <td>63</td>\n",
       "      <td>3006</td>\n",
       "      <td>18</td>\n",
       "      <td>3</td>\n",
       "      <td>4</td>\n",
       "      <td>2020</td>\n",
       "      <td>3</td>\n",
       "      <td>4</td>\n",
       "      <td>2020</td>\n",
       "      <td>18</td>\n",
       "      <td>4</td>\n",
       "      <td>2020</td>\n",
       "    </tr>\n",
       "    <tr>\n",
       "      <th>243</th>\n",
       "      <td>200769623</td>\n",
       "      <td>2020.0</td>\n",
       "      <td>1.930805e+09</td>\n",
       "      <td>35509.95</td>\n",
       "      <td>63</td>\n",
       "      <td>2983</td>\n",
       "      <td>32</td>\n",
       "      <td>21</td>\n",
       "      <td>4</td>\n",
       "      <td>2020</td>\n",
       "      <td>21</td>\n",
       "      <td>4</td>\n",
       "      <td>2020</td>\n",
       "      <td>6</td>\n",
       "      <td>5</td>\n",
       "      <td>2020</td>\n",
       "    </tr>\n",
       "    <tr>\n",
       "      <th>246</th>\n",
       "      <td>200769623</td>\n",
       "      <td>2020.0</td>\n",
       "      <td>1.930747e+09</td>\n",
       "      <td>13512.61</td>\n",
       "      <td>63</td>\n",
       "      <td>2977</td>\n",
       "      <td>32</td>\n",
       "      <td>5</td>\n",
       "      <td>4</td>\n",
       "      <td>2020</td>\n",
       "      <td>5</td>\n",
       "      <td>4</td>\n",
       "      <td>2020</td>\n",
       "      <td>20</td>\n",
       "      <td>4</td>\n",
       "      <td>2020</td>\n",
       "    </tr>\n",
       "    <tr>\n",
       "      <th>249</th>\n",
       "      <td>200772670</td>\n",
       "      <td>2020.0</td>\n",
       "      <td>1.930698e+09</td>\n",
       "      <td>24421.33</td>\n",
       "      <td>63</td>\n",
       "      <td>172</td>\n",
       "      <td>44</td>\n",
       "      <td>24</td>\n",
       "      <td>3</td>\n",
       "      <td>2020</td>\n",
       "      <td>24</td>\n",
       "      <td>3</td>\n",
       "      <td>2020</td>\n",
       "      <td>8</td>\n",
       "      <td>4</td>\n",
       "      <td>2020</td>\n",
       "    </tr>\n",
       "    <tr>\n",
       "      <th>252</th>\n",
       "      <td>200769623</td>\n",
       "      <td>2020.0</td>\n",
       "      <td>1.930801e+09</td>\n",
       "      <td>11217.33</td>\n",
       "      <td>63</td>\n",
       "      <td>2978</td>\n",
       "      <td>32</td>\n",
       "      <td>19</td>\n",
       "      <td>4</td>\n",
       "      <td>2020</td>\n",
       "      <td>19</td>\n",
       "      <td>4</td>\n",
       "      <td>2020</td>\n",
       "      <td>4</td>\n",
       "      <td>5</td>\n",
       "      <td>2020</td>\n",
       "    </tr>\n",
       "    <tr>\n",
       "      <th>254</th>\n",
       "      <td>200769623</td>\n",
       "      <td>2020.0</td>\n",
       "      <td>1.930777e+09</td>\n",
       "      <td>12554.13</td>\n",
       "      <td>63</td>\n",
       "      <td>2984</td>\n",
       "      <td>32</td>\n",
       "      <td>13</td>\n",
       "      <td>4</td>\n",
       "      <td>2020</td>\n",
       "      <td>13</td>\n",
       "      <td>4</td>\n",
       "      <td>2020</td>\n",
       "      <td>28</td>\n",
       "      <td>4</td>\n",
       "      <td>2020</td>\n",
       "    </tr>\n",
       "    <tr>\n",
       "      <th>265</th>\n",
       "      <td>200720238</td>\n",
       "      <td>2020.0</td>\n",
       "      <td>1.930859e+09</td>\n",
       "      <td>126919.03</td>\n",
       "      <td>63</td>\n",
       "      <td>2899</td>\n",
       "      <td>18</td>\n",
       "      <td>6</td>\n",
       "      <td>5</td>\n",
       "      <td>2020</td>\n",
       "      <td>6</td>\n",
       "      <td>5</td>\n",
       "      <td>2020</td>\n",
       "      <td>21</td>\n",
       "      <td>5</td>\n",
       "      <td>2020</td>\n",
       "    </tr>\n",
       "    <tr>\n",
       "      <th>276</th>\n",
       "      <td>200769623</td>\n",
       "      <td>2020.0</td>\n",
       "      <td>1.930730e+09</td>\n",
       "      <td>24834.90</td>\n",
       "      <td>63</td>\n",
       "      <td>2978</td>\n",
       "      <td>32</td>\n",
       "      <td>1</td>\n",
       "      <td>4</td>\n",
       "      <td>2020</td>\n",
       "      <td>1</td>\n",
       "      <td>4</td>\n",
       "      <td>2020</td>\n",
       "      <td>16</td>\n",
       "      <td>4</td>\n",
       "      <td>2020</td>\n",
       "    </tr>\n",
       "    <tr>\n",
       "      <th>285</th>\n",
       "      <td>200769623</td>\n",
       "      <td>2020.0</td>\n",
       "      <td>1.930653e+09</td>\n",
       "      <td>50202.83</td>\n",
       "      <td>63</td>\n",
       "      <td>2986</td>\n",
       "      <td>32</td>\n",
       "      <td>15</td>\n",
       "      <td>3</td>\n",
       "      <td>2020</td>\n",
       "      <td>15</td>\n",
       "      <td>3</td>\n",
       "      <td>2020</td>\n",
       "      <td>30</td>\n",
       "      <td>3</td>\n",
       "      <td>2020</td>\n",
       "    </tr>\n",
       "    <tr>\n",
       "      <th>286</th>\n",
       "      <td>200769623</td>\n",
       "      <td>2020.0</td>\n",
       "      <td>1.930716e+09</td>\n",
       "      <td>8299.70</td>\n",
       "      <td>63</td>\n",
       "      <td>2986</td>\n",
       "      <td>32</td>\n",
       "      <td>1</td>\n",
       "      <td>4</td>\n",
       "      <td>2020</td>\n",
       "      <td>1</td>\n",
       "      <td>4</td>\n",
       "      <td>2020</td>\n",
       "      <td>16</td>\n",
       "      <td>4</td>\n",
       "      <td>2020</td>\n",
       "    </tr>\n",
       "  </tbody>\n",
       "</table>\n",
       "</div>"
      ],
      "text/plain": [
       "     cust_number  buisness_year        doc_id  converted_usd  \\\n",
       "5      200744019         2020.0  1.930659e+09       11173.02   \n",
       "8      200418007         2020.0  1.930611e+09        3525.59   \n",
       "12     200739534         2020.0  1.930788e+09      121105.65   \n",
       "13     200353024         2020.0  1.930817e+09        3726.06   \n",
       "20     200744019         2020.0  1.930676e+09        5893.01   \n",
       "24     200337148         2020.0  1.930592e+09       11380.83   \n",
       "31     200794332         2020.0  1.930731e+09        3863.93   \n",
       "33     200794332         2020.0  1.930804e+09       74453.01   \n",
       "40     200803720         2020.0  1.930698e+09         138.60   \n",
       "46     200794332         2020.0  1.930647e+09       32715.47   \n",
       "47     200020431         2020.0  1.930862e+09         174.72   \n",
       "52     200769623         2020.0  1.930636e+09         767.78   \n",
       "68     200769623         2020.0  1.930577e+09       14514.68   \n",
       "69     200769623         2020.0  1.930775e+09       55400.31   \n",
       "71     200772670         2020.0  1.930765e+09      174766.36   \n",
       "74     200900909         2020.0  1.930646e+09       31512.75   \n",
       "75     200769623         2020.0  1.930718e+09       19701.55   \n",
       "79     200726979         2020.0  1.930789e+09         132.72   \n",
       "85     200769623         2020.0  1.930710e+09        1121.15   \n",
       "86     200769623         2020.0  1.930753e+09       11394.84   \n",
       "100    200744019         2020.0  1.930648e+09       52123.30   \n",
       "101    200769623         2020.0  1.930633e+09       14994.01   \n",
       "102    200769623         2020.0  1.930617e+09          36.06   \n",
       "119    200418007         2020.0  1.930752e+09       25836.19   \n",
       "123    200739006         2020.0  1.930768e+09        4309.05   \n",
       "125    100031704         2020.0  1.930790e+09       70181.07   \n",
       "126    200769623         2020.0  1.930705e+09        3403.80   \n",
       "136    200744019         2020.0  1.930621e+09       10665.53   \n",
       "164    200769623         2020.0  1.930676e+09        7280.51   \n",
       "174    200726979         2020.0  1.930585e+09       13681.70   \n",
       "179    200706844         2020.0  1.930773e+09       33947.85   \n",
       "183    200793830         2020.0  1.930768e+09        4537.14   \n",
       "185    200769623         2020.0  1.930750e+09       14355.96   \n",
       "186    200769623         2020.0  1.930739e+09         367.71   \n",
       "189    200769623         2020.0  1.930862e+09       56284.77   \n",
       "200    200769623         2020.0  1.930582e+09       50493.86   \n",
       "201    200769623         2020.0  1.930802e+09       15489.43   \n",
       "220    200726979         2020.0  1.930801e+09         360.33   \n",
       "224    200743996         2020.0  1.930660e+09        3826.03   \n",
       "234    200752302         2020.0  1.930734e+09       96674.05   \n",
       "239    200711029         2020.0  1.930743e+09       14382.22   \n",
       "243    200769623         2020.0  1.930805e+09       35509.95   \n",
       "246    200769623         2020.0  1.930747e+09       13512.61   \n",
       "249    200772670         2020.0  1.930698e+09       24421.33   \n",
       "252    200769623         2020.0  1.930801e+09       11217.33   \n",
       "254    200769623         2020.0  1.930777e+09       12554.13   \n",
       "265    200720238         2020.0  1.930859e+09      126919.03   \n",
       "276    200769623         2020.0  1.930730e+09       24834.90   \n",
       "285    200769623         2020.0  1.930653e+09       50202.83   \n",
       "286    200769623         2020.0  1.930716e+09        8299.70   \n",
       "\n",
       "     business_code_enc  name_customer_enc  cust_payment_terms_enc  \\\n",
       "5                   63               2783                      18   \n",
       "8                   63                 86                      18   \n",
       "12                  63               2013                      18   \n",
       "13                  63                710                      34   \n",
       "20                  63               2774                      18   \n",
       "24                  63                542                      18   \n",
       "31                  63                606                      20   \n",
       "33                  63                612                      20   \n",
       "40                  63                698                      36   \n",
       "46                  63                607                      20   \n",
       "47                  63                705                      36   \n",
       "52                  63               2977                      32   \n",
       "68                  63               2976                      32   \n",
       "69                  63               2981                      32   \n",
       "71                  63                173                      44   \n",
       "74                  63               2753                      11   \n",
       "75                  63               2984                      32   \n",
       "79                  63                313                      18   \n",
       "85                  63               2983                      32   \n",
       "86                  63               2983                      32   \n",
       "100                 63               2778                      18   \n",
       "101                 63               2984                      32   \n",
       "102                 63               2983                      32   \n",
       "119                 63                 92                      18   \n",
       "123                 63                 51                      18   \n",
       "125                 63                724                      18   \n",
       "126                 63               2985                      32   \n",
       "136                 63               2781                      31   \n",
       "164                 63               2976                      32   \n",
       "174                 63                308                      18   \n",
       "179                 63               3037                      18   \n",
       "183                 63               1699                      18   \n",
       "185                 63               2981                      32   \n",
       "186                 63               2984                      32   \n",
       "189                 63               2985                      32   \n",
       "200                 63               2984                      32   \n",
       "201                 63               2983                      32   \n",
       "220                 63                312                      18   \n",
       "224                 63               2610                      31   \n",
       "234                 63               1578                      18   \n",
       "239                 63               3006                      18   \n",
       "243                 63               2983                      32   \n",
       "246                 63               2977                      32   \n",
       "249                 63                172                      44   \n",
       "252                 63               2978                      32   \n",
       "254                 63               2984                      32   \n",
       "265                 63               2899                      18   \n",
       "276                 63               2978                      32   \n",
       "285                 63               2986                      32   \n",
       "286                 63               2986                      32   \n",
       "\n",
       "     day_of_postingdate  month_of_postingdate  year_of_postingdate  \\\n",
       "5                    19                     3                 2020   \n",
       "8                    11                     3                 2020   \n",
       "12                   15                     4                 2020   \n",
       "13                   23                     4                 2020   \n",
       "20                   21                     3                 2020   \n",
       "24                    2                     3                 2020   \n",
       "31                    7                     4                 2020   \n",
       "33                   23                     4                 2020   \n",
       "40                   25                     3                 2020   \n",
       "46                   13                     3                 2020   \n",
       "47                    6                     5                 2020   \n",
       "52                   12                     3                 2020   \n",
       "68                   28                     2                 2020   \n",
       "69                   10                     4                 2020   \n",
       "71                    9                     4                 2020   \n",
       "74                   13                     3                 2020   \n",
       "75                   30                     3                 2020   \n",
       "79                   16                     4                 2020   \n",
       "85                   29                     3                 2020   \n",
       "86                    6                     4                 2020   \n",
       "100                  15                     3                 2020   \n",
       "101                  10                     3                 2020   \n",
       "102                   6                     3                 2020   \n",
       "119                   6                     4                 2020   \n",
       "123                  15                     4                 2020   \n",
       "125                  15                     4                 2020   \n",
       "126                  28                     3                 2020   \n",
       "136                  10                     3                 2020   \n",
       "164                  21                     3                 2020   \n",
       "174                   2                     3                 2020   \n",
       "179                   7                     4                 2020   \n",
       "183                   8                     4                 2020   \n",
       "185                   6                     4                 2020   \n",
       "186                   3                     4                 2020   \n",
       "189                   6                     5                 2020   \n",
       "200                  29                     2                 2020   \n",
       "201                  21                     4                 2020   \n",
       "220                  19                     4                 2020   \n",
       "224                  16                     3                 2020   \n",
       "234                   2                     4                 2020   \n",
       "239                   3                     4                 2020   \n",
       "243                  21                     4                 2020   \n",
       "246                   5                     4                 2020   \n",
       "249                  24                     3                 2020   \n",
       "252                  19                     4                 2020   \n",
       "254                  13                     4                 2020   \n",
       "265                   6                     5                 2020   \n",
       "276                   1                     4                 2020   \n",
       "285                  15                     3                 2020   \n",
       "286                   1                     4                 2020   \n",
       "\n",
       "     day_of_createdate  month_of_createdate  year_of_createdate  day_of_due  \\\n",
       "5                   19                    3                2020           3   \n",
       "8                   11                    3                2020          26   \n",
       "12                  15                    4                2020          30   \n",
       "13                  16                    4                2020          26   \n",
       "20                  21                    3                2020           5   \n",
       "24                   2                    3                2020          17   \n",
       "31                   7                    4                2020          22   \n",
       "33                  23                    4                2020           8   \n",
       "40                  16                    3                2020           8   \n",
       "46                  13                    3                2020          28   \n",
       "47                   1                    5                2020          24   \n",
       "52                  12                    3                2020          27   \n",
       "68                  28                    2                2020          14   \n",
       "69                  10                    4                2020          25   \n",
       "71                   9                    4                2020          24   \n",
       "74                  13                    3                2020          14   \n",
       "75                  30                    3                2020          14   \n",
       "79                  16                    4                2020           1   \n",
       "85                  29                    3                2020          13   \n",
       "86                   6                    4                2020          21   \n",
       "100                 15                    3                2020          30   \n",
       "101                 10                    3                2020          25   \n",
       "102                  6                    3                2020          21   \n",
       "119                  6                    4                2020          21   \n",
       "123                 15                    4                2020          30   \n",
       "125                 15                    4                2020          30   \n",
       "126                 28                    3                2020          12   \n",
       "136                 10                    3                2020          14   \n",
       "164                 21                    3                2020           5   \n",
       "174                  2                    3                2020          17   \n",
       "179                  7                    4                2020          22   \n",
       "183                  8                    4                2020          23   \n",
       "185                  6                    4                2020          21   \n",
       "186                  3                    4                2020          18   \n",
       "189                  6                    5                2020          21   \n",
       "200                 29                    2                2020          15   \n",
       "201                 21                    4                2020           6   \n",
       "220                 19                    4                2020           4   \n",
       "224                 16                    3                2020          20   \n",
       "234                  2                    4                2020          17   \n",
       "239                  3                    4                2020          18   \n",
       "243                 21                    4                2020           6   \n",
       "246                  5                    4                2020          20   \n",
       "249                 24                    3                2020           8   \n",
       "252                 19                    4                2020           4   \n",
       "254                 13                    4                2020          28   \n",
       "265                  6                    5                2020          21   \n",
       "276                  1                    4                2020          16   \n",
       "285                 15                    3                2020          30   \n",
       "286                  1                    4                2020          16   \n",
       "\n",
       "     month_of_due  year_of_due  \n",
       "5               4         2020  \n",
       "8               3         2020  \n",
       "12              4         2020  \n",
       "13              4         2020  \n",
       "20              4         2020  \n",
       "24              3         2020  \n",
       "31              4         2020  \n",
       "33              5         2020  \n",
       "40              4         2020  \n",
       "46              3         2020  \n",
       "47              5         2020  \n",
       "52              3         2020  \n",
       "68              3         2020  \n",
       "69              4         2020  \n",
       "71              4         2020  \n",
       "74              4         2020  \n",
       "75              4         2020  \n",
       "79              5         2020  \n",
       "85              4         2020  \n",
       "86              4         2020  \n",
       "100             3         2020  \n",
       "101             3         2020  \n",
       "102             3         2020  \n",
       "119             4         2020  \n",
       "123             4         2020  \n",
       "125             4         2020  \n",
       "126             4         2020  \n",
       "136             5         2020  \n",
       "164             4         2020  \n",
       "174             3         2020  \n",
       "179             4         2020  \n",
       "183             4         2020  \n",
       "185             4         2020  \n",
       "186             4         2020  \n",
       "189             5         2020  \n",
       "200             3         2020  \n",
       "201             5         2020  \n",
       "220             5         2020  \n",
       "224             5         2020  \n",
       "234             4         2020  \n",
       "239             4         2020  \n",
       "243             5         2020  \n",
       "246             4         2020  \n",
       "249             4         2020  \n",
       "252             5         2020  \n",
       "254             4         2020  \n",
       "265             5         2020  \n",
       "276             4         2020  \n",
       "285             3         2020  \n",
       "286             4         2020  "
      ]
     },
     "execution_count": 149,
     "metadata": {},
     "output_type": "execute_result"
    }
   ],
   "source": [
    "nulldata3.head(50)"
   ]
  },
  {
   "cell_type": "markdown",
   "id": "27b88c5a",
   "metadata": {
    "id": "27b88c5a"
   },
   "source": [
    "### Now you can pass this dataset into you final model and store it into \"final_result\""
   ]
  },
  {
   "cell_type": "code",
   "execution_count": 150,
   "id": "9e0b6388",
   "metadata": {
    "id": "9e0b6388"
   },
   "outputs": [],
   "source": [
    "final_result=regressorfinal.predict(nulldata3)"
   ]
  },
  {
   "cell_type": "code",
   "execution_count": 151,
   "id": "ef00cb8c",
   "metadata": {},
   "outputs": [
    {
     "data": {
      "text/plain": [
       "array([  25023.787, -137602.81 , -583542.   , ...,  818752.3  ,\n",
       "         83914.14 , -100495.56 ], dtype=float32)"
      ]
     },
     "execution_count": 151,
     "metadata": {},
     "output_type": "execute_result"
    }
   ],
   "source": [
    "final_result"
   ]
  },
  {
   "cell_type": "markdown",
   "id": "9653d3c6",
   "metadata": {
    "id": "9653d3c6"
   },
   "source": [
    "### you need to make the final_result as dataframe, with a column name \"avg_delay\"\n",
    "\n",
    "- Note - No need to change the code"
   ]
  },
  {
   "cell_type": "code",
   "execution_count": 152,
   "id": "25ef814d",
   "metadata": {
    "id": "25ef814d"
   },
   "outputs": [],
   "source": [
    "final_result = pd.Series(final_result,name='avg_delay')"
   ]
  },
  {
   "cell_type": "markdown",
   "id": "C86staIhyf2C",
   "metadata": {
    "id": "C86staIhyf2C"
   },
   "source": [
    "### Display the \"avg_delay\" column"
   ]
  },
  {
   "cell_type": "code",
   "execution_count": 153,
   "id": "4fd46406",
   "metadata": {
    "id": "4fd46406"
   },
   "outputs": [
    {
     "data": {
      "text/plain": [
       "0        25023.787109\n",
       "1      -137602.812500\n",
       "2      -583542.000000\n",
       "3      -410204.625000\n",
       "4        19451.865234\n",
       "            ...      \n",
       "9676    351083.500000\n",
       "9677     47019.328125\n",
       "9678    818752.312500\n",
       "9679     83914.140625\n",
       "9680   -100495.562500\n",
       "Name: avg_delay, Length: 9681, dtype: float32"
      ]
     },
     "execution_count": 153,
     "metadata": {},
     "output_type": "execute_result"
    }
   ],
   "source": [
    "final_result"
   ]
  },
  {
   "cell_type": "markdown",
   "id": "44f71a7e",
   "metadata": {
    "id": "44f71a7e"
   },
   "source": [
    "### Now you need to merge this final_result dataframe with the BACKUP of \"nulldata\" Dataframe which we have created in earlier steps"
   ]
  },
  {
   "cell_type": "code",
   "execution_count": 154,
   "id": "e8f0969d",
   "metadata": {
    "id": "e8f0969d"
   },
   "outputs": [],
   "source": [
    "nulldata2.reset_index(drop=True,inplace=True)\n",
    "Final = nulldata2.merge(final_result , on = nulldata.index )"
   ]
  },
  {
   "cell_type": "markdown",
   "id": "G-hLtxXgy4GZ",
   "metadata": {
    "id": "G-hLtxXgy4GZ"
   },
   "source": [
    "### Display the \"Final\" dataframe "
   ]
  },
  {
   "cell_type": "code",
   "execution_count": 155,
   "id": "71fb4dc0",
   "metadata": {
    "id": "71fb4dc0"
   },
   "outputs": [
    {
     "data": {
      "text/html": [
       "<div>\n",
       "<style scoped>\n",
       "    .dataframe tbody tr th:only-of-type {\n",
       "        vertical-align: middle;\n",
       "    }\n",
       "\n",
       "    .dataframe tbody tr th {\n",
       "        vertical-align: top;\n",
       "    }\n",
       "\n",
       "    .dataframe thead th {\n",
       "        text-align: right;\n",
       "    }\n",
       "</style>\n",
       "<table border=\"1\" class=\"dataframe\">\n",
       "  <thead>\n",
       "    <tr style=\"text-align: right;\">\n",
       "      <th></th>\n",
       "      <th>key_0</th>\n",
       "      <th>business_code</th>\n",
       "      <th>cust_number</th>\n",
       "      <th>name_customer</th>\n",
       "      <th>clear_date</th>\n",
       "      <th>buisness_year</th>\n",
       "      <th>doc_id</th>\n",
       "      <th>posting_date</th>\n",
       "      <th>due_in_date</th>\n",
       "      <th>baseline_create_date</th>\n",
       "      <th>cust_payment_terms</th>\n",
       "      <th>converted_usd</th>\n",
       "      <th>avg_delay</th>\n",
       "    </tr>\n",
       "  </thead>\n",
       "  <tbody>\n",
       "    <tr>\n",
       "      <th>0</th>\n",
       "      <td>5</td>\n",
       "      <td>U001</td>\n",
       "      <td>0200744019</td>\n",
       "      <td>TARG us</td>\n",
       "      <td>NaT</td>\n",
       "      <td>2020.0</td>\n",
       "      <td>1.930659e+09</td>\n",
       "      <td>2020-03-19</td>\n",
       "      <td>2020-04-03</td>\n",
       "      <td>2020-03-19</td>\n",
       "      <td>NAA8</td>\n",
       "      <td>11173.0200</td>\n",
       "      <td>25023.787109</td>\n",
       "    </tr>\n",
       "    <tr>\n",
       "      <th>1</th>\n",
       "      <td>8</td>\n",
       "      <td>U001</td>\n",
       "      <td>0200418007</td>\n",
       "      <td>AM</td>\n",
       "      <td>NaT</td>\n",
       "      <td>2020.0</td>\n",
       "      <td>1.930611e+09</td>\n",
       "      <td>2020-03-11</td>\n",
       "      <td>2020-03-26</td>\n",
       "      <td>2020-03-11</td>\n",
       "      <td>NAA8</td>\n",
       "      <td>3525.5900</td>\n",
       "      <td>-137602.812500</td>\n",
       "    </tr>\n",
       "    <tr>\n",
       "      <th>2</th>\n",
       "      <td>12</td>\n",
       "      <td>U001</td>\n",
       "      <td>0200739534</td>\n",
       "      <td>OK systems</td>\n",
       "      <td>NaT</td>\n",
       "      <td>2020.0</td>\n",
       "      <td>1.930788e+09</td>\n",
       "      <td>2020-04-15</td>\n",
       "      <td>2020-04-30</td>\n",
       "      <td>2020-04-15</td>\n",
       "      <td>NAA8</td>\n",
       "      <td>121105.6500</td>\n",
       "      <td>-583542.000000</td>\n",
       "    </tr>\n",
       "    <tr>\n",
       "      <th>3</th>\n",
       "      <td>13</td>\n",
       "      <td>U001</td>\n",
       "      <td>0200353024</td>\n",
       "      <td>DECA corporation</td>\n",
       "      <td>NaT</td>\n",
       "      <td>2020.0</td>\n",
       "      <td>1.930817e+09</td>\n",
       "      <td>2020-04-23</td>\n",
       "      <td>2020-04-26</td>\n",
       "      <td>2020-04-16</td>\n",
       "      <td>NAM2</td>\n",
       "      <td>3726.0600</td>\n",
       "      <td>-410204.625000</td>\n",
       "    </tr>\n",
       "    <tr>\n",
       "      <th>4</th>\n",
       "      <td>20</td>\n",
       "      <td>U001</td>\n",
       "      <td>0200744019</td>\n",
       "      <td>TARG associates</td>\n",
       "      <td>NaT</td>\n",
       "      <td>2020.0</td>\n",
       "      <td>1.930676e+09</td>\n",
       "      <td>2020-03-21</td>\n",
       "      <td>2020-04-05</td>\n",
       "      <td>2020-03-21</td>\n",
       "      <td>NAA8</td>\n",
       "      <td>5893.0100</td>\n",
       "      <td>19451.865234</td>\n",
       "    </tr>\n",
       "    <tr>\n",
       "      <th>...</th>\n",
       "      <td>...</td>\n",
       "      <td>...</td>\n",
       "      <td>...</td>\n",
       "      <td>...</td>\n",
       "      <td>...</td>\n",
       "      <td>...</td>\n",
       "      <td>...</td>\n",
       "      <td>...</td>\n",
       "      <td>...</td>\n",
       "      <td>...</td>\n",
       "      <td>...</td>\n",
       "      <td>...</td>\n",
       "      <td>...</td>\n",
       "    </tr>\n",
       "    <tr>\n",
       "      <th>9676</th>\n",
       "      <td>48809</td>\n",
       "      <td>CA02</td>\n",
       "      <td>0140104440</td>\n",
       "      <td>SO corporation</td>\n",
       "      <td>NaT</td>\n",
       "      <td>2020.0</td>\n",
       "      <td>2.960622e+09</td>\n",
       "      <td>2020-03-16</td>\n",
       "      <td>2020-03-28</td>\n",
       "      <td>2020-03-18</td>\n",
       "      <td>CA10</td>\n",
       "      <td>47983.1543</td>\n",
       "      <td>351083.500000</td>\n",
       "    </tr>\n",
       "    <tr>\n",
       "      <th>9677</th>\n",
       "      <td>48830</td>\n",
       "      <td>CA02</td>\n",
       "      <td>0140104472</td>\n",
       "      <td>MARTIN llc</td>\n",
       "      <td>NaT</td>\n",
       "      <td>2020.0</td>\n",
       "      <td>2.960618e+09</td>\n",
       "      <td>2020-03-04</td>\n",
       "      <td>2020-03-16</td>\n",
       "      <td>2020-03-06</td>\n",
       "      <td>CA10</td>\n",
       "      <td>23868.2700</td>\n",
       "      <td>47019.328125</td>\n",
       "    </tr>\n",
       "    <tr>\n",
       "      <th>9678</th>\n",
       "      <td>48833</td>\n",
       "      <td>CA02</td>\n",
       "      <td>140106408</td>\n",
       "      <td>WAL-M associates</td>\n",
       "      <td>NaT</td>\n",
       "      <td>2020.0</td>\n",
       "      <td>2.960628e+09</td>\n",
       "      <td>2020-04-12</td>\n",
       "      <td>2020-04-22</td>\n",
       "      <td>2020-04-12</td>\n",
       "      <td>CA10</td>\n",
       "      <td>6746.9002</td>\n",
       "      <td>818752.312500</td>\n",
       "    </tr>\n",
       "    <tr>\n",
       "      <th>9679</th>\n",
       "      <td>48834</td>\n",
       "      <td>CA02</td>\n",
       "      <td>0140104472</td>\n",
       "      <td>MARTIN associates</td>\n",
       "      <td>NaT</td>\n",
       "      <td>2020.0</td>\n",
       "      <td>2.960628e+09</td>\n",
       "      <td>2020-04-17</td>\n",
       "      <td>2020-05-02</td>\n",
       "      <td>2020-04-22</td>\n",
       "      <td>CA10</td>\n",
       "      <td>1301.4144</td>\n",
       "      <td>83914.140625</td>\n",
       "    </tr>\n",
       "    <tr>\n",
       "      <th>9680</th>\n",
       "      <td>48837</td>\n",
       "      <td>CA02</td>\n",
       "      <td>0140104409</td>\n",
       "      <td>LOB co</td>\n",
       "      <td>NaT</td>\n",
       "      <td>2020.0</td>\n",
       "      <td>2.960631e+09</td>\n",
       "      <td>2020-04-25</td>\n",
       "      <td>2020-05-15</td>\n",
       "      <td>2020-05-05</td>\n",
       "      <td>CA10</td>\n",
       "      <td>73775.5799</td>\n",
       "      <td>-100495.562500</td>\n",
       "    </tr>\n",
       "  </tbody>\n",
       "</table>\n",
       "<p>9681 rows × 13 columns</p>\n",
       "</div>"
      ],
      "text/plain": [
       "      key_0 business_code cust_number      name_customer clear_date  \\\n",
       "0         5          U001  0200744019            TARG us        NaT   \n",
       "1         8          U001  0200418007                AM         NaT   \n",
       "2        12          U001  0200739534         OK systems        NaT   \n",
       "3        13          U001  0200353024   DECA corporation        NaT   \n",
       "4        20          U001  0200744019    TARG associates        NaT   \n",
       "...     ...           ...         ...                ...        ...   \n",
       "9676  48809          CA02  0140104440     SO corporation        NaT   \n",
       "9677  48830          CA02  0140104472         MARTIN llc        NaT   \n",
       "9678  48833          CA02   140106408   WAL-M associates        NaT   \n",
       "9679  48834          CA02  0140104472  MARTIN associates        NaT   \n",
       "9680  48837          CA02  0140104409             LOB co        NaT   \n",
       "\n",
       "      buisness_year        doc_id posting_date due_in_date  \\\n",
       "0            2020.0  1.930659e+09   2020-03-19  2020-04-03   \n",
       "1            2020.0  1.930611e+09   2020-03-11  2020-03-26   \n",
       "2            2020.0  1.930788e+09   2020-04-15  2020-04-30   \n",
       "3            2020.0  1.930817e+09   2020-04-23  2020-04-26   \n",
       "4            2020.0  1.930676e+09   2020-03-21  2020-04-05   \n",
       "...             ...           ...          ...         ...   \n",
       "9676         2020.0  2.960622e+09   2020-03-16  2020-03-28   \n",
       "9677         2020.0  2.960618e+09   2020-03-04  2020-03-16   \n",
       "9678         2020.0  2.960628e+09   2020-04-12  2020-04-22   \n",
       "9679         2020.0  2.960628e+09   2020-04-17  2020-05-02   \n",
       "9680         2020.0  2.960631e+09   2020-04-25  2020-05-15   \n",
       "\n",
       "     baseline_create_date cust_payment_terms  converted_usd      avg_delay  \n",
       "0              2020-03-19               NAA8     11173.0200   25023.787109  \n",
       "1              2020-03-11               NAA8      3525.5900 -137602.812500  \n",
       "2              2020-04-15               NAA8    121105.6500 -583542.000000  \n",
       "3              2020-04-16               NAM2      3726.0600 -410204.625000  \n",
       "4              2020-03-21               NAA8      5893.0100   19451.865234  \n",
       "...                   ...                ...            ...            ...  \n",
       "9676           2020-03-18               CA10     47983.1543  351083.500000  \n",
       "9677           2020-03-06               CA10     23868.2700   47019.328125  \n",
       "9678           2020-04-12               CA10      6746.9002  818752.312500  \n",
       "9679           2020-04-22               CA10      1301.4144   83914.140625  \n",
       "9680           2020-05-05               CA10     73775.5799 -100495.562500  \n",
       "\n",
       "[9681 rows x 13 columns]"
      ]
     },
     "execution_count": 155,
     "metadata": {},
     "output_type": "execute_result"
    }
   ],
   "source": [
    "Final"
   ]
  },
  {
   "cell_type": "code",
   "execution_count": 156,
   "id": "2618bca2",
   "metadata": {},
   "outputs": [
    {
     "name": "stdout",
     "output_type": "stream",
     "text": [
      "<class 'pandas.core.frame.DataFrame'>\n",
      "Int64Index: 9681 entries, 0 to 9680\n",
      "Data columns (total 13 columns):\n",
      " #   Column                Non-Null Count  Dtype         \n",
      "---  ------                --------------  -----         \n",
      " 0   key_0                 9681 non-null   int64         \n",
      " 1   business_code         9681 non-null   object        \n",
      " 2   cust_number           9681 non-null   object        \n",
      " 3   name_customer         9681 non-null   object        \n",
      " 4   clear_date            0 non-null      datetime64[ns]\n",
      " 5   buisness_year         9681 non-null   float64       \n",
      " 6   doc_id                9681 non-null   float64       \n",
      " 7   posting_date          9681 non-null   datetime64[ns]\n",
      " 8   due_in_date           9681 non-null   datetime64[ns]\n",
      " 9   baseline_create_date  9681 non-null   datetime64[ns]\n",
      " 10  cust_payment_terms    9681 non-null   object        \n",
      " 11  converted_usd         9681 non-null   float64       \n",
      " 12  avg_delay             9681 non-null   float32       \n",
      "dtypes: datetime64[ns](4), float32(1), float64(3), int64(1), object(4)\n",
      "memory usage: 1021.0+ KB\n"
     ]
    }
   ],
   "source": [
    "Final.info()"
   ]
  },
  {
   "cell_type": "markdown",
   "id": "4sc27Uz-y-0O",
   "metadata": {
    "id": "4sc27Uz-y-0O"
   },
   "source": [
    "### Check for the Number of Rows and Columns in your \"Final\" dataframe "
   ]
  },
  {
   "cell_type": "code",
   "execution_count": 157,
   "id": "5iUXOIhzy_HR",
   "metadata": {
    "id": "5iUXOIhzy_HR"
   },
   "outputs": [
    {
     "data": {
      "text/plain": [
       "(9681, 13)"
      ]
     },
     "execution_count": 157,
     "metadata": {},
     "output_type": "execute_result"
    }
   ],
   "source": [
    "Final.shape"
   ]
  },
  {
   "cell_type": "markdown",
   "id": "48886d2c",
   "metadata": {
    "id": "48886d2c"
   },
   "source": [
    "### Now, you need to do convert the below fields back into date and time format \n",
    "\n",
    "- Convert \"due_in_date\" into datetime format\n",
    "- Convert \"avg_delay\" into datetime format\n",
    "- Create a new column \"clear_date\" and store the sum of \"due_in_date\" and \"avg_delay\"\n",
    "- display the new \"clear_date\" column\n",
    "- Note - Code is given below, no need to change "
   ]
  },
  {
   "cell_type": "code",
   "execution_count": 158,
   "id": "243abc2d",
   "metadata": {
    "id": "243abc2d"
   },
   "outputs": [],
   "source": [
    "Final['clear_date'] = pd.to_datetime(Final['due_in_date']) + pd.to_timedelta(Final['avg_delay'], unit='s')"
   ]
  },
  {
   "cell_type": "markdown",
   "id": "9QcX_fAjIkYR",
   "metadata": {
    "id": "9QcX_fAjIkYR"
   },
   "source": [
    "### Display the \"clear_date\" column"
   ]
  },
  {
   "cell_type": "code",
   "execution_count": 159,
   "id": "740e1486",
   "metadata": {
    "id": "740e1486"
   },
   "outputs": [
    {
     "data": {
      "text/html": [
       "<div>\n",
       "<style scoped>\n",
       "    .dataframe tbody tr th:only-of-type {\n",
       "        vertical-align: middle;\n",
       "    }\n",
       "\n",
       "    .dataframe tbody tr th {\n",
       "        vertical-align: top;\n",
       "    }\n",
       "\n",
       "    .dataframe thead th {\n",
       "        text-align: right;\n",
       "    }\n",
       "</style>\n",
       "<table border=\"1\" class=\"dataframe\">\n",
       "  <thead>\n",
       "    <tr style=\"text-align: right;\">\n",
       "      <th></th>\n",
       "      <th>clear_date</th>\n",
       "    </tr>\n",
       "  </thead>\n",
       "  <tbody>\n",
       "    <tr>\n",
       "      <th>0</th>\n",
       "      <td>2020-04-03 06:57:03.787109375</td>\n",
       "    </tr>\n",
       "    <tr>\n",
       "      <th>1</th>\n",
       "      <td>2020-03-24 09:46:37.187500000</td>\n",
       "    </tr>\n",
       "    <tr>\n",
       "      <th>2</th>\n",
       "      <td>2020-04-23 05:54:18.000000000</td>\n",
       "    </tr>\n",
       "    <tr>\n",
       "      <th>3</th>\n",
       "      <td>2020-04-21 06:03:15.375000000</td>\n",
       "    </tr>\n",
       "    <tr>\n",
       "      <th>4</th>\n",
       "      <td>2020-04-05 05:24:11.865234375</td>\n",
       "    </tr>\n",
       "    <tr>\n",
       "      <th>...</th>\n",
       "      <td>...</td>\n",
       "    </tr>\n",
       "    <tr>\n",
       "      <th>9676</th>\n",
       "      <td>2020-04-01 01:31:23.500000000</td>\n",
       "    </tr>\n",
       "    <tr>\n",
       "      <th>9677</th>\n",
       "      <td>2020-03-16 13:03:39.328125000</td>\n",
       "    </tr>\n",
       "    <tr>\n",
       "      <th>9678</th>\n",
       "      <td>2020-05-01 11:25:52.312500000</td>\n",
       "    </tr>\n",
       "    <tr>\n",
       "      <th>9679</th>\n",
       "      <td>2020-05-02 23:18:34.140625000</td>\n",
       "    </tr>\n",
       "    <tr>\n",
       "      <th>9680</th>\n",
       "      <td>2020-05-13 20:05:04.437500000</td>\n",
       "    </tr>\n",
       "  </tbody>\n",
       "</table>\n",
       "<p>9681 rows × 1 columns</p>\n",
       "</div>"
      ],
      "text/plain": [
       "                        clear_date\n",
       "0    2020-04-03 06:57:03.787109375\n",
       "1    2020-03-24 09:46:37.187500000\n",
       "2    2020-04-23 05:54:18.000000000\n",
       "3    2020-04-21 06:03:15.375000000\n",
       "4    2020-04-05 05:24:11.865234375\n",
       "...                            ...\n",
       "9676 2020-04-01 01:31:23.500000000\n",
       "9677 2020-03-16 13:03:39.328125000\n",
       "9678 2020-05-01 11:25:52.312500000\n",
       "9679 2020-05-02 23:18:34.140625000\n",
       "9680 2020-05-13 20:05:04.437500000\n",
       "\n",
       "[9681 rows x 1 columns]"
      ]
     },
     "execution_count": 159,
     "metadata": {},
     "output_type": "execute_result"
    }
   ],
   "source": [
    "Final[['clear_date']]"
   ]
  },
  {
   "cell_type": "markdown",
   "id": "MSkNLq6-z7rZ",
   "metadata": {
    "id": "MSkNLq6-z7rZ"
   },
   "source": [
    "### Convert the average delay into number of days format \n",
    "\n",
    "- Note - Formula = avg_delay//(24 * 3600)\n",
    "- Note - full code is given for this, no need to change "
   ]
  },
  {
   "cell_type": "code",
   "execution_count": 160,
   "id": "ce6b618a",
   "metadata": {
    "id": "ce6b618a"
   },
   "outputs": [],
   "source": [
    "Final['avg_delay'] = Final.apply(lambda row: row.avg_delay//(24 * 3600), axis = 1)"
   ]
  },
  {
   "cell_type": "markdown",
   "id": "wbBBZPjP0W7o",
   "metadata": {
    "id": "wbBBZPjP0W7o"
   },
   "source": [
    "### Display the \"avg_delay\" column "
   ]
  },
  {
   "cell_type": "code",
   "execution_count": 161,
   "id": "a494982f",
   "metadata": {
    "id": "a494982f",
    "scrolled": true
   },
   "outputs": [
    {
     "data": {
      "text/html": [
       "<div>\n",
       "<style scoped>\n",
       "    .dataframe tbody tr th:only-of-type {\n",
       "        vertical-align: middle;\n",
       "    }\n",
       "\n",
       "    .dataframe tbody tr th {\n",
       "        vertical-align: top;\n",
       "    }\n",
       "\n",
       "    .dataframe thead th {\n",
       "        text-align: right;\n",
       "    }\n",
       "</style>\n",
       "<table border=\"1\" class=\"dataframe\">\n",
       "  <thead>\n",
       "    <tr style=\"text-align: right;\">\n",
       "      <th></th>\n",
       "      <th>avg_delay</th>\n",
       "    </tr>\n",
       "  </thead>\n",
       "  <tbody>\n",
       "    <tr>\n",
       "      <th>0</th>\n",
       "      <td>0.0</td>\n",
       "    </tr>\n",
       "    <tr>\n",
       "      <th>1</th>\n",
       "      <td>-2.0</td>\n",
       "    </tr>\n",
       "    <tr>\n",
       "      <th>2</th>\n",
       "      <td>-7.0</td>\n",
       "    </tr>\n",
       "    <tr>\n",
       "      <th>3</th>\n",
       "      <td>-5.0</td>\n",
       "    </tr>\n",
       "    <tr>\n",
       "      <th>4</th>\n",
       "      <td>0.0</td>\n",
       "    </tr>\n",
       "    <tr>\n",
       "      <th>...</th>\n",
       "      <td>...</td>\n",
       "    </tr>\n",
       "    <tr>\n",
       "      <th>9676</th>\n",
       "      <td>4.0</td>\n",
       "    </tr>\n",
       "    <tr>\n",
       "      <th>9677</th>\n",
       "      <td>0.0</td>\n",
       "    </tr>\n",
       "    <tr>\n",
       "      <th>9678</th>\n",
       "      <td>9.0</td>\n",
       "    </tr>\n",
       "    <tr>\n",
       "      <th>9679</th>\n",
       "      <td>0.0</td>\n",
       "    </tr>\n",
       "    <tr>\n",
       "      <th>9680</th>\n",
       "      <td>-2.0</td>\n",
       "    </tr>\n",
       "  </tbody>\n",
       "</table>\n",
       "<p>9681 rows × 1 columns</p>\n",
       "</div>"
      ],
      "text/plain": [
       "      avg_delay\n",
       "0           0.0\n",
       "1          -2.0\n",
       "2          -7.0\n",
       "3          -5.0\n",
       "4           0.0\n",
       "...         ...\n",
       "9676        4.0\n",
       "9677        0.0\n",
       "9678        9.0\n",
       "9679        0.0\n",
       "9680       -2.0\n",
       "\n",
       "[9681 rows x 1 columns]"
      ]
     },
     "execution_count": 161,
     "metadata": {},
     "output_type": "execute_result"
    }
   ],
   "source": [
    "Final[['avg_delay']]"
   ]
  },
  {
   "cell_type": "code",
   "execution_count": 162,
   "id": "b11fcd93",
   "metadata": {},
   "outputs": [
    {
     "data": {
      "text/html": [
       "<div>\n",
       "<style scoped>\n",
       "    .dataframe tbody tr th:only-of-type {\n",
       "        vertical-align: middle;\n",
       "    }\n",
       "\n",
       "    .dataframe tbody tr th {\n",
       "        vertical-align: top;\n",
       "    }\n",
       "\n",
       "    .dataframe thead th {\n",
       "        text-align: right;\n",
       "    }\n",
       "</style>\n",
       "<table border=\"1\" class=\"dataframe\">\n",
       "  <thead>\n",
       "    <tr style=\"text-align: right;\">\n",
       "      <th></th>\n",
       "      <th>key_0</th>\n",
       "      <th>business_code</th>\n",
       "      <th>cust_number</th>\n",
       "      <th>name_customer</th>\n",
       "      <th>clear_date</th>\n",
       "      <th>buisness_year</th>\n",
       "      <th>doc_id</th>\n",
       "      <th>posting_date</th>\n",
       "      <th>due_in_date</th>\n",
       "      <th>baseline_create_date</th>\n",
       "      <th>cust_payment_terms</th>\n",
       "      <th>converted_usd</th>\n",
       "      <th>avg_delay</th>\n",
       "    </tr>\n",
       "  </thead>\n",
       "  <tbody>\n",
       "    <tr>\n",
       "      <th>0</th>\n",
       "      <td>5</td>\n",
       "      <td>U001</td>\n",
       "      <td>0200744019</td>\n",
       "      <td>TARG us</td>\n",
       "      <td>2020-04-03 06:57:03.787109375</td>\n",
       "      <td>2020.0</td>\n",
       "      <td>1.930659e+09</td>\n",
       "      <td>2020-03-19</td>\n",
       "      <td>2020-04-03</td>\n",
       "      <td>2020-03-19</td>\n",
       "      <td>NAA8</td>\n",
       "      <td>11173.0200</td>\n",
       "      <td>0.0</td>\n",
       "    </tr>\n",
       "    <tr>\n",
       "      <th>1</th>\n",
       "      <td>8</td>\n",
       "      <td>U001</td>\n",
       "      <td>0200418007</td>\n",
       "      <td>AM</td>\n",
       "      <td>2020-03-24 09:46:37.187500000</td>\n",
       "      <td>2020.0</td>\n",
       "      <td>1.930611e+09</td>\n",
       "      <td>2020-03-11</td>\n",
       "      <td>2020-03-26</td>\n",
       "      <td>2020-03-11</td>\n",
       "      <td>NAA8</td>\n",
       "      <td>3525.5900</td>\n",
       "      <td>-2.0</td>\n",
       "    </tr>\n",
       "    <tr>\n",
       "      <th>2</th>\n",
       "      <td>12</td>\n",
       "      <td>U001</td>\n",
       "      <td>0200739534</td>\n",
       "      <td>OK systems</td>\n",
       "      <td>2020-04-23 05:54:18.000000000</td>\n",
       "      <td>2020.0</td>\n",
       "      <td>1.930788e+09</td>\n",
       "      <td>2020-04-15</td>\n",
       "      <td>2020-04-30</td>\n",
       "      <td>2020-04-15</td>\n",
       "      <td>NAA8</td>\n",
       "      <td>121105.6500</td>\n",
       "      <td>-7.0</td>\n",
       "    </tr>\n",
       "    <tr>\n",
       "      <th>3</th>\n",
       "      <td>13</td>\n",
       "      <td>U001</td>\n",
       "      <td>0200353024</td>\n",
       "      <td>DECA corporation</td>\n",
       "      <td>2020-04-21 06:03:15.375000000</td>\n",
       "      <td>2020.0</td>\n",
       "      <td>1.930817e+09</td>\n",
       "      <td>2020-04-23</td>\n",
       "      <td>2020-04-26</td>\n",
       "      <td>2020-04-16</td>\n",
       "      <td>NAM2</td>\n",
       "      <td>3726.0600</td>\n",
       "      <td>-5.0</td>\n",
       "    </tr>\n",
       "    <tr>\n",
       "      <th>4</th>\n",
       "      <td>20</td>\n",
       "      <td>U001</td>\n",
       "      <td>0200744019</td>\n",
       "      <td>TARG associates</td>\n",
       "      <td>2020-04-05 05:24:11.865234375</td>\n",
       "      <td>2020.0</td>\n",
       "      <td>1.930676e+09</td>\n",
       "      <td>2020-03-21</td>\n",
       "      <td>2020-04-05</td>\n",
       "      <td>2020-03-21</td>\n",
       "      <td>NAA8</td>\n",
       "      <td>5893.0100</td>\n",
       "      <td>0.0</td>\n",
       "    </tr>\n",
       "    <tr>\n",
       "      <th>...</th>\n",
       "      <td>...</td>\n",
       "      <td>...</td>\n",
       "      <td>...</td>\n",
       "      <td>...</td>\n",
       "      <td>...</td>\n",
       "      <td>...</td>\n",
       "      <td>...</td>\n",
       "      <td>...</td>\n",
       "      <td>...</td>\n",
       "      <td>...</td>\n",
       "      <td>...</td>\n",
       "      <td>...</td>\n",
       "      <td>...</td>\n",
       "    </tr>\n",
       "    <tr>\n",
       "      <th>9676</th>\n",
       "      <td>48809</td>\n",
       "      <td>CA02</td>\n",
       "      <td>0140104440</td>\n",
       "      <td>SO corporation</td>\n",
       "      <td>2020-04-01 01:31:23.500000000</td>\n",
       "      <td>2020.0</td>\n",
       "      <td>2.960622e+09</td>\n",
       "      <td>2020-03-16</td>\n",
       "      <td>2020-03-28</td>\n",
       "      <td>2020-03-18</td>\n",
       "      <td>CA10</td>\n",
       "      <td>47983.1543</td>\n",
       "      <td>4.0</td>\n",
       "    </tr>\n",
       "    <tr>\n",
       "      <th>9677</th>\n",
       "      <td>48830</td>\n",
       "      <td>CA02</td>\n",
       "      <td>0140104472</td>\n",
       "      <td>MARTIN llc</td>\n",
       "      <td>2020-03-16 13:03:39.328125000</td>\n",
       "      <td>2020.0</td>\n",
       "      <td>2.960618e+09</td>\n",
       "      <td>2020-03-04</td>\n",
       "      <td>2020-03-16</td>\n",
       "      <td>2020-03-06</td>\n",
       "      <td>CA10</td>\n",
       "      <td>23868.2700</td>\n",
       "      <td>0.0</td>\n",
       "    </tr>\n",
       "    <tr>\n",
       "      <th>9678</th>\n",
       "      <td>48833</td>\n",
       "      <td>CA02</td>\n",
       "      <td>140106408</td>\n",
       "      <td>WAL-M associates</td>\n",
       "      <td>2020-05-01 11:25:52.312500000</td>\n",
       "      <td>2020.0</td>\n",
       "      <td>2.960628e+09</td>\n",
       "      <td>2020-04-12</td>\n",
       "      <td>2020-04-22</td>\n",
       "      <td>2020-04-12</td>\n",
       "      <td>CA10</td>\n",
       "      <td>6746.9002</td>\n",
       "      <td>9.0</td>\n",
       "    </tr>\n",
       "    <tr>\n",
       "      <th>9679</th>\n",
       "      <td>48834</td>\n",
       "      <td>CA02</td>\n",
       "      <td>0140104472</td>\n",
       "      <td>MARTIN associates</td>\n",
       "      <td>2020-05-02 23:18:34.140625000</td>\n",
       "      <td>2020.0</td>\n",
       "      <td>2.960628e+09</td>\n",
       "      <td>2020-04-17</td>\n",
       "      <td>2020-05-02</td>\n",
       "      <td>2020-04-22</td>\n",
       "      <td>CA10</td>\n",
       "      <td>1301.4144</td>\n",
       "      <td>0.0</td>\n",
       "    </tr>\n",
       "    <tr>\n",
       "      <th>9680</th>\n",
       "      <td>48837</td>\n",
       "      <td>CA02</td>\n",
       "      <td>0140104409</td>\n",
       "      <td>LOB co</td>\n",
       "      <td>2020-05-13 20:05:04.437500000</td>\n",
       "      <td>2020.0</td>\n",
       "      <td>2.960631e+09</td>\n",
       "      <td>2020-04-25</td>\n",
       "      <td>2020-05-15</td>\n",
       "      <td>2020-05-05</td>\n",
       "      <td>CA10</td>\n",
       "      <td>73775.5799</td>\n",
       "      <td>-2.0</td>\n",
       "    </tr>\n",
       "  </tbody>\n",
       "</table>\n",
       "<p>9681 rows × 13 columns</p>\n",
       "</div>"
      ],
      "text/plain": [
       "      key_0 business_code cust_number      name_customer  \\\n",
       "0         5          U001  0200744019            TARG us   \n",
       "1         8          U001  0200418007                AM    \n",
       "2        12          U001  0200739534         OK systems   \n",
       "3        13          U001  0200353024   DECA corporation   \n",
       "4        20          U001  0200744019    TARG associates   \n",
       "...     ...           ...         ...                ...   \n",
       "9676  48809          CA02  0140104440     SO corporation   \n",
       "9677  48830          CA02  0140104472         MARTIN llc   \n",
       "9678  48833          CA02   140106408   WAL-M associates   \n",
       "9679  48834          CA02  0140104472  MARTIN associates   \n",
       "9680  48837          CA02  0140104409             LOB co   \n",
       "\n",
       "                        clear_date  buisness_year        doc_id posting_date  \\\n",
       "0    2020-04-03 06:57:03.787109375         2020.0  1.930659e+09   2020-03-19   \n",
       "1    2020-03-24 09:46:37.187500000         2020.0  1.930611e+09   2020-03-11   \n",
       "2    2020-04-23 05:54:18.000000000         2020.0  1.930788e+09   2020-04-15   \n",
       "3    2020-04-21 06:03:15.375000000         2020.0  1.930817e+09   2020-04-23   \n",
       "4    2020-04-05 05:24:11.865234375         2020.0  1.930676e+09   2020-03-21   \n",
       "...                            ...            ...           ...          ...   \n",
       "9676 2020-04-01 01:31:23.500000000         2020.0  2.960622e+09   2020-03-16   \n",
       "9677 2020-03-16 13:03:39.328125000         2020.0  2.960618e+09   2020-03-04   \n",
       "9678 2020-05-01 11:25:52.312500000         2020.0  2.960628e+09   2020-04-12   \n",
       "9679 2020-05-02 23:18:34.140625000         2020.0  2.960628e+09   2020-04-17   \n",
       "9680 2020-05-13 20:05:04.437500000         2020.0  2.960631e+09   2020-04-25   \n",
       "\n",
       "     due_in_date baseline_create_date cust_payment_terms  converted_usd  \\\n",
       "0     2020-04-03           2020-03-19               NAA8     11173.0200   \n",
       "1     2020-03-26           2020-03-11               NAA8      3525.5900   \n",
       "2     2020-04-30           2020-04-15               NAA8    121105.6500   \n",
       "3     2020-04-26           2020-04-16               NAM2      3726.0600   \n",
       "4     2020-04-05           2020-03-21               NAA8      5893.0100   \n",
       "...          ...                  ...                ...            ...   \n",
       "9676  2020-03-28           2020-03-18               CA10     47983.1543   \n",
       "9677  2020-03-16           2020-03-06               CA10     23868.2700   \n",
       "9678  2020-04-22           2020-04-12               CA10      6746.9002   \n",
       "9679  2020-05-02           2020-04-22               CA10      1301.4144   \n",
       "9680  2020-05-15           2020-05-05               CA10     73775.5799   \n",
       "\n",
       "      avg_delay  \n",
       "0           0.0  \n",
       "1          -2.0  \n",
       "2          -7.0  \n",
       "3          -5.0  \n",
       "4           0.0  \n",
       "...         ...  \n",
       "9676        4.0  \n",
       "9677        0.0  \n",
       "9678        9.0  \n",
       "9679        0.0  \n",
       "9680       -2.0  \n",
       "\n",
       "[9681 rows x 13 columns]"
      ]
     },
     "execution_count": 162,
     "metadata": {},
     "output_type": "execute_result"
    }
   ],
   "source": [
    "Final"
   ]
  },
  {
   "cell_type": "markdown",
   "id": "815d8811",
   "metadata": {
    "id": "815d8811"
   },
   "source": [
    "### Now you need to convert average delay column into bucket\n",
    "\n",
    "- Need to perform binning \n",
    "- create a list of bins i.e. bins= [0,15,30,45,60,100]\n",
    "- create a list of labels i.e. labels = ['0-15','16-30','31-45','46-60','Greatar than 60']\n",
    "- perform binning by using cut() function from \"Final\" dataframe\n",
    "\n",
    "\n",
    "- Please fill up the first two rows of the code"
   ]
  },
  {
   "cell_type": "code",
   "execution_count": 163,
   "id": "c797e4b5",
   "metadata": {
    "id": "c797e4b5"
   },
   "outputs": [],
   "source": [
    "\n",
    "# bins= [0,15,30,45,60,100]\n",
    "# labels = ['0','0-15','16-30','31-45','46-60','Greatar than 60']\n",
    "# Final['Aging Bucket'] = pd.cut(Final['avg_delay'], bins=bins, labels=labels, right=False)\n",
    "def bucketizzation(x):\n",
    "    if x<0:\n",
    "        return('0')\n",
    "    elif x in range(0,16):\n",
    "        return('0-15')\n",
    "    elif x in range(16,31):\n",
    "        return('16-30')\n",
    "    elif x in range(31,45):\n",
    "        return('31-45')\n",
    "    elif x in range(45,60):\n",
    "        return('45-60')\n",
    "    else:\n",
    "        return('Greater than 60')\n",
    "Final['Aging Bucket']=pd.Series([bucketizzation(x=Final['avg_delay'][i]) for i in range(len(Final))])"
   ]
  },
  {
   "cell_type": "code",
   "execution_count": 164,
   "id": "ca01cd75",
   "metadata": {},
   "outputs": [
    {
     "data": {
      "text/html": [
       "<div>\n",
       "<style scoped>\n",
       "    .dataframe tbody tr th:only-of-type {\n",
       "        vertical-align: middle;\n",
       "    }\n",
       "\n",
       "    .dataframe tbody tr th {\n",
       "        vertical-align: top;\n",
       "    }\n",
       "\n",
       "    .dataframe thead th {\n",
       "        text-align: right;\n",
       "    }\n",
       "</style>\n",
       "<table border=\"1\" class=\"dataframe\">\n",
       "  <thead>\n",
       "    <tr style=\"text-align: right;\">\n",
       "      <th></th>\n",
       "      <th>key_0</th>\n",
       "      <th>business_code</th>\n",
       "      <th>cust_number</th>\n",
       "      <th>name_customer</th>\n",
       "      <th>clear_date</th>\n",
       "      <th>buisness_year</th>\n",
       "      <th>doc_id</th>\n",
       "      <th>posting_date</th>\n",
       "      <th>due_in_date</th>\n",
       "      <th>baseline_create_date</th>\n",
       "      <th>cust_payment_terms</th>\n",
       "      <th>converted_usd</th>\n",
       "      <th>avg_delay</th>\n",
       "      <th>Aging Bucket</th>\n",
       "    </tr>\n",
       "  </thead>\n",
       "  <tbody>\n",
       "    <tr>\n",
       "      <th>0</th>\n",
       "      <td>5</td>\n",
       "      <td>U001</td>\n",
       "      <td>0200744019</td>\n",
       "      <td>TARG us</td>\n",
       "      <td>2020-04-03 06:57:03.787109375</td>\n",
       "      <td>2020.0</td>\n",
       "      <td>1.930659e+09</td>\n",
       "      <td>2020-03-19</td>\n",
       "      <td>2020-04-03</td>\n",
       "      <td>2020-03-19</td>\n",
       "      <td>NAA8</td>\n",
       "      <td>11173.0200</td>\n",
       "      <td>0.0</td>\n",
       "      <td>0-15</td>\n",
       "    </tr>\n",
       "    <tr>\n",
       "      <th>1</th>\n",
       "      <td>8</td>\n",
       "      <td>U001</td>\n",
       "      <td>0200418007</td>\n",
       "      <td>AM</td>\n",
       "      <td>2020-03-24 09:46:37.187500000</td>\n",
       "      <td>2020.0</td>\n",
       "      <td>1.930611e+09</td>\n",
       "      <td>2020-03-11</td>\n",
       "      <td>2020-03-26</td>\n",
       "      <td>2020-03-11</td>\n",
       "      <td>NAA8</td>\n",
       "      <td>3525.5900</td>\n",
       "      <td>-2.0</td>\n",
       "      <td>0</td>\n",
       "    </tr>\n",
       "    <tr>\n",
       "      <th>2</th>\n",
       "      <td>12</td>\n",
       "      <td>U001</td>\n",
       "      <td>0200739534</td>\n",
       "      <td>OK systems</td>\n",
       "      <td>2020-04-23 05:54:18.000000000</td>\n",
       "      <td>2020.0</td>\n",
       "      <td>1.930788e+09</td>\n",
       "      <td>2020-04-15</td>\n",
       "      <td>2020-04-30</td>\n",
       "      <td>2020-04-15</td>\n",
       "      <td>NAA8</td>\n",
       "      <td>121105.6500</td>\n",
       "      <td>-7.0</td>\n",
       "      <td>0</td>\n",
       "    </tr>\n",
       "    <tr>\n",
       "      <th>3</th>\n",
       "      <td>13</td>\n",
       "      <td>U001</td>\n",
       "      <td>0200353024</td>\n",
       "      <td>DECA corporation</td>\n",
       "      <td>2020-04-21 06:03:15.375000000</td>\n",
       "      <td>2020.0</td>\n",
       "      <td>1.930817e+09</td>\n",
       "      <td>2020-04-23</td>\n",
       "      <td>2020-04-26</td>\n",
       "      <td>2020-04-16</td>\n",
       "      <td>NAM2</td>\n",
       "      <td>3726.0600</td>\n",
       "      <td>-5.0</td>\n",
       "      <td>0</td>\n",
       "    </tr>\n",
       "    <tr>\n",
       "      <th>4</th>\n",
       "      <td>20</td>\n",
       "      <td>U001</td>\n",
       "      <td>0200744019</td>\n",
       "      <td>TARG associates</td>\n",
       "      <td>2020-04-05 05:24:11.865234375</td>\n",
       "      <td>2020.0</td>\n",
       "      <td>1.930676e+09</td>\n",
       "      <td>2020-03-21</td>\n",
       "      <td>2020-04-05</td>\n",
       "      <td>2020-03-21</td>\n",
       "      <td>NAA8</td>\n",
       "      <td>5893.0100</td>\n",
       "      <td>0.0</td>\n",
       "      <td>0-15</td>\n",
       "    </tr>\n",
       "    <tr>\n",
       "      <th>...</th>\n",
       "      <td>...</td>\n",
       "      <td>...</td>\n",
       "      <td>...</td>\n",
       "      <td>...</td>\n",
       "      <td>...</td>\n",
       "      <td>...</td>\n",
       "      <td>...</td>\n",
       "      <td>...</td>\n",
       "      <td>...</td>\n",
       "      <td>...</td>\n",
       "      <td>...</td>\n",
       "      <td>...</td>\n",
       "      <td>...</td>\n",
       "      <td>...</td>\n",
       "    </tr>\n",
       "    <tr>\n",
       "      <th>9676</th>\n",
       "      <td>48809</td>\n",
       "      <td>CA02</td>\n",
       "      <td>0140104440</td>\n",
       "      <td>SO corporation</td>\n",
       "      <td>2020-04-01 01:31:23.500000000</td>\n",
       "      <td>2020.0</td>\n",
       "      <td>2.960622e+09</td>\n",
       "      <td>2020-03-16</td>\n",
       "      <td>2020-03-28</td>\n",
       "      <td>2020-03-18</td>\n",
       "      <td>CA10</td>\n",
       "      <td>47983.1543</td>\n",
       "      <td>4.0</td>\n",
       "      <td>0-15</td>\n",
       "    </tr>\n",
       "    <tr>\n",
       "      <th>9677</th>\n",
       "      <td>48830</td>\n",
       "      <td>CA02</td>\n",
       "      <td>0140104472</td>\n",
       "      <td>MARTIN llc</td>\n",
       "      <td>2020-03-16 13:03:39.328125000</td>\n",
       "      <td>2020.0</td>\n",
       "      <td>2.960618e+09</td>\n",
       "      <td>2020-03-04</td>\n",
       "      <td>2020-03-16</td>\n",
       "      <td>2020-03-06</td>\n",
       "      <td>CA10</td>\n",
       "      <td>23868.2700</td>\n",
       "      <td>0.0</td>\n",
       "      <td>0-15</td>\n",
       "    </tr>\n",
       "    <tr>\n",
       "      <th>9678</th>\n",
       "      <td>48833</td>\n",
       "      <td>CA02</td>\n",
       "      <td>140106408</td>\n",
       "      <td>WAL-M associates</td>\n",
       "      <td>2020-05-01 11:25:52.312500000</td>\n",
       "      <td>2020.0</td>\n",
       "      <td>2.960628e+09</td>\n",
       "      <td>2020-04-12</td>\n",
       "      <td>2020-04-22</td>\n",
       "      <td>2020-04-12</td>\n",
       "      <td>CA10</td>\n",
       "      <td>6746.9002</td>\n",
       "      <td>9.0</td>\n",
       "      <td>0-15</td>\n",
       "    </tr>\n",
       "    <tr>\n",
       "      <th>9679</th>\n",
       "      <td>48834</td>\n",
       "      <td>CA02</td>\n",
       "      <td>0140104472</td>\n",
       "      <td>MARTIN associates</td>\n",
       "      <td>2020-05-02 23:18:34.140625000</td>\n",
       "      <td>2020.0</td>\n",
       "      <td>2.960628e+09</td>\n",
       "      <td>2020-04-17</td>\n",
       "      <td>2020-05-02</td>\n",
       "      <td>2020-04-22</td>\n",
       "      <td>CA10</td>\n",
       "      <td>1301.4144</td>\n",
       "      <td>0.0</td>\n",
       "      <td>0-15</td>\n",
       "    </tr>\n",
       "    <tr>\n",
       "      <th>9680</th>\n",
       "      <td>48837</td>\n",
       "      <td>CA02</td>\n",
       "      <td>0140104409</td>\n",
       "      <td>LOB co</td>\n",
       "      <td>2020-05-13 20:05:04.437500000</td>\n",
       "      <td>2020.0</td>\n",
       "      <td>2.960631e+09</td>\n",
       "      <td>2020-04-25</td>\n",
       "      <td>2020-05-15</td>\n",
       "      <td>2020-05-05</td>\n",
       "      <td>CA10</td>\n",
       "      <td>73775.5799</td>\n",
       "      <td>-2.0</td>\n",
       "      <td>0</td>\n",
       "    </tr>\n",
       "  </tbody>\n",
       "</table>\n",
       "<p>9681 rows × 14 columns</p>\n",
       "</div>"
      ],
      "text/plain": [
       "      key_0 business_code cust_number      name_customer  \\\n",
       "0         5          U001  0200744019            TARG us   \n",
       "1         8          U001  0200418007                AM    \n",
       "2        12          U001  0200739534         OK systems   \n",
       "3        13          U001  0200353024   DECA corporation   \n",
       "4        20          U001  0200744019    TARG associates   \n",
       "...     ...           ...         ...                ...   \n",
       "9676  48809          CA02  0140104440     SO corporation   \n",
       "9677  48830          CA02  0140104472         MARTIN llc   \n",
       "9678  48833          CA02   140106408   WAL-M associates   \n",
       "9679  48834          CA02  0140104472  MARTIN associates   \n",
       "9680  48837          CA02  0140104409             LOB co   \n",
       "\n",
       "                        clear_date  buisness_year        doc_id posting_date  \\\n",
       "0    2020-04-03 06:57:03.787109375         2020.0  1.930659e+09   2020-03-19   \n",
       "1    2020-03-24 09:46:37.187500000         2020.0  1.930611e+09   2020-03-11   \n",
       "2    2020-04-23 05:54:18.000000000         2020.0  1.930788e+09   2020-04-15   \n",
       "3    2020-04-21 06:03:15.375000000         2020.0  1.930817e+09   2020-04-23   \n",
       "4    2020-04-05 05:24:11.865234375         2020.0  1.930676e+09   2020-03-21   \n",
       "...                            ...            ...           ...          ...   \n",
       "9676 2020-04-01 01:31:23.500000000         2020.0  2.960622e+09   2020-03-16   \n",
       "9677 2020-03-16 13:03:39.328125000         2020.0  2.960618e+09   2020-03-04   \n",
       "9678 2020-05-01 11:25:52.312500000         2020.0  2.960628e+09   2020-04-12   \n",
       "9679 2020-05-02 23:18:34.140625000         2020.0  2.960628e+09   2020-04-17   \n",
       "9680 2020-05-13 20:05:04.437500000         2020.0  2.960631e+09   2020-04-25   \n",
       "\n",
       "     due_in_date baseline_create_date cust_payment_terms  converted_usd  \\\n",
       "0     2020-04-03           2020-03-19               NAA8     11173.0200   \n",
       "1     2020-03-26           2020-03-11               NAA8      3525.5900   \n",
       "2     2020-04-30           2020-04-15               NAA8    121105.6500   \n",
       "3     2020-04-26           2020-04-16               NAM2      3726.0600   \n",
       "4     2020-04-05           2020-03-21               NAA8      5893.0100   \n",
       "...          ...                  ...                ...            ...   \n",
       "9676  2020-03-28           2020-03-18               CA10     47983.1543   \n",
       "9677  2020-03-16           2020-03-06               CA10     23868.2700   \n",
       "9678  2020-04-22           2020-04-12               CA10      6746.9002   \n",
       "9679  2020-05-02           2020-04-22               CA10      1301.4144   \n",
       "9680  2020-05-15           2020-05-05               CA10     73775.5799   \n",
       "\n",
       "      avg_delay Aging Bucket  \n",
       "0           0.0         0-15  \n",
       "1          -2.0            0  \n",
       "2          -7.0            0  \n",
       "3          -5.0            0  \n",
       "4           0.0         0-15  \n",
       "...         ...          ...  \n",
       "9676        4.0         0-15  \n",
       "9677        0.0         0-15  \n",
       "9678        9.0         0-15  \n",
       "9679        0.0         0-15  \n",
       "9680       -2.0            0  \n",
       "\n",
       "[9681 rows x 14 columns]"
      ]
     },
     "execution_count": 164,
     "metadata": {},
     "output_type": "execute_result"
    }
   ],
   "source": [
    "Final"
   ]
  },
  {
   "cell_type": "markdown",
   "id": "1c35725f",
   "metadata": {
    "id": "1c35725f"
   },
   "source": [
    "### Now you need to drop \"key_0\" and \"avg_delay\" columns from the \"Final\" Dataframe"
   ]
  },
  {
   "cell_type": "code",
   "execution_count": 165,
   "id": "b31bc6a3",
   "metadata": {
    "id": "b31bc6a3"
   },
   "outputs": [],
   "source": [
    "Final.drop(columns=['key_0','avg_delay'],inplace=True)"
   ]
  },
  {
   "cell_type": "code",
   "execution_count": 166,
   "id": "beba1a29",
   "metadata": {},
   "outputs": [
    {
     "data": {
      "text/html": [
       "<div>\n",
       "<style scoped>\n",
       "    .dataframe tbody tr th:only-of-type {\n",
       "        vertical-align: middle;\n",
       "    }\n",
       "\n",
       "    .dataframe tbody tr th {\n",
       "        vertical-align: top;\n",
       "    }\n",
       "\n",
       "    .dataframe thead th {\n",
       "        text-align: right;\n",
       "    }\n",
       "</style>\n",
       "<table border=\"1\" class=\"dataframe\">\n",
       "  <thead>\n",
       "    <tr style=\"text-align: right;\">\n",
       "      <th></th>\n",
       "      <th>business_code</th>\n",
       "      <th>cust_number</th>\n",
       "      <th>name_customer</th>\n",
       "      <th>clear_date</th>\n",
       "      <th>buisness_year</th>\n",
       "      <th>doc_id</th>\n",
       "      <th>posting_date</th>\n",
       "      <th>due_in_date</th>\n",
       "      <th>baseline_create_date</th>\n",
       "      <th>cust_payment_terms</th>\n",
       "      <th>converted_usd</th>\n",
       "      <th>Aging Bucket</th>\n",
       "    </tr>\n",
       "  </thead>\n",
       "  <tbody>\n",
       "    <tr>\n",
       "      <th>0</th>\n",
       "      <td>U001</td>\n",
       "      <td>0200744019</td>\n",
       "      <td>TARG us</td>\n",
       "      <td>2020-04-03 06:57:03.787109375</td>\n",
       "      <td>2020.0</td>\n",
       "      <td>1.930659e+09</td>\n",
       "      <td>2020-03-19</td>\n",
       "      <td>2020-04-03</td>\n",
       "      <td>2020-03-19</td>\n",
       "      <td>NAA8</td>\n",
       "      <td>11173.0200</td>\n",
       "      <td>0-15</td>\n",
       "    </tr>\n",
       "    <tr>\n",
       "      <th>1</th>\n",
       "      <td>U001</td>\n",
       "      <td>0200418007</td>\n",
       "      <td>AM</td>\n",
       "      <td>2020-03-24 09:46:37.187500000</td>\n",
       "      <td>2020.0</td>\n",
       "      <td>1.930611e+09</td>\n",
       "      <td>2020-03-11</td>\n",
       "      <td>2020-03-26</td>\n",
       "      <td>2020-03-11</td>\n",
       "      <td>NAA8</td>\n",
       "      <td>3525.5900</td>\n",
       "      <td>0</td>\n",
       "    </tr>\n",
       "    <tr>\n",
       "      <th>2</th>\n",
       "      <td>U001</td>\n",
       "      <td>0200739534</td>\n",
       "      <td>OK systems</td>\n",
       "      <td>2020-04-23 05:54:18.000000000</td>\n",
       "      <td>2020.0</td>\n",
       "      <td>1.930788e+09</td>\n",
       "      <td>2020-04-15</td>\n",
       "      <td>2020-04-30</td>\n",
       "      <td>2020-04-15</td>\n",
       "      <td>NAA8</td>\n",
       "      <td>121105.6500</td>\n",
       "      <td>0</td>\n",
       "    </tr>\n",
       "    <tr>\n",
       "      <th>3</th>\n",
       "      <td>U001</td>\n",
       "      <td>0200353024</td>\n",
       "      <td>DECA corporation</td>\n",
       "      <td>2020-04-21 06:03:15.375000000</td>\n",
       "      <td>2020.0</td>\n",
       "      <td>1.930817e+09</td>\n",
       "      <td>2020-04-23</td>\n",
       "      <td>2020-04-26</td>\n",
       "      <td>2020-04-16</td>\n",
       "      <td>NAM2</td>\n",
       "      <td>3726.0600</td>\n",
       "      <td>0</td>\n",
       "    </tr>\n",
       "    <tr>\n",
       "      <th>4</th>\n",
       "      <td>U001</td>\n",
       "      <td>0200744019</td>\n",
       "      <td>TARG associates</td>\n",
       "      <td>2020-04-05 05:24:11.865234375</td>\n",
       "      <td>2020.0</td>\n",
       "      <td>1.930676e+09</td>\n",
       "      <td>2020-03-21</td>\n",
       "      <td>2020-04-05</td>\n",
       "      <td>2020-03-21</td>\n",
       "      <td>NAA8</td>\n",
       "      <td>5893.0100</td>\n",
       "      <td>0-15</td>\n",
       "    </tr>\n",
       "    <tr>\n",
       "      <th>...</th>\n",
       "      <td>...</td>\n",
       "      <td>...</td>\n",
       "      <td>...</td>\n",
       "      <td>...</td>\n",
       "      <td>...</td>\n",
       "      <td>...</td>\n",
       "      <td>...</td>\n",
       "      <td>...</td>\n",
       "      <td>...</td>\n",
       "      <td>...</td>\n",
       "      <td>...</td>\n",
       "      <td>...</td>\n",
       "    </tr>\n",
       "    <tr>\n",
       "      <th>9676</th>\n",
       "      <td>CA02</td>\n",
       "      <td>0140104440</td>\n",
       "      <td>SO corporation</td>\n",
       "      <td>2020-04-01 01:31:23.500000000</td>\n",
       "      <td>2020.0</td>\n",
       "      <td>2.960622e+09</td>\n",
       "      <td>2020-03-16</td>\n",
       "      <td>2020-03-28</td>\n",
       "      <td>2020-03-18</td>\n",
       "      <td>CA10</td>\n",
       "      <td>47983.1543</td>\n",
       "      <td>0-15</td>\n",
       "    </tr>\n",
       "    <tr>\n",
       "      <th>9677</th>\n",
       "      <td>CA02</td>\n",
       "      <td>0140104472</td>\n",
       "      <td>MARTIN llc</td>\n",
       "      <td>2020-03-16 13:03:39.328125000</td>\n",
       "      <td>2020.0</td>\n",
       "      <td>2.960618e+09</td>\n",
       "      <td>2020-03-04</td>\n",
       "      <td>2020-03-16</td>\n",
       "      <td>2020-03-06</td>\n",
       "      <td>CA10</td>\n",
       "      <td>23868.2700</td>\n",
       "      <td>0-15</td>\n",
       "    </tr>\n",
       "    <tr>\n",
       "      <th>9678</th>\n",
       "      <td>CA02</td>\n",
       "      <td>140106408</td>\n",
       "      <td>WAL-M associates</td>\n",
       "      <td>2020-05-01 11:25:52.312500000</td>\n",
       "      <td>2020.0</td>\n",
       "      <td>2.960628e+09</td>\n",
       "      <td>2020-04-12</td>\n",
       "      <td>2020-04-22</td>\n",
       "      <td>2020-04-12</td>\n",
       "      <td>CA10</td>\n",
       "      <td>6746.9002</td>\n",
       "      <td>0-15</td>\n",
       "    </tr>\n",
       "    <tr>\n",
       "      <th>9679</th>\n",
       "      <td>CA02</td>\n",
       "      <td>0140104472</td>\n",
       "      <td>MARTIN associates</td>\n",
       "      <td>2020-05-02 23:18:34.140625000</td>\n",
       "      <td>2020.0</td>\n",
       "      <td>2.960628e+09</td>\n",
       "      <td>2020-04-17</td>\n",
       "      <td>2020-05-02</td>\n",
       "      <td>2020-04-22</td>\n",
       "      <td>CA10</td>\n",
       "      <td>1301.4144</td>\n",
       "      <td>0-15</td>\n",
       "    </tr>\n",
       "    <tr>\n",
       "      <th>9680</th>\n",
       "      <td>CA02</td>\n",
       "      <td>0140104409</td>\n",
       "      <td>LOB co</td>\n",
       "      <td>2020-05-13 20:05:04.437500000</td>\n",
       "      <td>2020.0</td>\n",
       "      <td>2.960631e+09</td>\n",
       "      <td>2020-04-25</td>\n",
       "      <td>2020-05-15</td>\n",
       "      <td>2020-05-05</td>\n",
       "      <td>CA10</td>\n",
       "      <td>73775.5799</td>\n",
       "      <td>0</td>\n",
       "    </tr>\n",
       "  </tbody>\n",
       "</table>\n",
       "<p>9681 rows × 12 columns</p>\n",
       "</div>"
      ],
      "text/plain": [
       "     business_code cust_number      name_customer  \\\n",
       "0             U001  0200744019            TARG us   \n",
       "1             U001  0200418007                AM    \n",
       "2             U001  0200739534         OK systems   \n",
       "3             U001  0200353024   DECA corporation   \n",
       "4             U001  0200744019    TARG associates   \n",
       "...            ...         ...                ...   \n",
       "9676          CA02  0140104440     SO corporation   \n",
       "9677          CA02  0140104472         MARTIN llc   \n",
       "9678          CA02   140106408   WAL-M associates   \n",
       "9679          CA02  0140104472  MARTIN associates   \n",
       "9680          CA02  0140104409             LOB co   \n",
       "\n",
       "                        clear_date  buisness_year        doc_id posting_date  \\\n",
       "0    2020-04-03 06:57:03.787109375         2020.0  1.930659e+09   2020-03-19   \n",
       "1    2020-03-24 09:46:37.187500000         2020.0  1.930611e+09   2020-03-11   \n",
       "2    2020-04-23 05:54:18.000000000         2020.0  1.930788e+09   2020-04-15   \n",
       "3    2020-04-21 06:03:15.375000000         2020.0  1.930817e+09   2020-04-23   \n",
       "4    2020-04-05 05:24:11.865234375         2020.0  1.930676e+09   2020-03-21   \n",
       "...                            ...            ...           ...          ...   \n",
       "9676 2020-04-01 01:31:23.500000000         2020.0  2.960622e+09   2020-03-16   \n",
       "9677 2020-03-16 13:03:39.328125000         2020.0  2.960618e+09   2020-03-04   \n",
       "9678 2020-05-01 11:25:52.312500000         2020.0  2.960628e+09   2020-04-12   \n",
       "9679 2020-05-02 23:18:34.140625000         2020.0  2.960628e+09   2020-04-17   \n",
       "9680 2020-05-13 20:05:04.437500000         2020.0  2.960631e+09   2020-04-25   \n",
       "\n",
       "     due_in_date baseline_create_date cust_payment_terms  converted_usd  \\\n",
       "0     2020-04-03           2020-03-19               NAA8     11173.0200   \n",
       "1     2020-03-26           2020-03-11               NAA8      3525.5900   \n",
       "2     2020-04-30           2020-04-15               NAA8    121105.6500   \n",
       "3     2020-04-26           2020-04-16               NAM2      3726.0600   \n",
       "4     2020-04-05           2020-03-21               NAA8      5893.0100   \n",
       "...          ...                  ...                ...            ...   \n",
       "9676  2020-03-28           2020-03-18               CA10     47983.1543   \n",
       "9677  2020-03-16           2020-03-06               CA10     23868.2700   \n",
       "9678  2020-04-22           2020-04-12               CA10      6746.9002   \n",
       "9679  2020-05-02           2020-04-22               CA10      1301.4144   \n",
       "9680  2020-05-15           2020-05-05               CA10     73775.5799   \n",
       "\n",
       "     Aging Bucket  \n",
       "0            0-15  \n",
       "1               0  \n",
       "2               0  \n",
       "3               0  \n",
       "4            0-15  \n",
       "...           ...  \n",
       "9676         0-15  \n",
       "9677         0-15  \n",
       "9678         0-15  \n",
       "9679         0-15  \n",
       "9680            0  \n",
       "\n",
       "[9681 rows x 12 columns]"
      ]
     },
     "execution_count": 166,
     "metadata": {},
     "output_type": "execute_result"
    }
   ],
   "source": [
    "Final"
   ]
  },
  {
   "cell_type": "code",
   "execution_count": null,
   "id": "ecd96dad",
   "metadata": {},
   "outputs": [],
   "source": []
  },
  {
   "cell_type": "markdown",
   "id": "Ui-tyIvU0-5u",
   "metadata": {
    "id": "Ui-tyIvU0-5u"
   },
   "source": [
    "### Display the count of each categoty of new \"Aging Bucket\" column "
   ]
  },
  {
   "cell_type": "code",
   "execution_count": 167,
   "id": "a6e16218",
   "metadata": {
    "id": "a6e16218"
   },
   "outputs": [
    {
     "data": {
      "text/plain": [
       "0                  5216\n",
       "0-15               4383\n",
       "31-45                52\n",
       "45-60                19\n",
       "16-30                 9\n",
       "Greater than 60       2\n",
       "Name: Aging Bucket, dtype: int64"
      ]
     },
     "execution_count": 167,
     "metadata": {},
     "output_type": "execute_result"
    }
   ],
   "source": [
    "Final['Aging Bucket'].value_counts()"
   ]
  },
  {
   "cell_type": "markdown",
   "id": "kgYegy551GKJ",
   "metadata": {
    "id": "kgYegy551GKJ"
   },
   "source": [
    "### Display your final dataset with aging buckets "
   ]
  },
  {
   "cell_type": "code",
   "execution_count": 168,
   "id": "c4bc87ec",
   "metadata": {
    "id": "c4bc87ec"
   },
   "outputs": [
    {
     "data": {
      "text/html": [
       "<div>\n",
       "<style scoped>\n",
       "    .dataframe tbody tr th:only-of-type {\n",
       "        vertical-align: middle;\n",
       "    }\n",
       "\n",
       "    .dataframe tbody tr th {\n",
       "        vertical-align: top;\n",
       "    }\n",
       "\n",
       "    .dataframe thead th {\n",
       "        text-align: right;\n",
       "    }\n",
       "</style>\n",
       "<table border=\"1\" class=\"dataframe\">\n",
       "  <thead>\n",
       "    <tr style=\"text-align: right;\">\n",
       "      <th></th>\n",
       "      <th>Aging Bucket</th>\n",
       "    </tr>\n",
       "  </thead>\n",
       "  <tbody>\n",
       "    <tr>\n",
       "      <th>0</th>\n",
       "      <td>0-15</td>\n",
       "    </tr>\n",
       "    <tr>\n",
       "      <th>1</th>\n",
       "      <td>0</td>\n",
       "    </tr>\n",
       "    <tr>\n",
       "      <th>2</th>\n",
       "      <td>0</td>\n",
       "    </tr>\n",
       "    <tr>\n",
       "      <th>3</th>\n",
       "      <td>0</td>\n",
       "    </tr>\n",
       "    <tr>\n",
       "      <th>4</th>\n",
       "      <td>0-15</td>\n",
       "    </tr>\n",
       "    <tr>\n",
       "      <th>...</th>\n",
       "      <td>...</td>\n",
       "    </tr>\n",
       "    <tr>\n",
       "      <th>9676</th>\n",
       "      <td>0-15</td>\n",
       "    </tr>\n",
       "    <tr>\n",
       "      <th>9677</th>\n",
       "      <td>0-15</td>\n",
       "    </tr>\n",
       "    <tr>\n",
       "      <th>9678</th>\n",
       "      <td>0-15</td>\n",
       "    </tr>\n",
       "    <tr>\n",
       "      <th>9679</th>\n",
       "      <td>0-15</td>\n",
       "    </tr>\n",
       "    <tr>\n",
       "      <th>9680</th>\n",
       "      <td>0</td>\n",
       "    </tr>\n",
       "  </tbody>\n",
       "</table>\n",
       "<p>9681 rows × 1 columns</p>\n",
       "</div>"
      ],
      "text/plain": [
       "     Aging Bucket\n",
       "0            0-15\n",
       "1               0\n",
       "2               0\n",
       "3               0\n",
       "4            0-15\n",
       "...           ...\n",
       "9676         0-15\n",
       "9677         0-15\n",
       "9678         0-15\n",
       "9679         0-15\n",
       "9680            0\n",
       "\n",
       "[9681 rows x 1 columns]"
      ]
     },
     "execution_count": 168,
     "metadata": {},
     "output_type": "execute_result"
    }
   ],
   "source": [
    "Final[['Aging Bucket']]"
   ]
  },
  {
   "cell_type": "markdown",
   "id": "Ji7AoDCB1L_x",
   "metadata": {
    "id": "Ji7AoDCB1L_x"
   },
   "source": [
    "### Store this dataframe into the .csv format"
   ]
  },
  {
   "cell_type": "code",
   "execution_count": 170,
   "id": "727d0b8d",
   "metadata": {
    "id": "727d0b8d"
   },
   "outputs": [],
   "source": [
    "Final.to_csv('HRC70513W_YEEMENTH_DHANRAJ_VIRUTKAR_GHI.csv',index=False)"
   ]
  },
  {
   "cell_type": "code",
   "execution_count": null,
   "id": "011f7149",
   "metadata": {},
   "outputs": [],
   "source": []
  },
  {
   "cell_type": "markdown",
   "id": "FK0fabl61SkC",
   "metadata": {
    "id": "FK0fabl61SkC"
   },
   "source": [
    "# END OF THE PROJECT"
   ]
  }
 ],
 "metadata": {
  "colab": {
   "collapsed_sections": [
    "62633a84"
   ],
   "name": "Payment date prediction.ipynb",
   "provenance": []
  },
  "kernelspec": {
   "display_name": "Python 3",
   "language": "python",
   "name": "python3"
  },
  "language_info": {
   "codemirror_mode": {
    "name": "ipython",
    "version": 3
   },
   "file_extension": ".py",
   "mimetype": "text/x-python",
   "name": "python",
   "nbconvert_exporter": "python",
   "pygments_lexer": "ipython3",
   "version": "3.8.8"
  }
 },
 "nbformat": 4,
 "nbformat_minor": 5
}
